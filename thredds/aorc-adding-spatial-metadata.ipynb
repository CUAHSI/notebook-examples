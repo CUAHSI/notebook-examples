{
 "cells": [
  {
   "attachments": {},
   "cell_type": "markdown",
   "id": "6d9caa85-120b-4956-96c0-0927a617dd61",
   "metadata": {},
   "source": [
    "# Adding Spatial Metadata to AORC Forcing\n",
    "\n",
    "**Authors**:  \n",
    "  - Tony Castronova <acastronova@cuahsi.org>   \n",
    "  - Irene Garousi-Nejad <igarousi@cuahsi.org>    \n",
    "  \n",
    "**Last Updated**: 04.04.2023  \n",
    "\n",
    "**Description**:  \n",
    "\n",
    "This notebook demonstrates how to add spatial metadata to the AORC v1.0 forcing data that is stored on [HydroShare's THREDDs](https://thredds.hydroshare.org/thredds/catalog/aorc/data/16/catalog.html). The original AORC v1.0 data contains `east_west` and `south_north`, which allows us to slice the gridded data via `x` and `y` indices for simple visualization and data analysis purposes. However, adding additional spatially-related metadata (e.g. coordinate reference system) to datasets that only contain `x` and `y` indices can significantly enhance their utility for a wide range of spatial analysis and modeling applications such as: \n",
    "\n",
    "- Perform spatial queries: Spatial information allows us to perform location-based queries, which can be help identify patterns or trends in the data that may be specific to certain areas. \n",
    "- Conduct spatial analysis: Spatial information enables spatial analysis, such as interpolation, zoning, or overlaying data layers.\n",
    "- Visualize data on maps: Spatial information allows you to display data on maps, making it easier to understand spatial patterns and relationships in the data.\n",
    "\n",
    "This notebook demonstrates one method for doing this."
   ]
  },
  {
   "attachments": {},
   "cell_type": "markdown",
   "id": "f7fb4c89-f8fe-4ce8-8cd7-37bfaf7d92b7",
   "metadata": {},
   "source": [
    "**Software Requirements**\n",
    "\n",
    "This notebook was developed using the following software and operating system versions.\n",
    "\n",
    "OS: MacOS Ventura 13.0.1  \n",
    "> Python: 3.10.0  \\\n",
    "> re: <>  \\\n",
    "> numpy: 1.24.1  \\\n",
    "> pyproj: 3.4.1  \\\n",
    "> xarray: 0.17.0  \\\n",
    "> rioxarray: 0.13.3  \\\n",
    "> cartopy: 0.21.1  \\\n",
    "> netCDF4: 1.6.1  \\\n",
    "> owslib: <>  \\\n",
    "> matplotlib: <>  \n",
    "\n",
    "OS: Microsoft Windows 11 Pro version 10.0.22621\n",
    "> Conda: 22.9.0  \\\n",
    "> Python: 3.9.16  \\\n",
    "> re: 2.2.1  \\\n",
    "> numpy: 1.23.5  \\\n",
    "> pyproj: 3.5.0  \\\n",
    "> xarray: 2023.3.01<span style=\"font-size:12px\"><sup>1</sup></span>  \\\n",
    "> rioxarray: 0.14.02<span style=\"font-size:12px\"><sup>2</sup></span>  \\\n",
    "> cartopy: 0.21.13<span style=\"font-size:12px\"><sup>3</sup></span>  \\\n",
    "> netCDF4: 1.6.34<span style=\"font-size:12px\"><sup>4</sup></span>  \\\n",
    "> owslib: 0.24.15<span style=\"font-size:12px\"><sup>5</sup></span> \\\n",
    "> matplotlib: 3.7.1  \n",
    "\n",
    "<span style=\"font-size:12px\"> <sup>1</sup> If not yet installed, use `conda install xarray -c conda-forge`. </span>   \n",
    "<span style=\"font-size:12px\"> <sup>2</sup>If not yet installed, use `conda install rioxarray -c conda-forge`. </span>        \n",
    "<span style=\"font-size:12px\"> <sup>3</sup>If not yet installed, use `conda install cartopy`. Note that we are not using `-c conda-forge` because it gives DLL failed message for some reason. </span>       \n",
    "<span style=\"font-size:12px\"> <sup>4</sup>If not yet installed, use `conda install netcdf4`. Note that we are not using `-c conda-forge` because it gives DLL failed message for some reason. </span>      \n",
    "<span style=\"font-size:12px\"> <sup>5</sup>If not yet installed, use `conda install owslib`.   \n",
    "\n",
    "\n",
    "---"
   ]
  },
  {
   "cell_type": "code",
   "execution_count": null,
   "id": "6da0ecb1-55bd-4ef9-97bc-dbebae249291",
   "metadata": {},
   "outputs": [],
   "source": [
    "import re\n",
    "import numpy\n",
    "import pyproj\n",
    "import xarray\n",
    "import rioxarray \n",
    "import cartopy.crs as ccrs\n",
    "from pyproj import Transformer\n",
    "import matplotlib.pyplot as plt\n",
    "from owslib.wms import WebMapService"
   ]
  },
  {
   "attachments": {},
   "cell_type": "markdown",
   "id": "304d75f7-79b9-41c6-a2ad-22344bd76363",
   "metadata": {},
   "source": [
    "## Load the AORC v1.0 Data and Check its Dimensions"
   ]
  },
  {
   "attachments": {},
   "cell_type": "markdown",
   "id": "34a52ba6",
   "metadata": {},
   "source": [
    "The AORC v1.0 data stored in HydroShare's ThREDDS catalog covers the Great Basin watershed from 2010-2019. The dataset is divided into 120 netCDF files, each containing hourly values of meteorological variables for an entire month of a year. To load a single month of the AORC v1.0 data from HydroShare's THREDDS, you can use the `open_dataset` function from the `xarray` package to do this task. To learn more about `chuncks` and `decode_coords` properties that are used when loading the data, please refer to our how to [Query AORC FOrcing Data via HydroShare Thredds](https://github.com/CUAHSI/notebook-examples/blob/main/thredds/query-aorc-thredds.ipynb) jupyter notebook. "
   ]
  },
  {
   "cell_type": "code",
   "execution_count": null,
   "id": "8b3e50b5-202c-413f-9dca-29b3ce77a99e",
   "metadata": {},
   "outputs": [],
   "source": [
    "# load a single month of data\n",
    "ds = xarray.open_dataset('http://thredds.hydroshare.org/thredds/dodsC/aorc/data/16/201001.nc',\n",
    "                         chunks={'Time': 10, 'west_east': 285, 'south_north':275},\n",
    "                         decode_coords=\"all\" )\n",
    "ds"
   ]
  },
  {
   "attachments": {},
   "cell_type": "markdown",
   "id": "cf0b9012-bf4b-402d-9a5f-5828dbce93f5",
   "metadata": {},
   "source": [
    "Notice that the `south_north` and `west_east` dimensions contain indices, without corresponding coordinate values."
   ]
  },
  {
   "cell_type": "code",
   "execution_count": null,
   "id": "ae17f9a6-1ef9-42e4-b709-939e6235ea7e",
   "metadata": {},
   "outputs": [],
   "source": [
    "ds.south_north"
   ]
  },
  {
   "attachments": {},
   "cell_type": "markdown",
   "id": "a40559ce",
   "metadata": {},
   "source": [
    "## Load GeoSpatial Metadata for the National Water Model"
   ]
  },
  {
   "attachments": {},
   "cell_type": "markdown",
   "id": "930344e4-979c-4a0f-b931-ea8442155161",
   "metadata": {},
   "source": [
    "Using the spatial information provided in the [GeoSpatial Metadata for NWM v2.0](https://www.hydroshare.org/resource/2a8a3566e1c84b8eb3871f30841a3855/) that is stored in HydroShare, we can determine the corresponding coordinate values for the `south_north` and `west_east` indices and add them to the AORC v1.0 data. This information can be found in the `WRF_Hydro_NWM_geospatial_data_template_land_GIS.nc` file, which is a part of the NWM v2.0 domain dataset and contains the necessary spatial metadata. We can obtain this file by accessing via HydroShare's THREDDS too."
   ]
  },
  {
   "cell_type": "code",
   "execution_count": null,
   "id": "0bdb541e-d21a-45ab-8f9f-9359daf53339",
   "metadata": {
    "tags": []
   },
   "outputs": [],
   "source": [
    "ds_meta = xarray.open_dataset('http://thredds.hydroshare.org/thredds/dodsC/hydroshare/resources/2a8a3566e1c84b8eb3871f30841a3855/data/contents/WRF_Hydro_NWM_geospatial_data_template_land_GIS.nc')\n",
    "ds_meta"
   ]
  },
  {
   "attachments": {},
   "cell_type": "markdown",
   "id": "242535d2",
   "metadata": {},
   "source": [
    "Check the coordinates as well as the coordinate reference system (CRS) from the geospatial metadata file."
   ]
  },
  {
   "cell_type": "code",
   "execution_count": null,
   "id": "7631cec7",
   "metadata": {},
   "outputs": [],
   "source": [
    "ds_meta.coords"
   ]
  },
  {
   "cell_type": "code",
   "execution_count": null,
   "id": "2c5c248c",
   "metadata": {},
   "outputs": [],
   "source": [
    "ds_meta.crs.attrs"
   ]
  },
  {
   "attachments": {},
   "cell_type": "markdown",
   "id": "c4b12730",
   "metadata": {},
   "source": [
    "## Add GeoSpatial Metadata to the AORC Dataset"
   ]
  },
  {
   "attachments": {},
   "cell_type": "markdown",
   "id": "bb9d90ab-3364-48d3-beae-cf76afbd2b30",
   "metadata": {},
   "source": [
    "The AORC v1.0 data we use here (`ds`) covers the Great Basin, whereas the geospatial metadata (`ds_meta`) encompasses the entire CONUS. It is noteworthy that the `south_north` and `west_east` dimensions's indices start from 0, which poses a challenge in relating the smaller `ds` domain to the larger `ds_meta` domain, as there is no explicit spatial information. This complicates the task of assigning the corresponding coordinates to `ds` from `ds_meta`. To establish a spatial linkage between the `ds` and `ds_meta` datasets, we use the offsets defined in the AORC v1.0 history attribute. These offsets help us subset the corresponding `ds_meta` coordinates for the same area as the `ds` domain. The following function simplifies the lookup of these offsets."
   ]
  },
  {
   "cell_type": "code",
   "execution_count": null,
   "id": "f9094fc3-e581-419f-9be8-a3828c4dc34c",
   "metadata": {},
   "outputs": [],
   "source": [
    "def pattern_lookup(pattern, input):\n",
    "\n",
    "    \"\"\"\n",
    "    Searches for a specified pattern in a string and extracts the values.\n",
    "\n",
    "    Args: \n",
    "        pattern (str): A string pattern to search for using a regular expression.\n",
    "        input (str): The input string where the regular expression pattern will be searched for.\n",
    "\n",
    "    Returns:\n",
    "        str: The matched values concatenated into the desired pattern format.\n",
    "    \"\"\"\n",
    "    \n",
    "    # use the re.search() function to search for the pattern in the string\n",
    "    match = re.search(pattern, input)\n",
    "\n",
    "    # check if a match was found\n",
    "    if match:\n",
    "        # extract the matched values and concatenate them into the desired string format\n",
    "        result = f'{match.group(0)}'\n",
    "        return result\n",
    "    else:\n",
    "        # if no match was found, print an error message\n",
    "        print('No match found.')"
   ]
  },
  {
   "attachments": {},
   "cell_type": "markdown",
   "id": "4a2c6614",
   "metadata": {},
   "source": [
    "Define the regular expression patterns for both indices along the `x` and `y` coordinates."
   ]
  },
  {
   "cell_type": "code",
   "execution_count": null,
   "id": "58928062",
   "metadata": {},
   "outputs": [],
   "source": [
    "pattern_we = r'west_east,(\\d+),(\\d+)'\n",
    "pattern_sn = r'south_north,(\\d+),(\\d+)'"
   ]
  },
  {
   "attachments": {},
   "cell_type": "markdown",
   "id": "b3382379",
   "metadata": {},
   "source": [
    "Execute the `pattern_lookup` function to search for the previously defined patterns in the `ds` attribute. Then, print the outcomes (i,e., the x and y indices representing the smaller region relative to the NWM domain)."
   ]
  },
  {
   "cell_type": "code",
   "execution_count": null,
   "id": "04a7e2e1",
   "metadata": {},
   "outputs": [],
   "source": [
    "GSL_westeast = pattern_lookup(pattern_we, ds.attrs['history'])\n",
    "GSL_southnorth = pattern_lookup(pattern_sn, ds.attrs['history'])\n",
    "\n",
    "y_index = GSL_southnorth.split(',')[1:]\n",
    "x_index = GSL_westeast.split(',')[1:]\n",
    "\n",
    "print('\\n', 'y indices: ', y_index, '\\n', 'x indices: ', x_index)"
   ]
  },
  {
   "attachments": {},
   "cell_type": "markdown",
   "id": "33934685",
   "metadata": {},
   "source": [
    "To extract the `x` and `y` values from `ds_meta` that correspond to the subset indices obtained above, we can use Python's array indexing operator (`[]`). Since the `x` values increase as we move from west to east, we can simply use the subset indices obtained above to select the desired chunk. However, for the `y` selection, we need to subtract the subset indices obtained above from the length of the `y` array in `ds_meta`. This is because the projected coordinates in the `y` array decrease as their indices increase, which is opposite to the usual direction of array indices. Thus, we can use the following code to select the desired chunks of `x` and `y`:"
   ]
  },
  {
   "cell_type": "code",
   "execution_count": null,
   "id": "322db65f-a096-466c-aaa7-ab9a24f4b919",
   "metadata": {},
   "outputs": [],
   "source": [
    "leny = len(ds_meta.y)\n",
    "x = ds_meta.x[int(x_index[0]) : int(x_index[1]) + 1].values\n",
    "y = ds_meta.y[leny - int(y_index[1]) - 1 : leny - int(y_index[0])].values"
   ]
  },
  {
   "attachments": {},
   "cell_type": "markdown",
   "id": "7898cb49-3861-4527-8899-0f76064609a7",
   "metadata": {},
   "source": [
    "The next step is to rename the `ds` coordinates `south_north`, `west_east`, and `Time` to follow the [NetCDF Climate and Forecast (CF) Metadata Conventions](http://cfconventions.org/#:~:text=The%20CF%20conventions%20are%20increasingly%20gaining%20acceptance%20and,spatial%20and%20temporal%20properties%20of%20the%20data.%20). The CF Conventions provides a standard the way to describe data and metadata and enables easy searching across different datasets based on their attributes."
   ]
  },
  {
   "cell_type": "code",
   "execution_count": null,
   "id": "a89c4884-19d6-4029-a9ee-7d89fb714070",
   "metadata": {
    "tags": []
   },
   "outputs": [],
   "source": [
    "ds = ds.rename_dims(south_north='y', west_east='x', Time='time')"
   ]
  },
  {
   "attachments": {},
   "cell_type": "markdown",
   "id": "52e7a1d8-eab6-4b8b-a0a0-b3031ab01275",
   "metadata": {},
   "source": [
    "In order to enhance visualization capabilities, it would be useful to have geographical information in addition to the projected coordinates (`x` and `y` values). With latitude and longitude coordinates available, it would be easier to generate maps and plot data onto them. To create these coordinates in the **WGS84** standard, the following code can be used.\n",
    "\n",
    "Here we start by creating a mesh grid for the `x` and `y` projected coordinates to ensure the `X` and `Y` arrays have the same size when working with the `pyproj` package. Then, using the `pyproj` packag, we define Lambert Conformal Conic projection system taht was used for the NWM datasets based on the `ds_meta` attributes. We also specify the desired output coordinate system. Finally, we use the `Transformer` function from the `pyproj` package to perform the coordinate transformation and obtain the corresponding geographic coordinates for the given projected inputs."
   ]
  },
  {
   "cell_type": "code",
   "execution_count": null,
   "id": "6d181d6d-b0a0-4d25-8196-c357d16f6364",
   "metadata": {},
   "outputs": [],
   "source": [
    "X, Y = numpy.meshgrid(x, y)\n",
    "\n",
    "# define the input crs\n",
    "wrf_proj = pyproj.Proj(proj='lcc',\n",
    "                       lat_1=30.,\n",
    "                       lat_2=60., \n",
    "                       lat_0=40.0000076293945, lon_0=-97., # Center point\n",
    "                       a=6370000, b=6370000) \n",
    "\n",
    "# define the output crs\n",
    "wgs_proj = pyproj.Proj(proj='latlong', datum='WGS84')\n",
    "\n",
    "# transform X, Y into Lat, Lon\n",
    "transformer = Transformer.from_crs(wrf_proj.crs, wgs_proj.crs)\n",
    "lon, lat = transformer.transform(X, Y)"
   ]
  },
  {
   "attachments": {},
   "cell_type": "markdown",
   "id": "616e6f53-183d-4e80-8ed5-552650385e24",
   "metadata": {},
   "source": [
    "Add both geographical and projected coordinate values to the AORC v1.0 dataset (`ds`) by creating DataSet Coordinates. Note that the `lat` and `lon` arrays have two dimensions `(x, y)` but the `x` and `y` arrays only have one dimension.\n",
    "\n",
    "In this case, each element in the `x` and `y` arrays represents the coordinates of a single point in the grid, while each element in the `lat` and `lon` arrays represents the latitude and longitude values for the corresponding point in the grid. The `lat` and `lon` arrays are thus two-dimensional, with dimensions `(x, y)`, because they contain the latitude and longitude values for each point in the grid.\n",
    "\n",
    "This type of arrangement is common in geospatial data analysis, where it is often necessary to work with regularly spaced grids of data that have associated geographic coordinates. The `x` and `y` arrays provide the location of each point in the grid, while the `lat` and `lon` arrays provide the corresponding latitude and longitude values."
   ]
  },
  {
   "cell_type": "code",
   "execution_count": null,
   "id": "d72bcd16-5adb-46b2-a6e2-67d913195d76",
   "metadata": {
    "tags": []
   },
   "outputs": [],
   "source": [
    "ds = ds.assign_coords(lon = (['y', 'x'], lon))\n",
    "ds = ds.assign_coords(lat = (['y', 'x'], lat))\n",
    "ds = ds.assign_coords(x = x)\n",
    "ds = ds.assign_coords(y = y)"
   ]
  },
  {
   "attachments": {},
   "cell_type": "markdown",
   "id": "ac0e3caa-19a0-43cf-8109-6be979e147b9",
   "metadata": {},
   "source": [
    "Follow CF conventions and add metadata for these coordinates. Note that some of these information are obtained from the variable attributes in the `ds_meta` dataset."
   ]
  },
  {
   "cell_type": "code",
   "execution_count": null,
   "id": "2fe57a2d-0c17-4abf-b5d2-35f696c0d621",
   "metadata": {},
   "outputs": [],
   "source": [
    "ds.x.attrs['axis'] = 'X'\n",
    "ds.x.attrs['standard_name'] = 'projection_x_coordinate'\n",
    "ds.x.attrs['long_name'] = 'x-coordinate in projected coordinate system'\n",
    "ds.x.attrs['resolution'] = 1000.  # cell size\n",
    "ds.x.attrs['units'] = 'm'\n",
    "\n",
    "ds.y.attrs['axis'] = 'Y' \n",
    "ds.y.attrs['standard_name'] = 'projection_y_coordinate'\n",
    "ds.y.attrs['long_name'] = 'y-coordinate in projected coordinate system'\n",
    "ds.y.attrs['resolution'] = 1000.  # cell size\n",
    "ds.y.attrs['units'] = 'm'\n",
    "\n",
    "ds.lon.attrs['units'] = 'degrees_east'\n",
    "ds.lon.attrs['standard_name'] = 'longitude' \n",
    "ds.lon.attrs['long_name'] = 'longitude'\n",
    "\n",
    "ds.lat.attrs['units'] = 'degrees_north'\n",
    "ds.lat.attrs['standard_name'] = 'latitude' \n",
    "ds.lat.attrs['long_name'] = 'latitude'"
   ]
  },
  {
   "attachments": {},
   "cell_type": "markdown",
   "id": "04936d8e-a78d-41f4-94ff-5c7154940f9f",
   "metadata": {},
   "source": [
    "Add the WRF-Hydro Coordinate Reference System (CRS) that can be obtained from `ds_meta` attributes to the AORC v1.0 dataset. This `WKT` (well-known text representation of coordinate reference systems) string can be found within the WRF-Hydro `geo_em.d01_1km.nc` file."
   ]
  },
  {
   "cell_type": "code",
   "execution_count": null,
   "id": "62046c3e-8a3e-4d6d-b49f-41c2dae0fbb8",
   "metadata": {},
   "outputs": [],
   "source": [
    "# add crs to netcdf file\n",
    "ds.rio.write_crs(ds_meta.crs.attrs['spatial_ref'], inplace=True\n",
    "                ).rio.set_spatial_dims(x_dim=\"x\",\n",
    "                                       y_dim=\"y\",\n",
    "                                       inplace=True,\n",
    "                                       ).rio.write_coordinate_system(inplace=True)"
   ]
  },
  {
   "attachments": {},
   "cell_type": "markdown",
   "id": "2dcc52d3",
   "metadata": {},
   "source": [
    "## Visualization"
   ]
  },
  {
   "attachments": {},
   "cell_type": "markdown",
   "id": "fee06089-7997-49a9-8ef1-0bf179034701",
   "metadata": {},
   "source": [
    "In order to validate our workflow for integrating geospatial information into the AORC v1.0 datasets, we have selected the incoming downward longwave radiation (`LWDOWN`) estimates for the initial time step from `ds`. Additionally, we have included the Great Basin watersheds shapefile using the `OWSLib` package to verify and ensure that the AORC v1.0 is correctly located in the appropriate geospatial context. The `OWSLib` package is a Python library utilized for working with Open Geospatial Consortium (OGC) web services, such as Web Map Service (WMS). It offers a range of classes and methods that enable the querying, manipulation, and visualization of geospatial data from OGC web services.\n",
    "\n",
    "To facilitate the creation of maps and geospatial visualizations in Python, we have utilized the `cartopy` package, which provides a simple means of accomplishing this task."
   ]
  },
  {
   "cell_type": "code",
   "execution_count": null,
   "id": "45d01602-9aff-4566-820c-da2e83ed7ae6",
   "metadata": {},
   "outputs": [],
   "source": [
    "plt.figure(figsize=(14, 14))\n",
    "ax = plt.axes(projection=ccrs.PlateCarree())\n",
    "ax.set_global()\n",
    "\n",
    "# WMS for GB shapefile\n",
    "gb_wms = 'https://geoserver.hydroshare.org/geoserver/HS-965eab1801c342a58a463f386c9f3e9b/wms'\n",
    "ax.add_wms(wms=gb_wms,\n",
    "          layers=['GB_shapefile'],\n",
    "          zorder=10)\n",
    "\n",
    "# plot LWDOWN at the first timesteop\n",
    "ds.isel(time=1).LWDOWN.plot(\n",
    "               ax=ax, transform=ccrs.PlateCarree(), x=\"lon\", y=\"lat\",\n",
    "               zorder=2,\n",
    "               cmap='Reds')\n",
    "\n",
    "gl = ax.gridlines(crs=ccrs.PlateCarree(), draw_labels=True,\n",
    "                  linewidth=2, color='gray', alpha=0.5, linestyle='--')\n",
    "\n",
    "ax.set_ylim([30, 45])\n",
    "ax.set_xlim([-125, -105])\n",
    "ax.set_aspect('equal')\n",
    "ax.coastlines()\n",
    "\n",
    "plt.show()"
   ]
  }
 ],
 "metadata": {
  "kernelspec": {
   "display_name": "cartopy-test",
   "language": "python",
   "name": "cartopy-test"
  },
  "language_info": {
   "codemirror_mode": {
    "name": "ipython",
    "version": 3
   },
   "file_extension": ".py",
   "mimetype": "text/x-python",
   "name": "python",
   "nbconvert_exporter": "python",
   "pygments_lexer": "ipython3",
   "version": "3.9.16"
  }
 },
 "nbformat": 4,
 "nbformat_minor": 5
}
