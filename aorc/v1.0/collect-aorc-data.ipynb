{
 "cells": [
  {
   "cell_type": "markdown",
   "id": "2f45d1d3-2ce5-487c-8d89-a2e0ec3870ec",
   "metadata": {},
   "source": [
    "# Collect AORC v1.0 at lat/lon Points\n"
   ]
  },
  {
   "cell_type": "code",
   "execution_count": 2,
   "id": "b44e9376-f3b9-4b11-a32f-d9af15fde2bf",
   "metadata": {
    "tags": []
   },
   "outputs": [
    {
     "name": "stdout",
     "output_type": "stream",
     "text": [
      "Note: you may need to restart the kernel to use updated packages.\n"
     ]
    }
   ],
   "source": [
    "%pip install dask[distributed] zarr xarray pandas s3fs kerchunk scikit-learn -q"
   ]
  },
  {
   "cell_type": "code",
   "execution_count": 2,
   "id": "74c353a2-226b-4dfb-8db4-c2fbcadb2bf4",
   "metadata": {
    "tags": []
   },
   "outputs": [],
   "source": [
    "import dask\n",
    "import zarr\n",
    "import numpy\n",
    "import xarray\n",
    "import pyproj\n",
    "import pandas\n",
    "from s3fs import S3FileSystem\n",
    "from dask.distributed import Client, progress\n",
    "from kerchunk.combine import MultiZarrToZarr\n",
    "from sklearn.metrics import pairwise_distances_argmin\n",
    "\n",
    "\n",
    "import pickle\n",
    "from datetime import datetime, timedelta\n",
    "\n",
    "\n",
    "import aorc1"
   ]
  },
  {
   "cell_type": "markdown",
   "id": "79279a53-22ae-40cc-a05c-67188f18ccc4",
   "metadata": {
    "user_expressions": []
   },
   "source": [
    "Initiate the Dask client. This will enable us to parallelize our computations."
   ]
  },
  {
   "cell_type": "code",
   "execution_count": 2,
   "id": "005eb820-57c2-4ad6-81e8-26ed37d4f075",
   "metadata": {
    "tags": []
   },
   "outputs": [
    {
     "name": "stdout",
     "output_type": "stream",
     "text": [
      "/user/castronova/proxy/8787/status\n"
     ]
    }
   ],
   "source": [
    "# use a try accept loop so we only instantiate the client\n",
    "# if it doesn't already exist.\n",
    "try:\n",
    "    print(client.dashboard_link)\n",
    "except:    \n",
    "    # The client should be customized to your workstation resources.\n",
    "    client = Client(n_workers=8) # per worker\n",
    "    print(client.dashboard_link)\n"
   ]
  },
  {
   "cell_type": "markdown",
   "id": "292bb9cd-cf11-4089-accb-fd50b1a99230",
   "metadata": {
    "user_expressions": []
   },
   "source": [
    "## Load AORC V1.0 from AWS"
   ]
  },
  {
   "cell_type": "code",
   "execution_count": 3,
   "id": "4331f6ce-d72e-4710-9095-208157c260e7",
   "metadata": {
    "tags": []
   },
   "outputs": [
    {
     "name": "stdout",
     "output_type": "stream",
     "text": [
      "24\n",
      "CPU times: user 4.77 s, sys: 217 ms, total: 4.98 s\n",
      "Wall time: 7.61 s\n"
     ]
    }
   ],
   "source": [
    "%%time\n",
    "ds = aorc1.load_aorc_dataset('2010', '01', '01')"
   ]
  },
  {
   "cell_type": "raw",
   "id": "5b085bef-0f6c-49a3-80e4-f4422696dc74",
   "metadata": {},
   "source": []
  },
  {
   "cell_type": "code",
   "execution_count": 38,
   "id": "3fbbfa9d-c62f-42cf-929f-dddfed2ee34e",
   "metadata": {
    "tags": []
   },
   "outputs": [],
   "source": [
    "training_path = \"../Snow-Extrapolation/data/RegionTrain_SCA.pkl\"\n",
    "with open(training_path, 'rb') as f:\n",
    "    region_train = pickle.load(f)\n",
    "\n",
    "pts = []\n",
    "key = 'N_Sierras'\n",
    "region_train[key]['pt'] = list(zip(region_train[key].Long, region_train[key].Lat))\n",
    "#region_train[key].loc[region_train[key].pt.unique()\n",
    "#pts.extend(list(region_train[key]['pt'].unique()))\n"
   ]
  },
  {
   "cell_type": "code",
   "execution_count": 50,
   "id": "ba70dfea-a033-4c13-b243-f6cfce7ade0c",
   "metadata": {
    "tags": []
   },
   "outputs": [
    {
     "data": {
      "text/plain": [
       "array([(-121.9394134663883, 41.16664739027599),\n",
       "       (-120.6188899987326, 39.675880337476684),\n",
       "       (-120.87940143112729, 39.786416508865145),\n",
       "       (-121.78669986808801, 40.78005174338435),\n",
       "       (-120.17871550951399, 41.99314916228401),\n",
       "       (-121.3195759203458, 39.81402285325959)], dtype=object)"
      ]
     },
     "execution_count": 50,
     "metadata": {},
     "output_type": "execute_result"
    }
   ],
   "source": [
    "region_train[key].pt.unique()"
   ]
  },
  {
   "cell_type": "code",
   "execution_count": 48,
   "id": "aa657314-7272-4245-a5b6-d7195a36ec38",
   "metadata": {
    "tags": []
   },
   "outputs": [
    {
     "data": {
      "text/plain": [
       "6"
      ]
     },
     "execution_count": 48,
     "metadata": {},
     "output_type": "execute_result"
    }
   ],
   "source": [
    "len(region_train[key].index.unique())"
   ]
  },
  {
   "cell_type": "code",
   "execution_count": 59,
   "id": "84e1b9f7-6b8e-4a5c-88a5-239851a653c3",
   "metadata": {
    "tags": []
   },
   "outputs": [],
   "source": [
    "# open locations\n",
    "#df_meta = pandas.read_csv('../Snow-Extrapolation/data/PreProcessed/ground_measures_metadata.csv')\n",
    "training_path = \"../Snow-Extrapolation/data/RegionTrain_SCA.pkl\"\n",
    "\n",
    "with open(training_path, 'rb') as f:\n",
    "    region_train = pickle.load(f)\n",
    "\n",
    "pts = []\n",
    "regions = []\n",
    "for key in ['N_Sierras', 'S_Sierras_Low', 'S_Sierras_High']:\n",
    "    region_train[key]['pt'] = list(zip(region_train[key].Long, region_train[key].Lat))\n",
    "    region_train[key]['region'] = key\n",
    "    region_train = region_train[key].pt.unique()\n",
    "    \n",
    "    regions.append(region_train[key])\n",
    "    \n",
    "    pts.extend()\n",
    "    \n",
    "#pts = list(set(pts))"
   ]
  },
  {
   "cell_type": "code",
   "execution_count": 70,
   "id": "d46938f3-5950-4c0b-9d3c-fb80e319b7a9",
   "metadata": {
    "tags": []
   },
   "outputs": [
    {
     "data": {
      "text/plain": [
       "6"
      ]
     },
     "execution_count": 70,
     "metadata": {},
     "output_type": "execute_result"
    }
   ],
   "source": [
    "len(regions[0].drop_duplicates(subset='pt'))"
   ]
  },
  {
   "cell_type": "code",
   "execution_count": 75,
   "id": "fe4950c8-a75a-4830-b4eb-3c784ee53d96",
   "metadata": {
    "tags": []
   },
   "outputs": [
    {
     "data": {
      "text/plain": [
       "array(['N_Sierras'], dtype=object)"
      ]
     },
     "execution_count": 75,
     "metadata": {},
     "output_type": "execute_result"
    }
   ],
   "source": [
    "regions[0].region.unique()"
   ]
  },
  {
   "cell_type": "code",
   "execution_count": 71,
   "id": "1fccc68b-27c6-4fac-818a-05ee2aa43314",
   "metadata": {
    "tags": []
   },
   "outputs": [
    {
     "data": {
      "text/plain": [
       "569"
      ]
     },
     "execution_count": 71,
     "metadata": {},
     "output_type": "execute_result"
    }
   ],
   "source": [
    "len(regions[1].drop_duplicates(subset='pt'))"
   ]
  },
  {
   "cell_type": "code",
   "execution_count": 76,
   "id": "b1a6569a-2932-446a-8e1e-f21ab4777adf",
   "metadata": {
    "tags": []
   },
   "outputs": [
    {
     "data": {
      "text/plain": [
       "array(['S_Sierras_Low'], dtype=object)"
      ]
     },
     "execution_count": 76,
     "metadata": {},
     "output_type": "execute_result"
    }
   ],
   "source": [
    "regions[1].region.unique()"
   ]
  },
  {
   "cell_type": "code",
   "execution_count": 72,
   "id": "edeefe94-f849-40b6-8bbd-757dad949775",
   "metadata": {
    "tags": []
   },
   "outputs": [
    {
     "data": {
      "text/plain": [
       "324"
      ]
     },
     "execution_count": 72,
     "metadata": {},
     "output_type": "execute_result"
    }
   ],
   "source": [
    "len(regions[2].drop_duplicates(subset='pt'))"
   ]
  },
  {
   "cell_type": "code",
   "execution_count": 77,
   "id": "1b242f35-6a7e-439c-b2c0-7afe3a4d55e6",
   "metadata": {
    "tags": []
   },
   "outputs": [
    {
     "data": {
      "text/plain": [
       "array(['S_Sierras_High'], dtype=object)"
      ]
     },
     "execution_count": 77,
     "metadata": {},
     "output_type": "execute_result"
    }
   ],
   "source": [
    "regions[2].region.unique()"
   ]
  },
  {
   "cell_type": "code",
   "execution_count": 5,
   "id": "b1e1e6b9-2ea3-4279-912d-4bdaeb25525b",
   "metadata": {
    "tags": []
   },
   "outputs": [],
   "source": [
    "lats = df_meta.latitude.values\n",
    "lons = df_meta.longitude.values"
   ]
  },
  {
   "cell_type": "code",
   "execution_count": 6,
   "id": "a257ffd0-98c7-4128-805b-b27ced119558",
   "metadata": {
    "tags": []
   },
   "outputs": [],
   "source": [
    "# function to collect all indexes\n",
    "\n",
    "@dask.delayed\n",
    "def extract_dask(search_points, all_points, final_shape):\n",
    "    index = pairwise_distances_argmin(X=search_points,\n",
    "                                      Y=all_points)\n",
    "    i0, j0 = numpy.unravel_index(index, (final_shape))\n",
    "    return(i0, j0)\n",
    "#    return ds.isel(x=j0, y=i0).squeeze()"
   ]
  },
  {
   "cell_type": "code",
   "execution_count": 7,
   "id": "09ce1634-61d9-48b3-8fa7-4d882f808ef4",
   "metadata": {
    "tags": []
   },
   "outputs": [
    {
     "name": "stdout",
     "output_type": "stream",
     "text": [
      "scattering...done\n",
      "CPU times: user 420 ms, sys: 243 ms, total: 663 ms\n",
      "Wall time: 669 ms\n"
     ]
    }
   ],
   "source": [
    "%%time\n",
    "\n",
    "points = numpy.array(list(zip(lons, lats)))\n",
    "\n",
    "# batch index collection using dask\n",
    "pt_groups = numpy.array_split(numpy.array(points), 100)\n",
    "all_pts = numpy.c_[ds['lon'].values.ravel(), ds['lat'].values.ravel()]\n",
    "final_shape = ds['lon'].shape\n",
    "\n",
    "\n",
    "print('scattering...', end='', flush=True)\n",
    "all_pts_scattered = client.scatter(all_pts)\n",
    "print('done')\n",
    "\n",
    "futures = []\n",
    "for grp in pt_groups:\n",
    "    futures.append(extract_dask(grp, all_pts_scattered, final_shape)) \n",
    "    "
   ]
  },
  {
   "cell_type": "code",
   "execution_count": 8,
   "id": "c8bb03ef-cb57-4f4f-9f36-36b0931785c2",
   "metadata": {
    "tags": []
   },
   "outputs": [
    {
     "name": "stdout",
     "output_type": "stream",
     "text": [
      "CPU times: user 1.63 s, sys: 207 ms, total: 1.84 s\n",
      "Wall time: 10.6 s\n"
     ]
    }
   ],
   "source": [
    "%%time\n",
    "results = dask.compute(futures)"
   ]
  },
  {
   "cell_type": "code",
   "execution_count": 9,
   "id": "86898494-ab46-42bb-953c-f9756da80d5e",
   "metadata": {
    "tags": []
   },
   "outputs": [],
   "source": [
    "# put the x,y coordinates for the matching cells into lists\n",
    "i_locs = []\n",
    "j_locs = []\n",
    "for grp in results[0]:\n",
    "    num_elements = len(grp[0])\n",
    "    for idx in range(0, num_elements):\n",
    "        i_locs.append(grp[0][idx])\n",
    "        j_locs.append(grp[1][idx])"
   ]
  },
  {
   "cell_type": "code",
   "execution_count": 20,
   "id": "82ea666a-0a7f-4112-a87a-fe896d374bd5",
   "metadata": {
    "tags": []
   },
   "outputs": [],
   "source": [
    "# function to collect variables for time range\n",
    "\n",
    "\n",
    "@dask.delayed\n",
    "def get_data_dask(i_locs, j_locs, year='2010', month='01', day='01'):\n",
    "    ds = aorc1.load_aorc_dataset(year, month, day)\n",
    "    precip = ds.isel(x=i_locs, y=j_locs).squeeze().RAINRATE\n",
    "    \n",
    "    \n",
    "    with open(f'{year}{month}{day}.pkl', 'wb') as f:\n",
    "        pickle.dump(precip.values, f)\n",
    "    \n",
    "    return datetime(int(year), int(month), int(day)),\n",
    "#            'precip': precip.values}\n",
    "\n",
    "\n",
    "def get_data_daskbag(args):\n",
    "    i_locs = args[0]\n",
    "    j_locs = args[1]\n",
    "    dt = args[2]\n",
    "    \n",
    "    # get the date parts\n",
    "    month = f'{dt.month:02}'    \n",
    "    day = f'{dt.day:02}'\n",
    "    year = f'{dt.year:04}'\n",
    "\n",
    "    ds = aorc1.load_aorc_dataset(year, month, day)\n",
    "    \n",
    "    precip = ds.isel(x=i_locs, y=j_locs) #.squeeze().RAINRATE\n",
    "    precip = precip.RAINRATE.groupby('time.dayofyear').sum() * 24 * 3600\n",
    "    pcp_df = precip.to_dataframe().reset_index()\n",
    "    \n",
    "    pcp_df['date'] = dt\n",
    "    pcp_df = pcp_df[['lat', 'lon', 'RAINRATE', 'date']]\n",
    "    pcp_df.rename(columns={'RAINRATE': 'RAINRATE [mm]'}, inplace=True)\n",
    "    pcp_df.set_index('date', inplace=True)\n",
    "    pcp_df.to_csv(f'{year}{month}{day}.csv')\n",
    "    \n",
    "    return f'{year}{month}{day}.csv'\n"
   ]
  },
  {
   "cell_type": "code",
   "execution_count": 21,
   "id": "2f877bfa-f95b-4773-84e6-4aa706ee1198",
   "metadata": {
    "tags": []
   },
   "outputs": [
    {
     "name": "stdout",
     "output_type": "stream",
     "text": [
      "CPU times: user 232 µs, sys: 0 ns, total: 232 µs\n",
      "Wall time: 238 µs\n"
     ]
    }
   ],
   "source": [
    "%%time \n",
    "\n",
    "# isolate the lat/lon points that we're interested in\n",
    "ind_x = xarray.DataArray(i_locs, dims=[\"pt\"])\n",
    "ind_y = xarray.DataArray(j_locs, dims=[\"pt\"])\n"
   ]
  },
  {
   "cell_type": "code",
   "execution_count": 22,
   "id": "999b726c-1934-495d-aa5e-dd2583491371",
   "metadata": {
    "tags": []
   },
   "outputs": [
    {
     "name": "stdout",
     "output_type": "stream",
     "text": [
      "CPU times: user 4 ms, sys: 0 ns, total: 4 ms\n",
      "Wall time: 3.63 ms\n"
     ]
    }
   ],
   "source": [
    "%%time\n",
    "\n",
    "# batch variable collection\n",
    "\n",
    "t = datetime(2010,1,1)\n",
    "et = datetime(2010,2,1)\n",
    "\n",
    "input_params = []\n",
    "while t <= et:\n",
    "    input_params.append([ind_x, ind_y, t])\n",
    "    t += timedelta(days=1)\n",
    "    \n",
    "import dask.bag as db  \n",
    "b = db.from_sequence(input_params, npartitions=6)\n",
    "b = b.map(get_data_daskbag)\n"
   ]
  },
  {
   "cell_type": "code",
   "execution_count": 23,
   "id": "b72d9f28-dfbe-470e-ae8e-b95b965947f7",
   "metadata": {
    "tags": []
   },
   "outputs": [
    {
     "name": "stderr",
     "output_type": "stream",
     "text": [
      "/tmp/ipykernel_1602/1994184271.py:35: SettingWithCopyWarning: \n",
      "A value is trying to be set on a copy of a slice from a DataFrame\n",
      "\n",
      "See the caveats in the documentation: https://pandas.pydata.org/pandas-docs/stable/user_guide/indexing.html#returning-a-view-versus-a-copy\n",
      "/tmp/ipykernel_1602/1994184271.py:35: SettingWithCopyWarning: \n",
      "A value is trying to be set on a copy of a slice from a DataFrame\n",
      "\n",
      "See the caveats in the documentation: https://pandas.pydata.org/pandas-docs/stable/user_guide/indexing.html#returning-a-view-versus-a-copy\n",
      "/tmp/ipykernel_1602/1994184271.py:35: SettingWithCopyWarning: \n",
      "A value is trying to be set on a copy of a slice from a DataFrame\n",
      "\n",
      "See the caveats in the documentation: https://pandas.pydata.org/pandas-docs/stable/user_guide/indexing.html#returning-a-view-versus-a-copy\n"
     ]
    },
    {
     "name": "stdout",
     "output_type": "stream",
     "text": [
      "CPU times: user 14.2 s, sys: 1.51 s, total: 15.7 s\n",
      "Wall time: 2min 39s\n"
     ]
    }
   ],
   "source": [
    "%%time\n",
    "\n",
    "results = b.compute()"
   ]
  },
  {
   "cell_type": "code",
   "execution_count": null,
   "id": "d05a1fc0-03d6-4f9f-ab6e-f6d50c662d24",
   "metadata": {
    "tags": []
   },
   "outputs": [],
   "source": [
    "results"
   ]
  },
  {
   "cell_type": "code",
   "execution_count": null,
   "id": "8d950d45-9cf0-455b-9467-7f55f075150b",
   "metadata": {},
   "outputs": [],
   "source": []
  },
  {
   "cell_type": "code",
   "execution_count": null,
   "id": "e0d3483a-6bc0-4536-9125-554bddffe2a3",
   "metadata": {},
   "outputs": [],
   "source": []
  },
  {
   "cell_type": "code",
   "execution_count": null,
   "id": "e8a4e93a-03e8-44c1-ba91-8a8385bf7cd3",
   "metadata": {},
   "outputs": [],
   "source": []
  },
  {
   "cell_type": "code",
   "execution_count": null,
   "id": "7b242640-cb08-4ad2-ba8b-f86948e9e8ed",
   "metadata": {},
   "outputs": [],
   "source": []
  },
  {
   "cell_type": "code",
   "execution_count": 14,
   "id": "c0a7a287-c99e-439c-9aaa-8d386db78673",
   "metadata": {
    "tags": []
   },
   "outputs": [],
   "source": [
    "d = pandas.read_pickle('20100101.pkl')"
   ]
  },
  {
   "cell_type": "code",
   "execution_count": 29,
   "id": "b6115d9b-595d-4ee7-8827-717b7d2b9dc5",
   "metadata": {
    "tags": []
   },
   "outputs": [],
   "source": [
    "sub_ds = ds.isel(x=ind_x, y=ind_y)\n",
    "pt_lats = sub_ds.lat.values\n",
    "pt_lons = sub_ds.lon.values\n",
    "lat_ravel = pt_lats.ravel()\n",
    "lon_ravel = pt_lons.ravel()\n",
    "#d_ravel = d[0].ravel()\n",
    "\n",
    "# dats = []\n",
    "# for day in days:\n",
    "#     fname = f'201001{day}.pkl'\n",
    "#     data = df.read_pickle(fname)\n",
    "    \n",
    "#     dats.append(pandas.read_pickle(fname))"
   ]
  },
  {
   "cell_type": "code",
   "execution_count": 39,
   "id": "a501a639-b578-4cae-b659-d8bd2c277273",
   "metadata": {
    "tags": []
   },
   "outputs": [],
   "source": []
  },
  {
   "cell_type": "code",
   "execution_count": 40,
   "id": "734cea45-efa7-4e9d-91c5-1baef54ada82",
   "metadata": {
    "tags": []
   },
   "outputs": [],
   "source": []
  },
  {
   "cell_type": "code",
   "execution_count": 41,
   "id": "34b0dd16-fe61-46e5-9aec-4a4265646241",
   "metadata": {
    "tags": []
   },
   "outputs": [
    {
     "data": {
      "text/html": [
       "<div>\n",
       "<style scoped>\n",
       "    .dataframe tbody tr th:only-of-type {\n",
       "        vertical-align: middle;\n",
       "    }\n",
       "\n",
       "    .dataframe tbody tr th {\n",
       "        vertical-align: top;\n",
       "    }\n",
       "\n",
       "    .dataframe thead th {\n",
       "        text-align: right;\n",
       "    }\n",
       "</style>\n",
       "<table border=\"1\" class=\"dataframe\">\n",
       "  <thead>\n",
       "    <tr style=\"text-align: right;\">\n",
       "      <th></th>\n",
       "      <th>lat</th>\n",
       "      <th>lon</th>\n",
       "      <th>RAINRATE</th>\n",
       "    </tr>\n",
       "    <tr>\n",
       "      <th>date</th>\n",
       "      <th></th>\n",
       "      <th></th>\n",
       "      <th></th>\n",
       "    </tr>\n",
       "  </thead>\n",
       "  <tbody>\n",
       "    <tr>\n",
       "      <th>2010-01-01</th>\n",
       "      <td>53.489871</td>\n",
       "      <td>-109.476319</td>\n",
       "      <td>0.000000e+00</td>\n",
       "    </tr>\n",
       "    <tr>\n",
       "      <th>2010-01-01</th>\n",
       "      <td>53.693732</td>\n",
       "      <td>-103.210843</td>\n",
       "      <td>0.000000e+00</td>\n",
       "    </tr>\n",
       "    <tr>\n",
       "      <th>2010-01-01</th>\n",
       "      <td>54.082276</td>\n",
       "      <td>-105.437942</td>\n",
       "      <td>0.000000e+00</td>\n",
       "    </tr>\n",
       "    <tr>\n",
       "      <th>2010-01-01</th>\n",
       "      <td>53.642236</td>\n",
       "      <td>-102.003555</td>\n",
       "      <td>0.000000e+00</td>\n",
       "    </tr>\n",
       "    <tr>\n",
       "      <th>2010-01-01</th>\n",
       "      <td>53.574999</td>\n",
       "      <td>-100.285731</td>\n",
       "      <td>0.000000e+00</td>\n",
       "    </tr>\n",
       "    <tr>\n",
       "      <th>...</th>\n",
       "      <td>...</td>\n",
       "      <td>...</td>\n",
       "      <td>...</td>\n",
       "    </tr>\n",
       "    <tr>\n",
       "      <th>2010-01-01</th>\n",
       "      <td>48.479689</td>\n",
       "      <td>-115.341881</td>\n",
       "      <td>0.000000e+00</td>\n",
       "    </tr>\n",
       "    <tr>\n",
       "      <th>2010-01-01</th>\n",
       "      <td>49.960336</td>\n",
       "      <td>-120.380652</td>\n",
       "      <td>0.000000e+00</td>\n",
       "    </tr>\n",
       "    <tr>\n",
       "      <th>2010-01-01</th>\n",
       "      <td>46.588421</td>\n",
       "      <td>-104.825212</td>\n",
       "      <td>0.000000e+00</td>\n",
       "    </tr>\n",
       "    <tr>\n",
       "      <th>2010-01-01</th>\n",
       "      <td>50.073268</td>\n",
       "      <td>-120.448658</td>\n",
       "      <td>0.000000e+00</td>\n",
       "    </tr>\n",
       "    <tr>\n",
       "      <th>2010-01-01</th>\n",
       "      <td>50.261788</td>\n",
       "      <td>-120.476890</td>\n",
       "      <td>9.423909e-07</td>\n",
       "    </tr>\n",
       "  </tbody>\n",
       "</table>\n",
       "<p>700 rows × 3 columns</p>\n",
       "</div>"
      ],
      "text/plain": [
       "                  lat         lon      RAINRATE\n",
       "date                                           \n",
       "2010-01-01  53.489871 -109.476319  0.000000e+00\n",
       "2010-01-01  53.693732 -103.210843  0.000000e+00\n",
       "2010-01-01  54.082276 -105.437942  0.000000e+00\n",
       "2010-01-01  53.642236 -102.003555  0.000000e+00\n",
       "2010-01-01  53.574999 -100.285731  0.000000e+00\n",
       "...               ...         ...           ...\n",
       "2010-01-01  48.479689 -115.341881  0.000000e+00\n",
       "2010-01-01  49.960336 -120.380652  0.000000e+00\n",
       "2010-01-01  46.588421 -104.825212  0.000000e+00\n",
       "2010-01-01  50.073268 -120.448658  0.000000e+00\n",
       "2010-01-01  50.261788 -120.476890  9.423909e-07\n",
       "\n",
       "[700 rows x 3 columns]"
      ]
     },
     "execution_count": 41,
     "metadata": {},
     "output_type": "execute_result"
    }
   ],
   "source": []
  },
  {
   "cell_type": "code",
   "execution_count": 30,
   "id": "0845fd84-2968-4031-b690-954a3056a857",
   "metadata": {
    "tags": []
   },
   "outputs": [],
   "source": []
  },
  {
   "cell_type": "code",
   "execution_count": 31,
   "id": "b9c9dd8a-eafe-49b1-afe9-b9c909b1492f",
   "metadata": {
    "tags": []
   },
   "outputs": [
    {
     "name": "stdout",
     "output_type": "stream",
     "text": [
      "-109.47631928348011, 53.48987108815394 = 0.0\n",
      "-103.24115304529501, 53.92343906099967 = 0.0\n",
      "-105.38869134717802, 53.80741879893348 = 0.0\n",
      "-102.0387665206436, 53.973365590696204 = 5.683185008820146e-06\n",
      "-100.3172504890106, 54.026214976099574 = 0.0\n",
      "-110.04235388253495, 53.43571256120676 = 0.0\n",
      "-102.0387665206436, 53.973365590696204 = 5.683185008820146e-06\n",
      "-101.49144125895054, 53.9925415336226 = 0.0\n",
      "-107.44705815264058, 53.66353852972689 = 0.0\n",
      "-108.8936754652265, 53.54300208500296 = 0.0\n"
     ]
    }
   ],
   "source": [
    "for i in range(0, 10):\n",
    "    print(f'{lon_ravel[i]}, {lat_ravel[i]} = {d_ravel[i]}')"
   ]
  },
  {
   "cell_type": "code",
   "execution_count": null,
   "id": "5f90787a-88b1-4805-854c-0674617eb7a4",
   "metadata": {},
   "outputs": [],
   "source": []
  },
  {
   "cell_type": "code",
   "execution_count": null,
   "id": "a78e4b2d-939a-4c3b-9da6-b4a7b5d7d994",
   "metadata": {},
   "outputs": [],
   "source": []
  },
  {
   "cell_type": "code",
   "execution_count": null,
   "id": "6da31273-525b-4514-be65-a086971b344a",
   "metadata": {},
   "outputs": [],
   "source": []
  },
  {
   "cell_type": "code",
   "execution_count": null,
   "id": "6b00c653-24df-4e00-8484-87fe22e374e5",
   "metadata": {},
   "outputs": [],
   "source": []
  },
  {
   "cell_type": "code",
   "execution_count": null,
   "id": "f4975877-c0ae-4bd2-bfa4-ee46f4b21e6c",
   "metadata": {},
   "outputs": [],
   "source": []
  },
  {
   "cell_type": "code",
   "execution_count": null,
   "id": "79f1f7c8-2020-44bd-9fa0-2630243eea1e",
   "metadata": {},
   "outputs": [],
   "source": []
  },
  {
   "cell_type": "code",
   "execution_count": 59,
   "id": "7ffe1dc3-ec9b-4e8c-95e5-be8cf3b3fd1a",
   "metadata": {
    "tags": []
   },
   "outputs": [],
   "source": [
    "# find AORC files on AWS\n",
    "s3 = S3FileSystem(anon=True)\n",
    "files = s3.glob(f'{BUCKET}{year}/{year}{month}{day}*')  \n",
    "\n",
    "# json_list = []\n",
    "#     for f in files:\n",
    "#         parts = f.split('/')\n",
    "#         parts[0] += '.s3.amazonaws.com'\n",
    "#         parts.insert(0, 'https:/')\n",
    "#         new_name = '/'.join(parts)\n",
    "#         json_list.append(new_name)\n"
   ]
  },
  {
   "cell_type": "code",
   "execution_count": 60,
   "id": "61cd7ad4-e378-4a51-936c-5bf7bbaf918d",
   "metadata": {
    "tags": []
   },
   "outputs": [
    {
     "data": {
      "text/plain": [
       "['ciroh-nwm-zarr-retrospective-data-copy/noaa-nwm-retrospective-2-1-zarr-pds/forcing/2010/2010010100.LDASIN_DOMAIN1.json',\n",
       " 'ciroh-nwm-zarr-retrospective-data-copy/noaa-nwm-retrospective-2-1-zarr-pds/forcing/2010/2010010101.LDASIN_DOMAIN1.json',\n",
       " 'ciroh-nwm-zarr-retrospective-data-copy/noaa-nwm-retrospective-2-1-zarr-pds/forcing/2010/2010010102.LDASIN_DOMAIN1.json',\n",
       " 'ciroh-nwm-zarr-retrospective-data-copy/noaa-nwm-retrospective-2-1-zarr-pds/forcing/2010/2010010103.LDASIN_DOMAIN1.json',\n",
       " 'ciroh-nwm-zarr-retrospective-data-copy/noaa-nwm-retrospective-2-1-zarr-pds/forcing/2010/2010010104.LDASIN_DOMAIN1.json',\n",
       " 'ciroh-nwm-zarr-retrospective-data-copy/noaa-nwm-retrospective-2-1-zarr-pds/forcing/2010/2010010105.LDASIN_DOMAIN1.json',\n",
       " 'ciroh-nwm-zarr-retrospective-data-copy/noaa-nwm-retrospective-2-1-zarr-pds/forcing/2010/2010010106.LDASIN_DOMAIN1.json',\n",
       " 'ciroh-nwm-zarr-retrospective-data-copy/noaa-nwm-retrospective-2-1-zarr-pds/forcing/2010/2010010107.LDASIN_DOMAIN1.json',\n",
       " 'ciroh-nwm-zarr-retrospective-data-copy/noaa-nwm-retrospective-2-1-zarr-pds/forcing/2010/2010010108.LDASIN_DOMAIN1.json',\n",
       " 'ciroh-nwm-zarr-retrospective-data-copy/noaa-nwm-retrospective-2-1-zarr-pds/forcing/2010/2010010109.LDASIN_DOMAIN1.json',\n",
       " 'ciroh-nwm-zarr-retrospective-data-copy/noaa-nwm-retrospective-2-1-zarr-pds/forcing/2010/2010010110.LDASIN_DOMAIN1.json',\n",
       " 'ciroh-nwm-zarr-retrospective-data-copy/noaa-nwm-retrospective-2-1-zarr-pds/forcing/2010/2010010111.LDASIN_DOMAIN1.json',\n",
       " 'ciroh-nwm-zarr-retrospective-data-copy/noaa-nwm-retrospective-2-1-zarr-pds/forcing/2010/2010010112.LDASIN_DOMAIN1.json',\n",
       " 'ciroh-nwm-zarr-retrospective-data-copy/noaa-nwm-retrospective-2-1-zarr-pds/forcing/2010/2010010113.LDASIN_DOMAIN1.json',\n",
       " 'ciroh-nwm-zarr-retrospective-data-copy/noaa-nwm-retrospective-2-1-zarr-pds/forcing/2010/2010010114.LDASIN_DOMAIN1.json',\n",
       " 'ciroh-nwm-zarr-retrospective-data-copy/noaa-nwm-retrospective-2-1-zarr-pds/forcing/2010/2010010115.LDASIN_DOMAIN1.json',\n",
       " 'ciroh-nwm-zarr-retrospective-data-copy/noaa-nwm-retrospective-2-1-zarr-pds/forcing/2010/2010010116.LDASIN_DOMAIN1.json',\n",
       " 'ciroh-nwm-zarr-retrospective-data-copy/noaa-nwm-retrospective-2-1-zarr-pds/forcing/2010/2010010117.LDASIN_DOMAIN1.json',\n",
       " 'ciroh-nwm-zarr-retrospective-data-copy/noaa-nwm-retrospective-2-1-zarr-pds/forcing/2010/2010010118.LDASIN_DOMAIN1.json',\n",
       " 'ciroh-nwm-zarr-retrospective-data-copy/noaa-nwm-retrospective-2-1-zarr-pds/forcing/2010/2010010119.LDASIN_DOMAIN1.json',\n",
       " 'ciroh-nwm-zarr-retrospective-data-copy/noaa-nwm-retrospective-2-1-zarr-pds/forcing/2010/2010010120.LDASIN_DOMAIN1.json',\n",
       " 'ciroh-nwm-zarr-retrospective-data-copy/noaa-nwm-retrospective-2-1-zarr-pds/forcing/2010/2010010121.LDASIN_DOMAIN1.json',\n",
       " 'ciroh-nwm-zarr-retrospective-data-copy/noaa-nwm-retrospective-2-1-zarr-pds/forcing/2010/2010010122.LDASIN_DOMAIN1.json',\n",
       " 'ciroh-nwm-zarr-retrospective-data-copy/noaa-nwm-retrospective-2-1-zarr-pds/forcing/2010/2010010123.LDASIN_DOMAIN1.json',\n",
       " 'ciroh-nwm-zarr-retrospective-data-copy/noaa-nwm-retrospective-2-1-zarr-pds/forcing/2010/2010010200.LDASIN_DOMAIN1.json',\n",
       " 'ciroh-nwm-zarr-retrospective-data-copy/noaa-nwm-retrospective-2-1-zarr-pds/forcing/2010/2010010201.LDASIN_DOMAIN1.json',\n",
       " 'ciroh-nwm-zarr-retrospective-data-copy/noaa-nwm-retrospective-2-1-zarr-pds/forcing/2010/2010010202.LDASIN_DOMAIN1.json',\n",
       " 'ciroh-nwm-zarr-retrospective-data-copy/noaa-nwm-retrospective-2-1-zarr-pds/forcing/2010/2010010203.LDASIN_DOMAIN1.json',\n",
       " 'ciroh-nwm-zarr-retrospective-data-copy/noaa-nwm-retrospective-2-1-zarr-pds/forcing/2010/2010010204.LDASIN_DOMAIN1.json',\n",
       " 'ciroh-nwm-zarr-retrospective-data-copy/noaa-nwm-retrospective-2-1-zarr-pds/forcing/2010/2010010205.LDASIN_DOMAIN1.json',\n",
       " 'ciroh-nwm-zarr-retrospective-data-copy/noaa-nwm-retrospective-2-1-zarr-pds/forcing/2010/2010010206.LDASIN_DOMAIN1.json',\n",
       " 'ciroh-nwm-zarr-retrospective-data-copy/noaa-nwm-retrospective-2-1-zarr-pds/forcing/2010/2010010207.LDASIN_DOMAIN1.json',\n",
       " 'ciroh-nwm-zarr-retrospective-data-copy/noaa-nwm-retrospective-2-1-zarr-pds/forcing/2010/2010010208.LDASIN_DOMAIN1.json',\n",
       " 'ciroh-nwm-zarr-retrospective-data-copy/noaa-nwm-retrospective-2-1-zarr-pds/forcing/2010/2010010209.LDASIN_DOMAIN1.json',\n",
       " 'ciroh-nwm-zarr-retrospective-data-copy/noaa-nwm-retrospective-2-1-zarr-pds/forcing/2010/2010010210.LDASIN_DOMAIN1.json',\n",
       " 'ciroh-nwm-zarr-retrospective-data-copy/noaa-nwm-retrospective-2-1-zarr-pds/forcing/2010/2010010211.LDASIN_DOMAIN1.json',\n",
       " 'ciroh-nwm-zarr-retrospective-data-copy/noaa-nwm-retrospective-2-1-zarr-pds/forcing/2010/2010010212.LDASIN_DOMAIN1.json',\n",
       " 'ciroh-nwm-zarr-retrospective-data-copy/noaa-nwm-retrospective-2-1-zarr-pds/forcing/2010/2010010213.LDASIN_DOMAIN1.json',\n",
       " 'ciroh-nwm-zarr-retrospective-data-copy/noaa-nwm-retrospective-2-1-zarr-pds/forcing/2010/2010010214.LDASIN_DOMAIN1.json',\n",
       " 'ciroh-nwm-zarr-retrospective-data-copy/noaa-nwm-retrospective-2-1-zarr-pds/forcing/2010/2010010215.LDASIN_DOMAIN1.json',\n",
       " 'ciroh-nwm-zarr-retrospective-data-copy/noaa-nwm-retrospective-2-1-zarr-pds/forcing/2010/2010010216.LDASIN_DOMAIN1.json',\n",
       " 'ciroh-nwm-zarr-retrospective-data-copy/noaa-nwm-retrospective-2-1-zarr-pds/forcing/2010/2010010217.LDASIN_DOMAIN1.json',\n",
       " 'ciroh-nwm-zarr-retrospective-data-copy/noaa-nwm-retrospective-2-1-zarr-pds/forcing/2010/2010010218.LDASIN_DOMAIN1.json',\n",
       " 'ciroh-nwm-zarr-retrospective-data-copy/noaa-nwm-retrospective-2-1-zarr-pds/forcing/2010/2010010219.LDASIN_DOMAIN1.json',\n",
       " 'ciroh-nwm-zarr-retrospective-data-copy/noaa-nwm-retrospective-2-1-zarr-pds/forcing/2010/2010010220.LDASIN_DOMAIN1.json',\n",
       " 'ciroh-nwm-zarr-retrospective-data-copy/noaa-nwm-retrospective-2-1-zarr-pds/forcing/2010/2010010221.LDASIN_DOMAIN1.json',\n",
       " 'ciroh-nwm-zarr-retrospective-data-copy/noaa-nwm-retrospective-2-1-zarr-pds/forcing/2010/2010010222.LDASIN_DOMAIN1.json',\n",
       " 'ciroh-nwm-zarr-retrospective-data-copy/noaa-nwm-retrospective-2-1-zarr-pds/forcing/2010/2010010223.LDASIN_DOMAIN1.json',\n",
       " 'ciroh-nwm-zarr-retrospective-data-copy/noaa-nwm-retrospective-2-1-zarr-pds/forcing/2010/2010010300.LDASIN_DOMAIN1.json',\n",
       " 'ciroh-nwm-zarr-retrospective-data-copy/noaa-nwm-retrospective-2-1-zarr-pds/forcing/2010/2010010301.LDASIN_DOMAIN1.json',\n",
       " 'ciroh-nwm-zarr-retrospective-data-copy/noaa-nwm-retrospective-2-1-zarr-pds/forcing/2010/2010010302.LDASIN_DOMAIN1.json',\n",
       " 'ciroh-nwm-zarr-retrospective-data-copy/noaa-nwm-retrospective-2-1-zarr-pds/forcing/2010/2010010303.LDASIN_DOMAIN1.json',\n",
       " 'ciroh-nwm-zarr-retrospective-data-copy/noaa-nwm-retrospective-2-1-zarr-pds/forcing/2010/2010010304.LDASIN_DOMAIN1.json',\n",
       " 'ciroh-nwm-zarr-retrospective-data-copy/noaa-nwm-retrospective-2-1-zarr-pds/forcing/2010/2010010305.LDASIN_DOMAIN1.json',\n",
       " 'ciroh-nwm-zarr-retrospective-data-copy/noaa-nwm-retrospective-2-1-zarr-pds/forcing/2010/2010010306.LDASIN_DOMAIN1.json',\n",
       " 'ciroh-nwm-zarr-retrospective-data-copy/noaa-nwm-retrospective-2-1-zarr-pds/forcing/2010/2010010307.LDASIN_DOMAIN1.json',\n",
       " 'ciroh-nwm-zarr-retrospective-data-copy/noaa-nwm-retrospective-2-1-zarr-pds/forcing/2010/2010010308.LDASIN_DOMAIN1.json',\n",
       " 'ciroh-nwm-zarr-retrospective-data-copy/noaa-nwm-retrospective-2-1-zarr-pds/forcing/2010/2010010309.LDASIN_DOMAIN1.json',\n",
       " 'ciroh-nwm-zarr-retrospective-data-copy/noaa-nwm-retrospective-2-1-zarr-pds/forcing/2010/2010010310.LDASIN_DOMAIN1.json',\n",
       " 'ciroh-nwm-zarr-retrospective-data-copy/noaa-nwm-retrospective-2-1-zarr-pds/forcing/2010/2010010311.LDASIN_DOMAIN1.json',\n",
       " 'ciroh-nwm-zarr-retrospective-data-copy/noaa-nwm-retrospective-2-1-zarr-pds/forcing/2010/2010010312.LDASIN_DOMAIN1.json',\n",
       " 'ciroh-nwm-zarr-retrospective-data-copy/noaa-nwm-retrospective-2-1-zarr-pds/forcing/2010/2010010313.LDASIN_DOMAIN1.json',\n",
       " 'ciroh-nwm-zarr-retrospective-data-copy/noaa-nwm-retrospective-2-1-zarr-pds/forcing/2010/2010010314.LDASIN_DOMAIN1.json',\n",
       " 'ciroh-nwm-zarr-retrospective-data-copy/noaa-nwm-retrospective-2-1-zarr-pds/forcing/2010/2010010315.LDASIN_DOMAIN1.json',\n",
       " 'ciroh-nwm-zarr-retrospective-data-copy/noaa-nwm-retrospective-2-1-zarr-pds/forcing/2010/2010010316.LDASIN_DOMAIN1.json',\n",
       " 'ciroh-nwm-zarr-retrospective-data-copy/noaa-nwm-retrospective-2-1-zarr-pds/forcing/2010/2010010317.LDASIN_DOMAIN1.json',\n",
       " 'ciroh-nwm-zarr-retrospective-data-copy/noaa-nwm-retrospective-2-1-zarr-pds/forcing/2010/2010010318.LDASIN_DOMAIN1.json',\n",
       " 'ciroh-nwm-zarr-retrospective-data-copy/noaa-nwm-retrospective-2-1-zarr-pds/forcing/2010/2010010319.LDASIN_DOMAIN1.json',\n",
       " 'ciroh-nwm-zarr-retrospective-data-copy/noaa-nwm-retrospective-2-1-zarr-pds/forcing/2010/2010010320.LDASIN_DOMAIN1.json',\n",
       " 'ciroh-nwm-zarr-retrospective-data-copy/noaa-nwm-retrospective-2-1-zarr-pds/forcing/2010/2010010321.LDASIN_DOMAIN1.json',\n",
       " 'ciroh-nwm-zarr-retrospective-data-copy/noaa-nwm-retrospective-2-1-zarr-pds/forcing/2010/2010010322.LDASIN_DOMAIN1.json',\n",
       " 'ciroh-nwm-zarr-retrospective-data-copy/noaa-nwm-retrospective-2-1-zarr-pds/forcing/2010/2010010323.LDASIN_DOMAIN1.json',\n",
       " 'ciroh-nwm-zarr-retrospective-data-copy/noaa-nwm-retrospective-2-1-zarr-pds/forcing/2010/2010010400.LDASIN_DOMAIN1.json',\n",
       " 'ciroh-nwm-zarr-retrospective-data-copy/noaa-nwm-retrospective-2-1-zarr-pds/forcing/2010/2010010401.LDASIN_DOMAIN1.json',\n",
       " 'ciroh-nwm-zarr-retrospective-data-copy/noaa-nwm-retrospective-2-1-zarr-pds/forcing/2010/2010010402.LDASIN_DOMAIN1.json',\n",
       " 'ciroh-nwm-zarr-retrospective-data-copy/noaa-nwm-retrospective-2-1-zarr-pds/forcing/2010/2010010403.LDASIN_DOMAIN1.json',\n",
       " 'ciroh-nwm-zarr-retrospective-data-copy/noaa-nwm-retrospective-2-1-zarr-pds/forcing/2010/2010010404.LDASIN_DOMAIN1.json',\n",
       " 'ciroh-nwm-zarr-retrospective-data-copy/noaa-nwm-retrospective-2-1-zarr-pds/forcing/2010/2010010405.LDASIN_DOMAIN1.json',\n",
       " 'ciroh-nwm-zarr-retrospective-data-copy/noaa-nwm-retrospective-2-1-zarr-pds/forcing/2010/2010010406.LDASIN_DOMAIN1.json',\n",
       " 'ciroh-nwm-zarr-retrospective-data-copy/noaa-nwm-retrospective-2-1-zarr-pds/forcing/2010/2010010407.LDASIN_DOMAIN1.json',\n",
       " 'ciroh-nwm-zarr-retrospective-data-copy/noaa-nwm-retrospective-2-1-zarr-pds/forcing/2010/2010010408.LDASIN_DOMAIN1.json',\n",
       " 'ciroh-nwm-zarr-retrospective-data-copy/noaa-nwm-retrospective-2-1-zarr-pds/forcing/2010/2010010409.LDASIN_DOMAIN1.json',\n",
       " 'ciroh-nwm-zarr-retrospective-data-copy/noaa-nwm-retrospective-2-1-zarr-pds/forcing/2010/2010010410.LDASIN_DOMAIN1.json',\n",
       " 'ciroh-nwm-zarr-retrospective-data-copy/noaa-nwm-retrospective-2-1-zarr-pds/forcing/2010/2010010411.LDASIN_DOMAIN1.json',\n",
       " 'ciroh-nwm-zarr-retrospective-data-copy/noaa-nwm-retrospective-2-1-zarr-pds/forcing/2010/2010010412.LDASIN_DOMAIN1.json',\n",
       " 'ciroh-nwm-zarr-retrospective-data-copy/noaa-nwm-retrospective-2-1-zarr-pds/forcing/2010/2010010413.LDASIN_DOMAIN1.json',\n",
       " 'ciroh-nwm-zarr-retrospective-data-copy/noaa-nwm-retrospective-2-1-zarr-pds/forcing/2010/2010010414.LDASIN_DOMAIN1.json',\n",
       " 'ciroh-nwm-zarr-retrospective-data-copy/noaa-nwm-retrospective-2-1-zarr-pds/forcing/2010/2010010415.LDASIN_DOMAIN1.json',\n",
       " 'ciroh-nwm-zarr-retrospective-data-copy/noaa-nwm-retrospective-2-1-zarr-pds/forcing/2010/2010010416.LDASIN_DOMAIN1.json',\n",
       " 'ciroh-nwm-zarr-retrospective-data-copy/noaa-nwm-retrospective-2-1-zarr-pds/forcing/2010/2010010417.LDASIN_DOMAIN1.json',\n",
       " 'ciroh-nwm-zarr-retrospective-data-copy/noaa-nwm-retrospective-2-1-zarr-pds/forcing/2010/2010010418.LDASIN_DOMAIN1.json',\n",
       " 'ciroh-nwm-zarr-retrospective-data-copy/noaa-nwm-retrospective-2-1-zarr-pds/forcing/2010/2010010419.LDASIN_DOMAIN1.json',\n",
       " 'ciroh-nwm-zarr-retrospective-data-copy/noaa-nwm-retrospective-2-1-zarr-pds/forcing/2010/2010010420.LDASIN_DOMAIN1.json',\n",
       " 'ciroh-nwm-zarr-retrospective-data-copy/noaa-nwm-retrospective-2-1-zarr-pds/forcing/2010/2010010421.LDASIN_DOMAIN1.json',\n",
       " 'ciroh-nwm-zarr-retrospective-data-copy/noaa-nwm-retrospective-2-1-zarr-pds/forcing/2010/2010010422.LDASIN_DOMAIN1.json',\n",
       " 'ciroh-nwm-zarr-retrospective-data-copy/noaa-nwm-retrospective-2-1-zarr-pds/forcing/2010/2010010423.LDASIN_DOMAIN1.json',\n",
       " 'ciroh-nwm-zarr-retrospective-data-copy/noaa-nwm-retrospective-2-1-zarr-pds/forcing/2010/2010010500.LDASIN_DOMAIN1.json',\n",
       " 'ciroh-nwm-zarr-retrospective-data-copy/noaa-nwm-retrospective-2-1-zarr-pds/forcing/2010/2010010501.LDASIN_DOMAIN1.json',\n",
       " 'ciroh-nwm-zarr-retrospective-data-copy/noaa-nwm-retrospective-2-1-zarr-pds/forcing/2010/2010010502.LDASIN_DOMAIN1.json',\n",
       " 'ciroh-nwm-zarr-retrospective-data-copy/noaa-nwm-retrospective-2-1-zarr-pds/forcing/2010/2010010503.LDASIN_DOMAIN1.json',\n",
       " 'ciroh-nwm-zarr-retrospective-data-copy/noaa-nwm-retrospective-2-1-zarr-pds/forcing/2010/2010010504.LDASIN_DOMAIN1.json',\n",
       " 'ciroh-nwm-zarr-retrospective-data-copy/noaa-nwm-retrospective-2-1-zarr-pds/forcing/2010/2010010505.LDASIN_DOMAIN1.json',\n",
       " 'ciroh-nwm-zarr-retrospective-data-copy/noaa-nwm-retrospective-2-1-zarr-pds/forcing/2010/2010010506.LDASIN_DOMAIN1.json',\n",
       " 'ciroh-nwm-zarr-retrospective-data-copy/noaa-nwm-retrospective-2-1-zarr-pds/forcing/2010/2010010507.LDASIN_DOMAIN1.json',\n",
       " 'ciroh-nwm-zarr-retrospective-data-copy/noaa-nwm-retrospective-2-1-zarr-pds/forcing/2010/2010010508.LDASIN_DOMAIN1.json',\n",
       " 'ciroh-nwm-zarr-retrospective-data-copy/noaa-nwm-retrospective-2-1-zarr-pds/forcing/2010/2010010509.LDASIN_DOMAIN1.json',\n",
       " 'ciroh-nwm-zarr-retrospective-data-copy/noaa-nwm-retrospective-2-1-zarr-pds/forcing/2010/2010010510.LDASIN_DOMAIN1.json',\n",
       " 'ciroh-nwm-zarr-retrospective-data-copy/noaa-nwm-retrospective-2-1-zarr-pds/forcing/2010/2010010511.LDASIN_DOMAIN1.json',\n",
       " 'ciroh-nwm-zarr-retrospective-data-copy/noaa-nwm-retrospective-2-1-zarr-pds/forcing/2010/2010010512.LDASIN_DOMAIN1.json',\n",
       " 'ciroh-nwm-zarr-retrospective-data-copy/noaa-nwm-retrospective-2-1-zarr-pds/forcing/2010/2010010513.LDASIN_DOMAIN1.json',\n",
       " 'ciroh-nwm-zarr-retrospective-data-copy/noaa-nwm-retrospective-2-1-zarr-pds/forcing/2010/2010010514.LDASIN_DOMAIN1.json',\n",
       " 'ciroh-nwm-zarr-retrospective-data-copy/noaa-nwm-retrospective-2-1-zarr-pds/forcing/2010/2010010515.LDASIN_DOMAIN1.json',\n",
       " 'ciroh-nwm-zarr-retrospective-data-copy/noaa-nwm-retrospective-2-1-zarr-pds/forcing/2010/2010010516.LDASIN_DOMAIN1.json',\n",
       " 'ciroh-nwm-zarr-retrospective-data-copy/noaa-nwm-retrospective-2-1-zarr-pds/forcing/2010/2010010517.LDASIN_DOMAIN1.json',\n",
       " 'ciroh-nwm-zarr-retrospective-data-copy/noaa-nwm-retrospective-2-1-zarr-pds/forcing/2010/2010010518.LDASIN_DOMAIN1.json',\n",
       " 'ciroh-nwm-zarr-retrospective-data-copy/noaa-nwm-retrospective-2-1-zarr-pds/forcing/2010/2010010519.LDASIN_DOMAIN1.json',\n",
       " 'ciroh-nwm-zarr-retrospective-data-copy/noaa-nwm-retrospective-2-1-zarr-pds/forcing/2010/2010010520.LDASIN_DOMAIN1.json',\n",
       " 'ciroh-nwm-zarr-retrospective-data-copy/noaa-nwm-retrospective-2-1-zarr-pds/forcing/2010/2010010521.LDASIN_DOMAIN1.json',\n",
       " 'ciroh-nwm-zarr-retrospective-data-copy/noaa-nwm-retrospective-2-1-zarr-pds/forcing/2010/2010010522.LDASIN_DOMAIN1.json',\n",
       " 'ciroh-nwm-zarr-retrospective-data-copy/noaa-nwm-retrospective-2-1-zarr-pds/forcing/2010/2010010523.LDASIN_DOMAIN1.json',\n",
       " 'ciroh-nwm-zarr-retrospective-data-copy/noaa-nwm-retrospective-2-1-zarr-pds/forcing/2010/2010010600.LDASIN_DOMAIN1.json',\n",
       " 'ciroh-nwm-zarr-retrospective-data-copy/noaa-nwm-retrospective-2-1-zarr-pds/forcing/2010/2010010601.LDASIN_DOMAIN1.json',\n",
       " 'ciroh-nwm-zarr-retrospective-data-copy/noaa-nwm-retrospective-2-1-zarr-pds/forcing/2010/2010010602.LDASIN_DOMAIN1.json',\n",
       " 'ciroh-nwm-zarr-retrospective-data-copy/noaa-nwm-retrospective-2-1-zarr-pds/forcing/2010/2010010603.LDASIN_DOMAIN1.json',\n",
       " 'ciroh-nwm-zarr-retrospective-data-copy/noaa-nwm-retrospective-2-1-zarr-pds/forcing/2010/2010010604.LDASIN_DOMAIN1.json',\n",
       " 'ciroh-nwm-zarr-retrospective-data-copy/noaa-nwm-retrospective-2-1-zarr-pds/forcing/2010/2010010605.LDASIN_DOMAIN1.json',\n",
       " 'ciroh-nwm-zarr-retrospective-data-copy/noaa-nwm-retrospective-2-1-zarr-pds/forcing/2010/2010010606.LDASIN_DOMAIN1.json',\n",
       " 'ciroh-nwm-zarr-retrospective-data-copy/noaa-nwm-retrospective-2-1-zarr-pds/forcing/2010/2010010607.LDASIN_DOMAIN1.json',\n",
       " 'ciroh-nwm-zarr-retrospective-data-copy/noaa-nwm-retrospective-2-1-zarr-pds/forcing/2010/2010010608.LDASIN_DOMAIN1.json',\n",
       " 'ciroh-nwm-zarr-retrospective-data-copy/noaa-nwm-retrospective-2-1-zarr-pds/forcing/2010/2010010609.LDASIN_DOMAIN1.json',\n",
       " 'ciroh-nwm-zarr-retrospective-data-copy/noaa-nwm-retrospective-2-1-zarr-pds/forcing/2010/2010010610.LDASIN_DOMAIN1.json',\n",
       " 'ciroh-nwm-zarr-retrospective-data-copy/noaa-nwm-retrospective-2-1-zarr-pds/forcing/2010/2010010611.LDASIN_DOMAIN1.json',\n",
       " 'ciroh-nwm-zarr-retrospective-data-copy/noaa-nwm-retrospective-2-1-zarr-pds/forcing/2010/2010010612.LDASIN_DOMAIN1.json',\n",
       " 'ciroh-nwm-zarr-retrospective-data-copy/noaa-nwm-retrospective-2-1-zarr-pds/forcing/2010/2010010613.LDASIN_DOMAIN1.json',\n",
       " 'ciroh-nwm-zarr-retrospective-data-copy/noaa-nwm-retrospective-2-1-zarr-pds/forcing/2010/2010010614.LDASIN_DOMAIN1.json',\n",
       " 'ciroh-nwm-zarr-retrospective-data-copy/noaa-nwm-retrospective-2-1-zarr-pds/forcing/2010/2010010615.LDASIN_DOMAIN1.json',\n",
       " 'ciroh-nwm-zarr-retrospective-data-copy/noaa-nwm-retrospective-2-1-zarr-pds/forcing/2010/2010010616.LDASIN_DOMAIN1.json',\n",
       " 'ciroh-nwm-zarr-retrospective-data-copy/noaa-nwm-retrospective-2-1-zarr-pds/forcing/2010/2010010617.LDASIN_DOMAIN1.json',\n",
       " 'ciroh-nwm-zarr-retrospective-data-copy/noaa-nwm-retrospective-2-1-zarr-pds/forcing/2010/2010010618.LDASIN_DOMAIN1.json',\n",
       " 'ciroh-nwm-zarr-retrospective-data-copy/noaa-nwm-retrospective-2-1-zarr-pds/forcing/2010/2010010619.LDASIN_DOMAIN1.json',\n",
       " 'ciroh-nwm-zarr-retrospective-data-copy/noaa-nwm-retrospective-2-1-zarr-pds/forcing/2010/2010010620.LDASIN_DOMAIN1.json',\n",
       " 'ciroh-nwm-zarr-retrospective-data-copy/noaa-nwm-retrospective-2-1-zarr-pds/forcing/2010/2010010621.LDASIN_DOMAIN1.json',\n",
       " 'ciroh-nwm-zarr-retrospective-data-copy/noaa-nwm-retrospective-2-1-zarr-pds/forcing/2010/2010010622.LDASIN_DOMAIN1.json',\n",
       " 'ciroh-nwm-zarr-retrospective-data-copy/noaa-nwm-retrospective-2-1-zarr-pds/forcing/2010/2010010623.LDASIN_DOMAIN1.json',\n",
       " 'ciroh-nwm-zarr-retrospective-data-copy/noaa-nwm-retrospective-2-1-zarr-pds/forcing/2010/2010010700.LDASIN_DOMAIN1.json',\n",
       " 'ciroh-nwm-zarr-retrospective-data-copy/noaa-nwm-retrospective-2-1-zarr-pds/forcing/2010/2010010701.LDASIN_DOMAIN1.json',\n",
       " 'ciroh-nwm-zarr-retrospective-data-copy/noaa-nwm-retrospective-2-1-zarr-pds/forcing/2010/2010010702.LDASIN_DOMAIN1.json',\n",
       " 'ciroh-nwm-zarr-retrospective-data-copy/noaa-nwm-retrospective-2-1-zarr-pds/forcing/2010/2010010703.LDASIN_DOMAIN1.json',\n",
       " 'ciroh-nwm-zarr-retrospective-data-copy/noaa-nwm-retrospective-2-1-zarr-pds/forcing/2010/2010010704.LDASIN_DOMAIN1.json',\n",
       " 'ciroh-nwm-zarr-retrospective-data-copy/noaa-nwm-retrospective-2-1-zarr-pds/forcing/2010/2010010705.LDASIN_DOMAIN1.json',\n",
       " 'ciroh-nwm-zarr-retrospective-data-copy/noaa-nwm-retrospective-2-1-zarr-pds/forcing/2010/2010010706.LDASIN_DOMAIN1.json',\n",
       " 'ciroh-nwm-zarr-retrospective-data-copy/noaa-nwm-retrospective-2-1-zarr-pds/forcing/2010/2010010707.LDASIN_DOMAIN1.json',\n",
       " 'ciroh-nwm-zarr-retrospective-data-copy/noaa-nwm-retrospective-2-1-zarr-pds/forcing/2010/2010010708.LDASIN_DOMAIN1.json',\n",
       " 'ciroh-nwm-zarr-retrospective-data-copy/noaa-nwm-retrospective-2-1-zarr-pds/forcing/2010/2010010709.LDASIN_DOMAIN1.json',\n",
       " 'ciroh-nwm-zarr-retrospective-data-copy/noaa-nwm-retrospective-2-1-zarr-pds/forcing/2010/2010010710.LDASIN_DOMAIN1.json',\n",
       " 'ciroh-nwm-zarr-retrospective-data-copy/noaa-nwm-retrospective-2-1-zarr-pds/forcing/2010/2010010711.LDASIN_DOMAIN1.json',\n",
       " 'ciroh-nwm-zarr-retrospective-data-copy/noaa-nwm-retrospective-2-1-zarr-pds/forcing/2010/2010010712.LDASIN_DOMAIN1.json',\n",
       " 'ciroh-nwm-zarr-retrospective-data-copy/noaa-nwm-retrospective-2-1-zarr-pds/forcing/2010/2010010713.LDASIN_DOMAIN1.json',\n",
       " 'ciroh-nwm-zarr-retrospective-data-copy/noaa-nwm-retrospective-2-1-zarr-pds/forcing/2010/2010010714.LDASIN_DOMAIN1.json',\n",
       " 'ciroh-nwm-zarr-retrospective-data-copy/noaa-nwm-retrospective-2-1-zarr-pds/forcing/2010/2010010715.LDASIN_DOMAIN1.json',\n",
       " 'ciroh-nwm-zarr-retrospective-data-copy/noaa-nwm-retrospective-2-1-zarr-pds/forcing/2010/2010010716.LDASIN_DOMAIN1.json',\n",
       " 'ciroh-nwm-zarr-retrospective-data-copy/noaa-nwm-retrospective-2-1-zarr-pds/forcing/2010/2010010717.LDASIN_DOMAIN1.json',\n",
       " 'ciroh-nwm-zarr-retrospective-data-copy/noaa-nwm-retrospective-2-1-zarr-pds/forcing/2010/2010010718.LDASIN_DOMAIN1.json',\n",
       " 'ciroh-nwm-zarr-retrospective-data-copy/noaa-nwm-retrospective-2-1-zarr-pds/forcing/2010/2010010719.LDASIN_DOMAIN1.json',\n",
       " 'ciroh-nwm-zarr-retrospective-data-copy/noaa-nwm-retrospective-2-1-zarr-pds/forcing/2010/2010010720.LDASIN_DOMAIN1.json',\n",
       " 'ciroh-nwm-zarr-retrospective-data-copy/noaa-nwm-retrospective-2-1-zarr-pds/forcing/2010/2010010721.LDASIN_DOMAIN1.json',\n",
       " 'ciroh-nwm-zarr-retrospective-data-copy/noaa-nwm-retrospective-2-1-zarr-pds/forcing/2010/2010010722.LDASIN_DOMAIN1.json',\n",
       " 'ciroh-nwm-zarr-retrospective-data-copy/noaa-nwm-retrospective-2-1-zarr-pds/forcing/2010/2010010723.LDASIN_DOMAIN1.json',\n",
       " 'ciroh-nwm-zarr-retrospective-data-copy/noaa-nwm-retrospective-2-1-zarr-pds/forcing/2010/2010010800.LDASIN_DOMAIN1.json',\n",
       " 'ciroh-nwm-zarr-retrospective-data-copy/noaa-nwm-retrospective-2-1-zarr-pds/forcing/2010/2010010801.LDASIN_DOMAIN1.json',\n",
       " 'ciroh-nwm-zarr-retrospective-data-copy/noaa-nwm-retrospective-2-1-zarr-pds/forcing/2010/2010010802.LDASIN_DOMAIN1.json',\n",
       " 'ciroh-nwm-zarr-retrospective-data-copy/noaa-nwm-retrospective-2-1-zarr-pds/forcing/2010/2010010803.LDASIN_DOMAIN1.json',\n",
       " 'ciroh-nwm-zarr-retrospective-data-copy/noaa-nwm-retrospective-2-1-zarr-pds/forcing/2010/2010010804.LDASIN_DOMAIN1.json',\n",
       " 'ciroh-nwm-zarr-retrospective-data-copy/noaa-nwm-retrospective-2-1-zarr-pds/forcing/2010/2010010805.LDASIN_DOMAIN1.json',\n",
       " 'ciroh-nwm-zarr-retrospective-data-copy/noaa-nwm-retrospective-2-1-zarr-pds/forcing/2010/2010010806.LDASIN_DOMAIN1.json',\n",
       " 'ciroh-nwm-zarr-retrospective-data-copy/noaa-nwm-retrospective-2-1-zarr-pds/forcing/2010/2010010807.LDASIN_DOMAIN1.json',\n",
       " 'ciroh-nwm-zarr-retrospective-data-copy/noaa-nwm-retrospective-2-1-zarr-pds/forcing/2010/2010010808.LDASIN_DOMAIN1.json',\n",
       " 'ciroh-nwm-zarr-retrospective-data-copy/noaa-nwm-retrospective-2-1-zarr-pds/forcing/2010/2010010809.LDASIN_DOMAIN1.json',\n",
       " 'ciroh-nwm-zarr-retrospective-data-copy/noaa-nwm-retrospective-2-1-zarr-pds/forcing/2010/2010010810.LDASIN_DOMAIN1.json',\n",
       " 'ciroh-nwm-zarr-retrospective-data-copy/noaa-nwm-retrospective-2-1-zarr-pds/forcing/2010/2010010811.LDASIN_DOMAIN1.json',\n",
       " 'ciroh-nwm-zarr-retrospective-data-copy/noaa-nwm-retrospective-2-1-zarr-pds/forcing/2010/2010010812.LDASIN_DOMAIN1.json',\n",
       " 'ciroh-nwm-zarr-retrospective-data-copy/noaa-nwm-retrospective-2-1-zarr-pds/forcing/2010/2010010813.LDASIN_DOMAIN1.json',\n",
       " 'ciroh-nwm-zarr-retrospective-data-copy/noaa-nwm-retrospective-2-1-zarr-pds/forcing/2010/2010010814.LDASIN_DOMAIN1.json',\n",
       " 'ciroh-nwm-zarr-retrospective-data-copy/noaa-nwm-retrospective-2-1-zarr-pds/forcing/2010/2010010815.LDASIN_DOMAIN1.json',\n",
       " 'ciroh-nwm-zarr-retrospective-data-copy/noaa-nwm-retrospective-2-1-zarr-pds/forcing/2010/2010010816.LDASIN_DOMAIN1.json',\n",
       " 'ciroh-nwm-zarr-retrospective-data-copy/noaa-nwm-retrospective-2-1-zarr-pds/forcing/2010/2010010817.LDASIN_DOMAIN1.json',\n",
       " 'ciroh-nwm-zarr-retrospective-data-copy/noaa-nwm-retrospective-2-1-zarr-pds/forcing/2010/2010010818.LDASIN_DOMAIN1.json',\n",
       " 'ciroh-nwm-zarr-retrospective-data-copy/noaa-nwm-retrospective-2-1-zarr-pds/forcing/2010/2010010819.LDASIN_DOMAIN1.json',\n",
       " 'ciroh-nwm-zarr-retrospective-data-copy/noaa-nwm-retrospective-2-1-zarr-pds/forcing/2010/2010010820.LDASIN_DOMAIN1.json',\n",
       " 'ciroh-nwm-zarr-retrospective-data-copy/noaa-nwm-retrospective-2-1-zarr-pds/forcing/2010/2010010821.LDASIN_DOMAIN1.json',\n",
       " 'ciroh-nwm-zarr-retrospective-data-copy/noaa-nwm-retrospective-2-1-zarr-pds/forcing/2010/2010010822.LDASIN_DOMAIN1.json',\n",
       " 'ciroh-nwm-zarr-retrospective-data-copy/noaa-nwm-retrospective-2-1-zarr-pds/forcing/2010/2010010823.LDASIN_DOMAIN1.json',\n",
       " 'ciroh-nwm-zarr-retrospective-data-copy/noaa-nwm-retrospective-2-1-zarr-pds/forcing/2010/2010010900.LDASIN_DOMAIN1.json',\n",
       " 'ciroh-nwm-zarr-retrospective-data-copy/noaa-nwm-retrospective-2-1-zarr-pds/forcing/2010/2010010901.LDASIN_DOMAIN1.json',\n",
       " 'ciroh-nwm-zarr-retrospective-data-copy/noaa-nwm-retrospective-2-1-zarr-pds/forcing/2010/2010010902.LDASIN_DOMAIN1.json',\n",
       " 'ciroh-nwm-zarr-retrospective-data-copy/noaa-nwm-retrospective-2-1-zarr-pds/forcing/2010/2010010903.LDASIN_DOMAIN1.json',\n",
       " 'ciroh-nwm-zarr-retrospective-data-copy/noaa-nwm-retrospective-2-1-zarr-pds/forcing/2010/2010010904.LDASIN_DOMAIN1.json',\n",
       " 'ciroh-nwm-zarr-retrospective-data-copy/noaa-nwm-retrospective-2-1-zarr-pds/forcing/2010/2010010905.LDASIN_DOMAIN1.json',\n",
       " 'ciroh-nwm-zarr-retrospective-data-copy/noaa-nwm-retrospective-2-1-zarr-pds/forcing/2010/2010010906.LDASIN_DOMAIN1.json',\n",
       " 'ciroh-nwm-zarr-retrospective-data-copy/noaa-nwm-retrospective-2-1-zarr-pds/forcing/2010/2010010907.LDASIN_DOMAIN1.json',\n",
       " 'ciroh-nwm-zarr-retrospective-data-copy/noaa-nwm-retrospective-2-1-zarr-pds/forcing/2010/2010010908.LDASIN_DOMAIN1.json',\n",
       " 'ciroh-nwm-zarr-retrospective-data-copy/noaa-nwm-retrospective-2-1-zarr-pds/forcing/2010/2010010909.LDASIN_DOMAIN1.json',\n",
       " 'ciroh-nwm-zarr-retrospective-data-copy/noaa-nwm-retrospective-2-1-zarr-pds/forcing/2010/2010010910.LDASIN_DOMAIN1.json',\n",
       " 'ciroh-nwm-zarr-retrospective-data-copy/noaa-nwm-retrospective-2-1-zarr-pds/forcing/2010/2010010911.LDASIN_DOMAIN1.json',\n",
       " 'ciroh-nwm-zarr-retrospective-data-copy/noaa-nwm-retrospective-2-1-zarr-pds/forcing/2010/2010010912.LDASIN_DOMAIN1.json',\n",
       " 'ciroh-nwm-zarr-retrospective-data-copy/noaa-nwm-retrospective-2-1-zarr-pds/forcing/2010/2010010913.LDASIN_DOMAIN1.json',\n",
       " 'ciroh-nwm-zarr-retrospective-data-copy/noaa-nwm-retrospective-2-1-zarr-pds/forcing/2010/2010010914.LDASIN_DOMAIN1.json',\n",
       " 'ciroh-nwm-zarr-retrospective-data-copy/noaa-nwm-retrospective-2-1-zarr-pds/forcing/2010/2010010915.LDASIN_DOMAIN1.json',\n",
       " 'ciroh-nwm-zarr-retrospective-data-copy/noaa-nwm-retrospective-2-1-zarr-pds/forcing/2010/2010010916.LDASIN_DOMAIN1.json',\n",
       " 'ciroh-nwm-zarr-retrospective-data-copy/noaa-nwm-retrospective-2-1-zarr-pds/forcing/2010/2010010917.LDASIN_DOMAIN1.json',\n",
       " 'ciroh-nwm-zarr-retrospective-data-copy/noaa-nwm-retrospective-2-1-zarr-pds/forcing/2010/2010010918.LDASIN_DOMAIN1.json',\n",
       " 'ciroh-nwm-zarr-retrospective-data-copy/noaa-nwm-retrospective-2-1-zarr-pds/forcing/2010/2010010919.LDASIN_DOMAIN1.json',\n",
       " 'ciroh-nwm-zarr-retrospective-data-copy/noaa-nwm-retrospective-2-1-zarr-pds/forcing/2010/2010010920.LDASIN_DOMAIN1.json',\n",
       " 'ciroh-nwm-zarr-retrospective-data-copy/noaa-nwm-retrospective-2-1-zarr-pds/forcing/2010/2010010921.LDASIN_DOMAIN1.json',\n",
       " 'ciroh-nwm-zarr-retrospective-data-copy/noaa-nwm-retrospective-2-1-zarr-pds/forcing/2010/2010010922.LDASIN_DOMAIN1.json',\n",
       " 'ciroh-nwm-zarr-retrospective-data-copy/noaa-nwm-retrospective-2-1-zarr-pds/forcing/2010/2010010923.LDASIN_DOMAIN1.json',\n",
       " 'ciroh-nwm-zarr-retrospective-data-copy/noaa-nwm-retrospective-2-1-zarr-pds/forcing/2010/2010011000.LDASIN_DOMAIN1.json',\n",
       " 'ciroh-nwm-zarr-retrospective-data-copy/noaa-nwm-retrospective-2-1-zarr-pds/forcing/2010/2010011001.LDASIN_DOMAIN1.json',\n",
       " 'ciroh-nwm-zarr-retrospective-data-copy/noaa-nwm-retrospective-2-1-zarr-pds/forcing/2010/2010011002.LDASIN_DOMAIN1.json',\n",
       " 'ciroh-nwm-zarr-retrospective-data-copy/noaa-nwm-retrospective-2-1-zarr-pds/forcing/2010/2010011003.LDASIN_DOMAIN1.json',\n",
       " 'ciroh-nwm-zarr-retrospective-data-copy/noaa-nwm-retrospective-2-1-zarr-pds/forcing/2010/2010011004.LDASIN_DOMAIN1.json',\n",
       " 'ciroh-nwm-zarr-retrospective-data-copy/noaa-nwm-retrospective-2-1-zarr-pds/forcing/2010/2010011005.LDASIN_DOMAIN1.json',\n",
       " 'ciroh-nwm-zarr-retrospective-data-copy/noaa-nwm-retrospective-2-1-zarr-pds/forcing/2010/2010011006.LDASIN_DOMAIN1.json',\n",
       " 'ciroh-nwm-zarr-retrospective-data-copy/noaa-nwm-retrospective-2-1-zarr-pds/forcing/2010/2010011007.LDASIN_DOMAIN1.json',\n",
       " 'ciroh-nwm-zarr-retrospective-data-copy/noaa-nwm-retrospective-2-1-zarr-pds/forcing/2010/2010011008.LDASIN_DOMAIN1.json',\n",
       " 'ciroh-nwm-zarr-retrospective-data-copy/noaa-nwm-retrospective-2-1-zarr-pds/forcing/2010/2010011009.LDASIN_DOMAIN1.json',\n",
       " 'ciroh-nwm-zarr-retrospective-data-copy/noaa-nwm-retrospective-2-1-zarr-pds/forcing/2010/2010011010.LDASIN_DOMAIN1.json',\n",
       " 'ciroh-nwm-zarr-retrospective-data-copy/noaa-nwm-retrospective-2-1-zarr-pds/forcing/2010/2010011011.LDASIN_DOMAIN1.json',\n",
       " 'ciroh-nwm-zarr-retrospective-data-copy/noaa-nwm-retrospective-2-1-zarr-pds/forcing/2010/2010011012.LDASIN_DOMAIN1.json',\n",
       " 'ciroh-nwm-zarr-retrospective-data-copy/noaa-nwm-retrospective-2-1-zarr-pds/forcing/2010/2010011013.LDASIN_DOMAIN1.json',\n",
       " 'ciroh-nwm-zarr-retrospective-data-copy/noaa-nwm-retrospective-2-1-zarr-pds/forcing/2010/2010011014.LDASIN_DOMAIN1.json',\n",
       " 'ciroh-nwm-zarr-retrospective-data-copy/noaa-nwm-retrospective-2-1-zarr-pds/forcing/2010/2010011015.LDASIN_DOMAIN1.json',\n",
       " 'ciroh-nwm-zarr-retrospective-data-copy/noaa-nwm-retrospective-2-1-zarr-pds/forcing/2010/2010011016.LDASIN_DOMAIN1.json',\n",
       " 'ciroh-nwm-zarr-retrospective-data-copy/noaa-nwm-retrospective-2-1-zarr-pds/forcing/2010/2010011017.LDASIN_DOMAIN1.json',\n",
       " 'ciroh-nwm-zarr-retrospective-data-copy/noaa-nwm-retrospective-2-1-zarr-pds/forcing/2010/2010011018.LDASIN_DOMAIN1.json',\n",
       " 'ciroh-nwm-zarr-retrospective-data-copy/noaa-nwm-retrospective-2-1-zarr-pds/forcing/2010/2010011019.LDASIN_DOMAIN1.json',\n",
       " 'ciroh-nwm-zarr-retrospective-data-copy/noaa-nwm-retrospective-2-1-zarr-pds/forcing/2010/2010011020.LDASIN_DOMAIN1.json',\n",
       " 'ciroh-nwm-zarr-retrospective-data-copy/noaa-nwm-retrospective-2-1-zarr-pds/forcing/2010/2010011021.LDASIN_DOMAIN1.json',\n",
       " 'ciroh-nwm-zarr-retrospective-data-copy/noaa-nwm-retrospective-2-1-zarr-pds/forcing/2010/2010011022.LDASIN_DOMAIN1.json',\n",
       " 'ciroh-nwm-zarr-retrospective-data-copy/noaa-nwm-retrospective-2-1-zarr-pds/forcing/2010/2010011023.LDASIN_DOMAIN1.json',\n",
       " 'ciroh-nwm-zarr-retrospective-data-copy/noaa-nwm-retrospective-2-1-zarr-pds/forcing/2010/2010011100.LDASIN_DOMAIN1.json',\n",
       " 'ciroh-nwm-zarr-retrospective-data-copy/noaa-nwm-retrospective-2-1-zarr-pds/forcing/2010/2010011101.LDASIN_DOMAIN1.json',\n",
       " 'ciroh-nwm-zarr-retrospective-data-copy/noaa-nwm-retrospective-2-1-zarr-pds/forcing/2010/2010011102.LDASIN_DOMAIN1.json',\n",
       " 'ciroh-nwm-zarr-retrospective-data-copy/noaa-nwm-retrospective-2-1-zarr-pds/forcing/2010/2010011103.LDASIN_DOMAIN1.json',\n",
       " 'ciroh-nwm-zarr-retrospective-data-copy/noaa-nwm-retrospective-2-1-zarr-pds/forcing/2010/2010011104.LDASIN_DOMAIN1.json',\n",
       " 'ciroh-nwm-zarr-retrospective-data-copy/noaa-nwm-retrospective-2-1-zarr-pds/forcing/2010/2010011105.LDASIN_DOMAIN1.json',\n",
       " 'ciroh-nwm-zarr-retrospective-data-copy/noaa-nwm-retrospective-2-1-zarr-pds/forcing/2010/2010011106.LDASIN_DOMAIN1.json',\n",
       " 'ciroh-nwm-zarr-retrospective-data-copy/noaa-nwm-retrospective-2-1-zarr-pds/forcing/2010/2010011107.LDASIN_DOMAIN1.json',\n",
       " 'ciroh-nwm-zarr-retrospective-data-copy/noaa-nwm-retrospective-2-1-zarr-pds/forcing/2010/2010011108.LDASIN_DOMAIN1.json',\n",
       " 'ciroh-nwm-zarr-retrospective-data-copy/noaa-nwm-retrospective-2-1-zarr-pds/forcing/2010/2010011109.LDASIN_DOMAIN1.json',\n",
       " 'ciroh-nwm-zarr-retrospective-data-copy/noaa-nwm-retrospective-2-1-zarr-pds/forcing/2010/2010011110.LDASIN_DOMAIN1.json',\n",
       " 'ciroh-nwm-zarr-retrospective-data-copy/noaa-nwm-retrospective-2-1-zarr-pds/forcing/2010/2010011111.LDASIN_DOMAIN1.json',\n",
       " 'ciroh-nwm-zarr-retrospective-data-copy/noaa-nwm-retrospective-2-1-zarr-pds/forcing/2010/2010011112.LDASIN_DOMAIN1.json',\n",
       " 'ciroh-nwm-zarr-retrospective-data-copy/noaa-nwm-retrospective-2-1-zarr-pds/forcing/2010/2010011113.LDASIN_DOMAIN1.json',\n",
       " 'ciroh-nwm-zarr-retrospective-data-copy/noaa-nwm-retrospective-2-1-zarr-pds/forcing/2010/2010011114.LDASIN_DOMAIN1.json',\n",
       " 'ciroh-nwm-zarr-retrospective-data-copy/noaa-nwm-retrospective-2-1-zarr-pds/forcing/2010/2010011115.LDASIN_DOMAIN1.json',\n",
       " 'ciroh-nwm-zarr-retrospective-data-copy/noaa-nwm-retrospective-2-1-zarr-pds/forcing/2010/2010011116.LDASIN_DOMAIN1.json',\n",
       " 'ciroh-nwm-zarr-retrospective-data-copy/noaa-nwm-retrospective-2-1-zarr-pds/forcing/2010/2010011117.LDASIN_DOMAIN1.json',\n",
       " 'ciroh-nwm-zarr-retrospective-data-copy/noaa-nwm-retrospective-2-1-zarr-pds/forcing/2010/2010011118.LDASIN_DOMAIN1.json',\n",
       " 'ciroh-nwm-zarr-retrospective-data-copy/noaa-nwm-retrospective-2-1-zarr-pds/forcing/2010/2010011119.LDASIN_DOMAIN1.json',\n",
       " 'ciroh-nwm-zarr-retrospective-data-copy/noaa-nwm-retrospective-2-1-zarr-pds/forcing/2010/2010011120.LDASIN_DOMAIN1.json',\n",
       " 'ciroh-nwm-zarr-retrospective-data-copy/noaa-nwm-retrospective-2-1-zarr-pds/forcing/2010/2010011121.LDASIN_DOMAIN1.json',\n",
       " 'ciroh-nwm-zarr-retrospective-data-copy/noaa-nwm-retrospective-2-1-zarr-pds/forcing/2010/2010011122.LDASIN_DOMAIN1.json',\n",
       " 'ciroh-nwm-zarr-retrospective-data-copy/noaa-nwm-retrospective-2-1-zarr-pds/forcing/2010/2010011123.LDASIN_DOMAIN1.json',\n",
       " 'ciroh-nwm-zarr-retrospective-data-copy/noaa-nwm-retrospective-2-1-zarr-pds/forcing/2010/2010011200.LDASIN_DOMAIN1.json',\n",
       " 'ciroh-nwm-zarr-retrospective-data-copy/noaa-nwm-retrospective-2-1-zarr-pds/forcing/2010/2010011201.LDASIN_DOMAIN1.json',\n",
       " 'ciroh-nwm-zarr-retrospective-data-copy/noaa-nwm-retrospective-2-1-zarr-pds/forcing/2010/2010011202.LDASIN_DOMAIN1.json',\n",
       " 'ciroh-nwm-zarr-retrospective-data-copy/noaa-nwm-retrospective-2-1-zarr-pds/forcing/2010/2010011203.LDASIN_DOMAIN1.json',\n",
       " 'ciroh-nwm-zarr-retrospective-data-copy/noaa-nwm-retrospective-2-1-zarr-pds/forcing/2010/2010011204.LDASIN_DOMAIN1.json',\n",
       " 'ciroh-nwm-zarr-retrospective-data-copy/noaa-nwm-retrospective-2-1-zarr-pds/forcing/2010/2010011205.LDASIN_DOMAIN1.json',\n",
       " 'ciroh-nwm-zarr-retrospective-data-copy/noaa-nwm-retrospective-2-1-zarr-pds/forcing/2010/2010011206.LDASIN_DOMAIN1.json',\n",
       " 'ciroh-nwm-zarr-retrospective-data-copy/noaa-nwm-retrospective-2-1-zarr-pds/forcing/2010/2010011207.LDASIN_DOMAIN1.json',\n",
       " 'ciroh-nwm-zarr-retrospective-data-copy/noaa-nwm-retrospective-2-1-zarr-pds/forcing/2010/2010011208.LDASIN_DOMAIN1.json',\n",
       " 'ciroh-nwm-zarr-retrospective-data-copy/noaa-nwm-retrospective-2-1-zarr-pds/forcing/2010/2010011209.LDASIN_DOMAIN1.json',\n",
       " 'ciroh-nwm-zarr-retrospective-data-copy/noaa-nwm-retrospective-2-1-zarr-pds/forcing/2010/2010011210.LDASIN_DOMAIN1.json',\n",
       " 'ciroh-nwm-zarr-retrospective-data-copy/noaa-nwm-retrospective-2-1-zarr-pds/forcing/2010/2010011211.LDASIN_DOMAIN1.json',\n",
       " 'ciroh-nwm-zarr-retrospective-data-copy/noaa-nwm-retrospective-2-1-zarr-pds/forcing/2010/2010011212.LDASIN_DOMAIN1.json',\n",
       " 'ciroh-nwm-zarr-retrospective-data-copy/noaa-nwm-retrospective-2-1-zarr-pds/forcing/2010/2010011213.LDASIN_DOMAIN1.json',\n",
       " 'ciroh-nwm-zarr-retrospective-data-copy/noaa-nwm-retrospective-2-1-zarr-pds/forcing/2010/2010011214.LDASIN_DOMAIN1.json',\n",
       " 'ciroh-nwm-zarr-retrospective-data-copy/noaa-nwm-retrospective-2-1-zarr-pds/forcing/2010/2010011215.LDASIN_DOMAIN1.json',\n",
       " 'ciroh-nwm-zarr-retrospective-data-copy/noaa-nwm-retrospective-2-1-zarr-pds/forcing/2010/2010011216.LDASIN_DOMAIN1.json',\n",
       " 'ciroh-nwm-zarr-retrospective-data-copy/noaa-nwm-retrospective-2-1-zarr-pds/forcing/2010/2010011217.LDASIN_DOMAIN1.json',\n",
       " 'ciroh-nwm-zarr-retrospective-data-copy/noaa-nwm-retrospective-2-1-zarr-pds/forcing/2010/2010011218.LDASIN_DOMAIN1.json',\n",
       " 'ciroh-nwm-zarr-retrospective-data-copy/noaa-nwm-retrospective-2-1-zarr-pds/forcing/2010/2010011219.LDASIN_DOMAIN1.json',\n",
       " 'ciroh-nwm-zarr-retrospective-data-copy/noaa-nwm-retrospective-2-1-zarr-pds/forcing/2010/2010011220.LDASIN_DOMAIN1.json',\n",
       " 'ciroh-nwm-zarr-retrospective-data-copy/noaa-nwm-retrospective-2-1-zarr-pds/forcing/2010/2010011221.LDASIN_DOMAIN1.json',\n",
       " 'ciroh-nwm-zarr-retrospective-data-copy/noaa-nwm-retrospective-2-1-zarr-pds/forcing/2010/2010011222.LDASIN_DOMAIN1.json',\n",
       " 'ciroh-nwm-zarr-retrospective-data-copy/noaa-nwm-retrospective-2-1-zarr-pds/forcing/2010/2010011223.LDASIN_DOMAIN1.json',\n",
       " 'ciroh-nwm-zarr-retrospective-data-copy/noaa-nwm-retrospective-2-1-zarr-pds/forcing/2010/2010011300.LDASIN_DOMAIN1.json',\n",
       " 'ciroh-nwm-zarr-retrospective-data-copy/noaa-nwm-retrospective-2-1-zarr-pds/forcing/2010/2010011301.LDASIN_DOMAIN1.json',\n",
       " 'ciroh-nwm-zarr-retrospective-data-copy/noaa-nwm-retrospective-2-1-zarr-pds/forcing/2010/2010011302.LDASIN_DOMAIN1.json',\n",
       " 'ciroh-nwm-zarr-retrospective-data-copy/noaa-nwm-retrospective-2-1-zarr-pds/forcing/2010/2010011303.LDASIN_DOMAIN1.json',\n",
       " 'ciroh-nwm-zarr-retrospective-data-copy/noaa-nwm-retrospective-2-1-zarr-pds/forcing/2010/2010011304.LDASIN_DOMAIN1.json',\n",
       " 'ciroh-nwm-zarr-retrospective-data-copy/noaa-nwm-retrospective-2-1-zarr-pds/forcing/2010/2010011305.LDASIN_DOMAIN1.json',\n",
       " 'ciroh-nwm-zarr-retrospective-data-copy/noaa-nwm-retrospective-2-1-zarr-pds/forcing/2010/2010011306.LDASIN_DOMAIN1.json',\n",
       " 'ciroh-nwm-zarr-retrospective-data-copy/noaa-nwm-retrospective-2-1-zarr-pds/forcing/2010/2010011307.LDASIN_DOMAIN1.json',\n",
       " 'ciroh-nwm-zarr-retrospective-data-copy/noaa-nwm-retrospective-2-1-zarr-pds/forcing/2010/2010011308.LDASIN_DOMAIN1.json',\n",
       " 'ciroh-nwm-zarr-retrospective-data-copy/noaa-nwm-retrospective-2-1-zarr-pds/forcing/2010/2010011309.LDASIN_DOMAIN1.json',\n",
       " 'ciroh-nwm-zarr-retrospective-data-copy/noaa-nwm-retrospective-2-1-zarr-pds/forcing/2010/2010011310.LDASIN_DOMAIN1.json',\n",
       " 'ciroh-nwm-zarr-retrospective-data-copy/noaa-nwm-retrospective-2-1-zarr-pds/forcing/2010/2010011311.LDASIN_DOMAIN1.json',\n",
       " 'ciroh-nwm-zarr-retrospective-data-copy/noaa-nwm-retrospective-2-1-zarr-pds/forcing/2010/2010011312.LDASIN_DOMAIN1.json',\n",
       " 'ciroh-nwm-zarr-retrospective-data-copy/noaa-nwm-retrospective-2-1-zarr-pds/forcing/2010/2010011313.LDASIN_DOMAIN1.json',\n",
       " 'ciroh-nwm-zarr-retrospective-data-copy/noaa-nwm-retrospective-2-1-zarr-pds/forcing/2010/2010011314.LDASIN_DOMAIN1.json',\n",
       " 'ciroh-nwm-zarr-retrospective-data-copy/noaa-nwm-retrospective-2-1-zarr-pds/forcing/2010/2010011315.LDASIN_DOMAIN1.json',\n",
       " 'ciroh-nwm-zarr-retrospective-data-copy/noaa-nwm-retrospective-2-1-zarr-pds/forcing/2010/2010011316.LDASIN_DOMAIN1.json',\n",
       " 'ciroh-nwm-zarr-retrospective-data-copy/noaa-nwm-retrospective-2-1-zarr-pds/forcing/2010/2010011317.LDASIN_DOMAIN1.json',\n",
       " 'ciroh-nwm-zarr-retrospective-data-copy/noaa-nwm-retrospective-2-1-zarr-pds/forcing/2010/2010011318.LDASIN_DOMAIN1.json',\n",
       " 'ciroh-nwm-zarr-retrospective-data-copy/noaa-nwm-retrospective-2-1-zarr-pds/forcing/2010/2010011319.LDASIN_DOMAIN1.json',\n",
       " 'ciroh-nwm-zarr-retrospective-data-copy/noaa-nwm-retrospective-2-1-zarr-pds/forcing/2010/2010011320.LDASIN_DOMAIN1.json',\n",
       " 'ciroh-nwm-zarr-retrospective-data-copy/noaa-nwm-retrospective-2-1-zarr-pds/forcing/2010/2010011321.LDASIN_DOMAIN1.json',\n",
       " 'ciroh-nwm-zarr-retrospective-data-copy/noaa-nwm-retrospective-2-1-zarr-pds/forcing/2010/2010011322.LDASIN_DOMAIN1.json',\n",
       " 'ciroh-nwm-zarr-retrospective-data-copy/noaa-nwm-retrospective-2-1-zarr-pds/forcing/2010/2010011323.LDASIN_DOMAIN1.json',\n",
       " 'ciroh-nwm-zarr-retrospective-data-copy/noaa-nwm-retrospective-2-1-zarr-pds/forcing/2010/2010011400.LDASIN_DOMAIN1.json',\n",
       " 'ciroh-nwm-zarr-retrospective-data-copy/noaa-nwm-retrospective-2-1-zarr-pds/forcing/2010/2010011401.LDASIN_DOMAIN1.json',\n",
       " 'ciroh-nwm-zarr-retrospective-data-copy/noaa-nwm-retrospective-2-1-zarr-pds/forcing/2010/2010011402.LDASIN_DOMAIN1.json',\n",
       " 'ciroh-nwm-zarr-retrospective-data-copy/noaa-nwm-retrospective-2-1-zarr-pds/forcing/2010/2010011403.LDASIN_DOMAIN1.json',\n",
       " 'ciroh-nwm-zarr-retrospective-data-copy/noaa-nwm-retrospective-2-1-zarr-pds/forcing/2010/2010011404.LDASIN_DOMAIN1.json',\n",
       " 'ciroh-nwm-zarr-retrospective-data-copy/noaa-nwm-retrospective-2-1-zarr-pds/forcing/2010/2010011405.LDASIN_DOMAIN1.json',\n",
       " 'ciroh-nwm-zarr-retrospective-data-copy/noaa-nwm-retrospective-2-1-zarr-pds/forcing/2010/2010011406.LDASIN_DOMAIN1.json',\n",
       " 'ciroh-nwm-zarr-retrospective-data-copy/noaa-nwm-retrospective-2-1-zarr-pds/forcing/2010/2010011407.LDASIN_DOMAIN1.json',\n",
       " 'ciroh-nwm-zarr-retrospective-data-copy/noaa-nwm-retrospective-2-1-zarr-pds/forcing/2010/2010011408.LDASIN_DOMAIN1.json',\n",
       " 'ciroh-nwm-zarr-retrospective-data-copy/noaa-nwm-retrospective-2-1-zarr-pds/forcing/2010/2010011409.LDASIN_DOMAIN1.json',\n",
       " 'ciroh-nwm-zarr-retrospective-data-copy/noaa-nwm-retrospective-2-1-zarr-pds/forcing/2010/2010011410.LDASIN_DOMAIN1.json',\n",
       " 'ciroh-nwm-zarr-retrospective-data-copy/noaa-nwm-retrospective-2-1-zarr-pds/forcing/2010/2010011411.LDASIN_DOMAIN1.json',\n",
       " 'ciroh-nwm-zarr-retrospective-data-copy/noaa-nwm-retrospective-2-1-zarr-pds/forcing/2010/2010011412.LDASIN_DOMAIN1.json',\n",
       " 'ciroh-nwm-zarr-retrospective-data-copy/noaa-nwm-retrospective-2-1-zarr-pds/forcing/2010/2010011413.LDASIN_DOMAIN1.json',\n",
       " 'ciroh-nwm-zarr-retrospective-data-copy/noaa-nwm-retrospective-2-1-zarr-pds/forcing/2010/2010011414.LDASIN_DOMAIN1.json',\n",
       " 'ciroh-nwm-zarr-retrospective-data-copy/noaa-nwm-retrospective-2-1-zarr-pds/forcing/2010/2010011415.LDASIN_DOMAIN1.json',\n",
       " 'ciroh-nwm-zarr-retrospective-data-copy/noaa-nwm-retrospective-2-1-zarr-pds/forcing/2010/2010011416.LDASIN_DOMAIN1.json',\n",
       " 'ciroh-nwm-zarr-retrospective-data-copy/noaa-nwm-retrospective-2-1-zarr-pds/forcing/2010/2010011417.LDASIN_DOMAIN1.json',\n",
       " 'ciroh-nwm-zarr-retrospective-data-copy/noaa-nwm-retrospective-2-1-zarr-pds/forcing/2010/2010011418.LDASIN_DOMAIN1.json',\n",
       " 'ciroh-nwm-zarr-retrospective-data-copy/noaa-nwm-retrospective-2-1-zarr-pds/forcing/2010/2010011419.LDASIN_DOMAIN1.json',\n",
       " 'ciroh-nwm-zarr-retrospective-data-copy/noaa-nwm-retrospective-2-1-zarr-pds/forcing/2010/2010011420.LDASIN_DOMAIN1.json',\n",
       " 'ciroh-nwm-zarr-retrospective-data-copy/noaa-nwm-retrospective-2-1-zarr-pds/forcing/2010/2010011421.LDASIN_DOMAIN1.json',\n",
       " 'ciroh-nwm-zarr-retrospective-data-copy/noaa-nwm-retrospective-2-1-zarr-pds/forcing/2010/2010011422.LDASIN_DOMAIN1.json',\n",
       " 'ciroh-nwm-zarr-retrospective-data-copy/noaa-nwm-retrospective-2-1-zarr-pds/forcing/2010/2010011423.LDASIN_DOMAIN1.json',\n",
       " 'ciroh-nwm-zarr-retrospective-data-copy/noaa-nwm-retrospective-2-1-zarr-pds/forcing/2010/2010011500.LDASIN_DOMAIN1.json',\n",
       " 'ciroh-nwm-zarr-retrospective-data-copy/noaa-nwm-retrospective-2-1-zarr-pds/forcing/2010/2010011501.LDASIN_DOMAIN1.json',\n",
       " 'ciroh-nwm-zarr-retrospective-data-copy/noaa-nwm-retrospective-2-1-zarr-pds/forcing/2010/2010011502.LDASIN_DOMAIN1.json',\n",
       " 'ciroh-nwm-zarr-retrospective-data-copy/noaa-nwm-retrospective-2-1-zarr-pds/forcing/2010/2010011503.LDASIN_DOMAIN1.json',\n",
       " 'ciroh-nwm-zarr-retrospective-data-copy/noaa-nwm-retrospective-2-1-zarr-pds/forcing/2010/2010011504.LDASIN_DOMAIN1.json',\n",
       " 'ciroh-nwm-zarr-retrospective-data-copy/noaa-nwm-retrospective-2-1-zarr-pds/forcing/2010/2010011505.LDASIN_DOMAIN1.json',\n",
       " 'ciroh-nwm-zarr-retrospective-data-copy/noaa-nwm-retrospective-2-1-zarr-pds/forcing/2010/2010011506.LDASIN_DOMAIN1.json',\n",
       " 'ciroh-nwm-zarr-retrospective-data-copy/noaa-nwm-retrospective-2-1-zarr-pds/forcing/2010/2010011507.LDASIN_DOMAIN1.json',\n",
       " 'ciroh-nwm-zarr-retrospective-data-copy/noaa-nwm-retrospective-2-1-zarr-pds/forcing/2010/2010011508.LDASIN_DOMAIN1.json',\n",
       " 'ciroh-nwm-zarr-retrospective-data-copy/noaa-nwm-retrospective-2-1-zarr-pds/forcing/2010/2010011509.LDASIN_DOMAIN1.json',\n",
       " 'ciroh-nwm-zarr-retrospective-data-copy/noaa-nwm-retrospective-2-1-zarr-pds/forcing/2010/2010011510.LDASIN_DOMAIN1.json',\n",
       " 'ciroh-nwm-zarr-retrospective-data-copy/noaa-nwm-retrospective-2-1-zarr-pds/forcing/2010/2010011511.LDASIN_DOMAIN1.json',\n",
       " 'ciroh-nwm-zarr-retrospective-data-copy/noaa-nwm-retrospective-2-1-zarr-pds/forcing/2010/2010011512.LDASIN_DOMAIN1.json',\n",
       " 'ciroh-nwm-zarr-retrospective-data-copy/noaa-nwm-retrospective-2-1-zarr-pds/forcing/2010/2010011513.LDASIN_DOMAIN1.json',\n",
       " 'ciroh-nwm-zarr-retrospective-data-copy/noaa-nwm-retrospective-2-1-zarr-pds/forcing/2010/2010011514.LDASIN_DOMAIN1.json',\n",
       " 'ciroh-nwm-zarr-retrospective-data-copy/noaa-nwm-retrospective-2-1-zarr-pds/forcing/2010/2010011515.LDASIN_DOMAIN1.json',\n",
       " 'ciroh-nwm-zarr-retrospective-data-copy/noaa-nwm-retrospective-2-1-zarr-pds/forcing/2010/2010011516.LDASIN_DOMAIN1.json',\n",
       " 'ciroh-nwm-zarr-retrospective-data-copy/noaa-nwm-retrospective-2-1-zarr-pds/forcing/2010/2010011517.LDASIN_DOMAIN1.json',\n",
       " 'ciroh-nwm-zarr-retrospective-data-copy/noaa-nwm-retrospective-2-1-zarr-pds/forcing/2010/2010011518.LDASIN_DOMAIN1.json',\n",
       " 'ciroh-nwm-zarr-retrospective-data-copy/noaa-nwm-retrospective-2-1-zarr-pds/forcing/2010/2010011519.LDASIN_DOMAIN1.json',\n",
       " 'ciroh-nwm-zarr-retrospective-data-copy/noaa-nwm-retrospective-2-1-zarr-pds/forcing/2010/2010011520.LDASIN_DOMAIN1.json',\n",
       " 'ciroh-nwm-zarr-retrospective-data-copy/noaa-nwm-retrospective-2-1-zarr-pds/forcing/2010/2010011521.LDASIN_DOMAIN1.json',\n",
       " 'ciroh-nwm-zarr-retrospective-data-copy/noaa-nwm-retrospective-2-1-zarr-pds/forcing/2010/2010011522.LDASIN_DOMAIN1.json',\n",
       " 'ciroh-nwm-zarr-retrospective-data-copy/noaa-nwm-retrospective-2-1-zarr-pds/forcing/2010/2010011523.LDASIN_DOMAIN1.json',\n",
       " 'ciroh-nwm-zarr-retrospective-data-copy/noaa-nwm-retrospective-2-1-zarr-pds/forcing/2010/2010011600.LDASIN_DOMAIN1.json',\n",
       " 'ciroh-nwm-zarr-retrospective-data-copy/noaa-nwm-retrospective-2-1-zarr-pds/forcing/2010/2010011601.LDASIN_DOMAIN1.json',\n",
       " 'ciroh-nwm-zarr-retrospective-data-copy/noaa-nwm-retrospective-2-1-zarr-pds/forcing/2010/2010011602.LDASIN_DOMAIN1.json',\n",
       " 'ciroh-nwm-zarr-retrospective-data-copy/noaa-nwm-retrospective-2-1-zarr-pds/forcing/2010/2010011603.LDASIN_DOMAIN1.json',\n",
       " 'ciroh-nwm-zarr-retrospective-data-copy/noaa-nwm-retrospective-2-1-zarr-pds/forcing/2010/2010011604.LDASIN_DOMAIN1.json',\n",
       " 'ciroh-nwm-zarr-retrospective-data-copy/noaa-nwm-retrospective-2-1-zarr-pds/forcing/2010/2010011605.LDASIN_DOMAIN1.json',\n",
       " 'ciroh-nwm-zarr-retrospective-data-copy/noaa-nwm-retrospective-2-1-zarr-pds/forcing/2010/2010011606.LDASIN_DOMAIN1.json',\n",
       " 'ciroh-nwm-zarr-retrospective-data-copy/noaa-nwm-retrospective-2-1-zarr-pds/forcing/2010/2010011607.LDASIN_DOMAIN1.json',\n",
       " 'ciroh-nwm-zarr-retrospective-data-copy/noaa-nwm-retrospective-2-1-zarr-pds/forcing/2010/2010011608.LDASIN_DOMAIN1.json',\n",
       " 'ciroh-nwm-zarr-retrospective-data-copy/noaa-nwm-retrospective-2-1-zarr-pds/forcing/2010/2010011609.LDASIN_DOMAIN1.json',\n",
       " 'ciroh-nwm-zarr-retrospective-data-copy/noaa-nwm-retrospective-2-1-zarr-pds/forcing/2010/2010011610.LDASIN_DOMAIN1.json',\n",
       " 'ciroh-nwm-zarr-retrospective-data-copy/noaa-nwm-retrospective-2-1-zarr-pds/forcing/2010/2010011611.LDASIN_DOMAIN1.json',\n",
       " 'ciroh-nwm-zarr-retrospective-data-copy/noaa-nwm-retrospective-2-1-zarr-pds/forcing/2010/2010011612.LDASIN_DOMAIN1.json',\n",
       " 'ciroh-nwm-zarr-retrospective-data-copy/noaa-nwm-retrospective-2-1-zarr-pds/forcing/2010/2010011613.LDASIN_DOMAIN1.json',\n",
       " 'ciroh-nwm-zarr-retrospective-data-copy/noaa-nwm-retrospective-2-1-zarr-pds/forcing/2010/2010011614.LDASIN_DOMAIN1.json',\n",
       " 'ciroh-nwm-zarr-retrospective-data-copy/noaa-nwm-retrospective-2-1-zarr-pds/forcing/2010/2010011615.LDASIN_DOMAIN1.json',\n",
       " 'ciroh-nwm-zarr-retrospective-data-copy/noaa-nwm-retrospective-2-1-zarr-pds/forcing/2010/2010011616.LDASIN_DOMAIN1.json',\n",
       " 'ciroh-nwm-zarr-retrospective-data-copy/noaa-nwm-retrospective-2-1-zarr-pds/forcing/2010/2010011617.LDASIN_DOMAIN1.json',\n",
       " 'ciroh-nwm-zarr-retrospective-data-copy/noaa-nwm-retrospective-2-1-zarr-pds/forcing/2010/2010011618.LDASIN_DOMAIN1.json',\n",
       " 'ciroh-nwm-zarr-retrospective-data-copy/noaa-nwm-retrospective-2-1-zarr-pds/forcing/2010/2010011619.LDASIN_DOMAIN1.json',\n",
       " 'ciroh-nwm-zarr-retrospective-data-copy/noaa-nwm-retrospective-2-1-zarr-pds/forcing/2010/2010011620.LDASIN_DOMAIN1.json',\n",
       " 'ciroh-nwm-zarr-retrospective-data-copy/noaa-nwm-retrospective-2-1-zarr-pds/forcing/2010/2010011621.LDASIN_DOMAIN1.json',\n",
       " 'ciroh-nwm-zarr-retrospective-data-copy/noaa-nwm-retrospective-2-1-zarr-pds/forcing/2010/2010011622.LDASIN_DOMAIN1.json',\n",
       " 'ciroh-nwm-zarr-retrospective-data-copy/noaa-nwm-retrospective-2-1-zarr-pds/forcing/2010/2010011623.LDASIN_DOMAIN1.json',\n",
       " 'ciroh-nwm-zarr-retrospective-data-copy/noaa-nwm-retrospective-2-1-zarr-pds/forcing/2010/2010011700.LDASIN_DOMAIN1.json',\n",
       " 'ciroh-nwm-zarr-retrospective-data-copy/noaa-nwm-retrospective-2-1-zarr-pds/forcing/2010/2010011701.LDASIN_DOMAIN1.json',\n",
       " 'ciroh-nwm-zarr-retrospective-data-copy/noaa-nwm-retrospective-2-1-zarr-pds/forcing/2010/2010011702.LDASIN_DOMAIN1.json',\n",
       " 'ciroh-nwm-zarr-retrospective-data-copy/noaa-nwm-retrospective-2-1-zarr-pds/forcing/2010/2010011703.LDASIN_DOMAIN1.json',\n",
       " 'ciroh-nwm-zarr-retrospective-data-copy/noaa-nwm-retrospective-2-1-zarr-pds/forcing/2010/2010011704.LDASIN_DOMAIN1.json',\n",
       " 'ciroh-nwm-zarr-retrospective-data-copy/noaa-nwm-retrospective-2-1-zarr-pds/forcing/2010/2010011705.LDASIN_DOMAIN1.json',\n",
       " 'ciroh-nwm-zarr-retrospective-data-copy/noaa-nwm-retrospective-2-1-zarr-pds/forcing/2010/2010011706.LDASIN_DOMAIN1.json',\n",
       " 'ciroh-nwm-zarr-retrospective-data-copy/noaa-nwm-retrospective-2-1-zarr-pds/forcing/2010/2010011707.LDASIN_DOMAIN1.json',\n",
       " 'ciroh-nwm-zarr-retrospective-data-copy/noaa-nwm-retrospective-2-1-zarr-pds/forcing/2010/2010011708.LDASIN_DOMAIN1.json',\n",
       " 'ciroh-nwm-zarr-retrospective-data-copy/noaa-nwm-retrospective-2-1-zarr-pds/forcing/2010/2010011709.LDASIN_DOMAIN1.json',\n",
       " 'ciroh-nwm-zarr-retrospective-data-copy/noaa-nwm-retrospective-2-1-zarr-pds/forcing/2010/2010011710.LDASIN_DOMAIN1.json',\n",
       " 'ciroh-nwm-zarr-retrospective-data-copy/noaa-nwm-retrospective-2-1-zarr-pds/forcing/2010/2010011711.LDASIN_DOMAIN1.json',\n",
       " 'ciroh-nwm-zarr-retrospective-data-copy/noaa-nwm-retrospective-2-1-zarr-pds/forcing/2010/2010011712.LDASIN_DOMAIN1.json',\n",
       " 'ciroh-nwm-zarr-retrospective-data-copy/noaa-nwm-retrospective-2-1-zarr-pds/forcing/2010/2010011713.LDASIN_DOMAIN1.json',\n",
       " 'ciroh-nwm-zarr-retrospective-data-copy/noaa-nwm-retrospective-2-1-zarr-pds/forcing/2010/2010011714.LDASIN_DOMAIN1.json',\n",
       " 'ciroh-nwm-zarr-retrospective-data-copy/noaa-nwm-retrospective-2-1-zarr-pds/forcing/2010/2010011715.LDASIN_DOMAIN1.json',\n",
       " 'ciroh-nwm-zarr-retrospective-data-copy/noaa-nwm-retrospective-2-1-zarr-pds/forcing/2010/2010011716.LDASIN_DOMAIN1.json',\n",
       " 'ciroh-nwm-zarr-retrospective-data-copy/noaa-nwm-retrospective-2-1-zarr-pds/forcing/2010/2010011717.LDASIN_DOMAIN1.json',\n",
       " 'ciroh-nwm-zarr-retrospective-data-copy/noaa-nwm-retrospective-2-1-zarr-pds/forcing/2010/2010011718.LDASIN_DOMAIN1.json',\n",
       " 'ciroh-nwm-zarr-retrospective-data-copy/noaa-nwm-retrospective-2-1-zarr-pds/forcing/2010/2010011719.LDASIN_DOMAIN1.json',\n",
       " 'ciroh-nwm-zarr-retrospective-data-copy/noaa-nwm-retrospective-2-1-zarr-pds/forcing/2010/2010011720.LDASIN_DOMAIN1.json',\n",
       " 'ciroh-nwm-zarr-retrospective-data-copy/noaa-nwm-retrospective-2-1-zarr-pds/forcing/2010/2010011721.LDASIN_DOMAIN1.json',\n",
       " 'ciroh-nwm-zarr-retrospective-data-copy/noaa-nwm-retrospective-2-1-zarr-pds/forcing/2010/2010011722.LDASIN_DOMAIN1.json',\n",
       " 'ciroh-nwm-zarr-retrospective-data-copy/noaa-nwm-retrospective-2-1-zarr-pds/forcing/2010/2010011723.LDASIN_DOMAIN1.json',\n",
       " 'ciroh-nwm-zarr-retrospective-data-copy/noaa-nwm-retrospective-2-1-zarr-pds/forcing/2010/2010011800.LDASIN_DOMAIN1.json',\n",
       " 'ciroh-nwm-zarr-retrospective-data-copy/noaa-nwm-retrospective-2-1-zarr-pds/forcing/2010/2010011801.LDASIN_DOMAIN1.json',\n",
       " 'ciroh-nwm-zarr-retrospective-data-copy/noaa-nwm-retrospective-2-1-zarr-pds/forcing/2010/2010011802.LDASIN_DOMAIN1.json',\n",
       " 'ciroh-nwm-zarr-retrospective-data-copy/noaa-nwm-retrospective-2-1-zarr-pds/forcing/2010/2010011803.LDASIN_DOMAIN1.json',\n",
       " 'ciroh-nwm-zarr-retrospective-data-copy/noaa-nwm-retrospective-2-1-zarr-pds/forcing/2010/2010011804.LDASIN_DOMAIN1.json',\n",
       " 'ciroh-nwm-zarr-retrospective-data-copy/noaa-nwm-retrospective-2-1-zarr-pds/forcing/2010/2010011805.LDASIN_DOMAIN1.json',\n",
       " 'ciroh-nwm-zarr-retrospective-data-copy/noaa-nwm-retrospective-2-1-zarr-pds/forcing/2010/2010011806.LDASIN_DOMAIN1.json',\n",
       " 'ciroh-nwm-zarr-retrospective-data-copy/noaa-nwm-retrospective-2-1-zarr-pds/forcing/2010/2010011807.LDASIN_DOMAIN1.json',\n",
       " 'ciroh-nwm-zarr-retrospective-data-copy/noaa-nwm-retrospective-2-1-zarr-pds/forcing/2010/2010011808.LDASIN_DOMAIN1.json',\n",
       " 'ciroh-nwm-zarr-retrospective-data-copy/noaa-nwm-retrospective-2-1-zarr-pds/forcing/2010/2010011809.LDASIN_DOMAIN1.json',\n",
       " 'ciroh-nwm-zarr-retrospective-data-copy/noaa-nwm-retrospective-2-1-zarr-pds/forcing/2010/2010011810.LDASIN_DOMAIN1.json',\n",
       " 'ciroh-nwm-zarr-retrospective-data-copy/noaa-nwm-retrospective-2-1-zarr-pds/forcing/2010/2010011811.LDASIN_DOMAIN1.json',\n",
       " 'ciroh-nwm-zarr-retrospective-data-copy/noaa-nwm-retrospective-2-1-zarr-pds/forcing/2010/2010011812.LDASIN_DOMAIN1.json',\n",
       " 'ciroh-nwm-zarr-retrospective-data-copy/noaa-nwm-retrospective-2-1-zarr-pds/forcing/2010/2010011813.LDASIN_DOMAIN1.json',\n",
       " 'ciroh-nwm-zarr-retrospective-data-copy/noaa-nwm-retrospective-2-1-zarr-pds/forcing/2010/2010011814.LDASIN_DOMAIN1.json',\n",
       " 'ciroh-nwm-zarr-retrospective-data-copy/noaa-nwm-retrospective-2-1-zarr-pds/forcing/2010/2010011815.LDASIN_DOMAIN1.json',\n",
       " 'ciroh-nwm-zarr-retrospective-data-copy/noaa-nwm-retrospective-2-1-zarr-pds/forcing/2010/2010011816.LDASIN_DOMAIN1.json',\n",
       " 'ciroh-nwm-zarr-retrospective-data-copy/noaa-nwm-retrospective-2-1-zarr-pds/forcing/2010/2010011817.LDASIN_DOMAIN1.json',\n",
       " 'ciroh-nwm-zarr-retrospective-data-copy/noaa-nwm-retrospective-2-1-zarr-pds/forcing/2010/2010011818.LDASIN_DOMAIN1.json',\n",
       " 'ciroh-nwm-zarr-retrospective-data-copy/noaa-nwm-retrospective-2-1-zarr-pds/forcing/2010/2010011819.LDASIN_DOMAIN1.json',\n",
       " 'ciroh-nwm-zarr-retrospective-data-copy/noaa-nwm-retrospective-2-1-zarr-pds/forcing/2010/2010011820.LDASIN_DOMAIN1.json',\n",
       " 'ciroh-nwm-zarr-retrospective-data-copy/noaa-nwm-retrospective-2-1-zarr-pds/forcing/2010/2010011821.LDASIN_DOMAIN1.json',\n",
       " 'ciroh-nwm-zarr-retrospective-data-copy/noaa-nwm-retrospective-2-1-zarr-pds/forcing/2010/2010011822.LDASIN_DOMAIN1.json',\n",
       " 'ciroh-nwm-zarr-retrospective-data-copy/noaa-nwm-retrospective-2-1-zarr-pds/forcing/2010/2010011823.LDASIN_DOMAIN1.json',\n",
       " 'ciroh-nwm-zarr-retrospective-data-copy/noaa-nwm-retrospective-2-1-zarr-pds/forcing/2010/2010011900.LDASIN_DOMAIN1.json',\n",
       " 'ciroh-nwm-zarr-retrospective-data-copy/noaa-nwm-retrospective-2-1-zarr-pds/forcing/2010/2010011901.LDASIN_DOMAIN1.json',\n",
       " 'ciroh-nwm-zarr-retrospective-data-copy/noaa-nwm-retrospective-2-1-zarr-pds/forcing/2010/2010011902.LDASIN_DOMAIN1.json',\n",
       " 'ciroh-nwm-zarr-retrospective-data-copy/noaa-nwm-retrospective-2-1-zarr-pds/forcing/2010/2010011903.LDASIN_DOMAIN1.json',\n",
       " 'ciroh-nwm-zarr-retrospective-data-copy/noaa-nwm-retrospective-2-1-zarr-pds/forcing/2010/2010011904.LDASIN_DOMAIN1.json',\n",
       " 'ciroh-nwm-zarr-retrospective-data-copy/noaa-nwm-retrospective-2-1-zarr-pds/forcing/2010/2010011905.LDASIN_DOMAIN1.json',\n",
       " 'ciroh-nwm-zarr-retrospective-data-copy/noaa-nwm-retrospective-2-1-zarr-pds/forcing/2010/2010011906.LDASIN_DOMAIN1.json',\n",
       " 'ciroh-nwm-zarr-retrospective-data-copy/noaa-nwm-retrospective-2-1-zarr-pds/forcing/2010/2010011907.LDASIN_DOMAIN1.json',\n",
       " 'ciroh-nwm-zarr-retrospective-data-copy/noaa-nwm-retrospective-2-1-zarr-pds/forcing/2010/2010011908.LDASIN_DOMAIN1.json',\n",
       " 'ciroh-nwm-zarr-retrospective-data-copy/noaa-nwm-retrospective-2-1-zarr-pds/forcing/2010/2010011909.LDASIN_DOMAIN1.json',\n",
       " 'ciroh-nwm-zarr-retrospective-data-copy/noaa-nwm-retrospective-2-1-zarr-pds/forcing/2010/2010011910.LDASIN_DOMAIN1.json',\n",
       " 'ciroh-nwm-zarr-retrospective-data-copy/noaa-nwm-retrospective-2-1-zarr-pds/forcing/2010/2010011911.LDASIN_DOMAIN1.json',\n",
       " 'ciroh-nwm-zarr-retrospective-data-copy/noaa-nwm-retrospective-2-1-zarr-pds/forcing/2010/2010011912.LDASIN_DOMAIN1.json',\n",
       " 'ciroh-nwm-zarr-retrospective-data-copy/noaa-nwm-retrospective-2-1-zarr-pds/forcing/2010/2010011913.LDASIN_DOMAIN1.json',\n",
       " 'ciroh-nwm-zarr-retrospective-data-copy/noaa-nwm-retrospective-2-1-zarr-pds/forcing/2010/2010011914.LDASIN_DOMAIN1.json',\n",
       " 'ciroh-nwm-zarr-retrospective-data-copy/noaa-nwm-retrospective-2-1-zarr-pds/forcing/2010/2010011915.LDASIN_DOMAIN1.json',\n",
       " 'ciroh-nwm-zarr-retrospective-data-copy/noaa-nwm-retrospective-2-1-zarr-pds/forcing/2010/2010011916.LDASIN_DOMAIN1.json',\n",
       " 'ciroh-nwm-zarr-retrospective-data-copy/noaa-nwm-retrospective-2-1-zarr-pds/forcing/2010/2010011917.LDASIN_DOMAIN1.json',\n",
       " 'ciroh-nwm-zarr-retrospective-data-copy/noaa-nwm-retrospective-2-1-zarr-pds/forcing/2010/2010011918.LDASIN_DOMAIN1.json',\n",
       " 'ciroh-nwm-zarr-retrospective-data-copy/noaa-nwm-retrospective-2-1-zarr-pds/forcing/2010/2010011919.LDASIN_DOMAIN1.json',\n",
       " 'ciroh-nwm-zarr-retrospective-data-copy/noaa-nwm-retrospective-2-1-zarr-pds/forcing/2010/2010011920.LDASIN_DOMAIN1.json',\n",
       " 'ciroh-nwm-zarr-retrospective-data-copy/noaa-nwm-retrospective-2-1-zarr-pds/forcing/2010/2010011921.LDASIN_DOMAIN1.json',\n",
       " 'ciroh-nwm-zarr-retrospective-data-copy/noaa-nwm-retrospective-2-1-zarr-pds/forcing/2010/2010011922.LDASIN_DOMAIN1.json',\n",
       " 'ciroh-nwm-zarr-retrospective-data-copy/noaa-nwm-retrospective-2-1-zarr-pds/forcing/2010/2010011923.LDASIN_DOMAIN1.json',\n",
       " 'ciroh-nwm-zarr-retrospective-data-copy/noaa-nwm-retrospective-2-1-zarr-pds/forcing/2010/2010012000.LDASIN_DOMAIN1.json',\n",
       " 'ciroh-nwm-zarr-retrospective-data-copy/noaa-nwm-retrospective-2-1-zarr-pds/forcing/2010/2010012001.LDASIN_DOMAIN1.json',\n",
       " 'ciroh-nwm-zarr-retrospective-data-copy/noaa-nwm-retrospective-2-1-zarr-pds/forcing/2010/2010012002.LDASIN_DOMAIN1.json',\n",
       " 'ciroh-nwm-zarr-retrospective-data-copy/noaa-nwm-retrospective-2-1-zarr-pds/forcing/2010/2010012003.LDASIN_DOMAIN1.json',\n",
       " 'ciroh-nwm-zarr-retrospective-data-copy/noaa-nwm-retrospective-2-1-zarr-pds/forcing/2010/2010012004.LDASIN_DOMAIN1.json',\n",
       " 'ciroh-nwm-zarr-retrospective-data-copy/noaa-nwm-retrospective-2-1-zarr-pds/forcing/2010/2010012005.LDASIN_DOMAIN1.json',\n",
       " 'ciroh-nwm-zarr-retrospective-data-copy/noaa-nwm-retrospective-2-1-zarr-pds/forcing/2010/2010012006.LDASIN_DOMAIN1.json',\n",
       " 'ciroh-nwm-zarr-retrospective-data-copy/noaa-nwm-retrospective-2-1-zarr-pds/forcing/2010/2010012007.LDASIN_DOMAIN1.json',\n",
       " 'ciroh-nwm-zarr-retrospective-data-copy/noaa-nwm-retrospective-2-1-zarr-pds/forcing/2010/2010012008.LDASIN_DOMAIN1.json',\n",
       " 'ciroh-nwm-zarr-retrospective-data-copy/noaa-nwm-retrospective-2-1-zarr-pds/forcing/2010/2010012009.LDASIN_DOMAIN1.json',\n",
       " 'ciroh-nwm-zarr-retrospective-data-copy/noaa-nwm-retrospective-2-1-zarr-pds/forcing/2010/2010012010.LDASIN_DOMAIN1.json',\n",
       " 'ciroh-nwm-zarr-retrospective-data-copy/noaa-nwm-retrospective-2-1-zarr-pds/forcing/2010/2010012011.LDASIN_DOMAIN1.json',\n",
       " 'ciroh-nwm-zarr-retrospective-data-copy/noaa-nwm-retrospective-2-1-zarr-pds/forcing/2010/2010012012.LDASIN_DOMAIN1.json',\n",
       " 'ciroh-nwm-zarr-retrospective-data-copy/noaa-nwm-retrospective-2-1-zarr-pds/forcing/2010/2010012013.LDASIN_DOMAIN1.json',\n",
       " 'ciroh-nwm-zarr-retrospective-data-copy/noaa-nwm-retrospective-2-1-zarr-pds/forcing/2010/2010012014.LDASIN_DOMAIN1.json',\n",
       " 'ciroh-nwm-zarr-retrospective-data-copy/noaa-nwm-retrospective-2-1-zarr-pds/forcing/2010/2010012015.LDASIN_DOMAIN1.json',\n",
       " 'ciroh-nwm-zarr-retrospective-data-copy/noaa-nwm-retrospective-2-1-zarr-pds/forcing/2010/2010012016.LDASIN_DOMAIN1.json',\n",
       " 'ciroh-nwm-zarr-retrospective-data-copy/noaa-nwm-retrospective-2-1-zarr-pds/forcing/2010/2010012017.LDASIN_DOMAIN1.json',\n",
       " 'ciroh-nwm-zarr-retrospective-data-copy/noaa-nwm-retrospective-2-1-zarr-pds/forcing/2010/2010012018.LDASIN_DOMAIN1.json',\n",
       " 'ciroh-nwm-zarr-retrospective-data-copy/noaa-nwm-retrospective-2-1-zarr-pds/forcing/2010/2010012019.LDASIN_DOMAIN1.json',\n",
       " 'ciroh-nwm-zarr-retrospective-data-copy/noaa-nwm-retrospective-2-1-zarr-pds/forcing/2010/2010012020.LDASIN_DOMAIN1.json',\n",
       " 'ciroh-nwm-zarr-retrospective-data-copy/noaa-nwm-retrospective-2-1-zarr-pds/forcing/2010/2010012021.LDASIN_DOMAIN1.json',\n",
       " 'ciroh-nwm-zarr-retrospective-data-copy/noaa-nwm-retrospective-2-1-zarr-pds/forcing/2010/2010012022.LDASIN_DOMAIN1.json',\n",
       " 'ciroh-nwm-zarr-retrospective-data-copy/noaa-nwm-retrospective-2-1-zarr-pds/forcing/2010/2010012023.LDASIN_DOMAIN1.json',\n",
       " 'ciroh-nwm-zarr-retrospective-data-copy/noaa-nwm-retrospective-2-1-zarr-pds/forcing/2010/2010012100.LDASIN_DOMAIN1.json',\n",
       " 'ciroh-nwm-zarr-retrospective-data-copy/noaa-nwm-retrospective-2-1-zarr-pds/forcing/2010/2010012101.LDASIN_DOMAIN1.json',\n",
       " 'ciroh-nwm-zarr-retrospective-data-copy/noaa-nwm-retrospective-2-1-zarr-pds/forcing/2010/2010012102.LDASIN_DOMAIN1.json',\n",
       " 'ciroh-nwm-zarr-retrospective-data-copy/noaa-nwm-retrospective-2-1-zarr-pds/forcing/2010/2010012103.LDASIN_DOMAIN1.json',\n",
       " 'ciroh-nwm-zarr-retrospective-data-copy/noaa-nwm-retrospective-2-1-zarr-pds/forcing/2010/2010012104.LDASIN_DOMAIN1.json',\n",
       " 'ciroh-nwm-zarr-retrospective-data-copy/noaa-nwm-retrospective-2-1-zarr-pds/forcing/2010/2010012105.LDASIN_DOMAIN1.json',\n",
       " 'ciroh-nwm-zarr-retrospective-data-copy/noaa-nwm-retrospective-2-1-zarr-pds/forcing/2010/2010012106.LDASIN_DOMAIN1.json',\n",
       " 'ciroh-nwm-zarr-retrospective-data-copy/noaa-nwm-retrospective-2-1-zarr-pds/forcing/2010/2010012107.LDASIN_DOMAIN1.json',\n",
       " 'ciroh-nwm-zarr-retrospective-data-copy/noaa-nwm-retrospective-2-1-zarr-pds/forcing/2010/2010012108.LDASIN_DOMAIN1.json',\n",
       " 'ciroh-nwm-zarr-retrospective-data-copy/noaa-nwm-retrospective-2-1-zarr-pds/forcing/2010/2010012109.LDASIN_DOMAIN1.json',\n",
       " 'ciroh-nwm-zarr-retrospective-data-copy/noaa-nwm-retrospective-2-1-zarr-pds/forcing/2010/2010012110.LDASIN_DOMAIN1.json',\n",
       " 'ciroh-nwm-zarr-retrospective-data-copy/noaa-nwm-retrospective-2-1-zarr-pds/forcing/2010/2010012111.LDASIN_DOMAIN1.json',\n",
       " 'ciroh-nwm-zarr-retrospective-data-copy/noaa-nwm-retrospective-2-1-zarr-pds/forcing/2010/2010012112.LDASIN_DOMAIN1.json',\n",
       " 'ciroh-nwm-zarr-retrospective-data-copy/noaa-nwm-retrospective-2-1-zarr-pds/forcing/2010/2010012113.LDASIN_DOMAIN1.json',\n",
       " 'ciroh-nwm-zarr-retrospective-data-copy/noaa-nwm-retrospective-2-1-zarr-pds/forcing/2010/2010012114.LDASIN_DOMAIN1.json',\n",
       " 'ciroh-nwm-zarr-retrospective-data-copy/noaa-nwm-retrospective-2-1-zarr-pds/forcing/2010/2010012115.LDASIN_DOMAIN1.json',\n",
       " 'ciroh-nwm-zarr-retrospective-data-copy/noaa-nwm-retrospective-2-1-zarr-pds/forcing/2010/2010012116.LDASIN_DOMAIN1.json',\n",
       " 'ciroh-nwm-zarr-retrospective-data-copy/noaa-nwm-retrospective-2-1-zarr-pds/forcing/2010/2010012117.LDASIN_DOMAIN1.json',\n",
       " 'ciroh-nwm-zarr-retrospective-data-copy/noaa-nwm-retrospective-2-1-zarr-pds/forcing/2010/2010012118.LDASIN_DOMAIN1.json',\n",
       " 'ciroh-nwm-zarr-retrospective-data-copy/noaa-nwm-retrospective-2-1-zarr-pds/forcing/2010/2010012119.LDASIN_DOMAIN1.json',\n",
       " 'ciroh-nwm-zarr-retrospective-data-copy/noaa-nwm-retrospective-2-1-zarr-pds/forcing/2010/2010012120.LDASIN_DOMAIN1.json',\n",
       " 'ciroh-nwm-zarr-retrospective-data-copy/noaa-nwm-retrospective-2-1-zarr-pds/forcing/2010/2010012121.LDASIN_DOMAIN1.json',\n",
       " 'ciroh-nwm-zarr-retrospective-data-copy/noaa-nwm-retrospective-2-1-zarr-pds/forcing/2010/2010012122.LDASIN_DOMAIN1.json',\n",
       " 'ciroh-nwm-zarr-retrospective-data-copy/noaa-nwm-retrospective-2-1-zarr-pds/forcing/2010/2010012123.LDASIN_DOMAIN1.json',\n",
       " 'ciroh-nwm-zarr-retrospective-data-copy/noaa-nwm-retrospective-2-1-zarr-pds/forcing/2010/2010012200.LDASIN_DOMAIN1.json',\n",
       " 'ciroh-nwm-zarr-retrospective-data-copy/noaa-nwm-retrospective-2-1-zarr-pds/forcing/2010/2010012201.LDASIN_DOMAIN1.json',\n",
       " 'ciroh-nwm-zarr-retrospective-data-copy/noaa-nwm-retrospective-2-1-zarr-pds/forcing/2010/2010012202.LDASIN_DOMAIN1.json',\n",
       " 'ciroh-nwm-zarr-retrospective-data-copy/noaa-nwm-retrospective-2-1-zarr-pds/forcing/2010/2010012203.LDASIN_DOMAIN1.json',\n",
       " 'ciroh-nwm-zarr-retrospective-data-copy/noaa-nwm-retrospective-2-1-zarr-pds/forcing/2010/2010012204.LDASIN_DOMAIN1.json',\n",
       " 'ciroh-nwm-zarr-retrospective-data-copy/noaa-nwm-retrospective-2-1-zarr-pds/forcing/2010/2010012205.LDASIN_DOMAIN1.json',\n",
       " 'ciroh-nwm-zarr-retrospective-data-copy/noaa-nwm-retrospective-2-1-zarr-pds/forcing/2010/2010012206.LDASIN_DOMAIN1.json',\n",
       " 'ciroh-nwm-zarr-retrospective-data-copy/noaa-nwm-retrospective-2-1-zarr-pds/forcing/2010/2010012207.LDASIN_DOMAIN1.json',\n",
       " 'ciroh-nwm-zarr-retrospective-data-copy/noaa-nwm-retrospective-2-1-zarr-pds/forcing/2010/2010012208.LDASIN_DOMAIN1.json',\n",
       " 'ciroh-nwm-zarr-retrospective-data-copy/noaa-nwm-retrospective-2-1-zarr-pds/forcing/2010/2010012209.LDASIN_DOMAIN1.json',\n",
       " 'ciroh-nwm-zarr-retrospective-data-copy/noaa-nwm-retrospective-2-1-zarr-pds/forcing/2010/2010012210.LDASIN_DOMAIN1.json',\n",
       " 'ciroh-nwm-zarr-retrospective-data-copy/noaa-nwm-retrospective-2-1-zarr-pds/forcing/2010/2010012211.LDASIN_DOMAIN1.json',\n",
       " 'ciroh-nwm-zarr-retrospective-data-copy/noaa-nwm-retrospective-2-1-zarr-pds/forcing/2010/2010012212.LDASIN_DOMAIN1.json',\n",
       " 'ciroh-nwm-zarr-retrospective-data-copy/noaa-nwm-retrospective-2-1-zarr-pds/forcing/2010/2010012213.LDASIN_DOMAIN1.json',\n",
       " 'ciroh-nwm-zarr-retrospective-data-copy/noaa-nwm-retrospective-2-1-zarr-pds/forcing/2010/2010012214.LDASIN_DOMAIN1.json',\n",
       " 'ciroh-nwm-zarr-retrospective-data-copy/noaa-nwm-retrospective-2-1-zarr-pds/forcing/2010/2010012215.LDASIN_DOMAIN1.json',\n",
       " 'ciroh-nwm-zarr-retrospective-data-copy/noaa-nwm-retrospective-2-1-zarr-pds/forcing/2010/2010012216.LDASIN_DOMAIN1.json',\n",
       " 'ciroh-nwm-zarr-retrospective-data-copy/noaa-nwm-retrospective-2-1-zarr-pds/forcing/2010/2010012217.LDASIN_DOMAIN1.json',\n",
       " 'ciroh-nwm-zarr-retrospective-data-copy/noaa-nwm-retrospective-2-1-zarr-pds/forcing/2010/2010012218.LDASIN_DOMAIN1.json',\n",
       " 'ciroh-nwm-zarr-retrospective-data-copy/noaa-nwm-retrospective-2-1-zarr-pds/forcing/2010/2010012219.LDASIN_DOMAIN1.json',\n",
       " 'ciroh-nwm-zarr-retrospective-data-copy/noaa-nwm-retrospective-2-1-zarr-pds/forcing/2010/2010012220.LDASIN_DOMAIN1.json',\n",
       " 'ciroh-nwm-zarr-retrospective-data-copy/noaa-nwm-retrospective-2-1-zarr-pds/forcing/2010/2010012221.LDASIN_DOMAIN1.json',\n",
       " 'ciroh-nwm-zarr-retrospective-data-copy/noaa-nwm-retrospective-2-1-zarr-pds/forcing/2010/2010012222.LDASIN_DOMAIN1.json',\n",
       " 'ciroh-nwm-zarr-retrospective-data-copy/noaa-nwm-retrospective-2-1-zarr-pds/forcing/2010/2010012223.LDASIN_DOMAIN1.json',\n",
       " 'ciroh-nwm-zarr-retrospective-data-copy/noaa-nwm-retrospective-2-1-zarr-pds/forcing/2010/2010012300.LDASIN_DOMAIN1.json',\n",
       " 'ciroh-nwm-zarr-retrospective-data-copy/noaa-nwm-retrospective-2-1-zarr-pds/forcing/2010/2010012301.LDASIN_DOMAIN1.json',\n",
       " 'ciroh-nwm-zarr-retrospective-data-copy/noaa-nwm-retrospective-2-1-zarr-pds/forcing/2010/2010012302.LDASIN_DOMAIN1.json',\n",
       " 'ciroh-nwm-zarr-retrospective-data-copy/noaa-nwm-retrospective-2-1-zarr-pds/forcing/2010/2010012303.LDASIN_DOMAIN1.json',\n",
       " 'ciroh-nwm-zarr-retrospective-data-copy/noaa-nwm-retrospective-2-1-zarr-pds/forcing/2010/2010012304.LDASIN_DOMAIN1.json',\n",
       " 'ciroh-nwm-zarr-retrospective-data-copy/noaa-nwm-retrospective-2-1-zarr-pds/forcing/2010/2010012305.LDASIN_DOMAIN1.json',\n",
       " 'ciroh-nwm-zarr-retrospective-data-copy/noaa-nwm-retrospective-2-1-zarr-pds/forcing/2010/2010012306.LDASIN_DOMAIN1.json',\n",
       " 'ciroh-nwm-zarr-retrospective-data-copy/noaa-nwm-retrospective-2-1-zarr-pds/forcing/2010/2010012307.LDASIN_DOMAIN1.json',\n",
       " 'ciroh-nwm-zarr-retrospective-data-copy/noaa-nwm-retrospective-2-1-zarr-pds/forcing/2010/2010012308.LDASIN_DOMAIN1.json',\n",
       " 'ciroh-nwm-zarr-retrospective-data-copy/noaa-nwm-retrospective-2-1-zarr-pds/forcing/2010/2010012309.LDASIN_DOMAIN1.json',\n",
       " 'ciroh-nwm-zarr-retrospective-data-copy/noaa-nwm-retrospective-2-1-zarr-pds/forcing/2010/2010012310.LDASIN_DOMAIN1.json',\n",
       " 'ciroh-nwm-zarr-retrospective-data-copy/noaa-nwm-retrospective-2-1-zarr-pds/forcing/2010/2010012311.LDASIN_DOMAIN1.json',\n",
       " 'ciroh-nwm-zarr-retrospective-data-copy/noaa-nwm-retrospective-2-1-zarr-pds/forcing/2010/2010012312.LDASIN_DOMAIN1.json',\n",
       " 'ciroh-nwm-zarr-retrospective-data-copy/noaa-nwm-retrospective-2-1-zarr-pds/forcing/2010/2010012313.LDASIN_DOMAIN1.json',\n",
       " 'ciroh-nwm-zarr-retrospective-data-copy/noaa-nwm-retrospective-2-1-zarr-pds/forcing/2010/2010012314.LDASIN_DOMAIN1.json',\n",
       " 'ciroh-nwm-zarr-retrospective-data-copy/noaa-nwm-retrospective-2-1-zarr-pds/forcing/2010/2010012315.LDASIN_DOMAIN1.json',\n",
       " 'ciroh-nwm-zarr-retrospective-data-copy/noaa-nwm-retrospective-2-1-zarr-pds/forcing/2010/2010012316.LDASIN_DOMAIN1.json',\n",
       " 'ciroh-nwm-zarr-retrospective-data-copy/noaa-nwm-retrospective-2-1-zarr-pds/forcing/2010/2010012317.LDASIN_DOMAIN1.json',\n",
       " 'ciroh-nwm-zarr-retrospective-data-copy/noaa-nwm-retrospective-2-1-zarr-pds/forcing/2010/2010012318.LDASIN_DOMAIN1.json',\n",
       " 'ciroh-nwm-zarr-retrospective-data-copy/noaa-nwm-retrospective-2-1-zarr-pds/forcing/2010/2010012319.LDASIN_DOMAIN1.json',\n",
       " 'ciroh-nwm-zarr-retrospective-data-copy/noaa-nwm-retrospective-2-1-zarr-pds/forcing/2010/2010012320.LDASIN_DOMAIN1.json',\n",
       " 'ciroh-nwm-zarr-retrospective-data-copy/noaa-nwm-retrospective-2-1-zarr-pds/forcing/2010/2010012321.LDASIN_DOMAIN1.json',\n",
       " 'ciroh-nwm-zarr-retrospective-data-copy/noaa-nwm-retrospective-2-1-zarr-pds/forcing/2010/2010012322.LDASIN_DOMAIN1.json',\n",
       " 'ciroh-nwm-zarr-retrospective-data-copy/noaa-nwm-retrospective-2-1-zarr-pds/forcing/2010/2010012323.LDASIN_DOMAIN1.json',\n",
       " 'ciroh-nwm-zarr-retrospective-data-copy/noaa-nwm-retrospective-2-1-zarr-pds/forcing/2010/2010012400.LDASIN_DOMAIN1.json',\n",
       " 'ciroh-nwm-zarr-retrospective-data-copy/noaa-nwm-retrospective-2-1-zarr-pds/forcing/2010/2010012401.LDASIN_DOMAIN1.json',\n",
       " 'ciroh-nwm-zarr-retrospective-data-copy/noaa-nwm-retrospective-2-1-zarr-pds/forcing/2010/2010012402.LDASIN_DOMAIN1.json',\n",
       " 'ciroh-nwm-zarr-retrospective-data-copy/noaa-nwm-retrospective-2-1-zarr-pds/forcing/2010/2010012403.LDASIN_DOMAIN1.json',\n",
       " 'ciroh-nwm-zarr-retrospective-data-copy/noaa-nwm-retrospective-2-1-zarr-pds/forcing/2010/2010012404.LDASIN_DOMAIN1.json',\n",
       " 'ciroh-nwm-zarr-retrospective-data-copy/noaa-nwm-retrospective-2-1-zarr-pds/forcing/2010/2010012405.LDASIN_DOMAIN1.json',\n",
       " 'ciroh-nwm-zarr-retrospective-data-copy/noaa-nwm-retrospective-2-1-zarr-pds/forcing/2010/2010012406.LDASIN_DOMAIN1.json',\n",
       " 'ciroh-nwm-zarr-retrospective-data-copy/noaa-nwm-retrospective-2-1-zarr-pds/forcing/2010/2010012407.LDASIN_DOMAIN1.json',\n",
       " 'ciroh-nwm-zarr-retrospective-data-copy/noaa-nwm-retrospective-2-1-zarr-pds/forcing/2010/2010012408.LDASIN_DOMAIN1.json',\n",
       " 'ciroh-nwm-zarr-retrospective-data-copy/noaa-nwm-retrospective-2-1-zarr-pds/forcing/2010/2010012409.LDASIN_DOMAIN1.json',\n",
       " 'ciroh-nwm-zarr-retrospective-data-copy/noaa-nwm-retrospective-2-1-zarr-pds/forcing/2010/2010012410.LDASIN_DOMAIN1.json',\n",
       " 'ciroh-nwm-zarr-retrospective-data-copy/noaa-nwm-retrospective-2-1-zarr-pds/forcing/2010/2010012411.LDASIN_DOMAIN1.json',\n",
       " 'ciroh-nwm-zarr-retrospective-data-copy/noaa-nwm-retrospective-2-1-zarr-pds/forcing/2010/2010012412.LDASIN_DOMAIN1.json',\n",
       " 'ciroh-nwm-zarr-retrospective-data-copy/noaa-nwm-retrospective-2-1-zarr-pds/forcing/2010/2010012413.LDASIN_DOMAIN1.json',\n",
       " 'ciroh-nwm-zarr-retrospective-data-copy/noaa-nwm-retrospective-2-1-zarr-pds/forcing/2010/2010012414.LDASIN_DOMAIN1.json',\n",
       " 'ciroh-nwm-zarr-retrospective-data-copy/noaa-nwm-retrospective-2-1-zarr-pds/forcing/2010/2010012415.LDASIN_DOMAIN1.json',\n",
       " 'ciroh-nwm-zarr-retrospective-data-copy/noaa-nwm-retrospective-2-1-zarr-pds/forcing/2010/2010012416.LDASIN_DOMAIN1.json',\n",
       " 'ciroh-nwm-zarr-retrospective-data-copy/noaa-nwm-retrospective-2-1-zarr-pds/forcing/2010/2010012417.LDASIN_DOMAIN1.json',\n",
       " 'ciroh-nwm-zarr-retrospective-data-copy/noaa-nwm-retrospective-2-1-zarr-pds/forcing/2010/2010012418.LDASIN_DOMAIN1.json',\n",
       " 'ciroh-nwm-zarr-retrospective-data-copy/noaa-nwm-retrospective-2-1-zarr-pds/forcing/2010/2010012419.LDASIN_DOMAIN1.json',\n",
       " 'ciroh-nwm-zarr-retrospective-data-copy/noaa-nwm-retrospective-2-1-zarr-pds/forcing/2010/2010012420.LDASIN_DOMAIN1.json',\n",
       " 'ciroh-nwm-zarr-retrospective-data-copy/noaa-nwm-retrospective-2-1-zarr-pds/forcing/2010/2010012421.LDASIN_DOMAIN1.json',\n",
       " 'ciroh-nwm-zarr-retrospective-data-copy/noaa-nwm-retrospective-2-1-zarr-pds/forcing/2010/2010012422.LDASIN_DOMAIN1.json',\n",
       " 'ciroh-nwm-zarr-retrospective-data-copy/noaa-nwm-retrospective-2-1-zarr-pds/forcing/2010/2010012423.LDASIN_DOMAIN1.json',\n",
       " 'ciroh-nwm-zarr-retrospective-data-copy/noaa-nwm-retrospective-2-1-zarr-pds/forcing/2010/2010012500.LDASIN_DOMAIN1.json',\n",
       " 'ciroh-nwm-zarr-retrospective-data-copy/noaa-nwm-retrospective-2-1-zarr-pds/forcing/2010/2010012501.LDASIN_DOMAIN1.json',\n",
       " 'ciroh-nwm-zarr-retrospective-data-copy/noaa-nwm-retrospective-2-1-zarr-pds/forcing/2010/2010012502.LDASIN_DOMAIN1.json',\n",
       " 'ciroh-nwm-zarr-retrospective-data-copy/noaa-nwm-retrospective-2-1-zarr-pds/forcing/2010/2010012503.LDASIN_DOMAIN1.json',\n",
       " 'ciroh-nwm-zarr-retrospective-data-copy/noaa-nwm-retrospective-2-1-zarr-pds/forcing/2010/2010012504.LDASIN_DOMAIN1.json',\n",
       " 'ciroh-nwm-zarr-retrospective-data-copy/noaa-nwm-retrospective-2-1-zarr-pds/forcing/2010/2010012505.LDASIN_DOMAIN1.json',\n",
       " 'ciroh-nwm-zarr-retrospective-data-copy/noaa-nwm-retrospective-2-1-zarr-pds/forcing/2010/2010012506.LDASIN_DOMAIN1.json',\n",
       " 'ciroh-nwm-zarr-retrospective-data-copy/noaa-nwm-retrospective-2-1-zarr-pds/forcing/2010/2010012507.LDASIN_DOMAIN1.json',\n",
       " 'ciroh-nwm-zarr-retrospective-data-copy/noaa-nwm-retrospective-2-1-zarr-pds/forcing/2010/2010012508.LDASIN_DOMAIN1.json',\n",
       " 'ciroh-nwm-zarr-retrospective-data-copy/noaa-nwm-retrospective-2-1-zarr-pds/forcing/2010/2010012509.LDASIN_DOMAIN1.json',\n",
       " 'ciroh-nwm-zarr-retrospective-data-copy/noaa-nwm-retrospective-2-1-zarr-pds/forcing/2010/2010012510.LDASIN_DOMAIN1.json',\n",
       " 'ciroh-nwm-zarr-retrospective-data-copy/noaa-nwm-retrospective-2-1-zarr-pds/forcing/2010/2010012511.LDASIN_DOMAIN1.json',\n",
       " 'ciroh-nwm-zarr-retrospective-data-copy/noaa-nwm-retrospective-2-1-zarr-pds/forcing/2010/2010012512.LDASIN_DOMAIN1.json',\n",
       " 'ciroh-nwm-zarr-retrospective-data-copy/noaa-nwm-retrospective-2-1-zarr-pds/forcing/2010/2010012513.LDASIN_DOMAIN1.json',\n",
       " 'ciroh-nwm-zarr-retrospective-data-copy/noaa-nwm-retrospective-2-1-zarr-pds/forcing/2010/2010012514.LDASIN_DOMAIN1.json',\n",
       " 'ciroh-nwm-zarr-retrospective-data-copy/noaa-nwm-retrospective-2-1-zarr-pds/forcing/2010/2010012515.LDASIN_DOMAIN1.json',\n",
       " 'ciroh-nwm-zarr-retrospective-data-copy/noaa-nwm-retrospective-2-1-zarr-pds/forcing/2010/2010012516.LDASIN_DOMAIN1.json',\n",
       " 'ciroh-nwm-zarr-retrospective-data-copy/noaa-nwm-retrospective-2-1-zarr-pds/forcing/2010/2010012517.LDASIN_DOMAIN1.json',\n",
       " 'ciroh-nwm-zarr-retrospective-data-copy/noaa-nwm-retrospective-2-1-zarr-pds/forcing/2010/2010012518.LDASIN_DOMAIN1.json',\n",
       " 'ciroh-nwm-zarr-retrospective-data-copy/noaa-nwm-retrospective-2-1-zarr-pds/forcing/2010/2010012519.LDASIN_DOMAIN1.json',\n",
       " 'ciroh-nwm-zarr-retrospective-data-copy/noaa-nwm-retrospective-2-1-zarr-pds/forcing/2010/2010012520.LDASIN_DOMAIN1.json',\n",
       " 'ciroh-nwm-zarr-retrospective-data-copy/noaa-nwm-retrospective-2-1-zarr-pds/forcing/2010/2010012521.LDASIN_DOMAIN1.json',\n",
       " 'ciroh-nwm-zarr-retrospective-data-copy/noaa-nwm-retrospective-2-1-zarr-pds/forcing/2010/2010012522.LDASIN_DOMAIN1.json',\n",
       " 'ciroh-nwm-zarr-retrospective-data-copy/noaa-nwm-retrospective-2-1-zarr-pds/forcing/2010/2010012523.LDASIN_DOMAIN1.json',\n",
       " 'ciroh-nwm-zarr-retrospective-data-copy/noaa-nwm-retrospective-2-1-zarr-pds/forcing/2010/2010012600.LDASIN_DOMAIN1.json',\n",
       " 'ciroh-nwm-zarr-retrospective-data-copy/noaa-nwm-retrospective-2-1-zarr-pds/forcing/2010/2010012601.LDASIN_DOMAIN1.json',\n",
       " 'ciroh-nwm-zarr-retrospective-data-copy/noaa-nwm-retrospective-2-1-zarr-pds/forcing/2010/2010012602.LDASIN_DOMAIN1.json',\n",
       " 'ciroh-nwm-zarr-retrospective-data-copy/noaa-nwm-retrospective-2-1-zarr-pds/forcing/2010/2010012603.LDASIN_DOMAIN1.json',\n",
       " 'ciroh-nwm-zarr-retrospective-data-copy/noaa-nwm-retrospective-2-1-zarr-pds/forcing/2010/2010012604.LDASIN_DOMAIN1.json',\n",
       " 'ciroh-nwm-zarr-retrospective-data-copy/noaa-nwm-retrospective-2-1-zarr-pds/forcing/2010/2010012605.LDASIN_DOMAIN1.json',\n",
       " 'ciroh-nwm-zarr-retrospective-data-copy/noaa-nwm-retrospective-2-1-zarr-pds/forcing/2010/2010012606.LDASIN_DOMAIN1.json',\n",
       " 'ciroh-nwm-zarr-retrospective-data-copy/noaa-nwm-retrospective-2-1-zarr-pds/forcing/2010/2010012607.LDASIN_DOMAIN1.json',\n",
       " 'ciroh-nwm-zarr-retrospective-data-copy/noaa-nwm-retrospective-2-1-zarr-pds/forcing/2010/2010012608.LDASIN_DOMAIN1.json',\n",
       " 'ciroh-nwm-zarr-retrospective-data-copy/noaa-nwm-retrospective-2-1-zarr-pds/forcing/2010/2010012609.LDASIN_DOMAIN1.json',\n",
       " 'ciroh-nwm-zarr-retrospective-data-copy/noaa-nwm-retrospective-2-1-zarr-pds/forcing/2010/2010012610.LDASIN_DOMAIN1.json',\n",
       " 'ciroh-nwm-zarr-retrospective-data-copy/noaa-nwm-retrospective-2-1-zarr-pds/forcing/2010/2010012611.LDASIN_DOMAIN1.json',\n",
       " 'ciroh-nwm-zarr-retrospective-data-copy/noaa-nwm-retrospective-2-1-zarr-pds/forcing/2010/2010012612.LDASIN_DOMAIN1.json',\n",
       " 'ciroh-nwm-zarr-retrospective-data-copy/noaa-nwm-retrospective-2-1-zarr-pds/forcing/2010/2010012613.LDASIN_DOMAIN1.json',\n",
       " 'ciroh-nwm-zarr-retrospective-data-copy/noaa-nwm-retrospective-2-1-zarr-pds/forcing/2010/2010012614.LDASIN_DOMAIN1.json',\n",
       " 'ciroh-nwm-zarr-retrospective-data-copy/noaa-nwm-retrospective-2-1-zarr-pds/forcing/2010/2010012615.LDASIN_DOMAIN1.json',\n",
       " 'ciroh-nwm-zarr-retrospective-data-copy/noaa-nwm-retrospective-2-1-zarr-pds/forcing/2010/2010012616.LDASIN_DOMAIN1.json',\n",
       " 'ciroh-nwm-zarr-retrospective-data-copy/noaa-nwm-retrospective-2-1-zarr-pds/forcing/2010/2010012617.LDASIN_DOMAIN1.json',\n",
       " 'ciroh-nwm-zarr-retrospective-data-copy/noaa-nwm-retrospective-2-1-zarr-pds/forcing/2010/2010012618.LDASIN_DOMAIN1.json',\n",
       " 'ciroh-nwm-zarr-retrospective-data-copy/noaa-nwm-retrospective-2-1-zarr-pds/forcing/2010/2010012619.LDASIN_DOMAIN1.json',\n",
       " 'ciroh-nwm-zarr-retrospective-data-copy/noaa-nwm-retrospective-2-1-zarr-pds/forcing/2010/2010012620.LDASIN_DOMAIN1.json',\n",
       " 'ciroh-nwm-zarr-retrospective-data-copy/noaa-nwm-retrospective-2-1-zarr-pds/forcing/2010/2010012621.LDASIN_DOMAIN1.json',\n",
       " 'ciroh-nwm-zarr-retrospective-data-copy/noaa-nwm-retrospective-2-1-zarr-pds/forcing/2010/2010012622.LDASIN_DOMAIN1.json',\n",
       " 'ciroh-nwm-zarr-retrospective-data-copy/noaa-nwm-retrospective-2-1-zarr-pds/forcing/2010/2010012623.LDASIN_DOMAIN1.json',\n",
       " 'ciroh-nwm-zarr-retrospective-data-copy/noaa-nwm-retrospective-2-1-zarr-pds/forcing/2010/2010012700.LDASIN_DOMAIN1.json',\n",
       " 'ciroh-nwm-zarr-retrospective-data-copy/noaa-nwm-retrospective-2-1-zarr-pds/forcing/2010/2010012701.LDASIN_DOMAIN1.json',\n",
       " 'ciroh-nwm-zarr-retrospective-data-copy/noaa-nwm-retrospective-2-1-zarr-pds/forcing/2010/2010012702.LDASIN_DOMAIN1.json',\n",
       " 'ciroh-nwm-zarr-retrospective-data-copy/noaa-nwm-retrospective-2-1-zarr-pds/forcing/2010/2010012703.LDASIN_DOMAIN1.json',\n",
       " 'ciroh-nwm-zarr-retrospective-data-copy/noaa-nwm-retrospective-2-1-zarr-pds/forcing/2010/2010012704.LDASIN_DOMAIN1.json',\n",
       " 'ciroh-nwm-zarr-retrospective-data-copy/noaa-nwm-retrospective-2-1-zarr-pds/forcing/2010/2010012705.LDASIN_DOMAIN1.json',\n",
       " 'ciroh-nwm-zarr-retrospective-data-copy/noaa-nwm-retrospective-2-1-zarr-pds/forcing/2010/2010012706.LDASIN_DOMAIN1.json',\n",
       " 'ciroh-nwm-zarr-retrospective-data-copy/noaa-nwm-retrospective-2-1-zarr-pds/forcing/2010/2010012707.LDASIN_DOMAIN1.json',\n",
       " 'ciroh-nwm-zarr-retrospective-data-copy/noaa-nwm-retrospective-2-1-zarr-pds/forcing/2010/2010012708.LDASIN_DOMAIN1.json',\n",
       " 'ciroh-nwm-zarr-retrospective-data-copy/noaa-nwm-retrospective-2-1-zarr-pds/forcing/2010/2010012709.LDASIN_DOMAIN1.json',\n",
       " 'ciroh-nwm-zarr-retrospective-data-copy/noaa-nwm-retrospective-2-1-zarr-pds/forcing/2010/2010012710.LDASIN_DOMAIN1.json',\n",
       " 'ciroh-nwm-zarr-retrospective-data-copy/noaa-nwm-retrospective-2-1-zarr-pds/forcing/2010/2010012711.LDASIN_DOMAIN1.json',\n",
       " 'ciroh-nwm-zarr-retrospective-data-copy/noaa-nwm-retrospective-2-1-zarr-pds/forcing/2010/2010012712.LDASIN_DOMAIN1.json',\n",
       " 'ciroh-nwm-zarr-retrospective-data-copy/noaa-nwm-retrospective-2-1-zarr-pds/forcing/2010/2010012713.LDASIN_DOMAIN1.json',\n",
       " 'ciroh-nwm-zarr-retrospective-data-copy/noaa-nwm-retrospective-2-1-zarr-pds/forcing/2010/2010012714.LDASIN_DOMAIN1.json',\n",
       " 'ciroh-nwm-zarr-retrospective-data-copy/noaa-nwm-retrospective-2-1-zarr-pds/forcing/2010/2010012715.LDASIN_DOMAIN1.json',\n",
       " 'ciroh-nwm-zarr-retrospective-data-copy/noaa-nwm-retrospective-2-1-zarr-pds/forcing/2010/2010012716.LDASIN_DOMAIN1.json',\n",
       " 'ciroh-nwm-zarr-retrospective-data-copy/noaa-nwm-retrospective-2-1-zarr-pds/forcing/2010/2010012717.LDASIN_DOMAIN1.json',\n",
       " 'ciroh-nwm-zarr-retrospective-data-copy/noaa-nwm-retrospective-2-1-zarr-pds/forcing/2010/2010012718.LDASIN_DOMAIN1.json',\n",
       " 'ciroh-nwm-zarr-retrospective-data-copy/noaa-nwm-retrospective-2-1-zarr-pds/forcing/2010/2010012719.LDASIN_DOMAIN1.json',\n",
       " 'ciroh-nwm-zarr-retrospective-data-copy/noaa-nwm-retrospective-2-1-zarr-pds/forcing/2010/2010012720.LDASIN_DOMAIN1.json',\n",
       " 'ciroh-nwm-zarr-retrospective-data-copy/noaa-nwm-retrospective-2-1-zarr-pds/forcing/2010/2010012721.LDASIN_DOMAIN1.json',\n",
       " 'ciroh-nwm-zarr-retrospective-data-copy/noaa-nwm-retrospective-2-1-zarr-pds/forcing/2010/2010012722.LDASIN_DOMAIN1.json',\n",
       " 'ciroh-nwm-zarr-retrospective-data-copy/noaa-nwm-retrospective-2-1-zarr-pds/forcing/2010/2010012723.LDASIN_DOMAIN1.json',\n",
       " 'ciroh-nwm-zarr-retrospective-data-copy/noaa-nwm-retrospective-2-1-zarr-pds/forcing/2010/2010012800.LDASIN_DOMAIN1.json',\n",
       " 'ciroh-nwm-zarr-retrospective-data-copy/noaa-nwm-retrospective-2-1-zarr-pds/forcing/2010/2010012801.LDASIN_DOMAIN1.json',\n",
       " 'ciroh-nwm-zarr-retrospective-data-copy/noaa-nwm-retrospective-2-1-zarr-pds/forcing/2010/2010012802.LDASIN_DOMAIN1.json',\n",
       " 'ciroh-nwm-zarr-retrospective-data-copy/noaa-nwm-retrospective-2-1-zarr-pds/forcing/2010/2010012803.LDASIN_DOMAIN1.json',\n",
       " 'ciroh-nwm-zarr-retrospective-data-copy/noaa-nwm-retrospective-2-1-zarr-pds/forcing/2010/2010012804.LDASIN_DOMAIN1.json',\n",
       " 'ciroh-nwm-zarr-retrospective-data-copy/noaa-nwm-retrospective-2-1-zarr-pds/forcing/2010/2010012805.LDASIN_DOMAIN1.json',\n",
       " 'ciroh-nwm-zarr-retrospective-data-copy/noaa-nwm-retrospective-2-1-zarr-pds/forcing/2010/2010012806.LDASIN_DOMAIN1.json',\n",
       " 'ciroh-nwm-zarr-retrospective-data-copy/noaa-nwm-retrospective-2-1-zarr-pds/forcing/2010/2010012807.LDASIN_DOMAIN1.json',\n",
       " 'ciroh-nwm-zarr-retrospective-data-copy/noaa-nwm-retrospective-2-1-zarr-pds/forcing/2010/2010012808.LDASIN_DOMAIN1.json',\n",
       " 'ciroh-nwm-zarr-retrospective-data-copy/noaa-nwm-retrospective-2-1-zarr-pds/forcing/2010/2010012809.LDASIN_DOMAIN1.json',\n",
       " 'ciroh-nwm-zarr-retrospective-data-copy/noaa-nwm-retrospective-2-1-zarr-pds/forcing/2010/2010012810.LDASIN_DOMAIN1.json',\n",
       " 'ciroh-nwm-zarr-retrospective-data-copy/noaa-nwm-retrospective-2-1-zarr-pds/forcing/2010/2010012811.LDASIN_DOMAIN1.json',\n",
       " 'ciroh-nwm-zarr-retrospective-data-copy/noaa-nwm-retrospective-2-1-zarr-pds/forcing/2010/2010012812.LDASIN_DOMAIN1.json',\n",
       " 'ciroh-nwm-zarr-retrospective-data-copy/noaa-nwm-retrospective-2-1-zarr-pds/forcing/2010/2010012813.LDASIN_DOMAIN1.json',\n",
       " 'ciroh-nwm-zarr-retrospective-data-copy/noaa-nwm-retrospective-2-1-zarr-pds/forcing/2010/2010012814.LDASIN_DOMAIN1.json',\n",
       " 'ciroh-nwm-zarr-retrospective-data-copy/noaa-nwm-retrospective-2-1-zarr-pds/forcing/2010/2010012815.LDASIN_DOMAIN1.json',\n",
       " 'ciroh-nwm-zarr-retrospective-data-copy/noaa-nwm-retrospective-2-1-zarr-pds/forcing/2010/2010012816.LDASIN_DOMAIN1.json',\n",
       " 'ciroh-nwm-zarr-retrospective-data-copy/noaa-nwm-retrospective-2-1-zarr-pds/forcing/2010/2010012817.LDASIN_DOMAIN1.json',\n",
       " 'ciroh-nwm-zarr-retrospective-data-copy/noaa-nwm-retrospective-2-1-zarr-pds/forcing/2010/2010012818.LDASIN_DOMAIN1.json',\n",
       " 'ciroh-nwm-zarr-retrospective-data-copy/noaa-nwm-retrospective-2-1-zarr-pds/forcing/2010/2010012819.LDASIN_DOMAIN1.json',\n",
       " 'ciroh-nwm-zarr-retrospective-data-copy/noaa-nwm-retrospective-2-1-zarr-pds/forcing/2010/2010012820.LDASIN_DOMAIN1.json',\n",
       " 'ciroh-nwm-zarr-retrospective-data-copy/noaa-nwm-retrospective-2-1-zarr-pds/forcing/2010/2010012821.LDASIN_DOMAIN1.json',\n",
       " 'ciroh-nwm-zarr-retrospective-data-copy/noaa-nwm-retrospective-2-1-zarr-pds/forcing/2010/2010012822.LDASIN_DOMAIN1.json',\n",
       " 'ciroh-nwm-zarr-retrospective-data-copy/noaa-nwm-retrospective-2-1-zarr-pds/forcing/2010/2010012823.LDASIN_DOMAIN1.json',\n",
       " 'ciroh-nwm-zarr-retrospective-data-copy/noaa-nwm-retrospective-2-1-zarr-pds/forcing/2010/2010012900.LDASIN_DOMAIN1.json',\n",
       " 'ciroh-nwm-zarr-retrospective-data-copy/noaa-nwm-retrospective-2-1-zarr-pds/forcing/2010/2010012901.LDASIN_DOMAIN1.json',\n",
       " 'ciroh-nwm-zarr-retrospective-data-copy/noaa-nwm-retrospective-2-1-zarr-pds/forcing/2010/2010012902.LDASIN_DOMAIN1.json',\n",
       " 'ciroh-nwm-zarr-retrospective-data-copy/noaa-nwm-retrospective-2-1-zarr-pds/forcing/2010/2010012903.LDASIN_DOMAIN1.json',\n",
       " 'ciroh-nwm-zarr-retrospective-data-copy/noaa-nwm-retrospective-2-1-zarr-pds/forcing/2010/2010012904.LDASIN_DOMAIN1.json',\n",
       " 'ciroh-nwm-zarr-retrospective-data-copy/noaa-nwm-retrospective-2-1-zarr-pds/forcing/2010/2010012905.LDASIN_DOMAIN1.json',\n",
       " 'ciroh-nwm-zarr-retrospective-data-copy/noaa-nwm-retrospective-2-1-zarr-pds/forcing/2010/2010012906.LDASIN_DOMAIN1.json',\n",
       " 'ciroh-nwm-zarr-retrospective-data-copy/noaa-nwm-retrospective-2-1-zarr-pds/forcing/2010/2010012907.LDASIN_DOMAIN1.json',\n",
       " 'ciroh-nwm-zarr-retrospective-data-copy/noaa-nwm-retrospective-2-1-zarr-pds/forcing/2010/2010012908.LDASIN_DOMAIN1.json',\n",
       " 'ciroh-nwm-zarr-retrospective-data-copy/noaa-nwm-retrospective-2-1-zarr-pds/forcing/2010/2010012909.LDASIN_DOMAIN1.json',\n",
       " 'ciroh-nwm-zarr-retrospective-data-copy/noaa-nwm-retrospective-2-1-zarr-pds/forcing/2010/2010012910.LDASIN_DOMAIN1.json',\n",
       " 'ciroh-nwm-zarr-retrospective-data-copy/noaa-nwm-retrospective-2-1-zarr-pds/forcing/2010/2010012911.LDASIN_DOMAIN1.json',\n",
       " 'ciroh-nwm-zarr-retrospective-data-copy/noaa-nwm-retrospective-2-1-zarr-pds/forcing/2010/2010012912.LDASIN_DOMAIN1.json',\n",
       " 'ciroh-nwm-zarr-retrospective-data-copy/noaa-nwm-retrospective-2-1-zarr-pds/forcing/2010/2010012913.LDASIN_DOMAIN1.json',\n",
       " 'ciroh-nwm-zarr-retrospective-data-copy/noaa-nwm-retrospective-2-1-zarr-pds/forcing/2010/2010012914.LDASIN_DOMAIN1.json',\n",
       " 'ciroh-nwm-zarr-retrospective-data-copy/noaa-nwm-retrospective-2-1-zarr-pds/forcing/2010/2010012915.LDASIN_DOMAIN1.json',\n",
       " 'ciroh-nwm-zarr-retrospective-data-copy/noaa-nwm-retrospective-2-1-zarr-pds/forcing/2010/2010012916.LDASIN_DOMAIN1.json',\n",
       " 'ciroh-nwm-zarr-retrospective-data-copy/noaa-nwm-retrospective-2-1-zarr-pds/forcing/2010/2010012917.LDASIN_DOMAIN1.json',\n",
       " 'ciroh-nwm-zarr-retrospective-data-copy/noaa-nwm-retrospective-2-1-zarr-pds/forcing/2010/2010012918.LDASIN_DOMAIN1.json',\n",
       " 'ciroh-nwm-zarr-retrospective-data-copy/noaa-nwm-retrospective-2-1-zarr-pds/forcing/2010/2010012919.LDASIN_DOMAIN1.json',\n",
       " 'ciroh-nwm-zarr-retrospective-data-copy/noaa-nwm-retrospective-2-1-zarr-pds/forcing/2010/2010012920.LDASIN_DOMAIN1.json',\n",
       " 'ciroh-nwm-zarr-retrospective-data-copy/noaa-nwm-retrospective-2-1-zarr-pds/forcing/2010/2010012921.LDASIN_DOMAIN1.json',\n",
       " 'ciroh-nwm-zarr-retrospective-data-copy/noaa-nwm-retrospective-2-1-zarr-pds/forcing/2010/2010012922.LDASIN_DOMAIN1.json',\n",
       " 'ciroh-nwm-zarr-retrospective-data-copy/noaa-nwm-retrospective-2-1-zarr-pds/forcing/2010/2010012923.LDASIN_DOMAIN1.json',\n",
       " 'ciroh-nwm-zarr-retrospective-data-copy/noaa-nwm-retrospective-2-1-zarr-pds/forcing/2010/2010013000.LDASIN_DOMAIN1.json',\n",
       " 'ciroh-nwm-zarr-retrospective-data-copy/noaa-nwm-retrospective-2-1-zarr-pds/forcing/2010/2010013001.LDASIN_DOMAIN1.json',\n",
       " 'ciroh-nwm-zarr-retrospective-data-copy/noaa-nwm-retrospective-2-1-zarr-pds/forcing/2010/2010013002.LDASIN_DOMAIN1.json',\n",
       " 'ciroh-nwm-zarr-retrospective-data-copy/noaa-nwm-retrospective-2-1-zarr-pds/forcing/2010/2010013003.LDASIN_DOMAIN1.json',\n",
       " 'ciroh-nwm-zarr-retrospective-data-copy/noaa-nwm-retrospective-2-1-zarr-pds/forcing/2010/2010013004.LDASIN_DOMAIN1.json',\n",
       " 'ciroh-nwm-zarr-retrospective-data-copy/noaa-nwm-retrospective-2-1-zarr-pds/forcing/2010/2010013005.LDASIN_DOMAIN1.json',\n",
       " 'ciroh-nwm-zarr-retrospective-data-copy/noaa-nwm-retrospective-2-1-zarr-pds/forcing/2010/2010013006.LDASIN_DOMAIN1.json',\n",
       " 'ciroh-nwm-zarr-retrospective-data-copy/noaa-nwm-retrospective-2-1-zarr-pds/forcing/2010/2010013007.LDASIN_DOMAIN1.json',\n",
       " 'ciroh-nwm-zarr-retrospective-data-copy/noaa-nwm-retrospective-2-1-zarr-pds/forcing/2010/2010013008.LDASIN_DOMAIN1.json',\n",
       " 'ciroh-nwm-zarr-retrospective-data-copy/noaa-nwm-retrospective-2-1-zarr-pds/forcing/2010/2010013009.LDASIN_DOMAIN1.json',\n",
       " 'ciroh-nwm-zarr-retrospective-data-copy/noaa-nwm-retrospective-2-1-zarr-pds/forcing/2010/2010013010.LDASIN_DOMAIN1.json',\n",
       " 'ciroh-nwm-zarr-retrospective-data-copy/noaa-nwm-retrospective-2-1-zarr-pds/forcing/2010/2010013011.LDASIN_DOMAIN1.json',\n",
       " 'ciroh-nwm-zarr-retrospective-data-copy/noaa-nwm-retrospective-2-1-zarr-pds/forcing/2010/2010013012.LDASIN_DOMAIN1.json',\n",
       " 'ciroh-nwm-zarr-retrospective-data-copy/noaa-nwm-retrospective-2-1-zarr-pds/forcing/2010/2010013013.LDASIN_DOMAIN1.json',\n",
       " 'ciroh-nwm-zarr-retrospective-data-copy/noaa-nwm-retrospective-2-1-zarr-pds/forcing/2010/2010013014.LDASIN_DOMAIN1.json',\n",
       " 'ciroh-nwm-zarr-retrospective-data-copy/noaa-nwm-retrospective-2-1-zarr-pds/forcing/2010/2010013015.LDASIN_DOMAIN1.json',\n",
       " 'ciroh-nwm-zarr-retrospective-data-copy/noaa-nwm-retrospective-2-1-zarr-pds/forcing/2010/2010013016.LDASIN_DOMAIN1.json',\n",
       " 'ciroh-nwm-zarr-retrospective-data-copy/noaa-nwm-retrospective-2-1-zarr-pds/forcing/2010/2010013017.LDASIN_DOMAIN1.json',\n",
       " 'ciroh-nwm-zarr-retrospective-data-copy/noaa-nwm-retrospective-2-1-zarr-pds/forcing/2010/2010013018.LDASIN_DOMAIN1.json',\n",
       " 'ciroh-nwm-zarr-retrospective-data-copy/noaa-nwm-retrospective-2-1-zarr-pds/forcing/2010/2010013019.LDASIN_DOMAIN1.json',\n",
       " 'ciroh-nwm-zarr-retrospective-data-copy/noaa-nwm-retrospective-2-1-zarr-pds/forcing/2010/2010013020.LDASIN_DOMAIN1.json',\n",
       " 'ciroh-nwm-zarr-retrospective-data-copy/noaa-nwm-retrospective-2-1-zarr-pds/forcing/2010/2010013021.LDASIN_DOMAIN1.json',\n",
       " 'ciroh-nwm-zarr-retrospective-data-copy/noaa-nwm-retrospective-2-1-zarr-pds/forcing/2010/2010013022.LDASIN_DOMAIN1.json',\n",
       " 'ciroh-nwm-zarr-retrospective-data-copy/noaa-nwm-retrospective-2-1-zarr-pds/forcing/2010/2010013023.LDASIN_DOMAIN1.json',\n",
       " 'ciroh-nwm-zarr-retrospective-data-copy/noaa-nwm-retrospective-2-1-zarr-pds/forcing/2010/2010013100.LDASIN_DOMAIN1.json',\n",
       " 'ciroh-nwm-zarr-retrospective-data-copy/noaa-nwm-retrospective-2-1-zarr-pds/forcing/2010/2010013101.LDASIN_DOMAIN1.json',\n",
       " 'ciroh-nwm-zarr-retrospective-data-copy/noaa-nwm-retrospective-2-1-zarr-pds/forcing/2010/2010013102.LDASIN_DOMAIN1.json',\n",
       " 'ciroh-nwm-zarr-retrospective-data-copy/noaa-nwm-retrospective-2-1-zarr-pds/forcing/2010/2010013103.LDASIN_DOMAIN1.json',\n",
       " 'ciroh-nwm-zarr-retrospective-data-copy/noaa-nwm-retrospective-2-1-zarr-pds/forcing/2010/2010013104.LDASIN_DOMAIN1.json',\n",
       " 'ciroh-nwm-zarr-retrospective-data-copy/noaa-nwm-retrospective-2-1-zarr-pds/forcing/2010/2010013105.LDASIN_DOMAIN1.json',\n",
       " 'ciroh-nwm-zarr-retrospective-data-copy/noaa-nwm-retrospective-2-1-zarr-pds/forcing/2010/2010013106.LDASIN_DOMAIN1.json',\n",
       " 'ciroh-nwm-zarr-retrospective-data-copy/noaa-nwm-retrospective-2-1-zarr-pds/forcing/2010/2010013107.LDASIN_DOMAIN1.json',\n",
       " 'ciroh-nwm-zarr-retrospective-data-copy/noaa-nwm-retrospective-2-1-zarr-pds/forcing/2010/2010013108.LDASIN_DOMAIN1.json',\n",
       " 'ciroh-nwm-zarr-retrospective-data-copy/noaa-nwm-retrospective-2-1-zarr-pds/forcing/2010/2010013109.LDASIN_DOMAIN1.json',\n",
       " 'ciroh-nwm-zarr-retrospective-data-copy/noaa-nwm-retrospective-2-1-zarr-pds/forcing/2010/2010013110.LDASIN_DOMAIN1.json',\n",
       " 'ciroh-nwm-zarr-retrospective-data-copy/noaa-nwm-retrospective-2-1-zarr-pds/forcing/2010/2010013111.LDASIN_DOMAIN1.json',\n",
       " 'ciroh-nwm-zarr-retrospective-data-copy/noaa-nwm-retrospective-2-1-zarr-pds/forcing/2010/2010013112.LDASIN_DOMAIN1.json',\n",
       " 'ciroh-nwm-zarr-retrospective-data-copy/noaa-nwm-retrospective-2-1-zarr-pds/forcing/2010/2010013113.LDASIN_DOMAIN1.json',\n",
       " 'ciroh-nwm-zarr-retrospective-data-copy/noaa-nwm-retrospective-2-1-zarr-pds/forcing/2010/2010013114.LDASIN_DOMAIN1.json',\n",
       " 'ciroh-nwm-zarr-retrospective-data-copy/noaa-nwm-retrospective-2-1-zarr-pds/forcing/2010/2010013115.LDASIN_DOMAIN1.json',\n",
       " 'ciroh-nwm-zarr-retrospective-data-copy/noaa-nwm-retrospective-2-1-zarr-pds/forcing/2010/2010013116.LDASIN_DOMAIN1.json',\n",
       " 'ciroh-nwm-zarr-retrospective-data-copy/noaa-nwm-retrospective-2-1-zarr-pds/forcing/2010/2010013117.LDASIN_DOMAIN1.json',\n",
       " 'ciroh-nwm-zarr-retrospective-data-copy/noaa-nwm-retrospective-2-1-zarr-pds/forcing/2010/2010013118.LDASIN_DOMAIN1.json',\n",
       " 'ciroh-nwm-zarr-retrospective-data-copy/noaa-nwm-retrospective-2-1-zarr-pds/forcing/2010/2010013119.LDASIN_DOMAIN1.json',\n",
       " 'ciroh-nwm-zarr-retrospective-data-copy/noaa-nwm-retrospective-2-1-zarr-pds/forcing/2010/2010013120.LDASIN_DOMAIN1.json',\n",
       " 'ciroh-nwm-zarr-retrospective-data-copy/noaa-nwm-retrospective-2-1-zarr-pds/forcing/2010/2010013121.LDASIN_DOMAIN1.json',\n",
       " 'ciroh-nwm-zarr-retrospective-data-copy/noaa-nwm-retrospective-2-1-zarr-pds/forcing/2010/2010013122.LDASIN_DOMAIN1.json',\n",
       " 'ciroh-nwm-zarr-retrospective-data-copy/noaa-nwm-retrospective-2-1-zarr-pds/forcing/2010/2010013123.LDASIN_DOMAIN1.json']"
      ]
     },
     "execution_count": 60,
     "metadata": {},
     "output_type": "execute_result"
    }
   ],
   "source": [
    "files"
   ]
  },
  {
   "cell_type": "code",
   "execution_count": 58,
   "id": "42374037-c11a-4a3e-b66e-f2fb39cf6413",
   "metadata": {
    "tags": []
   },
   "outputs": [
    {
     "data": {
      "text/plain": [
       "8760"
      ]
     },
     "execution_count": 58,
     "metadata": {},
     "output_type": "execute_result"
    }
   ],
   "source": [
    "len(s3.glob(f'{BUCKET}{year}/{year}*'))"
   ]
  },
  {
   "cell_type": "code",
   "execution_count": null,
   "id": "7499caa7-c037-4aa0-8f65-5b23f8051ab4",
   "metadata": {},
   "outputs": [],
   "source": [
    "fs = fsspec.filesystem('s3', anon=True)\n",
    "\n",
    "flist = fs.glob(\"s3://noaa-goes16/ABI-L2-SSTF/2020/210/*/*.nc\")"
   ]
  },
  {
   "cell_type": "code",
   "execution_count": null,
   "id": "cfae1613-0b33-4f3f-939a-dec0e0906edb",
   "metadata": {},
   "outputs": [],
   "source": []
  },
  {
   "cell_type": "code",
   "execution_count": null,
   "id": "8b5efc78-c7bb-459e-a84d-e061c9397485",
   "metadata": {},
   "outputs": [],
   "source": []
  },
  {
   "cell_type": "code",
   "execution_count": null,
   "id": "bfe579eb-0227-4fd4-88df-11dc48679822",
   "metadata": {},
   "outputs": [],
   "source": []
  },
  {
   "cell_type": "code",
   "execution_count": null,
   "id": "45852f0c-5237-4951-a1a9-20eb0b109977",
   "metadata": {},
   "outputs": [],
   "source": []
  },
  {
   "cell_type": "code",
   "execution_count": null,
   "id": "6c267e70-aa1e-499f-8cc1-00580970844e",
   "metadata": {},
   "outputs": [],
   "source": []
  },
  {
   "cell_type": "markdown",
   "id": "bc640d57-4735-4fb7-9459-e9b997413f65",
   "metadata": {},
   "source": [
    "Note that the method we're using will associate grid cell with the watershed that it overlaps the most with. There are more advanced ways to create a mapping using various interpolation methods that will distribute values cells across all watershed boundaries that they intersect with. This is left as a future exercize. "
   ]
  },
  {
   "cell_type": "code",
   "execution_count": null,
   "id": "fea60035-4514-4c13-9f35-b4936bd27405",
   "metadata": {
    "tags": []
   },
   "outputs": [],
   "source": [
    "figure, ax = plt.subplots(figsize=(10,7))\n",
    "\n",
    "\n",
    "# plot the gridded catchment mapping\n",
    "ds.cat.plot()\n",
    "\n",
    "## create a discrete color mapping such that each catchment \n",
    "## is represented by a single color\n",
    "# cmap = colors.ListedColormap(['green', 'lightskyblue', 'cyan', 'red', 'navy'])\n",
    "# bounds = [catchment_ids[0]] + [c+0.9 for c in catchment_ids]\n",
    "# norm = colors.BoundaryNorm(bounds, cmap.N)\n",
    "# ds.cat.plot(cmap=cmap, norm=norm, ax=ax)\n",
    "\n",
    "# preview map geometries\n",
    "gdf.iloc[:].plot(ax=ax, linewidth=2, edgecolor='k', facecolor='None');\n"
   ]
  },
  {
   "cell_type": "markdown",
   "id": "3d63e278-0a9e-4256-aaab-dd64bc4e1eaf",
   "metadata": {},
   "source": [
    "## Compute basin-averaged forcing data"
   ]
  },
  {
   "cell_type": "markdown",
   "id": "30dcaeb1-1cfa-4384-891f-af04e6adfe07",
   "metadata": {},
   "source": [
    "Define functions that will be used to perform basin averages on the AORC data. These functions leverage `dask` to parallelize the computation."
   ]
  },
  {
   "cell_type": "code",
   "execution_count": null,
   "id": "1288b205-9592-42c5-9cf4-af72389485ec",
   "metadata": {
    "tags": []
   },
   "outputs": [],
   "source": [
    "# call once per catchment\n",
    "# distribute zonal stats to sub processes\n",
    "def perform_zonal_computation(ds, cat_id):\n",
    "\n",
    "    # subset by catchment id\n",
    "    ds_catchment = ds.where(ds.cat==cat_id, drop=True)\n",
    "#    ds_catchement_future = client.scatter(ds_catchment, broadcast=True)\n",
    "    \n",
    "    delayed = []\n",
    "    # loop over variables   \n",
    "    for variable in ['LWDOWN', 'PSFC',\n",
    "                     'Q2D', 'RAINRATE', 'SWDOWN',\n",
    "                     'T2D', 'U2D', 'V2D']:\n",
    "                \n",
    "        delay = dask.delayed(compute_zonal_mean)(ds_catchment[variable], variable)\n",
    "        delayed.append(delay)\n",
    "        \n",
    "    res = dask.compute(*delayed)\n",
    "    \n",
    "    # combine outputs (list of dicts) into a single dict.\n",
    "    res = {k: v for d in res for k, v in d.items()}\n",
    "    \n",
    "    # return results\n",
    "    return {f'cat-{int(cat_id)}': res}\n",
    "\n",
    "def compute_zonal_mean(ds, variable):\n",
    "    return {variable: ds.mean(dim=['x','y']).values}"
   ]
  },
  {
   "cell_type": "markdown",
   "id": "d6b37b00-c7a2-4bb9-9373-812e43efd609",
   "metadata": {},
   "source": [
    "Slice the data to the temporal period of our choice."
   ]
  },
  {
   "cell_type": "code",
   "execution_count": null,
   "id": "8cc8e149-1eb2-43a5-9888-23405975c879",
   "metadata": {
    "tags": []
   },
   "outputs": [],
   "source": [
    "# define the start and end time of the data we want to use\n",
    "start_time = f'{year}-01-01 00:00'\n",
    "end_time = f'{year}-01-10 00:00'\n",
    "\n",
    "# isolate the desired time period of our data\n",
    "ds_subset = ds.sortby('time').sel(time=slice(start_time, end_time))\n",
    "\n",
    "print(f'The dataset contains {len(ds_subset.time)} timesteps')"
   ]
  },
  {
   "cell_type": "markdown",
   "id": "9c369b39-3fef-4c1d-b3bd-92756ec56fdd",
   "metadata": {},
   "source": [
    "Let's rechunk our data now that we have many fewer elements."
   ]
  },
  {
   "cell_type": "code",
   "execution_count": null,
   "id": "528d524d-4cf7-447b-8734-495524b6048c",
   "metadata": {
    "tags": []
   },
   "outputs": [],
   "source": [
    "ds_subset = ds_subset.chunk(chunks={'time': 1000})"
   ]
  },
  {
   "cell_type": "code",
   "execution_count": null,
   "id": "cc148297-8733-4bff-b718-e164e004ae13",
   "metadata": {
    "tags": []
   },
   "outputs": [],
   "source": [
    "ds_subset.chunks"
   ]
  },
  {
   "cell_type": "markdown",
   "id": "9f00fb10-5bf0-4b31-b109-82c5d43796bc",
   "metadata": {},
   "source": [
    "Drop all data that we don't need. The goal here is to make the dataset as small as possible before we start running computations on the data."
   ]
  },
  {
   "cell_type": "code",
   "execution_count": null,
   "id": "b02c6a7c-1ea0-4b00-b27b-5e4d39c315d7",
   "metadata": {
    "tags": []
   },
   "outputs": [],
   "source": [
    "# drop unused coordinates\n",
    "ds_subset = ds_subset.drop(['lat','lon'])"
   ]
  },
  {
   "cell_type": "markdown",
   "id": "5bbf0058-9098-4047-bf38-dab95b5c97ab",
   "metadata": {},
   "source": [
    "Tell `dask` to perform the subsetting computations on the data now. That way when we process the zonal statistics, the entire dataset won't need to be moved around. This will save a considerable amount of processing in future steps time."
   ]
  },
  {
   "cell_type": "code",
   "execution_count": null,
   "id": "02672b33-fbde-4c62-ba6d-26ac501ef2fd",
   "metadata": {
    "tags": []
   },
   "outputs": [],
   "source": [
    "%%time \n",
    "ds_subset = ds_subset.compute()"
   ]
  },
  {
   "cell_type": "code",
   "execution_count": null,
   "id": "beec64d4-b0e1-434a-8cd0-f6e66c7079b4",
   "metadata": {
    "tags": []
   },
   "outputs": [],
   "source": [
    "ds_subset"
   ]
  },
  {
   "cell_type": "markdown",
   "id": "1e025945-b0b2-417e-b82a-5def64a4d5d4",
   "metadata": {},
   "source": [
    "Scatter the dataset to the cluster so all workers will have access to it. This is good practice and especially necessary if working on a large dataset."
   ]
  },
  {
   "cell_type": "code",
   "execution_count": null,
   "id": "756507ed-0cef-4e04-a31b-a16fc11b3ebf",
   "metadata": {
    "tags": []
   },
   "outputs": [],
   "source": [
    "%%time\n",
    "scattered_ds = client.scatter(ds_subset, broadcast=True)"
   ]
  },
  {
   "cell_type": "markdown",
   "id": "adb9bbd0-1ba7-4b04-95b9-94b0ef3c9af4",
   "metadata": {},
   "source": [
    "Build a list of `delayed` tasks. This will not execute the computation."
   ]
  },
  {
   "cell_type": "code",
   "execution_count": null,
   "id": "185b9b62-e48c-420a-b0be-14498b0045dc",
   "metadata": {
    "tags": []
   },
   "outputs": [],
   "source": [
    "%%time\n",
    "delayed = []\n",
    "\n",
    "# loop over each catchment in our domain\n",
    "# create delayed tasks to compute zonal mean\n",
    "for cat_id in catchment_ids:\n",
    "    delay = dask.delayed(perform_zonal_computation)(scattered_ds, cat_id)\n",
    "    delayed.append(delay)"
   ]
  },
  {
   "cell_type": "markdown",
   "id": "00c9bbb0-11ac-4372-a092-d2ff4839aa48",
   "metadata": {},
   "source": [
    "Invoke the computation using `dask.compute`."
   ]
  },
  {
   "cell_type": "code",
   "execution_count": null,
   "id": "08011b8c-01ce-460d-9dfc-26f2730c94f3",
   "metadata": {
    "tags": []
   },
   "outputs": [],
   "source": [
    "%%time \n",
    "\n",
    "# run the computation\n",
    "results = dask.compute(*delayed)"
   ]
  },
  {
   "cell_type": "markdown",
   "id": "0debf776-5ede-4f18-8595-90073448a27a",
   "metadata": {},
   "source": [
    "Save the basin averaged meteorological data in the format expected by `ngen`."
   ]
  },
  {
   "cell_type": "markdown",
   "id": "83002ba7-0a54-41a9-a367-d4ea23b9247b",
   "metadata": {},
   "source": [
    "The summarized AORC variables need to be mapped to the `ngen` model that we'll be using. The following table illustrates the mapping.\n",
    "\n",
    "|AORC Variable Name|NGEN Variable Name|Description|\n",
    "|---|---|---|\n",
    "| LWDOWN   | DLWRF_surface         | Surface downward long-wave radiation flux (W m-2) \n",
    "| PSFC     | PRES_surface          | Surface Pressure (Pa)\n",
    "| Q2D      | SPFH_2maboveground    | 2-m Specific Humidity (kg kg-1)\n",
    "| RAINRATE | ---                   | precipitation_flux (mm s^-1)\n",
    "| SWDOWN   | DSWRF_surface         | Surface downward short-wave radiation flux (W m-2)\n",
    "| T2D      | TMP_2maboveground     | 2-m Air Temperature (K)\n",
    "| U2D      | UGRD_10maboveground   | 10-m U-component of wind (m s-1)\n",
    "| V2D      | VGRD_10maboveground   | 10-m V-component of wind (m s-1)\n",
    "| ---      | APCP_surface          | Surface precipitation (kg/m^2)\n",
    "\n",
    "Note: our `ngen` model is expecting shortwave and longwave radiation at a height of 0 meters above ground whereas the AORC data has values are 2 meters above ground.\n",
    "\n",
    "References: [tshirt_c.h](https://github.com/NOAA-OWP/ngen/blob/f2725dfbb52f3af5083ce927e69733edbf059f57/models/tshirt/include/tshirt_c.h#L52), [sample forcing csv](https://github.com/NOAA-OWP/ngen/blob/master/data/forcing/cat-27_2015-12-01%2000_00_00_2015-12-30%2023_00_00.csv)"
   ]
  },
  {
   "cell_type": "markdown",
   "id": "5d9f0451-a11b-483e-9fbf-0b8e2bb43f89",
   "metadata": {},
   "source": [
    "## Save data as csv files"
   ]
  },
  {
   "cell_type": "code",
   "execution_count": null,
   "id": "b55bbc92-2813-4ec2-9a08-d8ab031a2f4b",
   "metadata": {
    "tags": []
   },
   "outputs": [],
   "source": [
    "\n",
    "# compute the date range for our data using start and end times\n",
    "# that were used in the subsetting process.\n",
    "dates = pandas.date_range(start_time, end_time, freq=\"60min\")\n",
    "\n",
    "# save the zonal means for each catchment\n",
    "for dat in results:\n",
    "    for cat in dat:\n",
    "        df = pandas.DataFrame({k:list(v) for k,v in dat[cat].items()})\n",
    "        df.fillna(0., inplace=True)\n",
    "        \n",
    "        # convert rainrate from mm/s to kg/m2\n",
    "        # mm/s - mm/hr = df.RAINRATE * 3600\n",
    "        # since the timestep is one hour, this is effectively the total rain in mm.\n",
    "        # 1 mm of rainfall is equal to 1kg/m2 so our conversion is:\n",
    "        # NOTE: we should only be considering the fraction of liquid precip which can\n",
    "        #       be computed using LQFRAC. However LQFRAC is zero for our data which \n",
    "        #       does not seem correct, so we'll assume that all precip is liquid. This\n",
    "        #       is something that needs to be revisited.\n",
    "        df['APCP_surface'] = df.RAINRATE * 3600\n",
    "\n",
    "        # rename columns to match the variable names expected by the ngen t-shirt model\n",
    "        df.rename(columns={\n",
    "            'LWDOWN'   : 'DLWRF_surface',\n",
    "            'PSFC'     : 'PRES_surface',\n",
    "            'Q2D'      : 'SPFH_2maboveground',\n",
    "            'SWDOWN'   : 'DSWRF_surface',\n",
    "            'T2D'      : 'TMP_2maboveground',\n",
    "            'U2D'      : 'UGRD_10maboveground',\n",
    "            'V2D'      : 'VGRD_10maboveground',\n",
    "            'RAINRATE' : 'precip_rate',\n",
    "        },\n",
    "                  inplace=True)\n",
    "               \n",
    "        # add the time index\n",
    "        df['time'] = dates\n",
    "        df.set_index('time', inplace=True)\n",
    "\n",
    "\n",
    "        # write to file\n",
    "        with open(f'{wb_id}/forcings/{cat}.csv', 'w') as f:\n",
    "            # Note: saving \"precip_rate\" because this column exists in the example \n",
    "            #       forcing files. It's not clear if this is being used or not.\n",
    "            df.to_csv(f,\n",
    "                      columns = ['APCP_surface',\n",
    "                                 'DLWRF_surface',\n",
    "                                 'DSWRF_surface',\n",
    "                                 'PRES_surface',\n",
    "                                 'SPFH_2maboveground',\n",
    "                                 'TMP_2maboveground',\n",
    "                                 'UGRD_10maboveground',\n",
    "                                 'VGRD_10maboveground',\n",
    "                                 'precip_rate'])\n",
    "            "
   ]
  },
  {
   "cell_type": "code",
   "execution_count": null,
   "id": "aaefb60b-0e94-498f-8787-7568f0262c9e",
   "metadata": {
    "tags": []
   },
   "outputs": [],
   "source": [
    "# check the number of catchments. \n",
    "print(gdf.shape[0])\n",
    "print(len(results))\n",
    "\n",
    "# If these are not equal, run the following code cell."
   ]
  },
  {
   "cell_type": "markdown",
   "id": "cf876139-e5f2-422d-ac23-18d4efb04963",
   "metadata": {},
   "source": [
    "Here is an example showing why some catchments are missing in the results."
   ]
  },
  {
   "cell_type": "markdown",
   "id": "1e70d131-c58c-4637-929e-3c28ac4b872f",
   "metadata": {},
   "source": [
    "<img src=\"./figures/missing_catchment_example.png\">"
   ]
  },
  {
   "cell_type": "code",
   "execution_count": null,
   "id": "f7c14988-7af8-4d77-92d2-92a99c5f33a4",
   "metadata": {
    "tags": []
   },
   "outputs": [],
   "source": [
    "computed_catchments = [list(r.keys())[0] for r in results]\n",
    "for cat_id in gdf['cat'].values:\n",
    "    known_catchment = f'cat-{int(cat_id)}'\n",
    "    if known_catchment not in computed_catchments:\n",
    "        print(f'Creating Synthetic Forcing for {known_catchment}')\n",
    "        synthetic_df = pandas.DataFrame(0, index=df.index, columns=['APCP_surface',\n",
    "                                                                    'DLWRF_surface',\n",
    "                                                                    'PRES_surface',\n",
    "                                                                    'SPFH_2maboveground',\n",
    "                                                                    'DSWRF_surface',\n",
    "                                                                    'TMP_2maboveground',\n",
    "                                                                    'UGRD_10maboveground',\n",
    "                                                                    'VGRD_10maboveground',\n",
    "                                                                    'precip_rate'])\n",
    "        # write to file\n",
    "        with open(f'{wb_id}/forcings/{known_catchment}.csv', 'w') as f:\n",
    "            df.to_csv(f,\n",
    "                      columns = ['APCP_surface',\n",
    "                                 'DLWRF_surface',\n",
    "                                 'DSWRF_surface',\n",
    "                                 'PRES_surface',\n",
    "                                 'SPFH_2maboveground',\n",
    "                                 'TMP_2maboveground',\n",
    "                                 'UGRD_10maboveground',\n",
    "                                 'VGRD_10maboveground',\n",
    "                                 'precip_rate'])\n",
    "            \n",
    "        "
   ]
  }
 ],
 "metadata": {
  "kernelspec": {
   "display_name": "Python 3 (ipykernel)",
   "language": "python",
   "name": "python3"
  },
  "language_info": {
   "codemirror_mode": {
    "name": "ipython",
    "version": 3
   },
   "file_extension": ".py",
   "mimetype": "text/x-python",
   "name": "python",
   "nbconvert_exporter": "python",
   "pygments_lexer": "ipython3",
   "version": "3.10.12"
  }
 },
 "nbformat": 4,
 "nbformat_minor": 5
}
