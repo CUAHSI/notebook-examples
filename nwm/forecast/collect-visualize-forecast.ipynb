{
 "cells": [
  {
   "cell_type": "markdown",
   "id": "755942a6-3447-4577-a72c-160e9e96dcff",
   "metadata": {},
   "source": [
    "## Collect and Visualize NWM Forecasts\n",
    "\n",
    "**Authors**: Anthony Castronova (acastronova@cuahsi.org), Irene Garousi-Nejad (igarousi@cuahsi.org)  <br>\n",
    "**Last updated**: \n",
    "\n",
    "This notebook demonstrates how to collect and visualize NWM forecast data. All data used in this notebook are publicly acessible via Amazon AWS. Streamflow data is collected from operational NWM medium-range forecasts (https://console.cloud.google.com/storage/browser/national-water-model/).\n",
    "\n",
    "This work was funded by:\n",
    "\n",
    " <img src=\"https://www.hydroshare.org/resource/dc269e23ff494a06b7372bc6034a5de2/data/contents/v3-SNOW/logo-img/CUAHSI-4-color-logo_with_URL.png\" width=\"300\" height=\"300\" style=\"padding-right:50px\"> <img src=\"https://www.hydroshare.org/resource/dc269e23ff494a06b7372bc6034a5de2/data/contents/v3-SNOW/logo-img/CIROHLogo_200x200.png\" width=\"100\" height=\"20\">    "
   ]
  },
  {
   "cell_type": "code",
   "execution_count": 2,
   "id": "56433a4a-8604-46ce-8565-32eac9eea9b7",
   "metadata": {
    "scrolled": true
   },
   "outputs": [],
   "source": [
    "import os\n",
    "os.environ['USE_PYGEOS'] = '0'\n",
    "\n",
    "import sys\n",
    "import zarr\n",
    "import numpy\n",
    "import xarray\n",
    "import rioxarray\n",
    "import geopandas\n",
    "import numpy as np\n",
    "import pandas as pd\n",
    "from typing import Dict\n",
    "from pathlib import Path\n",
    "from scipy import interpolate\n",
    "import matplotlib.pyplot as plt\n",
    "from dask.distributed import Client\n",
    "from datetime import datetime, timedelta\n",
    "from geocube.api.core import make_geocube\n",
    "\n",
    "# Import a utility library for collecting medium-range forecast data.\n",
    "import forecast"
   ]
  },
  {
   "cell_type": "code",
   "execution_count": 3,
   "id": "a472a6dd-3f0a-42e0-9170-fa137932fa9a",
   "metadata": {},
   "outputs": [
    {
     "name": "stdout",
     "output_type": "stream",
     "text": [
      "/user/castronova/proxy/8787/status\n"
     ]
    }
   ],
   "source": [
    "# use a try accept loop so we only instantiate the client\n",
    "# if it doesn't already exist.\n",
    "try:\n",
    "    print(client.dashboard_link)\n",
    "except:    \n",
    "    # The client should be customized to your workstation resources.\n",
    "    # Machine size -> 52 GB, 16 CPU\n",
    "    #client = Client()\n",
    "    client = Client(n_workers=6, memory_limit='4GB') # per worker\n",
    "    print(client.dashboard_link)"
   ]
  },
  {
   "cell_type": "markdown",
   "id": "be38c156-1de3-4114-8441-fe86ddd4fbe7",
   "metadata": {},
   "source": [
    "Define a feature of interest using an NHD+ Reach ID"
   ]
  },
  {
   "cell_type": "code",
   "execution_count": 4,
   "id": "57176cce-6273-4be6-9eca-f7faeabf3da5",
   "metadata": {},
   "outputs": [],
   "source": [
    "# NHD+ feature id of interest\n",
    "nhd_feature_id=4966269"
   ]
  },
  {
   "cell_type": "markdown",
   "id": "501c9402-d848-43f0-a527-ab86c36546f9",
   "metadata": {},
   "source": [
    "Collect streamflow for this `reach_id` using the `forecast.py` forecast utility."
   ]
  },
  {
   "cell_type": "code",
   "execution_count": 6,
   "id": "0fde1174-e3fb-434b-b719-b9beb761c3bd",
   "metadata": {
    "scrolled": true
   },
   "outputs": [
    {
     "name": "stdout",
     "output_type": "stream",
     "text": [
      "+ Collecting streamflow data...\n",
      "Data already exists at .cache/nwm.20240401/t00z_medium_range_blend.zarr, skipping download\n",
      "+ Loading single-file streamflow data..."
     ]
    },
    {
     "name": "stderr",
     "output_type": "stream",
     "text": [
      "/srv/conda/envs/notebook/lib/python3.10/site-packages/xarray/backends/plugins.py:159: RuntimeWarning: 'netcdf4' fails while guessing\n",
      "  warnings.warn(f\"{engine!r} fails while guessing\", RuntimeWarning)\n",
      "/srv/conda/envs/notebook/lib/python3.10/site-packages/xarray/backends/plugins.py:159: RuntimeWarning: 'h5netcdf' fails while guessing\n",
      "  warnings.warn(f\"{engine!r} fails while guessing\", RuntimeWarning)\n",
      "/srv/conda/envs/notebook/lib/python3.10/site-packages/xarray/backends/plugins.py:159: RuntimeWarning: 'scipy' fails while guessing\n",
      "  warnings.warn(f\"{engine!r} fails while guessing\", RuntimeWarning)\n"
     ]
    },
    {
     "name": "stdout",
     "output_type": "stream",
     "text": [
      "Elapsed time: 1.845954418182373\n",
      "+ Collecting streamflow data...\n",
      "Data already exists at .cache/nwm.20240402/t00z_medium_range_blend.zarr, skipping download\n",
      "+ Loading single-file streamflow data..."
     ]
    },
    {
     "name": "stderr",
     "output_type": "stream",
     "text": [
      "/srv/conda/envs/notebook/lib/python3.10/site-packages/xarray/backends/plugins.py:159: RuntimeWarning: 'netcdf4' fails while guessing\n",
      "  warnings.warn(f\"{engine!r} fails while guessing\", RuntimeWarning)\n",
      "/srv/conda/envs/notebook/lib/python3.10/site-packages/xarray/backends/plugins.py:159: RuntimeWarning: 'h5netcdf' fails while guessing\n",
      "  warnings.warn(f\"{engine!r} fails while guessing\", RuntimeWarning)\n",
      "/srv/conda/envs/notebook/lib/python3.10/site-packages/xarray/backends/plugins.py:159: RuntimeWarning: 'scipy' fails while guessing\n",
      "  warnings.warn(f\"{engine!r} fails while guessing\", RuntimeWarning)\n"
     ]
    },
    {
     "name": "stdout",
     "output_type": "stream",
     "text": [
      "Elapsed time: 0.320573091506958\n",
      "+ Collecting streamflow data...\n",
      "Data already exists at .cache/nwm.20240403/t00z_medium_range_blend.zarr, skipping download\n",
      "+ Loading single-file streamflow data..."
     ]
    },
    {
     "name": "stderr",
     "output_type": "stream",
     "text": [
      "/srv/conda/envs/notebook/lib/python3.10/site-packages/xarray/backends/plugins.py:159: RuntimeWarning: 'netcdf4' fails while guessing\n",
      "  warnings.warn(f\"{engine!r} fails while guessing\", RuntimeWarning)\n",
      "/srv/conda/envs/notebook/lib/python3.10/site-packages/xarray/backends/plugins.py:159: RuntimeWarning: 'h5netcdf' fails while guessing\n",
      "  warnings.warn(f\"{engine!r} fails while guessing\", RuntimeWarning)\n",
      "/srv/conda/envs/notebook/lib/python3.10/site-packages/xarray/backends/plugins.py:159: RuntimeWarning: 'scipy' fails while guessing\n",
      "  warnings.warn(f\"{engine!r} fails while guessing\", RuntimeWarning)\n"
     ]
    },
    {
     "name": "stdout",
     "output_type": "stream",
     "text": [
      "Elapsed time: 0.3409256935119629\n",
      "CPU times: user 2.3 s, sys: 274 ms, total: 2.57 s\n",
      "Wall time: 2.51 s\n"
     ]
    }
   ],
   "source": [
    "%%time\n",
    "\n",
    "destination_folder = \".cache\"\n",
    "forecast_mode = 'medium_range_blend'\n",
    "init_times = [0] \n",
    "\n",
    "# collect data for the reach above for multiple days\n",
    "start_date = datetime(2024, 4, 1)\n",
    "end_date = datetime(2024, 4, 3)\n",
    "delta = timedelta(days=1)\n",
    "dats = {}\n",
    "while start_date <= end_date:\n",
    "    ds = mediumrange.get_streamflow_for_reaches(start_date, init_times=init_times, reach_ids=[nhd_feature_id],\n",
    "                                                forecast_mode=forecast_mode,\n",
    "                                                merge_files=True,\n",
    "                                                merge_format='Zarr',\n",
    "                                                clean_on_success=False,\n",
    "                                                )\n",
    "    start_date += delta\n",
    "    dats.update(ds)"
   ]
  },
  {
   "cell_type": "code",
   "execution_count": 7,
   "id": "a7cfb84d-2448-4a41-a8da-aeabb4fb13b1",
   "metadata": {},
   "outputs": [
    {
     "data": {
      "text/plain": [
       "['20240401-medium_range_blend-t0z',\n",
       " '20240402-medium_range_blend-t0z',\n",
       " '20240403-medium_range_blend-t0z']"
      ]
     },
     "execution_count": 7,
     "metadata": {},
     "output_type": "execute_result"
    }
   ],
   "source": [
    "list(dats.keys())"
   ]
  },
  {
   "cell_type": "code",
   "execution_count": 14,
   "id": "d0860c38-68d8-40d6-acb2-8522fc3c0212",
   "metadata": {},
   "outputs": [
    {
     "name": "stdout",
     "output_type": "stream",
     "text": [
      "plotting 20240401-medium_range_blend-t0z\n",
      "plotting 20240402-medium_range_blend-t0z\n",
      "plotting 20240403-medium_range_blend-t0z\n"
     ]
    },
    {
     "data": {
      "text/plain": [
       "<matplotlib.legend.Legend at 0x7c99d012d240>"
      ]
     },
     "execution_count": 14,
     "metadata": {},
     "output_type": "execute_result"
    },
    {
     "data": {
      "image/png": "[encoded data removed]",
      "text/plain": [
       "<Figure size 640x480 with 1 Axes>"
      ]
     },
     "metadata": {},
     "output_type": "display_data"
    }
   ],
   "source": [
    "fig, ax = plt.subplots(1,1)\n",
    "\n",
    "for k, dat in dats.items():\n",
    "    print(f'plotting {k}')\n",
    "    dat.streamflow.plot(ax=ax, label=k);\n",
    "plt.grid()\n",
    "plt.legend()"
   ]
  },
  {
   "cell_type": "code",
   "execution_count": 16,
   "id": "3507a2f7-5a84-4812-ad02-973905a7e1a1",
   "metadata": {
    "scrolled": true
   },
   "outputs": [
    {
     "name": "stdout",
     "output_type": "stream",
     "text": [
      "+ Collecting streamflow data...\n",
      "Data already exists at .cache/nwm.20240401/t00z_short_range.zarr, skipping download\n",
      "+ Loading single-file streamflow data..."
     ]
    },
    {
     "name": "stderr",
     "output_type": "stream",
     "text": [
      "/srv/conda/envs/notebook/lib/python3.10/site-packages/xarray/backends/plugins.py:159: RuntimeWarning: 'netcdf4' fails while guessing\n",
      "  warnings.warn(f\"{engine!r} fails while guessing\", RuntimeWarning)\n",
      "/srv/conda/envs/notebook/lib/python3.10/site-packages/xarray/backends/plugins.py:159: RuntimeWarning: 'h5netcdf' fails while guessing\n",
      "  warnings.warn(f\"{engine!r} fails while guessing\", RuntimeWarning)\n",
      "/srv/conda/envs/notebook/lib/python3.10/site-packages/xarray/backends/plugins.py:159: RuntimeWarning: 'scipy' fails while guessing\n",
      "  warnings.warn(f\"{engine!r} fails while guessing\", RuntimeWarning)\n"
     ]
    },
    {
     "name": "stdout",
     "output_type": "stream",
     "text": [
      "Elapsed time: 0.3213841915130615\n",
      "+ Collecting streamflow data...\n",
      "Data already exists at .cache/nwm.20240401/t01z_short_range.zarr, skipping download\n",
      "+ Loading single-file streamflow data..."
     ]
    },
    {
     "name": "stderr",
     "output_type": "stream",
     "text": [
      "/srv/conda/envs/notebook/lib/python3.10/site-packages/xarray/backends/plugins.py:159: RuntimeWarning: 'netcdf4' fails while guessing\n",
      "  warnings.warn(f\"{engine!r} fails while guessing\", RuntimeWarning)\n",
      "/srv/conda/envs/notebook/lib/python3.10/site-packages/xarray/backends/plugins.py:159: RuntimeWarning: 'h5netcdf' fails while guessing\n",
      "  warnings.warn(f\"{engine!r} fails while guessing\", RuntimeWarning)\n",
      "/srv/conda/envs/notebook/lib/python3.10/site-packages/xarray/backends/plugins.py:159: RuntimeWarning: 'scipy' fails while guessing\n",
      "  warnings.warn(f\"{engine!r} fails while guessing\", RuntimeWarning)\n"
     ]
    },
    {
     "name": "stdout",
     "output_type": "stream",
     "text": [
      "Elapsed time: 0.3264756202697754\n",
      "+ Collecting streamflow data...\n",
      "Data already exists at .cache/nwm.20240401/t02z_short_range.zarr, skipping download\n",
      "+ Loading single-file streamflow data..."
     ]
    },
    {
     "name": "stderr",
     "output_type": "stream",
     "text": [
      "/srv/conda/envs/notebook/lib/python3.10/site-packages/xarray/backends/plugins.py:159: RuntimeWarning: 'netcdf4' fails while guessing\n",
      "  warnings.warn(f\"{engine!r} fails while guessing\", RuntimeWarning)\n",
      "/srv/conda/envs/notebook/lib/python3.10/site-packages/xarray/backends/plugins.py:159: RuntimeWarning: 'h5netcdf' fails while guessing\n",
      "  warnings.warn(f\"{engine!r} fails while guessing\", RuntimeWarning)\n",
      "/srv/conda/envs/notebook/lib/python3.10/site-packages/xarray/backends/plugins.py:159: RuntimeWarning: 'scipy' fails while guessing\n",
      "  warnings.warn(f\"{engine!r} fails while guessing\", RuntimeWarning)\n"
     ]
    },
    {
     "name": "stdout",
     "output_type": "stream",
     "text": [
      "Elapsed time: 0.31821131706237793\n",
      "+ Collecting streamflow data...\n",
      "Data already exists at .cache/nwm.20240401/t03z_short_range.zarr, skipping download\n",
      "+ Loading single-file streamflow data..."
     ]
    },
    {
     "name": "stderr",
     "output_type": "stream",
     "text": [
      "/srv/conda/envs/notebook/lib/python3.10/site-packages/xarray/backends/plugins.py:159: RuntimeWarning: 'netcdf4' fails while guessing\n",
      "  warnings.warn(f\"{engine!r} fails while guessing\", RuntimeWarning)\n",
      "/srv/conda/envs/notebook/lib/python3.10/site-packages/xarray/backends/plugins.py:159: RuntimeWarning: 'h5netcdf' fails while guessing\n",
      "  warnings.warn(f\"{engine!r} fails while guessing\", RuntimeWarning)\n",
      "/srv/conda/envs/notebook/lib/python3.10/site-packages/xarray/backends/plugins.py:159: RuntimeWarning: 'scipy' fails while guessing\n",
      "  warnings.warn(f\"{engine!r} fails while guessing\", RuntimeWarning)\n"
     ]
    },
    {
     "name": "stdout",
     "output_type": "stream",
     "text": [
      "Elapsed time: 0.3135347366333008\n",
      "+ Collecting streamflow data...\n",
      "Data already exists at .cache/nwm.20240401/t04z_short_range.zarr, skipping download\n",
      "+ Loading single-file streamflow data..."
     ]
    },
    {
     "name": "stderr",
     "output_type": "stream",
     "text": [
      "/srv/conda/envs/notebook/lib/python3.10/site-packages/xarray/backends/plugins.py:159: RuntimeWarning: 'netcdf4' fails while guessing\n",
      "  warnings.warn(f\"{engine!r} fails while guessing\", RuntimeWarning)\n",
      "/srv/conda/envs/notebook/lib/python3.10/site-packages/xarray/backends/plugins.py:159: RuntimeWarning: 'h5netcdf' fails while guessing\n",
      "  warnings.warn(f\"{engine!r} fails while guessing\", RuntimeWarning)\n",
      "/srv/conda/envs/notebook/lib/python3.10/site-packages/xarray/backends/plugins.py:159: RuntimeWarning: 'scipy' fails while guessing\n",
      "  warnings.warn(f\"{engine!r} fails while guessing\", RuntimeWarning)\n"
     ]
    },
    {
     "name": "stdout",
     "output_type": "stream",
     "text": [
      "Elapsed time: 0.3173654079437256\n",
      "+ Collecting streamflow data...\n",
      "Data already exists at .cache/nwm.20240401/t05z_short_range.zarr, skipping download\n",
      "+ Loading single-file streamflow data..."
     ]
    },
    {
     "name": "stderr",
     "output_type": "stream",
     "text": [
      "/srv/conda/envs/notebook/lib/python3.10/site-packages/xarray/backends/plugins.py:159: RuntimeWarning: 'netcdf4' fails while guessing\n",
      "  warnings.warn(f\"{engine!r} fails while guessing\", RuntimeWarning)\n",
      "/srv/conda/envs/notebook/lib/python3.10/site-packages/xarray/backends/plugins.py:159: RuntimeWarning: 'h5netcdf' fails while guessing\n",
      "  warnings.warn(f\"{engine!r} fails while guessing\", RuntimeWarning)\n",
      "/srv/conda/envs/notebook/lib/python3.10/site-packages/xarray/backends/plugins.py:159: RuntimeWarning: 'scipy' fails while guessing\n",
      "  warnings.warn(f\"{engine!r} fails while guessing\", RuntimeWarning)\n"
     ]
    },
    {
     "name": "stdout",
     "output_type": "stream",
     "text": [
      "Elapsed time: 0.32375073432922363\n",
      "+ Collecting streamflow data...\n",
      "Data already exists at .cache/nwm.20240401/t06z_short_range.zarr, skipping download\n",
      "+ Loading single-file streamflow data..."
     ]
    },
    {
     "name": "stderr",
     "output_type": "stream",
     "text": [
      "/srv/conda/envs/notebook/lib/python3.10/site-packages/xarray/backends/plugins.py:159: RuntimeWarning: 'netcdf4' fails while guessing\n",
      "  warnings.warn(f\"{engine!r} fails while guessing\", RuntimeWarning)\n",
      "/srv/conda/envs/notebook/lib/python3.10/site-packages/xarray/backends/plugins.py:159: RuntimeWarning: 'h5netcdf' fails while guessing\n",
      "  warnings.warn(f\"{engine!r} fails while guessing\", RuntimeWarning)\n",
      "/srv/conda/envs/notebook/lib/python3.10/site-packages/xarray/backends/plugins.py:159: RuntimeWarning: 'scipy' fails while guessing\n",
      "  warnings.warn(f\"{engine!r} fails while guessing\", RuntimeWarning)\n"
     ]
    },
    {
     "name": "stdout",
     "output_type": "stream",
     "text": [
      "Elapsed time: 0.3169670104980469\n",
      "+ Collecting streamflow data...\n",
      "Data already exists at .cache/nwm.20240401/t07z_short_range.zarr, skipping download\n",
      "+ Loading single-file streamflow data..."
     ]
    },
    {
     "name": "stderr",
     "output_type": "stream",
     "text": [
      "/srv/conda/envs/notebook/lib/python3.10/site-packages/xarray/backends/plugins.py:159: RuntimeWarning: 'netcdf4' fails while guessing\n",
      "  warnings.warn(f\"{engine!r} fails while guessing\", RuntimeWarning)\n",
      "/srv/conda/envs/notebook/lib/python3.10/site-packages/xarray/backends/plugins.py:159: RuntimeWarning: 'h5netcdf' fails while guessing\n",
      "  warnings.warn(f\"{engine!r} fails while guessing\", RuntimeWarning)\n",
      "/srv/conda/envs/notebook/lib/python3.10/site-packages/xarray/backends/plugins.py:159: RuntimeWarning: 'scipy' fails while guessing\n",
      "  warnings.warn(f\"{engine!r} fails while guessing\", RuntimeWarning)\n"
     ]
    },
    {
     "name": "stdout",
     "output_type": "stream",
     "text": [
      "Elapsed time: 0.3422539234161377\n",
      "+ Collecting streamflow data...\n",
      "Data already exists at .cache/nwm.20240401/t08z_short_range.zarr, skipping download\n",
      "+ Loading single-file streamflow data..."
     ]
    },
    {
     "name": "stderr",
     "output_type": "stream",
     "text": [
      "/srv/conda/envs/notebook/lib/python3.10/site-packages/xarray/backends/plugins.py:159: RuntimeWarning: 'netcdf4' fails while guessing\n",
      "  warnings.warn(f\"{engine!r} fails while guessing\", RuntimeWarning)\n",
      "/srv/conda/envs/notebook/lib/python3.10/site-packages/xarray/backends/plugins.py:159: RuntimeWarning: 'h5netcdf' fails while guessing\n",
      "  warnings.warn(f\"{engine!r} fails while guessing\", RuntimeWarning)\n",
      "/srv/conda/envs/notebook/lib/python3.10/site-packages/xarray/backends/plugins.py:159: RuntimeWarning: 'scipy' fails while guessing\n",
      "  warnings.warn(f\"{engine!r} fails while guessing\", RuntimeWarning)\n"
     ]
    },
    {
     "name": "stdout",
     "output_type": "stream",
     "text": [
      "Elapsed time: 0.3248302936553955\n",
      "+ Collecting streamflow data...\n",
      "Data already exists at .cache/nwm.20240401/t09z_short_range.zarr, skipping download\n",
      "+ Loading single-file streamflow data..."
     ]
    },
    {
     "name": "stderr",
     "output_type": "stream",
     "text": [
      "/srv/conda/envs/notebook/lib/python3.10/site-packages/xarray/backends/plugins.py:159: RuntimeWarning: 'netcdf4' fails while guessing\n",
      "  warnings.warn(f\"{engine!r} fails while guessing\", RuntimeWarning)\n",
      "/srv/conda/envs/notebook/lib/python3.10/site-packages/xarray/backends/plugins.py:159: RuntimeWarning: 'h5netcdf' fails while guessing\n",
      "  warnings.warn(f\"{engine!r} fails while guessing\", RuntimeWarning)\n",
      "/srv/conda/envs/notebook/lib/python3.10/site-packages/xarray/backends/plugins.py:159: RuntimeWarning: 'scipy' fails while guessing\n",
      "  warnings.warn(f\"{engine!r} fails while guessing\", RuntimeWarning)\n"
     ]
    },
    {
     "name": "stdout",
     "output_type": "stream",
     "text": [
      "Elapsed time: 0.3265855312347412\n",
      "+ Collecting streamflow data...\n",
      "Data already exists at .cache/nwm.20240401/t10z_short_range.zarr, skipping download\n",
      "+ Loading single-file streamflow data..."
     ]
    },
    {
     "name": "stderr",
     "output_type": "stream",
     "text": [
      "/srv/conda/envs/notebook/lib/python3.10/site-packages/xarray/backends/plugins.py:159: RuntimeWarning: 'netcdf4' fails while guessing\n",
      "  warnings.warn(f\"{engine!r} fails while guessing\", RuntimeWarning)\n",
      "/srv/conda/envs/notebook/lib/python3.10/site-packages/xarray/backends/plugins.py:159: RuntimeWarning: 'h5netcdf' fails while guessing\n",
      "  warnings.warn(f\"{engine!r} fails while guessing\", RuntimeWarning)\n",
      "/srv/conda/envs/notebook/lib/python3.10/site-packages/xarray/backends/plugins.py:159: RuntimeWarning: 'scipy' fails while guessing\n",
      "  warnings.warn(f\"{engine!r} fails while guessing\", RuntimeWarning)\n"
     ]
    },
    {
     "name": "stdout",
     "output_type": "stream",
     "text": [
      "Elapsed time: 0.3178558349609375\n",
      "+ Collecting streamflow data...\n",
      "Data already exists at .cache/nwm.20240401/t11z_short_range.zarr, skipping download\n",
      "+ Loading single-file streamflow data..."
     ]
    },
    {
     "name": "stderr",
     "output_type": "stream",
     "text": [
      "/srv/conda/envs/notebook/lib/python3.10/site-packages/xarray/backends/plugins.py:159: RuntimeWarning: 'netcdf4' fails while guessing\n",
      "  warnings.warn(f\"{engine!r} fails while guessing\", RuntimeWarning)\n",
      "/srv/conda/envs/notebook/lib/python3.10/site-packages/xarray/backends/plugins.py:159: RuntimeWarning: 'h5netcdf' fails while guessing\n",
      "  warnings.warn(f\"{engine!r} fails while guessing\", RuntimeWarning)\n",
      "/srv/conda/envs/notebook/lib/python3.10/site-packages/xarray/backends/plugins.py:159: RuntimeWarning: 'scipy' fails while guessing\n",
      "  warnings.warn(f\"{engine!r} fails while guessing\", RuntimeWarning)\n"
     ]
    },
    {
     "name": "stdout",
     "output_type": "stream",
     "text": [
      "Elapsed time: 0.320770263671875\n",
      "+ Collecting streamflow data...\n",
      "Data already exists at .cache/nwm.20240401/t12z_short_range.zarr, skipping download\n",
      "+ Loading single-file streamflow data..."
     ]
    },
    {
     "name": "stderr",
     "output_type": "stream",
     "text": [
      "/srv/conda/envs/notebook/lib/python3.10/site-packages/xarray/backends/plugins.py:159: RuntimeWarning: 'netcdf4' fails while guessing\n",
      "  warnings.warn(f\"{engine!r} fails while guessing\", RuntimeWarning)\n",
      "/srv/conda/envs/notebook/lib/python3.10/site-packages/xarray/backends/plugins.py:159: RuntimeWarning: 'h5netcdf' fails while guessing\n",
      "  warnings.warn(f\"{engine!r} fails while guessing\", RuntimeWarning)\n",
      "/srv/conda/envs/notebook/lib/python3.10/site-packages/xarray/backends/plugins.py:159: RuntimeWarning: 'scipy' fails while guessing\n",
      "  warnings.warn(f\"{engine!r} fails while guessing\", RuntimeWarning)\n"
     ]
    },
    {
     "name": "stdout",
     "output_type": "stream",
     "text": [
      "Elapsed time: 0.32021427154541016\n",
      "+ Collecting streamflow data...\n",
      "Data already exists at .cache/nwm.20240401/t13z_short_range.zarr, skipping download\n",
      "+ Loading single-file streamflow data..."
     ]
    },
    {
     "name": "stderr",
     "output_type": "stream",
     "text": [
      "/srv/conda/envs/notebook/lib/python3.10/site-packages/xarray/backends/plugins.py:159: RuntimeWarning: 'netcdf4' fails while guessing\n",
      "  warnings.warn(f\"{engine!r} fails while guessing\", RuntimeWarning)\n",
      "/srv/conda/envs/notebook/lib/python3.10/site-packages/xarray/backends/plugins.py:159: RuntimeWarning: 'h5netcdf' fails while guessing\n",
      "  warnings.warn(f\"{engine!r} fails while guessing\", RuntimeWarning)\n",
      "/srv/conda/envs/notebook/lib/python3.10/site-packages/xarray/backends/plugins.py:159: RuntimeWarning: 'scipy' fails while guessing\n",
      "  warnings.warn(f\"{engine!r} fails while guessing\", RuntimeWarning)\n"
     ]
    },
    {
     "name": "stdout",
     "output_type": "stream",
     "text": [
      "Elapsed time: 0.32285523414611816\n",
      "+ Collecting streamflow data...\n",
      "Data already exists at .cache/nwm.20240401/t14z_short_range.zarr, skipping download\n",
      "+ Loading single-file streamflow data..."
     ]
    },
    {
     "name": "stderr",
     "output_type": "stream",
     "text": [
      "/srv/conda/envs/notebook/lib/python3.10/site-packages/xarray/backends/plugins.py:159: RuntimeWarning: 'netcdf4' fails while guessing\n",
      "  warnings.warn(f\"{engine!r} fails while guessing\", RuntimeWarning)\n",
      "/srv/conda/envs/notebook/lib/python3.10/site-packages/xarray/backends/plugins.py:159: RuntimeWarning: 'h5netcdf' fails while guessing\n",
      "  warnings.warn(f\"{engine!r} fails while guessing\", RuntimeWarning)\n",
      "/srv/conda/envs/notebook/lib/python3.10/site-packages/xarray/backends/plugins.py:159: RuntimeWarning: 'scipy' fails while guessing\n",
      "  warnings.warn(f\"{engine!r} fails while guessing\", RuntimeWarning)\n"
     ]
    },
    {
     "name": "stdout",
     "output_type": "stream",
     "text": [
      "Elapsed time: 0.31522607803344727\n",
      "+ Collecting streamflow data...\n",
      "Data already exists at .cache/nwm.20240401/t15z_short_range.zarr, skipping download\n",
      "+ Loading single-file streamflow data..."
     ]
    },
    {
     "name": "stderr",
     "output_type": "stream",
     "text": [
      "/srv/conda/envs/notebook/lib/python3.10/site-packages/xarray/backends/plugins.py:159: RuntimeWarning: 'netcdf4' fails while guessing\n",
      "  warnings.warn(f\"{engine!r} fails while guessing\", RuntimeWarning)\n",
      "/srv/conda/envs/notebook/lib/python3.10/site-packages/xarray/backends/plugins.py:159: RuntimeWarning: 'h5netcdf' fails while guessing\n",
      "  warnings.warn(f\"{engine!r} fails while guessing\", RuntimeWarning)\n",
      "/srv/conda/envs/notebook/lib/python3.10/site-packages/xarray/backends/plugins.py:159: RuntimeWarning: 'scipy' fails while guessing\n",
      "  warnings.warn(f\"{engine!r} fails while guessing\", RuntimeWarning)\n"
     ]
    },
    {
     "name": "stdout",
     "output_type": "stream",
     "text": [
      "Elapsed time: 0.31812334060668945\n",
      "+ Collecting streamflow data...\n",
      "Data already exists at .cache/nwm.20240401/t16z_short_range.zarr, skipping download\n",
      "+ Loading single-file streamflow data..."
     ]
    },
    {
     "name": "stderr",
     "output_type": "stream",
     "text": [
      "/srv/conda/envs/notebook/lib/python3.10/site-packages/xarray/backends/plugins.py:159: RuntimeWarning: 'netcdf4' fails while guessing\n",
      "  warnings.warn(f\"{engine!r} fails while guessing\", RuntimeWarning)\n",
      "/srv/conda/envs/notebook/lib/python3.10/site-packages/xarray/backends/plugins.py:159: RuntimeWarning: 'h5netcdf' fails while guessing\n",
      "  warnings.warn(f\"{engine!r} fails while guessing\", RuntimeWarning)\n",
      "/srv/conda/envs/notebook/lib/python3.10/site-packages/xarray/backends/plugins.py:159: RuntimeWarning: 'scipy' fails while guessing\n",
      "  warnings.warn(f\"{engine!r} fails while guessing\", RuntimeWarning)\n"
     ]
    },
    {
     "name": "stdout",
     "output_type": "stream",
     "text": [
      "Elapsed time: 0.31844282150268555\n",
      "+ Collecting streamflow data...\n",
      "Data already exists at .cache/nwm.20240401/t17z_short_range.zarr, skipping download\n",
      "+ Loading single-file streamflow data..."
     ]
    },
    {
     "name": "stderr",
     "output_type": "stream",
     "text": [
      "/srv/conda/envs/notebook/lib/python3.10/site-packages/xarray/backends/plugins.py:159: RuntimeWarning: 'netcdf4' fails while guessing\n",
      "  warnings.warn(f\"{engine!r} fails while guessing\", RuntimeWarning)\n",
      "/srv/conda/envs/notebook/lib/python3.10/site-packages/xarray/backends/plugins.py:159: RuntimeWarning: 'h5netcdf' fails while guessing\n",
      "  warnings.warn(f\"{engine!r} fails while guessing\", RuntimeWarning)\n",
      "/srv/conda/envs/notebook/lib/python3.10/site-packages/xarray/backends/plugins.py:159: RuntimeWarning: 'scipy' fails while guessing\n",
      "  warnings.warn(f\"{engine!r} fails while guessing\", RuntimeWarning)\n"
     ]
    },
    {
     "name": "stdout",
     "output_type": "stream",
     "text": [
      "Elapsed time: 0.3217172622680664\n",
      "+ Collecting streamflow data...\n",
      "Data already exists at .cache/nwm.20240401/t18z_short_range.zarr, skipping download\n",
      "+ Loading single-file streamflow data..."
     ]
    },
    {
     "name": "stderr",
     "output_type": "stream",
     "text": [
      "/srv/conda/envs/notebook/lib/python3.10/site-packages/xarray/backends/plugins.py:159: RuntimeWarning: 'netcdf4' fails while guessing\n",
      "  warnings.warn(f\"{engine!r} fails while guessing\", RuntimeWarning)\n",
      "/srv/conda/envs/notebook/lib/python3.10/site-packages/xarray/backends/plugins.py:159: RuntimeWarning: 'h5netcdf' fails while guessing\n",
      "  warnings.warn(f\"{engine!r} fails while guessing\", RuntimeWarning)\n",
      "/srv/conda/envs/notebook/lib/python3.10/site-packages/xarray/backends/plugins.py:159: RuntimeWarning: 'scipy' fails while guessing\n",
      "  warnings.warn(f\"{engine!r} fails while guessing\", RuntimeWarning)\n"
     ]
    },
    {
     "name": "stdout",
     "output_type": "stream",
     "text": [
      "Elapsed time: 0.31606578826904297\n",
      "+ Collecting streamflow data...\n",
      "Data already exists at .cache/nwm.20240401/t19z_short_range.zarr, skipping download\n",
      "+ Loading single-file streamflow data..."
     ]
    },
    {
     "name": "stderr",
     "output_type": "stream",
     "text": [
      "/srv/conda/envs/notebook/lib/python3.10/site-packages/xarray/backends/plugins.py:159: RuntimeWarning: 'netcdf4' fails while guessing\n",
      "  warnings.warn(f\"{engine!r} fails while guessing\", RuntimeWarning)\n",
      "/srv/conda/envs/notebook/lib/python3.10/site-packages/xarray/backends/plugins.py:159: RuntimeWarning: 'h5netcdf' fails while guessing\n",
      "  warnings.warn(f\"{engine!r} fails while guessing\", RuntimeWarning)\n",
      "/srv/conda/envs/notebook/lib/python3.10/site-packages/xarray/backends/plugins.py:159: RuntimeWarning: 'scipy' fails while guessing\n",
      "  warnings.warn(f\"{engine!r} fails while guessing\", RuntimeWarning)\n"
     ]
    },
    {
     "name": "stdout",
     "output_type": "stream",
     "text": [
      "Elapsed time: 0.31975698471069336\n",
      "+ Collecting streamflow data...\n",
      "Data already exists at .cache/nwm.20240401/t20z_short_range.zarr, skipping download\n",
      "+ Loading single-file streamflow data..."
     ]
    },
    {
     "name": "stderr",
     "output_type": "stream",
     "text": [
      "/srv/conda/envs/notebook/lib/python3.10/site-packages/xarray/backends/plugins.py:159: RuntimeWarning: 'netcdf4' fails while guessing\n",
      "  warnings.warn(f\"{engine!r} fails while guessing\", RuntimeWarning)\n",
      "/srv/conda/envs/notebook/lib/python3.10/site-packages/xarray/backends/plugins.py:159: RuntimeWarning: 'h5netcdf' fails while guessing\n",
      "  warnings.warn(f\"{engine!r} fails while guessing\", RuntimeWarning)\n",
      "/srv/conda/envs/notebook/lib/python3.10/site-packages/xarray/backends/plugins.py:159: RuntimeWarning: 'scipy' fails while guessing\n",
      "  warnings.warn(f\"{engine!r} fails while guessing\", RuntimeWarning)\n"
     ]
    },
    {
     "name": "stdout",
     "output_type": "stream",
     "text": [
      "Elapsed time: 0.3138270378112793\n",
      "+ Collecting streamflow data...\n",
      "Data already exists at .cache/nwm.20240401/t21z_short_range.zarr, skipping download\n",
      "+ Loading single-file streamflow data..."
     ]
    },
    {
     "name": "stderr",
     "output_type": "stream",
     "text": [
      "/srv/conda/envs/notebook/lib/python3.10/site-packages/xarray/backends/plugins.py:159: RuntimeWarning: 'netcdf4' fails while guessing\n",
      "  warnings.warn(f\"{engine!r} fails while guessing\", RuntimeWarning)\n",
      "/srv/conda/envs/notebook/lib/python3.10/site-packages/xarray/backends/plugins.py:159: RuntimeWarning: 'h5netcdf' fails while guessing\n",
      "  warnings.warn(f\"{engine!r} fails while guessing\", RuntimeWarning)\n",
      "/srv/conda/envs/notebook/lib/python3.10/site-packages/xarray/backends/plugins.py:159: RuntimeWarning: 'scipy' fails while guessing\n",
      "  warnings.warn(f\"{engine!r} fails while guessing\", RuntimeWarning)\n"
     ]
    },
    {
     "name": "stdout",
     "output_type": "stream",
     "text": [
      "Elapsed time: 0.3196680545806885\n",
      "+ Collecting streamflow data...\n",
      "Data already exists at .cache/nwm.20240401/t22z_short_range.zarr, skipping download\n",
      "+ Loading single-file streamflow data..."
     ]
    },
    {
     "name": "stderr",
     "output_type": "stream",
     "text": [
      "/srv/conda/envs/notebook/lib/python3.10/site-packages/xarray/backends/plugins.py:159: RuntimeWarning: 'netcdf4' fails while guessing\n",
      "  warnings.warn(f\"{engine!r} fails while guessing\", RuntimeWarning)\n",
      "/srv/conda/envs/notebook/lib/python3.10/site-packages/xarray/backends/plugins.py:159: RuntimeWarning: 'h5netcdf' fails while guessing\n",
      "  warnings.warn(f\"{engine!r} fails while guessing\", RuntimeWarning)\n",
      "/srv/conda/envs/notebook/lib/python3.10/site-packages/xarray/backends/plugins.py:159: RuntimeWarning: 'scipy' fails while guessing\n",
      "  warnings.warn(f\"{engine!r} fails while guessing\", RuntimeWarning)\n"
     ]
    },
    {
     "name": "stdout",
     "output_type": "stream",
     "text": [
      "Elapsed time: 0.3155691623687744\n",
      "+ Collecting streamflow data...\n",
      "Data already exists at .cache/nwm.20240401/t23z_short_range.zarr, skipping download\n",
      "+ Loading single-file streamflow data..."
     ]
    },
    {
     "name": "stderr",
     "output_type": "stream",
     "text": [
      "/srv/conda/envs/notebook/lib/python3.10/site-packages/xarray/backends/plugins.py:159: RuntimeWarning: 'netcdf4' fails while guessing\n",
      "  warnings.warn(f\"{engine!r} fails while guessing\", RuntimeWarning)\n",
      "/srv/conda/envs/notebook/lib/python3.10/site-packages/xarray/backends/plugins.py:159: RuntimeWarning: 'h5netcdf' fails while guessing\n",
      "  warnings.warn(f\"{engine!r} fails while guessing\", RuntimeWarning)\n",
      "/srv/conda/envs/notebook/lib/python3.10/site-packages/xarray/backends/plugins.py:159: RuntimeWarning: 'scipy' fails while guessing\n",
      "  warnings.warn(f\"{engine!r} fails while guessing\", RuntimeWarning)\n"
     ]
    },
    {
     "name": "stdout",
     "output_type": "stream",
     "text": [
      "Elapsed time: 0.3187248706817627\n",
      "+ Collecting streamflow data...\n",
      "Data already exists at .cache/nwm.20240402/t00z_short_range.zarr, skipping download\n",
      "+ Loading single-file streamflow data..."
     ]
    },
    {
     "name": "stderr",
     "output_type": "stream",
     "text": [
      "/srv/conda/envs/notebook/lib/python3.10/site-packages/xarray/backends/plugins.py:159: RuntimeWarning: 'netcdf4' fails while guessing\n",
      "  warnings.warn(f\"{engine!r} fails while guessing\", RuntimeWarning)\n",
      "/srv/conda/envs/notebook/lib/python3.10/site-packages/xarray/backends/plugins.py:159: RuntimeWarning: 'h5netcdf' fails while guessing\n",
      "  warnings.warn(f\"{engine!r} fails while guessing\", RuntimeWarning)\n",
      "/srv/conda/envs/notebook/lib/python3.10/site-packages/xarray/backends/plugins.py:159: RuntimeWarning: 'scipy' fails while guessing\n",
      "  warnings.warn(f\"{engine!r} fails while guessing\", RuntimeWarning)\n"
     ]
    },
    {
     "name": "stdout",
     "output_type": "stream",
     "text": [
      "Elapsed time: 0.3191866874694824\n",
      "+ Collecting streamflow data...\n",
      "Data already exists at .cache/nwm.20240402/t01z_short_range.zarr, skipping download\n",
      "+ Loading single-file streamflow data..."
     ]
    },
    {
     "name": "stderr",
     "output_type": "stream",
     "text": [
      "/srv/conda/envs/notebook/lib/python3.10/site-packages/xarray/backends/plugins.py:159: RuntimeWarning: 'netcdf4' fails while guessing\n",
      "  warnings.warn(f\"{engine!r} fails while guessing\", RuntimeWarning)\n",
      "/srv/conda/envs/notebook/lib/python3.10/site-packages/xarray/backends/plugins.py:159: RuntimeWarning: 'h5netcdf' fails while guessing\n",
      "  warnings.warn(f\"{engine!r} fails while guessing\", RuntimeWarning)\n",
      "/srv/conda/envs/notebook/lib/python3.10/site-packages/xarray/backends/plugins.py:159: RuntimeWarning: 'scipy' fails while guessing\n",
      "  warnings.warn(f\"{engine!r} fails while guessing\", RuntimeWarning)\n"
     ]
    },
    {
     "name": "stdout",
     "output_type": "stream",
     "text": [
      "Elapsed time: 0.3348884582519531\n",
      "+ Collecting streamflow data...\n",
      "Data already exists at .cache/nwm.20240402/t02z_short_range.zarr, skipping download\n",
      "+ Loading single-file streamflow data..."
     ]
    },
    {
     "name": "stderr",
     "output_type": "stream",
     "text": [
      "/srv/conda/envs/notebook/lib/python3.10/site-packages/xarray/backends/plugins.py:159: RuntimeWarning: 'netcdf4' fails while guessing\n",
      "  warnings.warn(f\"{engine!r} fails while guessing\", RuntimeWarning)\n",
      "/srv/conda/envs/notebook/lib/python3.10/site-packages/xarray/backends/plugins.py:159: RuntimeWarning: 'h5netcdf' fails while guessing\n",
      "  warnings.warn(f\"{engine!r} fails while guessing\", RuntimeWarning)\n",
      "/srv/conda/envs/notebook/lib/python3.10/site-packages/xarray/backends/plugins.py:159: RuntimeWarning: 'scipy' fails while guessing\n",
      "  warnings.warn(f\"{engine!r} fails while guessing\", RuntimeWarning)\n"
     ]
    },
    {
     "name": "stdout",
     "output_type": "stream",
     "text": [
      "Elapsed time: 0.314725399017334\n",
      "+ Collecting streamflow data...\n",
      "Data already exists at .cache/nwm.20240402/t03z_short_range.zarr, skipping download\n",
      "+ Loading single-file streamflow data..."
     ]
    },
    {
     "name": "stderr",
     "output_type": "stream",
     "text": [
      "/srv/conda/envs/notebook/lib/python3.10/site-packages/xarray/backends/plugins.py:159: RuntimeWarning: 'netcdf4' fails while guessing\n",
      "  warnings.warn(f\"{engine!r} fails while guessing\", RuntimeWarning)\n",
      "/srv/conda/envs/notebook/lib/python3.10/site-packages/xarray/backends/plugins.py:159: RuntimeWarning: 'h5netcdf' fails while guessing\n",
      "  warnings.warn(f\"{engine!r} fails while guessing\", RuntimeWarning)\n",
      "/srv/conda/envs/notebook/lib/python3.10/site-packages/xarray/backends/plugins.py:159: RuntimeWarning: 'scipy' fails while guessing\n",
      "  warnings.warn(f\"{engine!r} fails while guessing\", RuntimeWarning)\n"
     ]
    },
    {
     "name": "stdout",
     "output_type": "stream",
     "text": [
      "Elapsed time: 0.33973026275634766\n",
      "+ Collecting streamflow data...\n",
      "Data already exists at .cache/nwm.20240402/t04z_short_range.zarr, skipping download\n",
      "+ Loading single-file streamflow data..."
     ]
    },
    {
     "name": "stderr",
     "output_type": "stream",
     "text": [
      "/srv/conda/envs/notebook/lib/python3.10/site-packages/xarray/backends/plugins.py:159: RuntimeWarning: 'netcdf4' fails while guessing\n",
      "  warnings.warn(f\"{engine!r} fails while guessing\", RuntimeWarning)\n",
      "/srv/conda/envs/notebook/lib/python3.10/site-packages/xarray/backends/plugins.py:159: RuntimeWarning: 'h5netcdf' fails while guessing\n",
      "  warnings.warn(f\"{engine!r} fails while guessing\", RuntimeWarning)\n",
      "/srv/conda/envs/notebook/lib/python3.10/site-packages/xarray/backends/plugins.py:159: RuntimeWarning: 'scipy' fails while guessing\n",
      "  warnings.warn(f\"{engine!r} fails while guessing\", RuntimeWarning)\n"
     ]
    },
    {
     "name": "stdout",
     "output_type": "stream",
     "text": [
      "Elapsed time: 0.31884336471557617\n",
      "+ Collecting streamflow data...\n",
      "Data already exists at .cache/nwm.20240402/t05z_short_range.zarr, skipping download\n",
      "+ Loading single-file streamflow data..."
     ]
    },
    {
     "name": "stderr",
     "output_type": "stream",
     "text": [
      "/srv/conda/envs/notebook/lib/python3.10/site-packages/xarray/backends/plugins.py:159: RuntimeWarning: 'netcdf4' fails while guessing\n",
      "  warnings.warn(f\"{engine!r} fails while guessing\", RuntimeWarning)\n",
      "/srv/conda/envs/notebook/lib/python3.10/site-packages/xarray/backends/plugins.py:159: RuntimeWarning: 'h5netcdf' fails while guessing\n",
      "  warnings.warn(f\"{engine!r} fails while guessing\", RuntimeWarning)\n",
      "/srv/conda/envs/notebook/lib/python3.10/site-packages/xarray/backends/plugins.py:159: RuntimeWarning: 'scipy' fails while guessing\n",
      "  warnings.warn(f\"{engine!r} fails while guessing\", RuntimeWarning)\n"
     ]
    },
    {
     "name": "stdout",
     "output_type": "stream",
     "text": [
      "Elapsed time: 0.3356471061706543\n",
      "+ Collecting streamflow data...\n",
      "Data already exists at .cache/nwm.20240402/t06z_short_range.zarr, skipping download\n",
      "+ Loading single-file streamflow data..."
     ]
    },
    {
     "name": "stderr",
     "output_type": "stream",
     "text": [
      "/srv/conda/envs/notebook/lib/python3.10/site-packages/xarray/backends/plugins.py:159: RuntimeWarning: 'netcdf4' fails while guessing\n",
      "  warnings.warn(f\"{engine!r} fails while guessing\", RuntimeWarning)\n",
      "/srv/conda/envs/notebook/lib/python3.10/site-packages/xarray/backends/plugins.py:159: RuntimeWarning: 'h5netcdf' fails while guessing\n",
      "  warnings.warn(f\"{engine!r} fails while guessing\", RuntimeWarning)\n",
      "/srv/conda/envs/notebook/lib/python3.10/site-packages/xarray/backends/plugins.py:159: RuntimeWarning: 'scipy' fails while guessing\n",
      "  warnings.warn(f\"{engine!r} fails while guessing\", RuntimeWarning)\n"
     ]
    },
    {
     "name": "stdout",
     "output_type": "stream",
     "text": [
      "Elapsed time: 0.31708574295043945\n",
      "+ Collecting streamflow data...\n",
      "Data already exists at .cache/nwm.20240402/t07z_short_range.zarr, skipping download\n",
      "+ Loading single-file streamflow data..."
     ]
    },
    {
     "name": "stderr",
     "output_type": "stream",
     "text": [
      "/srv/conda/envs/notebook/lib/python3.10/site-packages/xarray/backends/plugins.py:159: RuntimeWarning: 'netcdf4' fails while guessing\n",
      "  warnings.warn(f\"{engine!r} fails while guessing\", RuntimeWarning)\n",
      "/srv/conda/envs/notebook/lib/python3.10/site-packages/xarray/backends/plugins.py:159: RuntimeWarning: 'h5netcdf' fails while guessing\n",
      "  warnings.warn(f\"{engine!r} fails while guessing\", RuntimeWarning)\n",
      "/srv/conda/envs/notebook/lib/python3.10/site-packages/xarray/backends/plugins.py:159: RuntimeWarning: 'scipy' fails while guessing\n",
      "  warnings.warn(f\"{engine!r} fails while guessing\", RuntimeWarning)\n"
     ]
    },
    {
     "name": "stdout",
     "output_type": "stream",
     "text": [
      "Elapsed time: 0.31337547302246094\n",
      "+ Collecting streamflow data...\n",
      "Data already exists at .cache/nwm.20240402/t08z_short_range.zarr, skipping download\n",
      "+ Loading single-file streamflow data..."
     ]
    },
    {
     "name": "stderr",
     "output_type": "stream",
     "text": [
      "/srv/conda/envs/notebook/lib/python3.10/site-packages/xarray/backends/plugins.py:159: RuntimeWarning: 'netcdf4' fails while guessing\n",
      "  warnings.warn(f\"{engine!r} fails while guessing\", RuntimeWarning)\n",
      "/srv/conda/envs/notebook/lib/python3.10/site-packages/xarray/backends/plugins.py:159: RuntimeWarning: 'h5netcdf' fails while guessing\n",
      "  warnings.warn(f\"{engine!r} fails while guessing\", RuntimeWarning)\n",
      "/srv/conda/envs/notebook/lib/python3.10/site-packages/xarray/backends/plugins.py:159: RuntimeWarning: 'scipy' fails while guessing\n",
      "  warnings.warn(f\"{engine!r} fails while guessing\", RuntimeWarning)\n"
     ]
    },
    {
     "name": "stdout",
     "output_type": "stream",
     "text": [
      "Elapsed time: 0.33008289337158203\n",
      "+ Collecting streamflow data...\n",
      "Data already exists at .cache/nwm.20240402/t09z_short_range.zarr, skipping download\n",
      "+ Loading single-file streamflow data..."
     ]
    },
    {
     "name": "stderr",
     "output_type": "stream",
     "text": [
      "/srv/conda/envs/notebook/lib/python3.10/site-packages/xarray/backends/plugins.py:159: RuntimeWarning: 'netcdf4' fails while guessing\n",
      "  warnings.warn(f\"{engine!r} fails while guessing\", RuntimeWarning)\n",
      "/srv/conda/envs/notebook/lib/python3.10/site-packages/xarray/backends/plugins.py:159: RuntimeWarning: 'h5netcdf' fails while guessing\n",
      "  warnings.warn(f\"{engine!r} fails while guessing\", RuntimeWarning)\n",
      "/srv/conda/envs/notebook/lib/python3.10/site-packages/xarray/backends/plugins.py:159: RuntimeWarning: 'scipy' fails while guessing\n",
      "  warnings.warn(f\"{engine!r} fails while guessing\", RuntimeWarning)\n"
     ]
    },
    {
     "name": "stdout",
     "output_type": "stream",
     "text": [
      "Elapsed time: 0.32038307189941406\n",
      "+ Collecting streamflow data...\n",
      "Data already exists at .cache/nwm.20240402/t10z_short_range.zarr, skipping download\n",
      "+ Loading single-file streamflow data..."
     ]
    },
    {
     "name": "stderr",
     "output_type": "stream",
     "text": [
      "/srv/conda/envs/notebook/lib/python3.10/site-packages/xarray/backends/plugins.py:159: RuntimeWarning: 'netcdf4' fails while guessing\n",
      "  warnings.warn(f\"{engine!r} fails while guessing\", RuntimeWarning)\n",
      "/srv/conda/envs/notebook/lib/python3.10/site-packages/xarray/backends/plugins.py:159: RuntimeWarning: 'h5netcdf' fails while guessing\n",
      "  warnings.warn(f\"{engine!r} fails while guessing\", RuntimeWarning)\n",
      "/srv/conda/envs/notebook/lib/python3.10/site-packages/xarray/backends/plugins.py:159: RuntimeWarning: 'scipy' fails while guessing\n",
      "  warnings.warn(f\"{engine!r} fails while guessing\", RuntimeWarning)\n"
     ]
    },
    {
     "name": "stdout",
     "output_type": "stream",
     "text": [
      "Elapsed time: 0.31815505027770996\n",
      "+ Collecting streamflow data...\n",
      "Data already exists at .cache/nwm.20240402/t11z_short_range.zarr, skipping download\n",
      "+ Loading single-file streamflow data..."
     ]
    },
    {
     "name": "stderr",
     "output_type": "stream",
     "text": [
      "/srv/conda/envs/notebook/lib/python3.10/site-packages/xarray/backends/plugins.py:159: RuntimeWarning: 'netcdf4' fails while guessing\n",
      "  warnings.warn(f\"{engine!r} fails while guessing\", RuntimeWarning)\n",
      "/srv/conda/envs/notebook/lib/python3.10/site-packages/xarray/backends/plugins.py:159: RuntimeWarning: 'h5netcdf' fails while guessing\n",
      "  warnings.warn(f\"{engine!r} fails while guessing\", RuntimeWarning)\n",
      "/srv/conda/envs/notebook/lib/python3.10/site-packages/xarray/backends/plugins.py:159: RuntimeWarning: 'scipy' fails while guessing\n",
      "  warnings.warn(f\"{engine!r} fails while guessing\", RuntimeWarning)\n"
     ]
    },
    {
     "name": "stdout",
     "output_type": "stream",
     "text": [
      "Elapsed time: 0.32155442237854004\n",
      "+ Collecting streamflow data...\n",
      "Data already exists at .cache/nwm.20240402/t12z_short_range.zarr, skipping download\n",
      "+ Loading single-file streamflow data..."
     ]
    },
    {
     "name": "stderr",
     "output_type": "stream",
     "text": [
      "/srv/conda/envs/notebook/lib/python3.10/site-packages/xarray/backends/plugins.py:159: RuntimeWarning: 'netcdf4' fails while guessing\n",
      "  warnings.warn(f\"{engine!r} fails while guessing\", RuntimeWarning)\n",
      "/srv/conda/envs/notebook/lib/python3.10/site-packages/xarray/backends/plugins.py:159: RuntimeWarning: 'h5netcdf' fails while guessing\n",
      "  warnings.warn(f\"{engine!r} fails while guessing\", RuntimeWarning)\n",
      "/srv/conda/envs/notebook/lib/python3.10/site-packages/xarray/backends/plugins.py:159: RuntimeWarning: 'scipy' fails while guessing\n",
      "  warnings.warn(f\"{engine!r} fails while guessing\", RuntimeWarning)\n"
     ]
    },
    {
     "name": "stdout",
     "output_type": "stream",
     "text": [
      "Elapsed time: 0.3224332332611084\n",
      "+ Collecting streamflow data...\n",
      "Data already exists at .cache/nwm.20240402/t13z_short_range.zarr, skipping download\n",
      "+ Loading single-file streamflow data..."
     ]
    },
    {
     "name": "stderr",
     "output_type": "stream",
     "text": [
      "/srv/conda/envs/notebook/lib/python3.10/site-packages/xarray/backends/plugins.py:159: RuntimeWarning: 'netcdf4' fails while guessing\n",
      "  warnings.warn(f\"{engine!r} fails while guessing\", RuntimeWarning)\n",
      "/srv/conda/envs/notebook/lib/python3.10/site-packages/xarray/backends/plugins.py:159: RuntimeWarning: 'h5netcdf' fails while guessing\n",
      "  warnings.warn(f\"{engine!r} fails while guessing\", RuntimeWarning)\n",
      "/srv/conda/envs/notebook/lib/python3.10/site-packages/xarray/backends/plugins.py:159: RuntimeWarning: 'scipy' fails while guessing\n",
      "  warnings.warn(f\"{engine!r} fails while guessing\", RuntimeWarning)\n"
     ]
    },
    {
     "name": "stdout",
     "output_type": "stream",
     "text": [
      "Elapsed time: 0.3196852207183838\n",
      "+ Collecting streamflow data...\n",
      "Data already exists at .cache/nwm.20240402/t14z_short_range.zarr, skipping download\n",
      "+ Loading single-file streamflow data..."
     ]
    },
    {
     "name": "stderr",
     "output_type": "stream",
     "text": [
      "/srv/conda/envs/notebook/lib/python3.10/site-packages/xarray/backends/plugins.py:159: RuntimeWarning: 'netcdf4' fails while guessing\n",
      "  warnings.warn(f\"{engine!r} fails while guessing\", RuntimeWarning)\n",
      "/srv/conda/envs/notebook/lib/python3.10/site-packages/xarray/backends/plugins.py:159: RuntimeWarning: 'h5netcdf' fails while guessing\n",
      "  warnings.warn(f\"{engine!r} fails while guessing\", RuntimeWarning)\n",
      "/srv/conda/envs/notebook/lib/python3.10/site-packages/xarray/backends/plugins.py:159: RuntimeWarning: 'scipy' fails while guessing\n",
      "  warnings.warn(f\"{engine!r} fails while guessing\", RuntimeWarning)\n"
     ]
    },
    {
     "name": "stdout",
     "output_type": "stream",
     "text": [
      "Elapsed time: 0.3241143226623535\n",
      "+ Collecting streamflow data...\n",
      "Data already exists at .cache/nwm.20240402/t15z_short_range.zarr, skipping download\n",
      "+ Loading single-file streamflow data..."
     ]
    },
    {
     "name": "stderr",
     "output_type": "stream",
     "text": [
      "/srv/conda/envs/notebook/lib/python3.10/site-packages/xarray/backends/plugins.py:159: RuntimeWarning: 'netcdf4' fails while guessing\n",
      "  warnings.warn(f\"{engine!r} fails while guessing\", RuntimeWarning)\n",
      "/srv/conda/envs/notebook/lib/python3.10/site-packages/xarray/backends/plugins.py:159: RuntimeWarning: 'h5netcdf' fails while guessing\n",
      "  warnings.warn(f\"{engine!r} fails while guessing\", RuntimeWarning)\n",
      "/srv/conda/envs/notebook/lib/python3.10/site-packages/xarray/backends/plugins.py:159: RuntimeWarning: 'scipy' fails while guessing\n",
      "  warnings.warn(f\"{engine!r} fails while guessing\", RuntimeWarning)\n"
     ]
    },
    {
     "name": "stdout",
     "output_type": "stream",
     "text": [
      "Elapsed time: 0.33092331886291504\n",
      "+ Collecting streamflow data...\n",
      "Data already exists at .cache/nwm.20240402/t16z_short_range.zarr, skipping download\n",
      "+ Loading single-file streamflow data..."
     ]
    },
    {
     "name": "stderr",
     "output_type": "stream",
     "text": [
      "/srv/conda/envs/notebook/lib/python3.10/site-packages/xarray/backends/plugins.py:159: RuntimeWarning: 'netcdf4' fails while guessing\n",
      "  warnings.warn(f\"{engine!r} fails while guessing\", RuntimeWarning)\n",
      "/srv/conda/envs/notebook/lib/python3.10/site-packages/xarray/backends/plugins.py:159: RuntimeWarning: 'h5netcdf' fails while guessing\n",
      "  warnings.warn(f\"{engine!r} fails while guessing\", RuntimeWarning)\n",
      "/srv/conda/envs/notebook/lib/python3.10/site-packages/xarray/backends/plugins.py:159: RuntimeWarning: 'scipy' fails while guessing\n",
      "  warnings.warn(f\"{engine!r} fails while guessing\", RuntimeWarning)\n"
     ]
    },
    {
     "name": "stdout",
     "output_type": "stream",
     "text": [
      "Elapsed time: 0.3273048400878906\n",
      "+ Collecting streamflow data...\n",
      "Data already exists at .cache/nwm.20240402/t17z_short_range.zarr, skipping download\n",
      "+ Loading single-file streamflow data..."
     ]
    },
    {
     "name": "stderr",
     "output_type": "stream",
     "text": [
      "/srv/conda/envs/notebook/lib/python3.10/site-packages/xarray/backends/plugins.py:159: RuntimeWarning: 'netcdf4' fails while guessing\n",
      "  warnings.warn(f\"{engine!r} fails while guessing\", RuntimeWarning)\n",
      "/srv/conda/envs/notebook/lib/python3.10/site-packages/xarray/backends/plugins.py:159: RuntimeWarning: 'h5netcdf' fails while guessing\n",
      "  warnings.warn(f\"{engine!r} fails while guessing\", RuntimeWarning)\n",
      "/srv/conda/envs/notebook/lib/python3.10/site-packages/xarray/backends/plugins.py:159: RuntimeWarning: 'scipy' fails while guessing\n",
      "  warnings.warn(f\"{engine!r} fails while guessing\", RuntimeWarning)\n"
     ]
    },
    {
     "name": "stdout",
     "output_type": "stream",
     "text": [
      "Elapsed time: 0.32497334480285645\n",
      "+ Collecting streamflow data...\n",
      "Data already exists at .cache/nwm.20240402/t18z_short_range.zarr, skipping download\n",
      "+ Loading single-file streamflow data..."
     ]
    },
    {
     "name": "stderr",
     "output_type": "stream",
     "text": [
      "/srv/conda/envs/notebook/lib/python3.10/site-packages/xarray/backends/plugins.py:159: RuntimeWarning: 'netcdf4' fails while guessing\n",
      "  warnings.warn(f\"{engine!r} fails while guessing\", RuntimeWarning)\n",
      "/srv/conda/envs/notebook/lib/python3.10/site-packages/xarray/backends/plugins.py:159: RuntimeWarning: 'h5netcdf' fails while guessing\n",
      "  warnings.warn(f\"{engine!r} fails while guessing\", RuntimeWarning)\n",
      "/srv/conda/envs/notebook/lib/python3.10/site-packages/xarray/backends/plugins.py:159: RuntimeWarning: 'scipy' fails while guessing\n",
      "  warnings.warn(f\"{engine!r} fails while guessing\", RuntimeWarning)\n"
     ]
    },
    {
     "name": "stdout",
     "output_type": "stream",
     "text": [
      "Elapsed time: 0.3299870491027832\n",
      "+ Collecting streamflow data...\n",
      "Data already exists at .cache/nwm.20240402/t19z_short_range.zarr, skipping download\n",
      "+ Loading single-file streamflow data..."
     ]
    },
    {
     "name": "stderr",
     "output_type": "stream",
     "text": [
      "/srv/conda/envs/notebook/lib/python3.10/site-packages/xarray/backends/plugins.py:159: RuntimeWarning: 'netcdf4' fails while guessing\n",
      "  warnings.warn(f\"{engine!r} fails while guessing\", RuntimeWarning)\n",
      "/srv/conda/envs/notebook/lib/python3.10/site-packages/xarray/backends/plugins.py:159: RuntimeWarning: 'h5netcdf' fails while guessing\n",
      "  warnings.warn(f\"{engine!r} fails while guessing\", RuntimeWarning)\n",
      "/srv/conda/envs/notebook/lib/python3.10/site-packages/xarray/backends/plugins.py:159: RuntimeWarning: 'scipy' fails while guessing\n",
      "  warnings.warn(f\"{engine!r} fails while guessing\", RuntimeWarning)\n"
     ]
    },
    {
     "name": "stdout",
     "output_type": "stream",
     "text": [
      "Elapsed time: 0.32219672203063965\n",
      "+ Collecting streamflow data...\n",
      "Data already exists at .cache/nwm.20240402/t20z_short_range.zarr, skipping download\n",
      "+ Loading single-file streamflow data..."
     ]
    },
    {
     "name": "stderr",
     "output_type": "stream",
     "text": [
      "/srv/conda/envs/notebook/lib/python3.10/site-packages/xarray/backends/plugins.py:159: RuntimeWarning: 'netcdf4' fails while guessing\n",
      "  warnings.warn(f\"{engine!r} fails while guessing\", RuntimeWarning)\n",
      "/srv/conda/envs/notebook/lib/python3.10/site-packages/xarray/backends/plugins.py:159: RuntimeWarning: 'h5netcdf' fails while guessing\n",
      "  warnings.warn(f\"{engine!r} fails while guessing\", RuntimeWarning)\n",
      "/srv/conda/envs/notebook/lib/python3.10/site-packages/xarray/backends/plugins.py:159: RuntimeWarning: 'scipy' fails while guessing\n",
      "  warnings.warn(f\"{engine!r} fails while guessing\", RuntimeWarning)\n"
     ]
    },
    {
     "name": "stdout",
     "output_type": "stream",
     "text": [
      "Elapsed time: 0.32942938804626465\n",
      "+ Collecting streamflow data...\n",
      "Data already exists at .cache/nwm.20240402/t21z_short_range.zarr, skipping download\n",
      "+ Loading single-file streamflow data..."
     ]
    },
    {
     "name": "stderr",
     "output_type": "stream",
     "text": [
      "/srv/conda/envs/notebook/lib/python3.10/site-packages/xarray/backends/plugins.py:159: RuntimeWarning: 'netcdf4' fails while guessing\n",
      "  warnings.warn(f\"{engine!r} fails while guessing\", RuntimeWarning)\n",
      "/srv/conda/envs/notebook/lib/python3.10/site-packages/xarray/backends/plugins.py:159: RuntimeWarning: 'h5netcdf' fails while guessing\n",
      "  warnings.warn(f\"{engine!r} fails while guessing\", RuntimeWarning)\n",
      "/srv/conda/envs/notebook/lib/python3.10/site-packages/xarray/backends/plugins.py:159: RuntimeWarning: 'scipy' fails while guessing\n",
      "  warnings.warn(f\"{engine!r} fails while guessing\", RuntimeWarning)\n"
     ]
    },
    {
     "name": "stdout",
     "output_type": "stream",
     "text": [
      "Elapsed time: 0.33109259605407715\n",
      "+ Collecting streamflow data...\n",
      "Data already exists at .cache/nwm.20240402/t22z_short_range.zarr, skipping download\n",
      "+ Loading single-file streamflow data..."
     ]
    },
    {
     "name": "stderr",
     "output_type": "stream",
     "text": [
      "/srv/conda/envs/notebook/lib/python3.10/site-packages/xarray/backends/plugins.py:159: RuntimeWarning: 'netcdf4' fails while guessing\n",
      "  warnings.warn(f\"{engine!r} fails while guessing\", RuntimeWarning)\n",
      "/srv/conda/envs/notebook/lib/python3.10/site-packages/xarray/backends/plugins.py:159: RuntimeWarning: 'h5netcdf' fails while guessing\n",
      "  warnings.warn(f\"{engine!r} fails while guessing\", RuntimeWarning)\n",
      "/srv/conda/envs/notebook/lib/python3.10/site-packages/xarray/backends/plugins.py:159: RuntimeWarning: 'scipy' fails while guessing\n",
      "  warnings.warn(f\"{engine!r} fails while guessing\", RuntimeWarning)\n"
     ]
    },
    {
     "name": "stdout",
     "output_type": "stream",
     "text": [
      "Elapsed time: 0.33101773262023926\n",
      "+ Collecting streamflow data...\n",
      "Data already exists at .cache/nwm.20240402/t23z_short_range.zarr, skipping download\n",
      "+ Loading single-file streamflow data..."
     ]
    },
    {
     "name": "stderr",
     "output_type": "stream",
     "text": [
      "/srv/conda/envs/notebook/lib/python3.10/site-packages/xarray/backends/plugins.py:159: RuntimeWarning: 'netcdf4' fails while guessing\n",
      "  warnings.warn(f\"{engine!r} fails while guessing\", RuntimeWarning)\n",
      "/srv/conda/envs/notebook/lib/python3.10/site-packages/xarray/backends/plugins.py:159: RuntimeWarning: 'h5netcdf' fails while guessing\n",
      "  warnings.warn(f\"{engine!r} fails while guessing\", RuntimeWarning)\n",
      "/srv/conda/envs/notebook/lib/python3.10/site-packages/xarray/backends/plugins.py:159: RuntimeWarning: 'scipy' fails while guessing\n",
      "  warnings.warn(f\"{engine!r} fails while guessing\", RuntimeWarning)\n"
     ]
    },
    {
     "name": "stdout",
     "output_type": "stream",
     "text": [
      "Elapsed time: 0.33539795875549316\n",
      "+ Collecting streamflow data...\n",
      "Data already exists at .cache/nwm.20240403/t00z_short_range.zarr, skipping download\n",
      "+ Loading single-file streamflow data..."
     ]
    },
    {
     "name": "stderr",
     "output_type": "stream",
     "text": [
      "/srv/conda/envs/notebook/lib/python3.10/site-packages/xarray/backends/plugins.py:159: RuntimeWarning: 'netcdf4' fails while guessing\n",
      "  warnings.warn(f\"{engine!r} fails while guessing\", RuntimeWarning)\n",
      "/srv/conda/envs/notebook/lib/python3.10/site-packages/xarray/backends/plugins.py:159: RuntimeWarning: 'h5netcdf' fails while guessing\n",
      "  warnings.warn(f\"{engine!r} fails while guessing\", RuntimeWarning)\n",
      "/srv/conda/envs/notebook/lib/python3.10/site-packages/xarray/backends/plugins.py:159: RuntimeWarning: 'scipy' fails while guessing\n",
      "  warnings.warn(f\"{engine!r} fails while guessing\", RuntimeWarning)\n"
     ]
    },
    {
     "name": "stdout",
     "output_type": "stream",
     "text": [
      "Elapsed time: 0.33722853660583496\n",
      "+ Collecting streamflow data...\n",
      "Data already exists at .cache/nwm.20240403/t01z_short_range.zarr, skipping download\n",
      "+ Loading single-file streamflow data..."
     ]
    },
    {
     "name": "stderr",
     "output_type": "stream",
     "text": [
      "/srv/conda/envs/notebook/lib/python3.10/site-packages/xarray/backends/plugins.py:159: RuntimeWarning: 'netcdf4' fails while guessing\n",
      "  warnings.warn(f\"{engine!r} fails while guessing\", RuntimeWarning)\n",
      "/srv/conda/envs/notebook/lib/python3.10/site-packages/xarray/backends/plugins.py:159: RuntimeWarning: 'h5netcdf' fails while guessing\n",
      "  warnings.warn(f\"{engine!r} fails while guessing\", RuntimeWarning)\n",
      "/srv/conda/envs/notebook/lib/python3.10/site-packages/xarray/backends/plugins.py:159: RuntimeWarning: 'scipy' fails while guessing\n",
      "  warnings.warn(f\"{engine!r} fails while guessing\", RuntimeWarning)\n"
     ]
    },
    {
     "name": "stdout",
     "output_type": "stream",
     "text": [
      "Elapsed time: 0.3236827850341797\n",
      "+ Collecting streamflow data...\n",
      "Data already exists at .cache/nwm.20240403/t02z_short_range.zarr, skipping download\n",
      "+ Loading single-file streamflow data..."
     ]
    },
    {
     "name": "stderr",
     "output_type": "stream",
     "text": [
      "/srv/conda/envs/notebook/lib/python3.10/site-packages/xarray/backends/plugins.py:159: RuntimeWarning: 'netcdf4' fails while guessing\n",
      "  warnings.warn(f\"{engine!r} fails while guessing\", RuntimeWarning)\n",
      "/srv/conda/envs/notebook/lib/python3.10/site-packages/xarray/backends/plugins.py:159: RuntimeWarning: 'h5netcdf' fails while guessing\n",
      "  warnings.warn(f\"{engine!r} fails while guessing\", RuntimeWarning)\n",
      "/srv/conda/envs/notebook/lib/python3.10/site-packages/xarray/backends/plugins.py:159: RuntimeWarning: 'scipy' fails while guessing\n",
      "  warnings.warn(f\"{engine!r} fails while guessing\", RuntimeWarning)\n"
     ]
    },
    {
     "name": "stdout",
     "output_type": "stream",
     "text": [
      "Elapsed time: 0.3182542324066162\n",
      "+ Collecting streamflow data...\n",
      "Data already exists at .cache/nwm.20240403/t03z_short_range.zarr, skipping download\n",
      "+ Loading single-file streamflow data..."
     ]
    },
    {
     "name": "stderr",
     "output_type": "stream",
     "text": [
      "/srv/conda/envs/notebook/lib/python3.10/site-packages/xarray/backends/plugins.py:159: RuntimeWarning: 'netcdf4' fails while guessing\n",
      "  warnings.warn(f\"{engine!r} fails while guessing\", RuntimeWarning)\n",
      "/srv/conda/envs/notebook/lib/python3.10/site-packages/xarray/backends/plugins.py:159: RuntimeWarning: 'h5netcdf' fails while guessing\n",
      "  warnings.warn(f\"{engine!r} fails while guessing\", RuntimeWarning)\n",
      "/srv/conda/envs/notebook/lib/python3.10/site-packages/xarray/backends/plugins.py:159: RuntimeWarning: 'scipy' fails while guessing\n",
      "  warnings.warn(f\"{engine!r} fails while guessing\", RuntimeWarning)\n"
     ]
    },
    {
     "name": "stdout",
     "output_type": "stream",
     "text": [
      "Elapsed time: 0.3237316608428955\n",
      "+ Collecting streamflow data...\n",
      "Data already exists at .cache/nwm.20240403/t04z_short_range.zarr, skipping download\n",
      "+ Loading single-file streamflow data..."
     ]
    },
    {
     "name": "stderr",
     "output_type": "stream",
     "text": [
      "/srv/conda/envs/notebook/lib/python3.10/site-packages/xarray/backends/plugins.py:159: RuntimeWarning: 'netcdf4' fails while guessing\n",
      "  warnings.warn(f\"{engine!r} fails while guessing\", RuntimeWarning)\n",
      "/srv/conda/envs/notebook/lib/python3.10/site-packages/xarray/backends/plugins.py:159: RuntimeWarning: 'h5netcdf' fails while guessing\n",
      "  warnings.warn(f\"{engine!r} fails while guessing\", RuntimeWarning)\n",
      "/srv/conda/envs/notebook/lib/python3.10/site-packages/xarray/backends/plugins.py:159: RuntimeWarning: 'scipy' fails while guessing\n",
      "  warnings.warn(f\"{engine!r} fails while guessing\", RuntimeWarning)\n"
     ]
    },
    {
     "name": "stdout",
     "output_type": "stream",
     "text": [
      "Elapsed time: 0.3121047019958496\n",
      "+ Collecting streamflow data...\n",
      "Data already exists at .cache/nwm.20240403/t05z_short_range.zarr, skipping download\n",
      "+ Loading single-file streamflow data..."
     ]
    },
    {
     "name": "stderr",
     "output_type": "stream",
     "text": [
      "/srv/conda/envs/notebook/lib/python3.10/site-packages/xarray/backends/plugins.py:159: RuntimeWarning: 'netcdf4' fails while guessing\n",
      "  warnings.warn(f\"{engine!r} fails while guessing\", RuntimeWarning)\n",
      "/srv/conda/envs/notebook/lib/python3.10/site-packages/xarray/backends/plugins.py:159: RuntimeWarning: 'h5netcdf' fails while guessing\n",
      "  warnings.warn(f\"{engine!r} fails while guessing\", RuntimeWarning)\n",
      "/srv/conda/envs/notebook/lib/python3.10/site-packages/xarray/backends/plugins.py:159: RuntimeWarning: 'scipy' fails while guessing\n",
      "  warnings.warn(f\"{engine!r} fails while guessing\", RuntimeWarning)\n"
     ]
    },
    {
     "name": "stdout",
     "output_type": "stream",
     "text": [
      "Elapsed time: 0.31836462020874023\n",
      "+ Collecting streamflow data...\n",
      "Data already exists at .cache/nwm.20240403/t06z_short_range.zarr, skipping download\n",
      "+ Loading single-file streamflow data..."
     ]
    },
    {
     "name": "stderr",
     "output_type": "stream",
     "text": [
      "/srv/conda/envs/notebook/lib/python3.10/site-packages/xarray/backends/plugins.py:159: RuntimeWarning: 'netcdf4' fails while guessing\n",
      "  warnings.warn(f\"{engine!r} fails while guessing\", RuntimeWarning)\n",
      "/srv/conda/envs/notebook/lib/python3.10/site-packages/xarray/backends/plugins.py:159: RuntimeWarning: 'h5netcdf' fails while guessing\n",
      "  warnings.warn(f\"{engine!r} fails while guessing\", RuntimeWarning)\n",
      "/srv/conda/envs/notebook/lib/python3.10/site-packages/xarray/backends/plugins.py:159: RuntimeWarning: 'scipy' fails while guessing\n",
      "  warnings.warn(f\"{engine!r} fails while guessing\", RuntimeWarning)\n"
     ]
    },
    {
     "name": "stdout",
     "output_type": "stream",
     "text": [
      "Elapsed time: 0.31952762603759766\n",
      "+ Collecting streamflow data...\n",
      "Data already exists at .cache/nwm.20240403/t07z_short_range.zarr, skipping download\n",
      "+ Loading single-file streamflow data..."
     ]
    },
    {
     "name": "stderr",
     "output_type": "stream",
     "text": [
      "/srv/conda/envs/notebook/lib/python3.10/site-packages/xarray/backends/plugins.py:159: RuntimeWarning: 'netcdf4' fails while guessing\n",
      "  warnings.warn(f\"{engine!r} fails while guessing\", RuntimeWarning)\n",
      "/srv/conda/envs/notebook/lib/python3.10/site-packages/xarray/backends/plugins.py:159: RuntimeWarning: 'h5netcdf' fails while guessing\n",
      "  warnings.warn(f\"{engine!r} fails while guessing\", RuntimeWarning)\n",
      "/srv/conda/envs/notebook/lib/python3.10/site-packages/xarray/backends/plugins.py:159: RuntimeWarning: 'scipy' fails while guessing\n",
      "  warnings.warn(f\"{engine!r} fails while guessing\", RuntimeWarning)\n"
     ]
    },
    {
     "name": "stdout",
     "output_type": "stream",
     "text": [
      "Elapsed time: 0.3308579921722412\n",
      "+ Collecting streamflow data...\n",
      "Data already exists at .cache/nwm.20240403/t08z_short_range.zarr, skipping download\n",
      "+ Loading single-file streamflow data..."
     ]
    },
    {
     "name": "stderr",
     "output_type": "stream",
     "text": [
      "/srv/conda/envs/notebook/lib/python3.10/site-packages/xarray/backends/plugins.py:159: RuntimeWarning: 'netcdf4' fails while guessing\n",
      "  warnings.warn(f\"{engine!r} fails while guessing\", RuntimeWarning)\n",
      "/srv/conda/envs/notebook/lib/python3.10/site-packages/xarray/backends/plugins.py:159: RuntimeWarning: 'h5netcdf' fails while guessing\n",
      "  warnings.warn(f\"{engine!r} fails while guessing\", RuntimeWarning)\n",
      "/srv/conda/envs/notebook/lib/python3.10/site-packages/xarray/backends/plugins.py:159: RuntimeWarning: 'scipy' fails while guessing\n",
      "  warnings.warn(f\"{engine!r} fails while guessing\", RuntimeWarning)\n"
     ]
    },
    {
     "name": "stdout",
     "output_type": "stream",
     "text": [
      "Elapsed time: 0.3214447498321533\n",
      "+ Collecting streamflow data...\n",
      "Data already exists at .cache/nwm.20240403/t09z_short_range.zarr, skipping download\n",
      "+ Loading single-file streamflow data..."
     ]
    },
    {
     "name": "stderr",
     "output_type": "stream",
     "text": [
      "/srv/conda/envs/notebook/lib/python3.10/site-packages/xarray/backends/plugins.py:159: RuntimeWarning: 'netcdf4' fails while guessing\n",
      "  warnings.warn(f\"{engine!r} fails while guessing\", RuntimeWarning)\n",
      "/srv/conda/envs/notebook/lib/python3.10/site-packages/xarray/backends/plugins.py:159: RuntimeWarning: 'h5netcdf' fails while guessing\n",
      "  warnings.warn(f\"{engine!r} fails while guessing\", RuntimeWarning)\n",
      "/srv/conda/envs/notebook/lib/python3.10/site-packages/xarray/backends/plugins.py:159: RuntimeWarning: 'scipy' fails while guessing\n",
      "  warnings.warn(f\"{engine!r} fails while guessing\", RuntimeWarning)\n"
     ]
    },
    {
     "name": "stdout",
     "output_type": "stream",
     "text": [
      "Elapsed time: 0.32660937309265137\n",
      "+ Collecting streamflow data...\n",
      "Data already exists at .cache/nwm.20240403/t10z_short_range.zarr, skipping download\n",
      "+ Loading single-file streamflow data..."
     ]
    },
    {
     "name": "stderr",
     "output_type": "stream",
     "text": [
      "/srv/conda/envs/notebook/lib/python3.10/site-packages/xarray/backends/plugins.py:159: RuntimeWarning: 'netcdf4' fails while guessing\n",
      "  warnings.warn(f\"{engine!r} fails while guessing\", RuntimeWarning)\n",
      "/srv/conda/envs/notebook/lib/python3.10/site-packages/xarray/backends/plugins.py:159: RuntimeWarning: 'h5netcdf' fails while guessing\n",
      "  warnings.warn(f\"{engine!r} fails while guessing\", RuntimeWarning)\n",
      "/srv/conda/envs/notebook/lib/python3.10/site-packages/xarray/backends/plugins.py:159: RuntimeWarning: 'scipy' fails while guessing\n",
      "  warnings.warn(f\"{engine!r} fails while guessing\", RuntimeWarning)\n"
     ]
    },
    {
     "name": "stdout",
     "output_type": "stream",
     "text": [
      "Elapsed time: 0.32494473457336426\n",
      "+ Collecting streamflow data...\n",
      "Data already exists at .cache/nwm.20240403/t11z_short_range.zarr, skipping download\n",
      "+ Loading single-file streamflow data..."
     ]
    },
    {
     "name": "stderr",
     "output_type": "stream",
     "text": [
      "/srv/conda/envs/notebook/lib/python3.10/site-packages/xarray/backends/plugins.py:159: RuntimeWarning: 'netcdf4' fails while guessing\n",
      "  warnings.warn(f\"{engine!r} fails while guessing\", RuntimeWarning)\n",
      "/srv/conda/envs/notebook/lib/python3.10/site-packages/xarray/backends/plugins.py:159: RuntimeWarning: 'h5netcdf' fails while guessing\n",
      "  warnings.warn(f\"{engine!r} fails while guessing\", RuntimeWarning)\n",
      "/srv/conda/envs/notebook/lib/python3.10/site-packages/xarray/backends/plugins.py:159: RuntimeWarning: 'scipy' fails while guessing\n",
      "  warnings.warn(f\"{engine!r} fails while guessing\", RuntimeWarning)\n"
     ]
    },
    {
     "name": "stdout",
     "output_type": "stream",
     "text": [
      "Elapsed time: 0.31613802909851074\n",
      "+ Collecting streamflow data...\n",
      "Data already exists at .cache/nwm.20240403/t12z_short_range.zarr, skipping download\n",
      "+ Loading single-file streamflow data..."
     ]
    },
    {
     "name": "stderr",
     "output_type": "stream",
     "text": [
      "/srv/conda/envs/notebook/lib/python3.10/site-packages/xarray/backends/plugins.py:159: RuntimeWarning: 'netcdf4' fails while guessing\n",
      "  warnings.warn(f\"{engine!r} fails while guessing\", RuntimeWarning)\n",
      "/srv/conda/envs/notebook/lib/python3.10/site-packages/xarray/backends/plugins.py:159: RuntimeWarning: 'h5netcdf' fails while guessing\n",
      "  warnings.warn(f\"{engine!r} fails while guessing\", RuntimeWarning)\n",
      "/srv/conda/envs/notebook/lib/python3.10/site-packages/xarray/backends/plugins.py:159: RuntimeWarning: 'scipy' fails while guessing\n",
      "  warnings.warn(f\"{engine!r} fails while guessing\", RuntimeWarning)\n"
     ]
    },
    {
     "name": "stdout",
     "output_type": "stream",
     "text": [
      "Elapsed time: 0.3328981399536133\n",
      "+ Collecting streamflow data...\n",
      "Data already exists at .cache/nwm.20240403/t13z_short_range.zarr, skipping download\n",
      "+ Loading single-file streamflow data..."
     ]
    },
    {
     "name": "stderr",
     "output_type": "stream",
     "text": [
      "/srv/conda/envs/notebook/lib/python3.10/site-packages/xarray/backends/plugins.py:159: RuntimeWarning: 'netcdf4' fails while guessing\n",
      "  warnings.warn(f\"{engine!r} fails while guessing\", RuntimeWarning)\n",
      "/srv/conda/envs/notebook/lib/python3.10/site-packages/xarray/backends/plugins.py:159: RuntimeWarning: 'h5netcdf' fails while guessing\n",
      "  warnings.warn(f\"{engine!r} fails while guessing\", RuntimeWarning)\n",
      "/srv/conda/envs/notebook/lib/python3.10/site-packages/xarray/backends/plugins.py:159: RuntimeWarning: 'scipy' fails while guessing\n",
      "  warnings.warn(f\"{engine!r} fails while guessing\", RuntimeWarning)\n"
     ]
    },
    {
     "name": "stdout",
     "output_type": "stream",
     "text": [
      "Elapsed time: 0.3288552761077881\n",
      "+ Collecting streamflow data...\n",
      "Data already exists at .cache/nwm.20240403/t14z_short_range.zarr, skipping download\n",
      "+ Loading single-file streamflow data..."
     ]
    },
    {
     "name": "stderr",
     "output_type": "stream",
     "text": [
      "/srv/conda/envs/notebook/lib/python3.10/site-packages/xarray/backends/plugins.py:159: RuntimeWarning: 'netcdf4' fails while guessing\n",
      "  warnings.warn(f\"{engine!r} fails while guessing\", RuntimeWarning)\n",
      "/srv/conda/envs/notebook/lib/python3.10/site-packages/xarray/backends/plugins.py:159: RuntimeWarning: 'h5netcdf' fails while guessing\n",
      "  warnings.warn(f\"{engine!r} fails while guessing\", RuntimeWarning)\n",
      "/srv/conda/envs/notebook/lib/python3.10/site-packages/xarray/backends/plugins.py:159: RuntimeWarning: 'scipy' fails while guessing\n",
      "  warnings.warn(f\"{engine!r} fails while guessing\", RuntimeWarning)\n"
     ]
    },
    {
     "name": "stdout",
     "output_type": "stream",
     "text": [
      "Elapsed time: 0.3286745548248291\n",
      "+ Collecting streamflow data...\n",
      "Data already exists at .cache/nwm.20240403/t15z_short_range.zarr, skipping download\n",
      "+ Loading single-file streamflow data..."
     ]
    },
    {
     "name": "stderr",
     "output_type": "stream",
     "text": [
      "/srv/conda/envs/notebook/lib/python3.10/site-packages/xarray/backends/plugins.py:159: RuntimeWarning: 'netcdf4' fails while guessing\n",
      "  warnings.warn(f\"{engine!r} fails while guessing\", RuntimeWarning)\n",
      "/srv/conda/envs/notebook/lib/python3.10/site-packages/xarray/backends/plugins.py:159: RuntimeWarning: 'h5netcdf' fails while guessing\n",
      "  warnings.warn(f\"{engine!r} fails while guessing\", RuntimeWarning)\n",
      "/srv/conda/envs/notebook/lib/python3.10/site-packages/xarray/backends/plugins.py:159: RuntimeWarning: 'scipy' fails while guessing\n",
      "  warnings.warn(f\"{engine!r} fails while guessing\", RuntimeWarning)\n"
     ]
    },
    {
     "name": "stdout",
     "output_type": "stream",
     "text": [
      "Elapsed time: 0.33504462242126465\n",
      "+ Collecting streamflow data...\n",
      "Data already exists at .cache/nwm.20240403/t16z_short_range.zarr, skipping download\n",
      "+ Loading single-file streamflow data..."
     ]
    },
    {
     "name": "stderr",
     "output_type": "stream",
     "text": [
      "/srv/conda/envs/notebook/lib/python3.10/site-packages/xarray/backends/plugins.py:159: RuntimeWarning: 'netcdf4' fails while guessing\n",
      "  warnings.warn(f\"{engine!r} fails while guessing\", RuntimeWarning)\n",
      "/srv/conda/envs/notebook/lib/python3.10/site-packages/xarray/backends/plugins.py:159: RuntimeWarning: 'h5netcdf' fails while guessing\n",
      "  warnings.warn(f\"{engine!r} fails while guessing\", RuntimeWarning)\n",
      "/srv/conda/envs/notebook/lib/python3.10/site-packages/xarray/backends/plugins.py:159: RuntimeWarning: 'scipy' fails while guessing\n",
      "  warnings.warn(f\"{engine!r} fails while guessing\", RuntimeWarning)\n"
     ]
    },
    {
     "name": "stdout",
     "output_type": "stream",
     "text": [
      "Elapsed time: 0.32110166549682617\n",
      "+ Collecting streamflow data...\n",
      "Data already exists at .cache/nwm.20240403/t17z_short_range.zarr, skipping download\n",
      "+ Loading single-file streamflow data..."
     ]
    },
    {
     "name": "stderr",
     "output_type": "stream",
     "text": [
      "/srv/conda/envs/notebook/lib/python3.10/site-packages/xarray/backends/plugins.py:159: RuntimeWarning: 'netcdf4' fails while guessing\n",
      "  warnings.warn(f\"{engine!r} fails while guessing\", RuntimeWarning)\n",
      "/srv/conda/envs/notebook/lib/python3.10/site-packages/xarray/backends/plugins.py:159: RuntimeWarning: 'h5netcdf' fails while guessing\n",
      "  warnings.warn(f\"{engine!r} fails while guessing\", RuntimeWarning)\n",
      "/srv/conda/envs/notebook/lib/python3.10/site-packages/xarray/backends/plugins.py:159: RuntimeWarning: 'scipy' fails while guessing\n",
      "  warnings.warn(f\"{engine!r} fails while guessing\", RuntimeWarning)\n"
     ]
    },
    {
     "name": "stdout",
     "output_type": "stream",
     "text": [
      "Elapsed time: 0.33191370964050293\n",
      "+ Collecting streamflow data...\n",
      "Data already exists at .cache/nwm.20240403/t18z_short_range.zarr, skipping download\n",
      "+ Loading single-file streamflow data..."
     ]
    },
    {
     "name": "stderr",
     "output_type": "stream",
     "text": [
      "/srv/conda/envs/notebook/lib/python3.10/site-packages/xarray/backends/plugins.py:159: RuntimeWarning: 'netcdf4' fails while guessing\n",
      "  warnings.warn(f\"{engine!r} fails while guessing\", RuntimeWarning)\n",
      "/srv/conda/envs/notebook/lib/python3.10/site-packages/xarray/backends/plugins.py:159: RuntimeWarning: 'h5netcdf' fails while guessing\n",
      "  warnings.warn(f\"{engine!r} fails while guessing\", RuntimeWarning)\n",
      "/srv/conda/envs/notebook/lib/python3.10/site-packages/xarray/backends/plugins.py:159: RuntimeWarning: 'scipy' fails while guessing\n",
      "  warnings.warn(f\"{engine!r} fails while guessing\", RuntimeWarning)\n"
     ]
    },
    {
     "name": "stdout",
     "output_type": "stream",
     "text": [
      "Elapsed time: 0.31801843643188477\n",
      "+ Collecting streamflow data...\n",
      "Data already exists at .cache/nwm.20240403/t19z_short_range.zarr, skipping download\n",
      "+ Loading single-file streamflow data..."
     ]
    },
    {
     "name": "stderr",
     "output_type": "stream",
     "text": [
      "/srv/conda/envs/notebook/lib/python3.10/site-packages/xarray/backends/plugins.py:159: RuntimeWarning: 'netcdf4' fails while guessing\n",
      "  warnings.warn(f\"{engine!r} fails while guessing\", RuntimeWarning)\n",
      "/srv/conda/envs/notebook/lib/python3.10/site-packages/xarray/backends/plugins.py:159: RuntimeWarning: 'h5netcdf' fails while guessing\n",
      "  warnings.warn(f\"{engine!r} fails while guessing\", RuntimeWarning)\n",
      "/srv/conda/envs/notebook/lib/python3.10/site-packages/xarray/backends/plugins.py:159: RuntimeWarning: 'scipy' fails while guessing\n",
      "  warnings.warn(f\"{engine!r} fails while guessing\", RuntimeWarning)\n"
     ]
    },
    {
     "name": "stdout",
     "output_type": "stream",
     "text": [
      "Elapsed time: 0.3149130344390869\n",
      "+ Collecting streamflow data...\n",
      "Data already exists at .cache/nwm.20240403/t20z_short_range.zarr, skipping download\n",
      "+ Loading single-file streamflow data..."
     ]
    },
    {
     "name": "stderr",
     "output_type": "stream",
     "text": [
      "/srv/conda/envs/notebook/lib/python3.10/site-packages/xarray/backends/plugins.py:159: RuntimeWarning: 'netcdf4' fails while guessing\n",
      "  warnings.warn(f\"{engine!r} fails while guessing\", RuntimeWarning)\n",
      "/srv/conda/envs/notebook/lib/python3.10/site-packages/xarray/backends/plugins.py:159: RuntimeWarning: 'h5netcdf' fails while guessing\n",
      "  warnings.warn(f\"{engine!r} fails while guessing\", RuntimeWarning)\n",
      "/srv/conda/envs/notebook/lib/python3.10/site-packages/xarray/backends/plugins.py:159: RuntimeWarning: 'scipy' fails while guessing\n",
      "  warnings.warn(f\"{engine!r} fails while guessing\", RuntimeWarning)\n"
     ]
    },
    {
     "name": "stdout",
     "output_type": "stream",
     "text": [
      "Elapsed time: 0.3145935535430908\n",
      "+ Collecting streamflow data...\n",
      "Data already exists at .cache/nwm.20240403/t21z_short_range.zarr, skipping download\n",
      "+ Loading single-file streamflow data..."
     ]
    },
    {
     "name": "stderr",
     "output_type": "stream",
     "text": [
      "/srv/conda/envs/notebook/lib/python3.10/site-packages/xarray/backends/plugins.py:159: RuntimeWarning: 'netcdf4' fails while guessing\n",
      "  warnings.warn(f\"{engine!r} fails while guessing\", RuntimeWarning)\n",
      "/srv/conda/envs/notebook/lib/python3.10/site-packages/xarray/backends/plugins.py:159: RuntimeWarning: 'h5netcdf' fails while guessing\n",
      "  warnings.warn(f\"{engine!r} fails while guessing\", RuntimeWarning)\n",
      "/srv/conda/envs/notebook/lib/python3.10/site-packages/xarray/backends/plugins.py:159: RuntimeWarning: 'scipy' fails while guessing\n",
      "  warnings.warn(f\"{engine!r} fails while guessing\", RuntimeWarning)\n"
     ]
    },
    {
     "name": "stdout",
     "output_type": "stream",
     "text": [
      "Elapsed time: 0.32258033752441406\n",
      "+ Collecting streamflow data...\n",
      "Data already exists at .cache/nwm.20240403/t22z_short_range.zarr, skipping download\n",
      "+ Loading single-file streamflow data..."
     ]
    },
    {
     "name": "stderr",
     "output_type": "stream",
     "text": [
      "/srv/conda/envs/notebook/lib/python3.10/site-packages/xarray/backends/plugins.py:159: RuntimeWarning: 'netcdf4' fails while guessing\n",
      "  warnings.warn(f\"{engine!r} fails while guessing\", RuntimeWarning)\n",
      "/srv/conda/envs/notebook/lib/python3.10/site-packages/xarray/backends/plugins.py:159: RuntimeWarning: 'h5netcdf' fails while guessing\n",
      "  warnings.warn(f\"{engine!r} fails while guessing\", RuntimeWarning)\n",
      "/srv/conda/envs/notebook/lib/python3.10/site-packages/xarray/backends/plugins.py:159: RuntimeWarning: 'scipy' fails while guessing\n",
      "  warnings.warn(f\"{engine!r} fails while guessing\", RuntimeWarning)\n"
     ]
    },
    {
     "name": "stdout",
     "output_type": "stream",
     "text": [
      "Elapsed time: 0.3249475955963135\n",
      "+ Collecting streamflow data...\n",
      "Data already exists at .cache/nwm.20240403/t23z_short_range.zarr, skipping download\n",
      "+ Loading single-file streamflow data..."
     ]
    },
    {
     "name": "stderr",
     "output_type": "stream",
     "text": [
      "/srv/conda/envs/notebook/lib/python3.10/site-packages/xarray/backends/plugins.py:159: RuntimeWarning: 'netcdf4' fails while guessing\n",
      "  warnings.warn(f\"{engine!r} fails while guessing\", RuntimeWarning)\n",
      "/srv/conda/envs/notebook/lib/python3.10/site-packages/xarray/backends/plugins.py:159: RuntimeWarning: 'h5netcdf' fails while guessing\n",
      "  warnings.warn(f\"{engine!r} fails while guessing\", RuntimeWarning)\n",
      "/srv/conda/envs/notebook/lib/python3.10/site-packages/xarray/backends/plugins.py:159: RuntimeWarning: 'scipy' fails while guessing\n",
      "  warnings.warn(f\"{engine!r} fails while guessing\", RuntimeWarning)\n"
     ]
    },
    {
     "name": "stdout",
     "output_type": "stream",
     "text": [
      "Elapsed time: 0.3220856189727783\n",
      "+ Collecting streamflow data...\n",
      "Data already exists at .cache/nwm.20240404/t00z_short_range.zarr, skipping download\n",
      "+ Loading single-file streamflow data..."
     ]
    },
    {
     "name": "stderr",
     "output_type": "stream",
     "text": [
      "/srv/conda/envs/notebook/lib/python3.10/site-packages/xarray/backends/plugins.py:159: RuntimeWarning: 'netcdf4' fails while guessing\n",
      "  warnings.warn(f\"{engine!r} fails while guessing\", RuntimeWarning)\n",
      "/srv/conda/envs/notebook/lib/python3.10/site-packages/xarray/backends/plugins.py:159: RuntimeWarning: 'h5netcdf' fails while guessing\n",
      "  warnings.warn(f\"{engine!r} fails while guessing\", RuntimeWarning)\n",
      "/srv/conda/envs/notebook/lib/python3.10/site-packages/xarray/backends/plugins.py:159: RuntimeWarning: 'scipy' fails while guessing\n",
      "  warnings.warn(f\"{engine!r} fails while guessing\", RuntimeWarning)\n"
     ]
    },
    {
     "name": "stdout",
     "output_type": "stream",
     "text": [
      "Elapsed time: 0.31696224212646484\n",
      "+ Collecting streamflow data...\n",
      "Data already exists at .cache/nwm.20240404/t01z_short_range.zarr, skipping download\n",
      "+ Loading single-file streamflow data..."
     ]
    },
    {
     "name": "stderr",
     "output_type": "stream",
     "text": [
      "/srv/conda/envs/notebook/lib/python3.10/site-packages/xarray/backends/plugins.py:159: RuntimeWarning: 'netcdf4' fails while guessing\n",
      "  warnings.warn(f\"{engine!r} fails while guessing\", RuntimeWarning)\n",
      "/srv/conda/envs/notebook/lib/python3.10/site-packages/xarray/backends/plugins.py:159: RuntimeWarning: 'h5netcdf' fails while guessing\n",
      "  warnings.warn(f\"{engine!r} fails while guessing\", RuntimeWarning)\n",
      "/srv/conda/envs/notebook/lib/python3.10/site-packages/xarray/backends/plugins.py:159: RuntimeWarning: 'scipy' fails while guessing\n",
      "  warnings.warn(f\"{engine!r} fails while guessing\", RuntimeWarning)\n"
     ]
    },
    {
     "name": "stdout",
     "output_type": "stream",
     "text": [
      "Elapsed time: 0.321148157119751\n",
      "+ Collecting streamflow data...\n",
      "Data already exists at .cache/nwm.20240404/t02z_short_range.zarr, skipping download\n",
      "+ Loading single-file streamflow data..."
     ]
    },
    {
     "name": "stderr",
     "output_type": "stream",
     "text": [
      "/srv/conda/envs/notebook/lib/python3.10/site-packages/xarray/backends/plugins.py:159: RuntimeWarning: 'netcdf4' fails while guessing\n",
      "  warnings.warn(f\"{engine!r} fails while guessing\", RuntimeWarning)\n",
      "/srv/conda/envs/notebook/lib/python3.10/site-packages/xarray/backends/plugins.py:159: RuntimeWarning: 'h5netcdf' fails while guessing\n",
      "  warnings.warn(f\"{engine!r} fails while guessing\", RuntimeWarning)\n",
      "/srv/conda/envs/notebook/lib/python3.10/site-packages/xarray/backends/plugins.py:159: RuntimeWarning: 'scipy' fails while guessing\n",
      "  warnings.warn(f\"{engine!r} fails while guessing\", RuntimeWarning)\n"
     ]
    },
    {
     "name": "stdout",
     "output_type": "stream",
     "text": [
      "Elapsed time: 0.3203418254852295\n",
      "+ Collecting streamflow data...\n",
      "Data already exists at .cache/nwm.20240404/t03z_short_range.zarr, skipping download\n",
      "+ Loading single-file streamflow data..."
     ]
    },
    {
     "name": "stderr",
     "output_type": "stream",
     "text": [
      "/srv/conda/envs/notebook/lib/python3.10/site-packages/xarray/backends/plugins.py:159: RuntimeWarning: 'netcdf4' fails while guessing\n",
      "  warnings.warn(f\"{engine!r} fails while guessing\", RuntimeWarning)\n",
      "/srv/conda/envs/notebook/lib/python3.10/site-packages/xarray/backends/plugins.py:159: RuntimeWarning: 'h5netcdf' fails while guessing\n",
      "  warnings.warn(f\"{engine!r} fails while guessing\", RuntimeWarning)\n",
      "/srv/conda/envs/notebook/lib/python3.10/site-packages/xarray/backends/plugins.py:159: RuntimeWarning: 'scipy' fails while guessing\n",
      "  warnings.warn(f\"{engine!r} fails while guessing\", RuntimeWarning)\n"
     ]
    },
    {
     "name": "stdout",
     "output_type": "stream",
     "text": [
      "Elapsed time: 0.3237018585205078\n",
      "+ Collecting streamflow data...\n",
      "Data already exists at .cache/nwm.20240404/t04z_short_range.zarr, skipping download\n",
      "+ Loading single-file streamflow data..."
     ]
    },
    {
     "name": "stderr",
     "output_type": "stream",
     "text": [
      "/srv/conda/envs/notebook/lib/python3.10/site-packages/xarray/backends/plugins.py:159: RuntimeWarning: 'netcdf4' fails while guessing\n",
      "  warnings.warn(f\"{engine!r} fails while guessing\", RuntimeWarning)\n",
      "/srv/conda/envs/notebook/lib/python3.10/site-packages/xarray/backends/plugins.py:159: RuntimeWarning: 'h5netcdf' fails while guessing\n",
      "  warnings.warn(f\"{engine!r} fails while guessing\", RuntimeWarning)\n",
      "/srv/conda/envs/notebook/lib/python3.10/site-packages/xarray/backends/plugins.py:159: RuntimeWarning: 'scipy' fails while guessing\n",
      "  warnings.warn(f\"{engine!r} fails while guessing\", RuntimeWarning)\n"
     ]
    },
    {
     "name": "stdout",
     "output_type": "stream",
     "text": [
      "Elapsed time: 0.32510876655578613\n",
      "+ Collecting streamflow data...\n",
      "Data already exists at .cache/nwm.20240404/t05z_short_range.zarr, skipping download\n",
      "+ Loading single-file streamflow data..."
     ]
    },
    {
     "name": "stderr",
     "output_type": "stream",
     "text": [
      "/srv/conda/envs/notebook/lib/python3.10/site-packages/xarray/backends/plugins.py:159: RuntimeWarning: 'netcdf4' fails while guessing\n",
      "  warnings.warn(f\"{engine!r} fails while guessing\", RuntimeWarning)\n",
      "/srv/conda/envs/notebook/lib/python3.10/site-packages/xarray/backends/plugins.py:159: RuntimeWarning: 'h5netcdf' fails while guessing\n",
      "  warnings.warn(f\"{engine!r} fails while guessing\", RuntimeWarning)\n",
      "/srv/conda/envs/notebook/lib/python3.10/site-packages/xarray/backends/plugins.py:159: RuntimeWarning: 'scipy' fails while guessing\n",
      "  warnings.warn(f\"{engine!r} fails while guessing\", RuntimeWarning)\n"
     ]
    },
    {
     "name": "stdout",
     "output_type": "stream",
     "text": [
      "Elapsed time: 0.3207437992095947\n",
      "+ Collecting streamflow data...\n",
      "Data already exists at .cache/nwm.20240404/t06z_short_range.zarr, skipping download\n",
      "+ Loading single-file streamflow data..."
     ]
    },
    {
     "name": "stderr",
     "output_type": "stream",
     "text": [
      "/srv/conda/envs/notebook/lib/python3.10/site-packages/xarray/backends/plugins.py:159: RuntimeWarning: 'netcdf4' fails while guessing\n",
      "  warnings.warn(f\"{engine!r} fails while guessing\", RuntimeWarning)\n",
      "/srv/conda/envs/notebook/lib/python3.10/site-packages/xarray/backends/plugins.py:159: RuntimeWarning: 'h5netcdf' fails while guessing\n",
      "  warnings.warn(f\"{engine!r} fails while guessing\", RuntimeWarning)\n",
      "/srv/conda/envs/notebook/lib/python3.10/site-packages/xarray/backends/plugins.py:159: RuntimeWarning: 'scipy' fails while guessing\n",
      "  warnings.warn(f\"{engine!r} fails while guessing\", RuntimeWarning)\n"
     ]
    },
    {
     "name": "stdout",
     "output_type": "stream",
     "text": [
      "Elapsed time: 0.32140254974365234\n",
      "+ Collecting streamflow data...\n",
      "Data already exists at .cache/nwm.20240404/t07z_short_range.zarr, skipping download\n",
      "+ Loading single-file streamflow data..."
     ]
    },
    {
     "name": "stderr",
     "output_type": "stream",
     "text": [
      "/srv/conda/envs/notebook/lib/python3.10/site-packages/xarray/backends/plugins.py:159: RuntimeWarning: 'netcdf4' fails while guessing\n",
      "  warnings.warn(f\"{engine!r} fails while guessing\", RuntimeWarning)\n",
      "/srv/conda/envs/notebook/lib/python3.10/site-packages/xarray/backends/plugins.py:159: RuntimeWarning: 'h5netcdf' fails while guessing\n",
      "  warnings.warn(f\"{engine!r} fails while guessing\", RuntimeWarning)\n",
      "/srv/conda/envs/notebook/lib/python3.10/site-packages/xarray/backends/plugins.py:159: RuntimeWarning: 'scipy' fails while guessing\n",
      "  warnings.warn(f\"{engine!r} fails while guessing\", RuntimeWarning)\n"
     ]
    },
    {
     "name": "stdout",
     "output_type": "stream",
     "text": [
      "Elapsed time: 0.3311142921447754\n",
      "+ Collecting streamflow data...\n",
      "Data already exists at .cache/nwm.20240404/t08z_short_range.zarr, skipping download\n",
      "+ Loading single-file streamflow data..."
     ]
    },
    {
     "name": "stderr",
     "output_type": "stream",
     "text": [
      "/srv/conda/envs/notebook/lib/python3.10/site-packages/xarray/backends/plugins.py:159: RuntimeWarning: 'netcdf4' fails while guessing\n",
      "  warnings.warn(f\"{engine!r} fails while guessing\", RuntimeWarning)\n",
      "/srv/conda/envs/notebook/lib/python3.10/site-packages/xarray/backends/plugins.py:159: RuntimeWarning: 'h5netcdf' fails while guessing\n",
      "  warnings.warn(f\"{engine!r} fails while guessing\", RuntimeWarning)\n",
      "/srv/conda/envs/notebook/lib/python3.10/site-packages/xarray/backends/plugins.py:159: RuntimeWarning: 'scipy' fails while guessing\n",
      "  warnings.warn(f\"{engine!r} fails while guessing\", RuntimeWarning)\n"
     ]
    },
    {
     "name": "stdout",
     "output_type": "stream",
     "text": [
      "Elapsed time: 0.3219897747039795\n",
      "+ Collecting streamflow data...\n",
      "Data already exists at .cache/nwm.20240404/t09z_short_range.zarr, skipping download\n",
      "+ Loading single-file streamflow data..."
     ]
    },
    {
     "name": "stderr",
     "output_type": "stream",
     "text": [
      "/srv/conda/envs/notebook/lib/python3.10/site-packages/xarray/backends/plugins.py:159: RuntimeWarning: 'netcdf4' fails while guessing\n",
      "  warnings.warn(f\"{engine!r} fails while guessing\", RuntimeWarning)\n",
      "/srv/conda/envs/notebook/lib/python3.10/site-packages/xarray/backends/plugins.py:159: RuntimeWarning: 'h5netcdf' fails while guessing\n",
      "  warnings.warn(f\"{engine!r} fails while guessing\", RuntimeWarning)\n",
      "/srv/conda/envs/notebook/lib/python3.10/site-packages/xarray/backends/plugins.py:159: RuntimeWarning: 'scipy' fails while guessing\n",
      "  warnings.warn(f\"{engine!r} fails while guessing\", RuntimeWarning)\n"
     ]
    },
    {
     "name": "stdout",
     "output_type": "stream",
     "text": [
      "Elapsed time: 0.3161923885345459\n",
      "+ Collecting streamflow data...\n",
      "Data already exists at .cache/nwm.20240404/t10z_short_range.zarr, skipping download\n",
      "+ Loading single-file streamflow data..."
     ]
    },
    {
     "name": "stderr",
     "output_type": "stream",
     "text": [
      "/srv/conda/envs/notebook/lib/python3.10/site-packages/xarray/backends/plugins.py:159: RuntimeWarning: 'netcdf4' fails while guessing\n",
      "  warnings.warn(f\"{engine!r} fails while guessing\", RuntimeWarning)\n",
      "/srv/conda/envs/notebook/lib/python3.10/site-packages/xarray/backends/plugins.py:159: RuntimeWarning: 'h5netcdf' fails while guessing\n",
      "  warnings.warn(f\"{engine!r} fails while guessing\", RuntimeWarning)\n",
      "/srv/conda/envs/notebook/lib/python3.10/site-packages/xarray/backends/plugins.py:159: RuntimeWarning: 'scipy' fails while guessing\n",
      "  warnings.warn(f\"{engine!r} fails while guessing\", RuntimeWarning)\n"
     ]
    },
    {
     "name": "stdout",
     "output_type": "stream",
     "text": [
      "Elapsed time: 0.3386249542236328\n",
      "+ Collecting streamflow data...\n",
      "Data already exists at .cache/nwm.20240404/t11z_short_range.zarr, skipping download\n",
      "+ Loading single-file streamflow data..."
     ]
    },
    {
     "name": "stderr",
     "output_type": "stream",
     "text": [
      "/srv/conda/envs/notebook/lib/python3.10/site-packages/xarray/backends/plugins.py:159: RuntimeWarning: 'netcdf4' fails while guessing\n",
      "  warnings.warn(f\"{engine!r} fails while guessing\", RuntimeWarning)\n",
      "/srv/conda/envs/notebook/lib/python3.10/site-packages/xarray/backends/plugins.py:159: RuntimeWarning: 'h5netcdf' fails while guessing\n",
      "  warnings.warn(f\"{engine!r} fails while guessing\", RuntimeWarning)\n",
      "/srv/conda/envs/notebook/lib/python3.10/site-packages/xarray/backends/plugins.py:159: RuntimeWarning: 'scipy' fails while guessing\n",
      "  warnings.warn(f\"{engine!r} fails while guessing\", RuntimeWarning)\n"
     ]
    },
    {
     "name": "stdout",
     "output_type": "stream",
     "text": [
      "Elapsed time: 0.30715370178222656\n",
      "+ Collecting streamflow data...\n",
      "Data already exists at .cache/nwm.20240404/t12z_short_range.zarr, skipping download\n",
      "+ Loading single-file streamflow data..."
     ]
    },
    {
     "name": "stderr",
     "output_type": "stream",
     "text": [
      "/srv/conda/envs/notebook/lib/python3.10/site-packages/xarray/backends/plugins.py:159: RuntimeWarning: 'netcdf4' fails while guessing\n",
      "  warnings.warn(f\"{engine!r} fails while guessing\", RuntimeWarning)\n",
      "/srv/conda/envs/notebook/lib/python3.10/site-packages/xarray/backends/plugins.py:159: RuntimeWarning: 'h5netcdf' fails while guessing\n",
      "  warnings.warn(f\"{engine!r} fails while guessing\", RuntimeWarning)\n",
      "/srv/conda/envs/notebook/lib/python3.10/site-packages/xarray/backends/plugins.py:159: RuntimeWarning: 'scipy' fails while guessing\n",
      "  warnings.warn(f\"{engine!r} fails while guessing\", RuntimeWarning)\n"
     ]
    },
    {
     "name": "stdout",
     "output_type": "stream",
     "text": [
      "Elapsed time: 0.317119836807251\n",
      "+ Collecting streamflow data...\n",
      "Data already exists at .cache/nwm.20240404/t13z_short_range.zarr, skipping download\n",
      "+ Loading single-file streamflow data..."
     ]
    },
    {
     "name": "stderr",
     "output_type": "stream",
     "text": [
      "/srv/conda/envs/notebook/lib/python3.10/site-packages/xarray/backends/plugins.py:159: RuntimeWarning: 'netcdf4' fails while guessing\n",
      "  warnings.warn(f\"{engine!r} fails while guessing\", RuntimeWarning)\n",
      "/srv/conda/envs/notebook/lib/python3.10/site-packages/xarray/backends/plugins.py:159: RuntimeWarning: 'h5netcdf' fails while guessing\n",
      "  warnings.warn(f\"{engine!r} fails while guessing\", RuntimeWarning)\n",
      "/srv/conda/envs/notebook/lib/python3.10/site-packages/xarray/backends/plugins.py:159: RuntimeWarning: 'scipy' fails while guessing\n",
      "  warnings.warn(f\"{engine!r} fails while guessing\", RuntimeWarning)\n"
     ]
    },
    {
     "name": "stdout",
     "output_type": "stream",
     "text": [
      "Elapsed time: 0.3210439682006836\n",
      "+ Collecting streamflow data...\n",
      "Data already exists at .cache/nwm.20240404/t14z_short_range.zarr, skipping download\n",
      "+ Loading single-file streamflow data..."
     ]
    },
    {
     "name": "stderr",
     "output_type": "stream",
     "text": [
      "/srv/conda/envs/notebook/lib/python3.10/site-packages/xarray/backends/plugins.py:159: RuntimeWarning: 'netcdf4' fails while guessing\n",
      "  warnings.warn(f\"{engine!r} fails while guessing\", RuntimeWarning)\n",
      "/srv/conda/envs/notebook/lib/python3.10/site-packages/xarray/backends/plugins.py:159: RuntimeWarning: 'h5netcdf' fails while guessing\n",
      "  warnings.warn(f\"{engine!r} fails while guessing\", RuntimeWarning)\n",
      "/srv/conda/envs/notebook/lib/python3.10/site-packages/xarray/backends/plugins.py:159: RuntimeWarning: 'scipy' fails while guessing\n",
      "  warnings.warn(f\"{engine!r} fails while guessing\", RuntimeWarning)\n"
     ]
    },
    {
     "name": "stdout",
     "output_type": "stream",
     "text": [
      "Elapsed time: 0.3201332092285156\n",
      "+ Collecting streamflow data...\n",
      "Data already exists at .cache/nwm.20240404/t15z_short_range.zarr, skipping download\n",
      "+ Loading single-file streamflow data..."
     ]
    },
    {
     "name": "stderr",
     "output_type": "stream",
     "text": [
      "/srv/conda/envs/notebook/lib/python3.10/site-packages/xarray/backends/plugins.py:159: RuntimeWarning: 'netcdf4' fails while guessing\n",
      "  warnings.warn(f\"{engine!r} fails while guessing\", RuntimeWarning)\n",
      "/srv/conda/envs/notebook/lib/python3.10/site-packages/xarray/backends/plugins.py:159: RuntimeWarning: 'h5netcdf' fails while guessing\n",
      "  warnings.warn(f\"{engine!r} fails while guessing\", RuntimeWarning)\n",
      "/srv/conda/envs/notebook/lib/python3.10/site-packages/xarray/backends/plugins.py:159: RuntimeWarning: 'scipy' fails while guessing\n",
      "  warnings.warn(f\"{engine!r} fails while guessing\", RuntimeWarning)\n"
     ]
    },
    {
     "name": "stdout",
     "output_type": "stream",
     "text": [
      "Elapsed time: 0.3246734142303467\n",
      "+ Collecting streamflow data...\n",
      "Data already exists at .cache/nwm.20240404/t16z_short_range.zarr, skipping download\n",
      "+ Loading single-file streamflow data..."
     ]
    },
    {
     "name": "stderr",
     "output_type": "stream",
     "text": [
      "/srv/conda/envs/notebook/lib/python3.10/site-packages/xarray/backends/plugins.py:159: RuntimeWarning: 'netcdf4' fails while guessing\n",
      "  warnings.warn(f\"{engine!r} fails while guessing\", RuntimeWarning)\n",
      "/srv/conda/envs/notebook/lib/python3.10/site-packages/xarray/backends/plugins.py:159: RuntimeWarning: 'h5netcdf' fails while guessing\n",
      "  warnings.warn(f\"{engine!r} fails while guessing\", RuntimeWarning)\n",
      "/srv/conda/envs/notebook/lib/python3.10/site-packages/xarray/backends/plugins.py:159: RuntimeWarning: 'scipy' fails while guessing\n",
      "  warnings.warn(f\"{engine!r} fails while guessing\", RuntimeWarning)\n"
     ]
    },
    {
     "name": "stdout",
     "output_type": "stream",
     "text": [
      "Elapsed time: 0.32594943046569824\n",
      "+ Collecting streamflow data...\n",
      "Data already exists at .cache/nwm.20240404/t17z_short_range.zarr, skipping download\n",
      "+ Loading single-file streamflow data..."
     ]
    },
    {
     "name": "stderr",
     "output_type": "stream",
     "text": [
      "/srv/conda/envs/notebook/lib/python3.10/site-packages/xarray/backends/plugins.py:159: RuntimeWarning: 'netcdf4' fails while guessing\n",
      "  warnings.warn(f\"{engine!r} fails while guessing\", RuntimeWarning)\n",
      "/srv/conda/envs/notebook/lib/python3.10/site-packages/xarray/backends/plugins.py:159: RuntimeWarning: 'h5netcdf' fails while guessing\n",
      "  warnings.warn(f\"{engine!r} fails while guessing\", RuntimeWarning)\n",
      "/srv/conda/envs/notebook/lib/python3.10/site-packages/xarray/backends/plugins.py:159: RuntimeWarning: 'scipy' fails while guessing\n",
      "  warnings.warn(f\"{engine!r} fails while guessing\", RuntimeWarning)\n"
     ]
    },
    {
     "name": "stdout",
     "output_type": "stream",
     "text": [
      "Elapsed time: 0.3179135322570801\n",
      "+ Collecting streamflow data...\n",
      "Data already exists at .cache/nwm.20240404/t18z_short_range.zarr, skipping download\n",
      "+ Loading single-file streamflow data..."
     ]
    },
    {
     "name": "stderr",
     "output_type": "stream",
     "text": [
      "/srv/conda/envs/notebook/lib/python3.10/site-packages/xarray/backends/plugins.py:159: RuntimeWarning: 'netcdf4' fails while guessing\n",
      "  warnings.warn(f\"{engine!r} fails while guessing\", RuntimeWarning)\n",
      "/srv/conda/envs/notebook/lib/python3.10/site-packages/xarray/backends/plugins.py:159: RuntimeWarning: 'h5netcdf' fails while guessing\n",
      "  warnings.warn(f\"{engine!r} fails while guessing\", RuntimeWarning)\n",
      "/srv/conda/envs/notebook/lib/python3.10/site-packages/xarray/backends/plugins.py:159: RuntimeWarning: 'scipy' fails while guessing\n",
      "  warnings.warn(f\"{engine!r} fails while guessing\", RuntimeWarning)\n"
     ]
    },
    {
     "name": "stdout",
     "output_type": "stream",
     "text": [
      "Elapsed time: 0.3192441463470459\n",
      "+ Collecting streamflow data...\n",
      "Data already exists at .cache/nwm.20240404/t19z_short_range.zarr, skipping download\n",
      "+ Loading single-file streamflow data..."
     ]
    },
    {
     "name": "stderr",
     "output_type": "stream",
     "text": [
      "/srv/conda/envs/notebook/lib/python3.10/site-packages/xarray/backends/plugins.py:159: RuntimeWarning: 'netcdf4' fails while guessing\n",
      "  warnings.warn(f\"{engine!r} fails while guessing\", RuntimeWarning)\n",
      "/srv/conda/envs/notebook/lib/python3.10/site-packages/xarray/backends/plugins.py:159: RuntimeWarning: 'h5netcdf' fails while guessing\n",
      "  warnings.warn(f\"{engine!r} fails while guessing\", RuntimeWarning)\n",
      "/srv/conda/envs/notebook/lib/python3.10/site-packages/xarray/backends/plugins.py:159: RuntimeWarning: 'scipy' fails while guessing\n",
      "  warnings.warn(f\"{engine!r} fails while guessing\", RuntimeWarning)\n"
     ]
    },
    {
     "name": "stdout",
     "output_type": "stream",
     "text": [
      "Elapsed time: 0.3332784175872803\n",
      "+ Collecting streamflow data...\n",
      "Data already exists at .cache/nwm.20240404/t20z_short_range.zarr, skipping download\n",
      "+ Loading single-file streamflow data..."
     ]
    },
    {
     "name": "stderr",
     "output_type": "stream",
     "text": [
      "/srv/conda/envs/notebook/lib/python3.10/site-packages/xarray/backends/plugins.py:159: RuntimeWarning: 'netcdf4' fails while guessing\n",
      "  warnings.warn(f\"{engine!r} fails while guessing\", RuntimeWarning)\n",
      "/srv/conda/envs/notebook/lib/python3.10/site-packages/xarray/backends/plugins.py:159: RuntimeWarning: 'h5netcdf' fails while guessing\n",
      "  warnings.warn(f\"{engine!r} fails while guessing\", RuntimeWarning)\n",
      "/srv/conda/envs/notebook/lib/python3.10/site-packages/xarray/backends/plugins.py:159: RuntimeWarning: 'scipy' fails while guessing\n",
      "  warnings.warn(f\"{engine!r} fails while guessing\", RuntimeWarning)\n"
     ]
    },
    {
     "name": "stdout",
     "output_type": "stream",
     "text": [
      "Elapsed time: 0.32409024238586426\n",
      "+ Collecting streamflow data...\n",
      "Data already exists at .cache/nwm.20240404/t21z_short_range.zarr, skipping download\n",
      "+ Loading single-file streamflow data..."
     ]
    },
    {
     "name": "stderr",
     "output_type": "stream",
     "text": [
      "/srv/conda/envs/notebook/lib/python3.10/site-packages/xarray/backends/plugins.py:159: RuntimeWarning: 'netcdf4' fails while guessing\n",
      "  warnings.warn(f\"{engine!r} fails while guessing\", RuntimeWarning)\n",
      "/srv/conda/envs/notebook/lib/python3.10/site-packages/xarray/backends/plugins.py:159: RuntimeWarning: 'h5netcdf' fails while guessing\n",
      "  warnings.warn(f\"{engine!r} fails while guessing\", RuntimeWarning)\n",
      "/srv/conda/envs/notebook/lib/python3.10/site-packages/xarray/backends/plugins.py:159: RuntimeWarning: 'scipy' fails while guessing\n",
      "  warnings.warn(f\"{engine!r} fails while guessing\", RuntimeWarning)\n"
     ]
    },
    {
     "name": "stdout",
     "output_type": "stream",
     "text": [
      "Elapsed time: 0.3226349353790283\n",
      "+ Collecting streamflow data...\n",
      "Data already exists at .cache/nwm.20240404/t22z_short_range.zarr, skipping download\n",
      "+ Loading single-file streamflow data..."
     ]
    },
    {
     "name": "stderr",
     "output_type": "stream",
     "text": [
      "/srv/conda/envs/notebook/lib/python3.10/site-packages/xarray/backends/plugins.py:159: RuntimeWarning: 'netcdf4' fails while guessing\n",
      "  warnings.warn(f\"{engine!r} fails while guessing\", RuntimeWarning)\n",
      "/srv/conda/envs/notebook/lib/python3.10/site-packages/xarray/backends/plugins.py:159: RuntimeWarning: 'h5netcdf' fails while guessing\n",
      "  warnings.warn(f\"{engine!r} fails while guessing\", RuntimeWarning)\n",
      "/srv/conda/envs/notebook/lib/python3.10/site-packages/xarray/backends/plugins.py:159: RuntimeWarning: 'scipy' fails while guessing\n",
      "  warnings.warn(f\"{engine!r} fails while guessing\", RuntimeWarning)\n"
     ]
    },
    {
     "name": "stdout",
     "output_type": "stream",
     "text": [
      "Elapsed time: 0.32456326484680176\n",
      "+ Collecting streamflow data...\n",
      "Data already exists at .cache/nwm.20240404/t23z_short_range.zarr, skipping download\n",
      "+ Loading single-file streamflow data..."
     ]
    },
    {
     "name": "stderr",
     "output_type": "stream",
     "text": [
      "/srv/conda/envs/notebook/lib/python3.10/site-packages/xarray/backends/plugins.py:159: RuntimeWarning: 'netcdf4' fails while guessing\n",
      "  warnings.warn(f\"{engine!r} fails while guessing\", RuntimeWarning)\n",
      "/srv/conda/envs/notebook/lib/python3.10/site-packages/xarray/backends/plugins.py:159: RuntimeWarning: 'h5netcdf' fails while guessing\n",
      "  warnings.warn(f\"{engine!r} fails while guessing\", RuntimeWarning)\n",
      "/srv/conda/envs/notebook/lib/python3.10/site-packages/xarray/backends/plugins.py:159: RuntimeWarning: 'scipy' fails while guessing\n",
      "  warnings.warn(f\"{engine!r} fails while guessing\", RuntimeWarning)\n"
     ]
    },
    {
     "name": "stdout",
     "output_type": "stream",
     "text": [
      "Elapsed time: 0.31978869438171387\n",
      "CPU times: user 26 s, sys: 4.58 s, total: 30.6 s\n",
      "Wall time: 31.1 s\n"
     ]
    }
   ],
   "source": [
    "%%time\n",
    "\n",
    "#bucket_name = \"national-water-model\"\n",
    "#wildcard = \"nwm.t00z*channel_rt*\"\n",
    "\n",
    "destination_folder = \".cache\"\n",
    "forecast_mode = 'short_range'\n",
    "init_times = range(0, 24)\n",
    "# collect data for the reach above for multiple days\n",
    "start_date = datetime(2024, 4, 1)\n",
    "end_date = datetime(2024, 4, 4)\n",
    "delta = timedelta(days=1)\n",
    "dats = {}\n",
    "while start_date <= end_date:\n",
    "    ds = mediumrange.get_streamflow_for_reaches(start_date, init_times=init_times, reach_ids=[nhd_feature_id],\n",
    "                                                forecast_mode=forecast_mode,\n",
    "                                                merge_files=True,\n",
    "                                                merge_format='Zarr',\n",
    "                                                clean_on_success=False,\n",
    "                                                )\n",
    "    start_date += delta\n",
    "    dats.update(ds)"
   ]
  },
  {
   "cell_type": "code",
   "execution_count": 17,
   "id": "9e607542-7312-498b-ac4a-113160fb1cc9",
   "metadata": {},
   "outputs": [
    {
     "data": {
      "text/plain": [
       "['20240401-short_range-t0z',\n",
       " '20240401-short_range-t1z',\n",
       " '20240401-short_range-t2z',\n",
       " '20240401-short_range-t3z',\n",
       " '20240401-short_range-t4z',\n",
       " '20240401-short_range-t5z',\n",
       " '20240401-short_range-t6z',\n",
       " '20240401-short_range-t7z',\n",
       " '20240401-short_range-t8z',\n",
       " '20240401-short_range-t9z',\n",
       " '20240401-short_range-t10z',\n",
       " '20240401-short_range-t11z',\n",
       " '20240401-short_range-t12z',\n",
       " '20240401-short_range-t13z',\n",
       " '20240401-short_range-t14z',\n",
       " '20240401-short_range-t15z',\n",
       " '20240401-short_range-t16z',\n",
       " '20240401-short_range-t17z',\n",
       " '20240401-short_range-t18z',\n",
       " '20240401-short_range-t19z',\n",
       " '20240401-short_range-t20z',\n",
       " '20240401-short_range-t21z',\n",
       " '20240401-short_range-t22z',\n",
       " '20240401-short_range-t23z',\n",
       " '20240402-short_range-t0z',\n",
       " '20240402-short_range-t1z',\n",
       " '20240402-short_range-t2z',\n",
       " '20240402-short_range-t3z',\n",
       " '20240402-short_range-t4z',\n",
       " '20240402-short_range-t5z',\n",
       " '20240402-short_range-t6z',\n",
       " '20240402-short_range-t7z',\n",
       " '20240402-short_range-t8z',\n",
       " '20240402-short_range-t9z',\n",
       " '20240402-short_range-t10z',\n",
       " '20240402-short_range-t11z',\n",
       " '20240402-short_range-t12z',\n",
       " '20240402-short_range-t13z',\n",
       " '20240402-short_range-t14z',\n",
       " '20240402-short_range-t15z',\n",
       " '20240402-short_range-t16z',\n",
       " '20240402-short_range-t17z',\n",
       " '20240402-short_range-t18z',\n",
       " '20240402-short_range-t19z',\n",
       " '20240402-short_range-t20z',\n",
       " '20240402-short_range-t21z',\n",
       " '20240402-short_range-t22z',\n",
       " '20240402-short_range-t23z',\n",
       " '20240403-short_range-t0z',\n",
       " '20240403-short_range-t1z',\n",
       " '20240403-short_range-t2z',\n",
       " '20240403-short_range-t3z',\n",
       " '20240403-short_range-t4z',\n",
       " '20240403-short_range-t5z',\n",
       " '20240403-short_range-t6z',\n",
       " '20240403-short_range-t7z',\n",
       " '20240403-short_range-t8z',\n",
       " '20240403-short_range-t9z',\n",
       " '20240403-short_range-t10z',\n",
       " '20240403-short_range-t11z',\n",
       " '20240403-short_range-t12z',\n",
       " '20240403-short_range-t13z',\n",
       " '20240403-short_range-t14z',\n",
       " '20240403-short_range-t15z',\n",
       " '20240403-short_range-t16z',\n",
       " '20240403-short_range-t17z',\n",
       " '20240403-short_range-t18z',\n",
       " '20240403-short_range-t19z',\n",
       " '20240403-short_range-t20z',\n",
       " '20240403-short_range-t21z',\n",
       " '20240403-short_range-t22z',\n",
       " '20240403-short_range-t23z',\n",
       " '20240404-short_range-t0z',\n",
       " '20240404-short_range-t1z',\n",
       " '20240404-short_range-t2z',\n",
       " '20240404-short_range-t3z',\n",
       " '20240404-short_range-t4z',\n",
       " '20240404-short_range-t5z',\n",
       " '20240404-short_range-t6z',\n",
       " '20240404-short_range-t7z',\n",
       " '20240404-short_range-t8z',\n",
       " '20240404-short_range-t9z',\n",
       " '20240404-short_range-t10z',\n",
       " '20240404-short_range-t11z',\n",
       " '20240404-short_range-t12z',\n",
       " '20240404-short_range-t13z',\n",
       " '20240404-short_range-t14z',\n",
       " '20240404-short_range-t15z',\n",
       " '20240404-short_range-t16z',\n",
       " '20240404-short_range-t17z',\n",
       " '20240404-short_range-t18z',\n",
       " '20240404-short_range-t19z',\n",
       " '20240404-short_range-t20z',\n",
       " '20240404-short_range-t21z',\n",
       " '20240404-short_range-t22z',\n",
       " '20240404-short_range-t23z']"
      ]
     },
     "execution_count": 17,
     "metadata": {},
     "output_type": "execute_result"
    }
   ],
   "source": [
    "list(dats.keys())"
   ]
  },
  {
   "cell_type": "code",
   "execution_count": 33,
   "id": "a3b6d679-3e7d-4f1a-bf29-008d1ecbbf79",
   "metadata": {},
   "outputs": [],
   "source": []
  },
  {
   "cell_type": "code",
   "execution_count": 34,
   "id": "e2915278-f81d-4466-990f-053fcd93a0f6",
   "metadata": {},
   "outputs": [
    {
     "data": {
      "text/plain": [
       "array([[1.        , 1.        , 1.        , 1.        ],\n",
       "       [0.95755479, 0.95755479, 0.95755479, 1.        ],\n",
       "       [0.90120723, 0.90120723, 0.90120723, 1.        ],\n",
       "       [0.83289504, 0.83289504, 0.83289504, 1.        ],\n",
       "       [0.75021915, 0.75021915, 0.75021915, 1.        ],\n",
       "       [0.64341407, 0.64341407, 0.64341407, 1.        ],\n",
       "       [0.53871588, 0.53871588, 0.53871588, 1.        ],\n",
       "       [0.44032295, 0.44032295, 0.44032295, 1.        ],\n",
       "       [0.34288351, 0.34288351, 0.34288351, 1.        ],\n",
       "       [0.22329873, 0.22329873, 0.22329873, 1.        ],\n",
       "       [0.10469819, 0.10469819, 0.10469819, 1.        ],\n",
       "       [0.        , 0.        , 0.        , 1.        ]])"
      ]
     },
     "execution_count": 34,
     "metadata": {},
     "output_type": "execute_result"
    }
   ],
   "source": [
    "\n"
   ]
  },
  {
   "cell_type": "code",
   "execution_count": 38,
   "id": "af57c66f-c808-481c-90f0-6654d8f3489a",
   "metadata": {},
   "outputs": [
    {
     "data": {
      "image/png": "[encoded data removed]",
      "text/plain": [
       "<Figure size 640x480 with 1 Axes>"
      ]
     },
     "metadata": {},
     "output_type": "display_data"
    }
   ],
   "source": [
    "from matplotlib import colormaps, cm\n",
    "import numpy as np\n",
    "\n",
    "grey_cm = colormaps['Blues']\n",
    "colors = grey_cm(np.linspace(0, 1, 24))\n",
    "\n",
    "fig, ax = plt.subplots(1,1)\n",
    "\n",
    "i = 0\n",
    "for key, dat in dats.items():\n",
    "    \n",
    "    dat.streamflow.plot(ax=ax, color=colors[i]);\n",
    "\n",
    "    i += 1\n",
    "    if i > 23:\n",
    "        break\n",
    "plt.grid()"
   ]
  },
  {
   "cell_type": "code",
   "execution_count": 54,
   "id": "4621a249-17db-4201-b2e5-b9154c9ef0c3",
   "metadata": {},
   "outputs": [],
   "source": [
    "ds = xarray.open_dataset('/home/jovyan/Desktop/notebooks/nwm/fim-hand/.cache/nwm.20240420/out.nc')\n"
   ]
  },
  {
   "cell_type": "code",
   "execution_count": 58,
   "id": "0b90575e-c1bc-4e86-8055-b01f4c0fe83f",
   "metadata": {},
   "outputs": [
    {
     "data": {
      "text/plain": [
       "[<matplotlib.lines.Line2D at 0x7b878b926590>]"
      ]
     },
     "execution_count": 58,
     "metadata": {},
     "output_type": "execute_result"
    },
    {
     "data": {
      "image/png": "[encoded data removed]",
      "text/plain": [
       "<Figure size 640x480 with 1 Axes>"
      ]
     },
     "metadata": {},
     "output_type": "display_data"
    }
   ],
   "source": [
    "ds.sel(feature_id=nhd_feature_id).streamflow.plot()"
   ]
  },
  {
   "cell_type": "code",
   "execution_count": 40,
   "id": "72ed3773-4751-4fdc-98dd-9412c67dd13c",
   "metadata": {},
   "outputs": [
    {
     "ename": "KeyError",
     "evalue": "\"no index found for coordinate 'feature_id'\"",
     "output_type": "error",
     "traceback": [
      "\u001b[0;31m---------------------------------------------------------------------------\u001b[0m",
      "\u001b[0;31mKeyError\u001b[0m                                  Traceback (most recent call last)",
      "Cell \u001b[0;32mIn[40], line 1\u001b[0m\n\u001b[0;32m----> 1\u001b[0m \u001b[43mds\u001b[49m\u001b[38;5;241;43m.\u001b[39;49m\u001b[43msel\u001b[49m\u001b[43m(\u001b[49m\u001b[43mfeature_id\u001b[49m\u001b[43m \u001b[49m\u001b[38;5;241;43m=\u001b[39;49m\u001b[43m \u001b[49m\u001b[43mnhd_feature_id\u001b[49m\u001b[43m)\u001b[49m\n",
      "File \u001b[0;32m/srv/conda/envs/notebook/lib/python3.10/site-packages/xarray/core/dataset.py:3020\u001b[0m, in \u001b[0;36mDataset.sel\u001b[0;34m(self, indexers, method, tolerance, drop, **indexers_kwargs)\u001b[0m\n\u001b[1;32m   2959\u001b[0m \u001b[38;5;250m\u001b[39m\u001b[38;5;124;03m\"\"\"Returns a new dataset with each array indexed by tick labels\u001b[39;00m\n\u001b[1;32m   2960\u001b[0m \u001b[38;5;124;03malong the specified dimension(s).\u001b[39;00m\n\u001b[1;32m   2961\u001b[0m \n\u001b[0;32m   (...)\u001b[0m\n\u001b[1;32m   3017\u001b[0m \u001b[38;5;124;03mDataArray.sel\u001b[39;00m\n\u001b[1;32m   3018\u001b[0m \u001b[38;5;124;03m\"\"\"\u001b[39;00m\n\u001b[1;32m   3019\u001b[0m indexers \u001b[38;5;241m=\u001b[39m either_dict_or_kwargs(indexers, indexers_kwargs, \u001b[38;5;124m\"\u001b[39m\u001b[38;5;124msel\u001b[39m\u001b[38;5;124m\"\u001b[39m)\n\u001b[0;32m-> 3020\u001b[0m query_results \u001b[38;5;241m=\u001b[39m \u001b[43mmap_index_queries\u001b[49m\u001b[43m(\u001b[49m\n\u001b[1;32m   3021\u001b[0m \u001b[43m    \u001b[49m\u001b[38;5;28;43mself\u001b[39;49m\u001b[43m,\u001b[49m\u001b[43m \u001b[49m\u001b[43mindexers\u001b[49m\u001b[38;5;241;43m=\u001b[39;49m\u001b[43mindexers\u001b[49m\u001b[43m,\u001b[49m\u001b[43m \u001b[49m\u001b[43mmethod\u001b[49m\u001b[38;5;241;43m=\u001b[39;49m\u001b[43mmethod\u001b[49m\u001b[43m,\u001b[49m\u001b[43m \u001b[49m\u001b[43mtolerance\u001b[49m\u001b[38;5;241;43m=\u001b[39;49m\u001b[43mtolerance\u001b[49m\n\u001b[1;32m   3022\u001b[0m \u001b[43m\u001b[49m\u001b[43m)\u001b[49m\n\u001b[1;32m   3024\u001b[0m \u001b[38;5;28;01mif\u001b[39;00m drop:\n\u001b[1;32m   3025\u001b[0m     no_scalar_variables \u001b[38;5;241m=\u001b[39m {}\n",
      "File \u001b[0;32m/srv/conda/envs/notebook/lib/python3.10/site-packages/xarray/core/indexing.py:182\u001b[0m, in \u001b[0;36mmap_index_queries\u001b[0;34m(obj, indexers, method, tolerance, **indexers_kwargs)\u001b[0m\n\u001b[1;32m    179\u001b[0m     options \u001b[38;5;241m=\u001b[39m {\u001b[38;5;124m\"\u001b[39m\u001b[38;5;124mmethod\u001b[39m\u001b[38;5;124m\"\u001b[39m: method, \u001b[38;5;124m\"\u001b[39m\u001b[38;5;124mtolerance\u001b[39m\u001b[38;5;124m\"\u001b[39m: tolerance}\n\u001b[1;32m    181\u001b[0m indexers \u001b[38;5;241m=\u001b[39m either_dict_or_kwargs(indexers, indexers_kwargs, \u001b[38;5;124m\"\u001b[39m\u001b[38;5;124mmap_index_queries\u001b[39m\u001b[38;5;124m\"\u001b[39m)\n\u001b[0;32m--> 182\u001b[0m grouped_indexers \u001b[38;5;241m=\u001b[39m \u001b[43mgroup_indexers_by_index\u001b[49m\u001b[43m(\u001b[49m\u001b[43mobj\u001b[49m\u001b[43m,\u001b[49m\u001b[43m \u001b[49m\u001b[43mindexers\u001b[49m\u001b[43m,\u001b[49m\u001b[43m \u001b[49m\u001b[43moptions\u001b[49m\u001b[43m)\u001b[49m\n\u001b[1;32m    184\u001b[0m results \u001b[38;5;241m=\u001b[39m []\n\u001b[1;32m    185\u001b[0m \u001b[38;5;28;01mfor\u001b[39;00m index, labels \u001b[38;5;129;01min\u001b[39;00m grouped_indexers:\n",
      "File \u001b[0;32m/srv/conda/envs/notebook/lib/python3.10/site-packages/xarray/core/indexing.py:144\u001b[0m, in \u001b[0;36mgroup_indexers_by_index\u001b[0;34m(obj, indexers, options)\u001b[0m\n\u001b[1;32m    142\u001b[0m     grouped_indexers[index_id][key] \u001b[38;5;241m=\u001b[39m label\n\u001b[1;32m    143\u001b[0m \u001b[38;5;28;01melif\u001b[39;00m key \u001b[38;5;129;01min\u001b[39;00m obj\u001b[38;5;241m.\u001b[39mcoords:\n\u001b[0;32m--> 144\u001b[0m     \u001b[38;5;28;01mraise\u001b[39;00m \u001b[38;5;167;01mKeyError\u001b[39;00m(\u001b[38;5;124mf\u001b[39m\u001b[38;5;124m\"\u001b[39m\u001b[38;5;124mno index found for coordinate \u001b[39m\u001b[38;5;132;01m{\u001b[39;00mkey\u001b[38;5;132;01m!r}\u001b[39;00m\u001b[38;5;124m\"\u001b[39m)\n\u001b[1;32m    145\u001b[0m \u001b[38;5;28;01melif\u001b[39;00m key \u001b[38;5;129;01mnot\u001b[39;00m \u001b[38;5;129;01min\u001b[39;00m obj\u001b[38;5;241m.\u001b[39mdims:\n\u001b[1;32m    146\u001b[0m     \u001b[38;5;28;01mraise\u001b[39;00m \u001b[38;5;167;01mKeyError\u001b[39;00m(\u001b[38;5;124mf\u001b[39m\u001b[38;5;124m\"\u001b[39m\u001b[38;5;132;01m{\u001b[39;00mkey\u001b[38;5;132;01m!r}\u001b[39;00m\u001b[38;5;124m is not a valid dimension or coordinate\u001b[39m\u001b[38;5;124m\"\u001b[39m)\n",
      "\u001b[0;31mKeyError\u001b[0m: \"no index found for coordinate 'feature_id'\""
     ]
    }
   ],
   "source": [
    "ds.sel(feature_id = nhd_feature_id)"
   ]
  },
  {
   "cell_type": "code",
   "execution_count": 25,
   "id": "67e4e8d6-72b5-446f-98dc-9553581fb911",
   "metadata": {},
   "outputs": [],
   "source": [
    "#cdo = Cdo()\n",
    "output_file = str(Path(f'{destination_folder}/{prefix}.nc'))\n",
    "input_files = [str(f) for f in Path('.cache/nwm.20240420/medium_range_mem1').glob('*.nc')]\n"
   ]
  },
  {
   "cell_type": "code",
   "execution_count": 17,
   "id": "4a6d5da3-31db-4812-86f7-8353edc59e6f",
   "metadata": {},
   "outputs": [
    {
     "data": {
      "text/plain": [
       "'.cache/nwm.20240420/medium_range_mem1/*'"
      ]
     },
     "execution_count": 17,
     "metadata": {},
     "output_type": "execute_result"
    }
   ],
   "source": [
    "input_files"
   ]
  },
  {
   "cell_type": "code",
   "execution_count": 19,
   "id": "85c68152-893b-4806-92f8-b44ea3df2233",
   "metadata": {
    "collapsed": true,
    "jupyter": {
     "outputs_hidden": true
    },
    "scrolled": true
   },
   "outputs": [
    {
     "name": "stdout",
     "output_type": "stream",
     "text": [
      "cdi  warning (cdfScanVarAttr): NetCDF: Variable not found - >latitude<\n",
      "cdi  warning (cdfScanVarAttr): NetCDF: Variable not found - >longitude<\n",
      "cdi  warning (cdfScanVarAttr): NetCDF: Variable not found - >latitude<\n",
      "cdi  warning (cdfScanVarAttr): NetCDF: Variable not found - >longitude<\n",
      "cdi  warning (cdfScanVarAttr): NetCDF: Variable not found - >latitude<\n",
      "cdi  warning (cdfScanVarAttr): NetCDF: Variable not found - >longitude<\n",
      "cdi  warning (cdfScanVarAttr): NetCDF: Variable not found - >latitude<\n",
      "cdi  warning (cdfScanVarAttr): NetCDF: Variable not found - >longitude<\n",
      "cdi  warning (cdfScanVarAttr): NetCDF: Variable not found - >latitude<\n",
      "cdi  warning (cdfScanVarAttr): NetCDF: Variable not found - >longitude<\n",
      "cdi  warning (cdfScanVarAttr): NetCDF: Variable not found - >latitude<\n",
      "cdi  warning (cdfScanVarAttr): NetCDF: Variable not found - >longitude<\n",
      "cdi  warning (cdfScanVarAttr): NetCDF: Variable not found - >latitude<\n",
      "cdi  warning (cdfScanVarAttr): NetCDF: Variable not found - >longitude<\n",
      "cdi  warning (cdfScanVarAttr): NetCDF: Variable not found - >latitude<\n",
      "cdi  warning (cdfScanVarAttr): NetCDF: Variable not found - >longitude<\n",
      "cdi  warning (cdfScanVarAttr): NetCDF: Variable not found - >latitude<\n",
      "cdi  warning (cdfScanVarAttr): NetCDF: Variable not found - >longitude<\n",
      "cdi  warning (cdfScanVarAttr): NetCDF: Variable not found - >latitude<\n",
      "cdi  warning (cdfScanVarAttr): NetCDF: Variable not found - >longitude<\n",
      "cdi  warning (cdfScanVarAttr): NetCDF: Variable not found - >latitude<\n",
      "cdi  warning (cdfScanVarAttr): NetCDF: Variable not found - >longitude<\n",
      "cdi  warning (cdfScanVarAttr): NetCDF: Variable not found - >latitude<\n",
      "cdi  warning (cdfScanVarAttr): NetCDF: Variable not found - >longitude<\n",
      "cdi  warning (cdfScanVarAttr): NetCDF: Variable not found - >latitude<\n",
      "cdi  warning (cdfScanVarAttr): NetCDF: Variable not found - >longitude<\n",
      "cdi  warning (cdfScanVarAttr): NetCDF: Variable not found - >latitude<\n",
      "cdi  warning (cdfScanVarAttr): NetCDF: Variable not found - >longitude<\n",
      "cdi  warning (cdfScanVarAttr): NetCDF: Variable not found - >latitude<\n",
      "cdi  warning (cdfScanVarAttr): NetCDF: Variable not found - >longitude<\n",
      "cdi  warning (cdfScanVarAttr): NetCDF: Variable not found - >latitude<\n",
      "cdi  warning (cdfScanVarAttr): NetCDF: Variable not found - >longitude<\n",
      "cdi  warning (cdfScanVarAttr): NetCDF: Variable not found - >latitude<\n",
      "cdi  warning (cdfScanVarAttr): NetCDF: Variable not found - >longitude<\n",
      "cdi  warning (cdfScanVarAttr): NetCDF: Variable not found - >latitude<\n",
      "cdi  warning (cdfScanVarAttr): NetCDF: Variable not found - >longitude<\n",
      "cdi  warning (cdfScanVarAttr): NetCDF: Variable not found - >latitude<\n",
      "cdi  warning (cdfScanVarAttr): NetCDF: Variable not found - >longitude<\n",
      "cdi  warning (cdfScanVarAttr): NetCDF: Variable not found - >latitude<\n",
      "cdi  warning (cdfScanVarAttr): NetCDF: Variable not found - >longitude<\n",
      "cdi  warning (cdfScanVarAttr): NetCDF: Variable not found - >latitude<\n",
      "cdi  warning (cdfScanVarAttr): NetCDF: Variable not found - >longitude<\n",
      "cdi  warning (cdfScanVarAttr): NetCDF: Variable not found - >latitude<\n",
      "cdi  warning (cdfScanVarAttr): NetCDF: Variable not found - >longitude<\n",
      "cdi  warning (cdfScanVarAttr): NetCDF: Variable not found - >latitude<\n",
      "cdi  warning (cdfScanVarAttr): NetCDF: Variable not found - >longitude<\n",
      "cdi  warning (cdfScanVarAttr): NetCDF: Variable not found - >latitude<\n",
      "cdi  warning (cdfScanVarAttr): NetCDF: Variable not found - >longitude<\n",
      "cdi  warning (cdfScanVarAttr): NetCDF: Variable not found - >latitude<\n",
      "cdi  warning (cdfScanVarAttr): NetCDF: Variable not found - >longitude<\n",
      "cdi  warning (cdfScanVarAttr): NetCDF: Variable not found - >latitude<\n",
      "cdi  warning (cdfScanVarAttr): NetCDF: Variable not found - >longitude<\n",
      "cdi  warning (cdfScanVarAttr): NetCDF: Variable not found - >latitude<\n",
      "cdi  warning (cdfScanVarAttr): NetCDF: Variable not found - >longitude<\n",
      "cdi  warning (cdfScanVarAttr): NetCDF: Variable not found - >latitude<\n",
      "cdi  warning (cdfScanVarAttr): NetCDF: Variable not found - >longitude<\n",
      "cdi  warning (cdfScanVarAttr): NetCDF: Variable not found - >latitude<\n",
      "cdi  warning (cdfScanVarAttr): NetCDF: Variable not found - >longitude<\n",
      "cdi  warning (cdfScanVarAttr): NetCDF: Variable not found - >latitude<\n",
      "cdi  warning (cdfScanVarAttr): NetCDF: Variable not found - >longitude<\n",
      "cdi  warning (cdfScanVarAttr): NetCDF: Variable not found - >latitude<\n",
      "cdi  warning (cdfScanVarAttr): NetCDF: Variable not found - >longitude<\n",
      "cdi  warning (cdfScanVarAttr): NetCDF: Variable not found - >latitude<\n",
      "cdi  warning (cdfScanVarAttr): NetCDF: Variable not found - >longitude<\n",
      "cdi  warning (cdfScanVarAttr): NetCDF: Variable not found - >latitude<\n",
      "cdi  warning (cdfScanVarAttr): NetCDF: Variable not found - >longitude<\n",
      "cdi  warning (cdfScanVarAttr): NetCDF: Variable not found - >latitude<\n",
      "cdi  warning (cdfScanVarAttr): NetCDF: Variable not found - >longitude<\n",
      "cdi  warning (cdfScanVarAttr): NetCDF: Variable not found - >latitude<\n",
      "cdi  warning (cdfScanVarAttr): NetCDF: Variable not found - >longitude<\n",
      "cdi  warning (cdfScanVarAttr): NetCDF: Variable not found - >latitude<\n",
      "cdi  warning (cdfScanVarAttr): NetCDF: Variable not found - >longitude<\n",
      "cdi  warning (cdfScanVarAttr): NetCDF: Variable not found - >latitude<\n",
      "cdi  warning (cdfScanVarAttr): NetCDF: Variable not found - >longitude<\n",
      "cdi  warning (cdfScanVarAttr): NetCDF: Variable not found - >latitude<\n",
      "cdi  warning (cdfScanVarAttr): NetCDF: Variable not found - >longitude<\n",
      "cdi  warning (cdfScanVarAttr): NetCDF: Variable not found - >latitude<\n",
      "cdi  warning (cdfScanVarAttr): NetCDF: Variable not found - >longitude<\n",
      "cdi  warning (cdfScanVarAttr): NetCDF: Variable not found - >latitude<\n",
      "cdi  warning (cdfScanVarAttr): NetCDF: Variable not found - >longitude<\n",
      "cdi  warning (cdfScanVarAttr): NetCDF: Variable not found - >latitude<\n",
      "cdi  warning (cdfScanVarAttr): NetCDF: Variable not found - >longitude<\n",
      "cdi  warning (cdfScanVarAttr): NetCDF: Variable not found - >latitude<\n",
      "cdi  warning (cdfScanVarAttr): NetCDF: Variable not found - >longitude<\n",
      "cdi  warning (cdfScanVarAttr): NetCDF: Variable not found - >latitude<\n",
      "cdi  warning (cdfScanVarAttr): NetCDF: Variable not found - >longitude<\n",
      "cdi  warning (cdfScanVarAttr): NetCDF: Variable not found - >latitude<\n",
      "cdi  warning (cdfScanVarAttr): NetCDF: Variable not found - >longitude<\n",
      "cdi  warning (cdfScanVarAttr): NetCDF: Variable not found - >latitude<\n",
      "cdi  warning (cdfScanVarAttr): NetCDF: Variable not found - >longitude<\n",
      "cdi  warning (cdfScanVarAttr): NetCDF: Variable not found - >latitude<\n",
      "cdi  warning (cdfScanVarAttr): NetCDF: Variable not found - >longitude<\n",
      "cdi  warning (cdfScanVarAttr): NetCDF: Variable not found - >latitude<\n",
      "cdi  warning (cdfScanVarAttr): NetCDF: Variable not found - >longitude<\n",
      "cdi  warning (cdfScanVarAttr): NetCDF: Variable not found - >latitude<\n",
      "cdi  warning (cdfScanVarAttr): NetCDF: Variable not found - >longitude<\n",
      "cdi  warning (cdfScanVarAttr): NetCDF: Variable not found - >latitude<\n",
      "cdi  warning (cdfScanVarAttr): NetCDF: Variable not found - >longitude<\n",
      "cdi  warning (cdfScanVarAttr): NetCDF: Variable not found - >latitude<\n",
      "cdi  warning (cdfScanVarAttr): NetCDF: Variable not found - >longitude<\n",
      "cdi  warning (cdfScanVarAttr): NetCDF: Variable not found - >latitude<\n",
      "cdi  warning (cdfScanVarAttr): NetCDF: Variable not found - >longitude<\n",
      "cdi  warning (cdfScanVarAttr): NetCDF: Variable not found - >latitude<\n",
      "cdi  warning (cdfScanVarAttr): NetCDF: Variable not found - >longitude<\n",
      "cdi  warning (cdfScanVarAttr): NetCDF: Variable not found - >latitude<\n",
      "cdi  warning (cdfScanVarAttr): NetCDF: Variable not found - >longitude<\n",
      "cdi  warning (cdfScanVarAttr): NetCDF: Variable not found - >latitude<\n",
      "cdi  warning (cdfScanVarAttr): NetCDF: Variable not found - >longitude<\n",
      "cdi  warning (cdfScanVarAttr): NetCDF: Variable not found - >latitude<\n",
      "cdi  warning (cdfScanVarAttr): NetCDF: Variable not found - >longitude<\n",
      "cdi  warning (cdfScanVarAttr): NetCDF: Variable not found - >latitude<\n",
      "cdi  warning (cdfScanVarAttr): NetCDF: Variable not found - >longitude<\n",
      "cdi  warning (cdfScanVarAttr): NetCDF: Variable not found - >latitude<\n",
      "cdi  warning (cdfScanVarAttr): NetCDF: Variable not found - >longitude<\n",
      "cdi  warning (cdfScanVarAttr): NetCDF: Variable not found - >latitude<\n",
      "cdi  warning (cdfScanVarAttr): NetCDF: Variable not found - >longitude<\n",
      "cdi  warning (cdfScanVarAttr): NetCDF: Variable not found - >latitude<\n",
      "cdi  warning (cdfScanVarAttr): NetCDF: Variable not found - >longitude<\n",
      "cdi  warning (cdfScanVarAttr): NetCDF: Variable not found - >latitude<\n",
      "cdi  warning (cdfScanVarAttr): NetCDF: Variable not found - >longitude<\n",
      "cdi  warning (cdfScanVarAttr): NetCDF: Variable not found - >latitude<\n",
      "cdi  warning (cdfScanVarAttr): NetCDF: Variable not found - >longitude<\n",
      "cdi  warning (cdfScanVarAttr): NetCDF: Variable not found - >latitude<\n",
      "cdi  warning (cdfScanVarAttr): NetCDF: Variable not found - >longitude<\n",
      "cdi  warning (cdfScanVarAttr): NetCDF: Variable not found - >latitude<\n",
      "cdi  warning (cdfScanVarAttr): NetCDF: Variable not found - >longitude<\n",
      "cdi  warning (cdfScanVarAttr): NetCDF: Variable not found - >latitude<\n",
      "cdi  warning (cdfScanVarAttr): NetCDF: Variable not found - >longitude<\n",
      "cdi  warning (cdfScanVarAttr): NetCDF: Variable not found - >latitude<\n",
      "cdi  warning (cdfScanVarAttr): NetCDF: Variable not found - >longitude<\n",
      "cdi  warning (cdfScanVarAttr): NetCDF: Variable not found - >latitude<\n",
      "cdi  warning (cdfScanVarAttr): NetCDF: Variable not found - >longitude<\n",
      "cdi  warning (cdfScanVarAttr): NetCDF: Variable not found - >latitude<\n",
      "cdi  warning (cdfScanVarAttr): NetCDF: Variable not found - >longitude<\n",
      "cdi  warning (cdfScanVarAttr): NetCDF: Variable not found - >latitude<\n",
      "cdi  warning (cdfScanVarAttr): NetCDF: Variable not found - >longitude<\n",
      "cdi  warning (cdfScanVarAttr): NetCDF: Variable not found - >latitude<\n",
      "cdi  warning (cdfScanVarAttr): NetCDF: Variable not found - >longitude<\n",
      "cdi  warning (cdfScanVarAttr): NetCDF: Variable not found - >latitude<\n",
      "cdi  warning (cdfScanVarAttr): NetCDF: Variable not found - >longitude<\n",
      "cdi  warning (cdfScanVarAttr): NetCDF: Variable not found - >latitude<\n",
      "cdi  warning (cdfScanVarAttr): NetCDF: Variable not found - >longitude<\n",
      "cdi  warning (cdfScanVarAttr): NetCDF: Variable not found - >latitude<\n",
      "cdi  warning (cdfScanVarAttr): NetCDF: Variable not found - >longitude<\n",
      "cdi  warning (cdfScanVarAttr): NetCDF: Variable not found - >latitude<\n",
      "cdi  warning (cdfScanVarAttr): NetCDF: Variable not found - >longitude<\n",
      "cdi  warning (cdfScanVarAttr): NetCDF: Variable not found - >latitude<\n",
      "cdi  warning (cdfScanVarAttr): NetCDF: Variable not found - >longitude<\n",
      "cdi  warning (cdfScanVarAttr): NetCDF: Variable not found - >latitude<\n",
      "cdi  warning (cdfScanVarAttr): NetCDF: Variable not found - >longitude<\n",
      "cdi  warning (cdfScanVarAttr): NetCDF: Variable not found - >latitude<\n",
      "cdi  warning (cdfScanVarAttr): NetCDF: Variable not found - >longitude<\n",
      "cdi  warning (cdfScanVarAttr): NetCDF: Variable not found - >latitude<\n",
      "cdi  warning (cdfScanVarAttr): NetCDF: Variable not found - >longitude<\n",
      "cdi  warning (cdfScanVarAttr): NetCDF: Variable not found - >latitude<\n",
      "cdi  warning (cdfScanVarAttr): NetCDF: Variable not found - >longitude<\n",
      "cdi  warning (cdfScanVarAttr): NetCDF: Variable not found - >latitude<\n",
      "cdi  warning (cdfScanVarAttr): NetCDF: Variable not found - >longitude<\n",
      "cdi  warning (cdfScanVarAttr): NetCDF: Variable not found - >latitude<\n",
      "cdi  warning (cdfScanVarAttr): NetCDF: Variable not found - >longitude<\n",
      "cdi  warning (cdfScanVarAttr): NetCDF: Variable not found - >latitude<\n",
      "cdi  warning (cdfScanVarAttr): NetCDF: Variable not found - >longitude<\n",
      "cdi  warning (cdfScanVarAttr): NetCDF: Variable not found - >latitude<\n",
      "cdi  warning (cdfScanVarAttr): NetCDF: Variable not found - >longitude<\n",
      "cdi  warning (cdfScanVarAttr): NetCDF: Variable not found - >latitude<\n",
      "cdi  warning (cdfScanVarAttr): NetCDF: Variable not found - >longitude<\n",
      "cdi  warning (cdfScanVarAttr): NetCDF: Variable not found - >latitude<\n",
      "cdi  warning (cdfScanVarAttr): NetCDF: Variable not found - >longitude<\n",
      "cdi  warning (cdfScanVarAttr): NetCDF: Variable not found - >latitude<\n",
      "cdi  warning (cdfScanVarAttr): NetCDF: Variable not found - >longitude<\n",
      "cdi  warning (cdfScanVarAttr): NetCDF: Variable not found - >latitude<\n",
      "cdi  warning (cdfScanVarAttr): NetCDF: Variable not found - >longitude<\n",
      "cdi  warning (cdfScanVarAttr): NetCDF: Variable not found - >latitude<\n",
      "cdi  warning (cdfScanVarAttr): NetCDF: Variable not found - >longitude<\n",
      "cdi  warning (cdfScanVarAttr): NetCDF: Variable not found - >latitude<\n",
      "cdi  warning (cdfScanVarAttr): NetCDF: Variable not found - >longitude<\n",
      "cdi  warning (cdfScanVarAttr): NetCDF: Variable not found - >latitude<\n",
      "cdi  warning (cdfScanVarAttr): NetCDF: Variable not found - >longitude<\n",
      "cdi  warning (cdfScanVarAttr): NetCDF: Variable not found - >latitude<\n",
      "cdi  warning (cdfScanVarAttr): NetCDF: Variable not found - >longitude<\n",
      "cdi  warning (cdfScanVarAttr): NetCDF: Variable not found - >latitude<\n",
      "cdi  warning (cdfScanVarAttr): NetCDF: Variable not found - >longitude<\n",
      "cdi  warning (cdfScanVarAttr): NetCDF: Variable not found - >latitude<\n",
      "cdi  warning (cdfScanVarAttr): NetCDF: Variable not found - >longitude<\n",
      "cdi  warning (cdfScanVarAttr): NetCDF: Variable not found - >latitude<\n",
      "cdi  warning (cdfScanVarAttr): NetCDF: Variable not found - >longitude<\n",
      "cdi  warning (cdfScanVarAttr): NetCDF: Variable not found - >latitude<\n",
      "cdi  warning (cdfScanVarAttr): NetCDF: Variable not found - >longitude<\n",
      "cdi  warning (cdfScanVarAttr): NetCDF: Variable not found - >latitude<\n",
      "cdi  warning (cdfScanVarAttr): NetCDF: Variable not found - >longitude<\n",
      "cdi  warning (cdfScanVarAttr): NetCDF: Variable not found - >latitude<\n",
      "cdi  warning (cdfScanVarAttr): NetCDF: Variable not found - >longitude<\n",
      "cdi  warning (cdfScanVarAttr): NetCDF: Variable not found - >latitude<\n",
      "cdi  warning (cdfScanVarAttr): NetCDF: Variable not found - >longitude<\n",
      "cdi  warning (cdfScanVarAttr): NetCDF: Variable not found - >latitude<\n",
      "cdi  warning (cdfScanVarAttr): NetCDF: Variable not found - >longitude<\n",
      "cdi  warning (cdfScanVarAttr): NetCDF: Variable not found - >latitude<\n",
      "cdi  warning (cdfScanVarAttr): NetCDF: Variable not found - >longitude<\n",
      "cdi  warning (cdfScanVarAttr): NetCDF: Variable not found - >latitude<\n",
      "cdi  warning (cdfScanVarAttr): NetCDF: Variable not found - >longitude<\n",
      "cdi  warning (cdfScanVarAttr): NetCDF: Variable not found - >latitude<\n",
      "cdi  warning (cdfScanVarAttr): NetCDF: Variable not found - >longitude<\n",
      "cdi  warning (cdfScanVarAttr): NetCDF: Variable not found - >latitude<\n",
      "cdi  warning (cdfScanVarAttr): NetCDF: Variable not found - >longitude<\n",
      "cdi  warning (cdfScanVarAttr): NetCDF: Variable not found - >latitude<\n",
      "cdi  warning (cdfScanVarAttr): NetCDF: Variable not found - >longitude<\n",
      "cdi  warning (cdfScanVarAttr): NetCDF: Variable not found - >latitude<\n",
      "cdi  warning (cdfScanVarAttr): NetCDF: Variable not found - >longitude<\n",
      "cdi  warning (cdfScanVarAttr): NetCDF: Variable not found - >latitude<\n",
      "cdi  warning (cdfScanVarAttr): NetCDF: Variable not found - >longitude<\n",
      "cdi  warning (cdfScanVarAttr): NetCDF: Variable not found - >latitude<\n",
      "cdi  warning (cdfScanVarAttr): NetCDF: Variable not found - >longitude<\n",
      "cdi  warning (cdfScanVarAttr): NetCDF: Variable not found - >latitude<\n",
      "cdi  warning (cdfScanVarAttr): NetCDF: Variable not found - >longitude<\n",
      "cdi  warning (cdfScanVarAttr): NetCDF: Variable not found - >latitude<\n",
      "cdi  warning (cdfScanVarAttr): NetCDF: Variable not found - >longitude<\n",
      "cdi  warning (cdfScanVarAttr): NetCDF: Variable not found - >latitude<\n",
      "cdi  warning (cdfScanVarAttr): NetCDF: Variable not found - >longitude<\n",
      "cdi  warning (cdfScanVarAttr): NetCDF: Variable not found - >latitude<\n",
      "cdi  warning (cdfScanVarAttr): NetCDF: Variable not found - >longitude<\n",
      "cdi  warning (cdfScanVarAttr): NetCDF: Variable not found - >latitude<\n",
      "cdi  warning (cdfScanVarAttr): NetCDF: Variable not found - >longitude<\n",
      "cdi  warning (cdfScanVarAttr): NetCDF: Variable not found - >latitude<\n",
      "cdi  warning (cdfScanVarAttr): NetCDF: Variable not found - >longitude<\n",
      "cdi  warning (cdfScanVarAttr): NetCDF: Variable not found - >latitude<\n",
      "cdi  warning (cdfScanVarAttr): NetCDF: Variable not found - >longitude<\n",
      "cdi  warning (cdfScanVarAttr): NetCDF: Variable not found - >latitude<\n",
      "cdi  warning (cdfScanVarAttr): NetCDF: Variable not found - >longitude<\n",
      "cdi  warning (cdfScanVarAttr): NetCDF: Variable not found - >latitude<\n",
      "cdi  warning (cdfScanVarAttr): NetCDF: Variable not found - >longitude<\n",
      "cdi  warning (cdfScanVarAttr): NetCDF: Variable not found - >latitude<\n",
      "cdi  warning (cdfScanVarAttr): NetCDF: Variable not found - >longitude<\n",
      "cdi  warning (cdfScanVarAttr): NetCDF: Variable not found - >latitude<\n",
      "cdi  warning (cdfScanVarAttr): NetCDF: Variable not found - >longitude<\n",
      "cdi  warning (cdfScanVarAttr): NetCDF: Variable not found - >latitude<\n",
      "cdi  warning (cdfScanVarAttr): NetCDF: Variable not found - >longitude<\n",
      "cdi  warning (cdfScanVarAttr): NetCDF: Variable not found - >latitude<\n",
      "cdi  warning (cdfScanVarAttr): NetCDF: Variable not found - >longitude<\n",
      "cdi  warning (cdfScanVarAttr): NetCDF: Variable not found - >latitude<\n",
      "cdi  warning (cdfScanVarAttr): NetCDF: Variable not found - >longitude<\n",
      "cdi  warning (cdfScanVarAttr): NetCDF: Variable not found - >latitude<\n",
      "cdi  warning (cdfScanVarAttr): NetCDF: Variable not found - >longitude<\n",
      "cdi  warning (cdfScanVarAttr): NetCDF: Variable not found - >latitude<\n",
      "cdi  warning (cdfScanVarAttr): NetCDF: Variable not found - >longitude<\n",
      "cdi  warning (cdfScanVarAttr): NetCDF: Variable not found - >latitude<\n",
      "cdi  warning (cdfScanVarAttr): NetCDF: Variable not found - >longitude<\n",
      "cdi  warning (cdfScanVarAttr): NetCDF: Variable not found - >latitude<\n",
      "cdi  warning (cdfScanVarAttr): NetCDF: Variable not found - >longitude<\n",
      "cdi  warning (cdfScanVarAttr): NetCDF: Variable not found - >latitude<\n",
      "cdi  warning (cdfScanVarAttr): NetCDF: Variable not found - >longitude<\n",
      "cdi  warning (cdfScanVarAttr): NetCDF: Variable not found - >latitude<\n",
      "cdi  warning (cdfScanVarAttr): NetCDF: Variable not found - >longitude<\n",
      "cdi  warning (cdfScanVarAttr): NetCDF: Variable not found - >latitude<\n",
      "cdi  warning (cdfScanVarAttr): NetCDF: Variable not found - >longitude<\n",
      "cdi  warning (cdfScanVarAttr): NetCDF: Variable not found - >latitude<\n",
      "cdi  warning (cdfScanVarAttr): NetCDF: Variable not found - >longitude<\n",
      "cdi  warning (cdfScanVarAttr): NetCDF: Variable not found - >latitude<\n",
      "cdi  warning (cdfScanVarAttr): NetCDF: Variable not found - >longitude<\n",
      "cdi  warning (cdfScanVarAttr): NetCDF: Variable not found - >latitude<\n",
      "cdi  warning (cdfScanVarAttr): NetCDF: Variable not found - >longitude<\n",
      "cdi  warning (cdfScanVarAttr): NetCDF: Variable not found - >latitude<\n",
      "cdi  warning (cdfScanVarAttr): NetCDF: Variable not found - >longitude<\n",
      "cdi  warning (cdfScanVarAttr): NetCDF: Variable not found - >latitude<\n",
      "cdi  warning (cdfScanVarAttr): NetCDF: Variable not found - >longitude<\n",
      "cdi  warning (cdfScanVarAttr): NetCDF: Variable not found - >latitude<\n",
      "cdi  warning (cdfScanVarAttr): NetCDF: Variable not found - >longitude<\n",
      "cdi  warning (cdfScanVarAttr): NetCDF: Variable not found - >latitude<\n",
      "cdi  warning (cdfScanVarAttr): NetCDF: Variable not found - >longitude<\n",
      "cdi  warning (cdfScanVarAttr): NetCDF: Variable not found - >latitude<\n",
      "cdi  warning (cdfScanVarAttr): NetCDF: Variable not found - >longitude<\n",
      "cdi  warning (cdfScanVarAttr): NetCDF: Variable not found - >latitude<\n",
      "cdi  warning (cdfScanVarAttr): NetCDF: Variable not found - >longitude<\n",
      "cdi  warning (cdfScanVarAttr): NetCDF: Variable not found - >latitude<\n",
      "cdi  warning (cdfScanVarAttr): NetCDF: Variable not found - >longitude<\n",
      "cdi  warning (cdfScanVarAttr): NetCDF: Variable not found - >latitude<\n",
      "cdi  warning (cdfScanVarAttr): NetCDF: Variable not found - >longitude<\n",
      "cdi  warning (cdfScanVarAttr): NetCDF: Variable not found - >latitude<\n",
      "cdi  warning (cdfScanVarAttr): NetCDF: Variable not found - >longitude<\n",
      "cdi  warning (cdfScanVarAttr): NetCDF: Variable not found - >latitude<\n",
      "cdi  warning (cdfScanVarAttr): NetCDF: Variable not found - >longitude<\n",
      "cdi  warning (cdfScanVarAttr): NetCDF: Variable not found - >latitude<\n",
      "cdi  warning (cdfScanVarAttr): NetCDF: Variable not found - >longitude<\n",
      "cdi  warning (cdfScanVarAttr): NetCDF: Variable not found - >latitude<\n",
      "cdi  warning (cdfScanVarAttr): NetCDF: Variable not found - >longitude<\n",
      "cdi  warning (cdfScanVarAttr): NetCDF: Variable not found - >latitude<\n",
      "cdi  warning (cdfScanVarAttr): NetCDF: Variable not found - >longitude<\n",
      "cdi  warning (cdfScanVarAttr): NetCDF: Variable not found - >latitude<\n",
      "cdi  warning (cdfScanVarAttr): NetCDF: Variable not found - >longitude<\n",
      "cdi  warning (cdfScanVarAttr): NetCDF: Variable not found - >latitude<\n",
      "cdi  warning (cdfScanVarAttr): NetCDF: Variable not found - >longitude<\n",
      "cdi  warning (cdfScanVarAttr): NetCDF: Variable not found - >latitude<\n",
      "cdi  warning (cdfScanVarAttr): NetCDF: Variable not found - >longitude<\n",
      "cdi  warning (cdfScanVarAttr): NetCDF: Variable not found - >latitude<\n",
      "cdi  warning (cdfScanVarAttr): NetCDF: Variable not found - >longitude<\n",
      "cdi  warning (cdfScanVarAttr): NetCDF: Variable not found - >latitude<\n",
      "cdi  warning (cdfScanVarAttr): NetCDF: Variable not found - >longitude<\n",
      "cdi  warning (cdfScanVarAttr): NetCDF: Variable not found - >latitude<\n",
      "cdi  warning (cdfScanVarAttr): NetCDF: Variable not found - >longitude<\n",
      "cdi  warning (cdfScanVarAttr): NetCDF: Variable not found - >latitude<\n",
      "cdi  warning (cdfScanVarAttr): NetCDF: Variable not found - >longitude<\n",
      "cdi  warning (cdfScanVarAttr): NetCDF: Variable not found - >latitude<\n",
      "cdi  warning (cdfScanVarAttr): NetCDF: Variable not found - >longitude<\n",
      "cdi  warning (cdfScanVarAttr): NetCDF: Variable not found - >latitude<\n",
      "cdi  warning (cdfScanVarAttr): NetCDF: Variable not found - >longitude<\n",
      "cdi  warning (cdfScanVarAttr): NetCDF: Variable not found - >latitude<\n",
      "cdi  warning (cdfScanVarAttr): NetCDF: Variable not found - >longitude<\n",
      "cdi  warning (cdfScanVarAttr): NetCDF: Variable not found - >latitude<\n",
      "cdi  warning (cdfScanVarAttr): NetCDF: Variable not found - >longitude<\n",
      "cdi  warning (cdfScanVarAttr): NetCDF: Variable not found - >latitude<\n",
      "cdi  warning (cdfScanVarAttr): NetCDF: Variable not found - >longitude<\n",
      "cdi  warning (cdfScanVarAttr): NetCDF: Variable not found - >latitude<\n",
      "cdi  warning (cdfScanVarAttr): NetCDF: Variable not found - >longitude<\n",
      "cdi  warning (cdfScanVarAttr): NetCDF: Variable not found - >latitude<\n",
      "cdi  warning (cdfScanVarAttr): NetCDF: Variable not found - >longitude<\n",
      "cdi  warning (cdfScanVarAttr): NetCDF: Variable not found - >latitude<\n",
      "cdi  warning (cdfScanVarAttr): NetCDF: Variable not found - >longitude<\n",
      "cdi  warning (cdfScanVarAttr): NetCDF: Variable not found - >latitude<\n",
      "cdi  warning (cdfScanVarAttr): NetCDF: Variable not found - >longitude<\n",
      "cdi  warning (cdfScanVarAttr): NetCDF: Variable not found - >latitude<\n",
      "cdi  warning (cdfScanVarAttr): NetCDF: Variable not found - >longitude<\n",
      "cdi  warning (cdfScanVarAttr): NetCDF: Variable not found - >latitude<\n",
      "cdi  warning (cdfScanVarAttr): NetCDF: Variable not found - >longitude<\n",
      "cdi  warning (cdfScanVarAttr): NetCDF: Variable not found - >latitude<\n",
      "cdi  warning (cdfScanVarAttr): NetCDF: Variable not found - >longitude<\n",
      "cdi  warning (cdfScanVarAttr): NetCDF: Variable not found - >latitude<\n",
      "cdi  warning (cdfScanVarAttr): NetCDF: Variable not found - >longitude<\n",
      "cdi  warning (cdfScanVarAttr): NetCDF: Variable not found - >latitude<\n",
      "cdi  warning (cdfScanVarAttr): NetCDF: Variable not found - >longitude<\n",
      "cdi  warning (cdfScanVarAttr): NetCDF: Variable not found - >latitude<\n",
      "cdi  warning (cdfScanVarAttr): NetCDF: Variable not found - >longitude<\n",
      "cdi  warning (cdfScanVarAttr): NetCDF: Variable not found - >latitude<\n",
      "cdi  warning (cdfScanVarAttr): NetCDF: Variable not found - >longitude<\n",
      "cdi  warning (cdfScanVarAttr): NetCDF: Variable not found - >latitude<\n",
      "cdi  warning (cdfScanVarAttr): NetCDF: Variable not found - >longitude<\n",
      "cdi  warning (cdfScanVarAttr): NetCDF: Variable not found - >latitude<\n",
      "cdi  warning (cdfScanVarAttr): NetCDF: Variable not found - >longitude<\n",
      "cdi  warning (cdfScanVarAttr): NetCDF: Variable not found - >latitude<\n",
      "cdi  warning (cdfScanVarAttr): NetCDF: Variable not found - >longitude<\n",
      "cdi  warning (cdfScanVarAttr): NetCDF: Variable not found - >latitude<\n",
      "cdi  warning (cdfScanVarAttr): NetCDF: Variable not found - >longitude<\n",
      "cdi  warning (cdfScanVarAttr): NetCDF: Variable not found - >latitude<\n",
      "cdi  warning (cdfScanVarAttr): NetCDF: Variable not found - >longitude<\n",
      "cdi  warning (cdfScanVarAttr): NetCDF: Variable not found - >latitude<\n",
      "cdi  warning (cdfScanVarAttr): NetCDF: Variable not found - >longitude<\n",
      "cdi  warning (cdfScanVarAttr): NetCDF: Variable not found - >latitude<\n",
      "cdi  warning (cdfScanVarAttr): NetCDF: Variable not found - >longitude<\n",
      "cdi  warning (cdfScanVarAttr): NetCDF: Variable not found - >latitude<\n",
      "cdi  warning (cdfScanVarAttr): NetCDF: Variable not found - >longitude<\n",
      "cdi  warning (cdfScanVarAttr): NetCDF: Variable not found - >latitude<\n",
      "cdi  warning (cdfScanVarAttr): NetCDF: Variable not found - >longitude<\n",
      "cdi  warning (cdfScanVarAttr): NetCDF: Variable not found - >latitude<\n",
      "cdi  warning (cdfScanVarAttr): NetCDF: Variable not found - >longitude<\n",
      "cdi  warning (cdfScanVarAttr): NetCDF: Variable not found - >latitude<\n",
      "cdi  warning (cdfScanVarAttr): NetCDF: Variable not found - >longitude<\n",
      "cdi  warning (cdfScanVarAttr): NetCDF: Variable not found - >latitude<\n",
      "cdi  warning (cdfScanVarAttr): NetCDF: Variable not found - >longitude<\n",
      "cdi  warning (cdfScanVarAttr): NetCDF: Variable not found - >latitude<\n",
      "cdi  warning (cdfScanVarAttr): NetCDF: Variable not found - >longitude<\n",
      "cdi  warning (cdfScanVarAttr): NetCDF: Variable not found - >latitude<\n",
      "cdi  warning (cdfScanVarAttr): NetCDF: Variable not found - >longitude<\n",
      "cdi  warning (cdfScanVarAttr): NetCDF: Variable not found - >latitude<\n",
      "cdi  warning (cdfScanVarAttr): NetCDF: Variable not found - >longitude<\n",
      "cdi  warning (cdfScanVarAttr): NetCDF: Variable not found - >latitude<\n",
      "cdi  warning (cdfScanVarAttr): NetCDF: Variable not found - >longitude<\n",
      "cdi  warning (cdfScanVarAttr): NetCDF: Variable not found - >latitude<\n",
      "cdi  warning (cdfScanVarAttr): NetCDF: Variable not found - >longitude<\n",
      "cdi  warning (cdfScanVarAttr): NetCDF: Variable not found - >latitude<\n",
      "cdi  warning (cdfScanVarAttr): NetCDF: Variable not found - >longitude<\n",
      "cdi  warning (cdfScanVarAttr): NetCDF: Variable not found - >latitude<\n",
      "cdi  warning (cdfScanVarAttr): NetCDF: Variable not found - >longitude<\n",
      "cdi  warning (cdfScanVarAttr): NetCDF: Variable not found - >latitude<\n",
      "cdi  warning (cdfScanVarAttr): NetCDF: Variable not found - >longitude<\n",
      "cdi  warning (cdfScanVarAttr): NetCDF: Variable not found - >latitude<\n",
      "cdi  warning (cdfScanVarAttr): NetCDF: Variable not found - >longitude<\n",
      "cdi  warning (cdfScanVarAttr): NetCDF: Variable not found - >latitude<\n",
      "cdi  warning (cdfScanVarAttr): NetCDF: Variable not found - >longitude<\n",
      "cdi  warning (cdfScanVarAttr): NetCDF: Variable not found - >latitude<\n",
      "cdi  warning (cdfScanVarAttr): NetCDF: Variable not found - >longitude<\n",
      "cdi  warning (cdfScanVarAttr): NetCDF: Variable not found - >latitude<\n",
      "cdi  warning (cdfScanVarAttr): NetCDF: Variable not found - >longitude<\n",
      "cdi  warning (cdfScanVarAttr): NetCDF: Variable not found - >latitude<\n",
      "cdi  warning (cdfScanVarAttr): NetCDF: Variable not found - >longitude<\n",
      "cdi  warning (cdfScanVarAttr): NetCDF: Variable not found - >latitude<\n",
      "cdi  warning (cdfScanVarAttr): NetCDF: Variable not found - >longitude<\n",
      "cdi  warning (cdfScanVarAttr): NetCDF: Variable not found - >latitude<\n",
      "cdi  warning (cdfScanVarAttr): NetCDF: Variable not found - >longitude<\n",
      "cdi  warning (cdfScanVarAttr): NetCDF: Variable not found - >latitude<\n",
      "cdi  warning (cdfScanVarAttr): NetCDF: Variable not found - >longitude<\n",
      "cdi  warning (cdfScanVarAttr): NetCDF: Variable not found - >latitude<\n",
      "cdi  warning (cdfScanVarAttr): NetCDF: Variable not found - >longitude<\n",
      "cdi  warning (cdfScanVarAttr): NetCDF: Variable not found - >latitude<\n",
      "cdi  warning (cdfScanVarAttr): NetCDF: Variable not found - >longitude<\n",
      "cdi  warning (cdfScanVarAttr): NetCDF: Variable not found - >latitude<\n",
      "cdi  warning (cdfScanVarAttr): NetCDF: Variable not found - >longitude<\n",
      "cdi  warning (cdfScanVarAttr): NetCDF: Variable not found - >latitude<\n",
      "cdi  warning (cdfScanVarAttr): NetCDF: Variable not found - >longitude<\n",
      "cdi  warning (cdfScanVarAttr): NetCDF: Variable not found - >latitude<\n",
      "cdi  warning (cdfScanVarAttr): NetCDF: Variable not found - >longitude<\n",
      "cdi  warning (cdfScanVarAttr): NetCDF: Variable not found - >latitude<\n",
      "cdi  warning (cdfScanVarAttr): NetCDF: Variable not found - >longitude<\n",
      "cdi  warning (cdfScanVarAttr): NetCDF: Variable not found - >latitude<\n",
      "cdi  warning (cdfScanVarAttr): NetCDF: Variable not found - >longitude<\n",
      "cdi  warning (cdfScanVarAttr): NetCDF: Variable not found - >latitude<\n",
      "cdi  warning (cdfScanVarAttr): NetCDF: Variable not found - >longitude<\n",
      "cdi  warning (cdfScanVarAttr): NetCDF: Variable not found - >latitude<\n",
      "cdi  warning (cdfScanVarAttr): NetCDF: Variable not found - >longitude<\n",
      "cdi  warning (cdfScanVarAttr): NetCDF: Variable not found - >latitude<\n",
      "cdi  warning (cdfScanVarAttr): NetCDF: Variable not found - >longitude<\n",
      "cdi  warning (cdfScanVarAttr): NetCDF: Variable not found - >latitude<\n",
      "cdi  warning (cdfScanVarAttr): NetCDF: Variable not found - >longitude<\n",
      "cdi  warning (cdfScanVarAttr): NetCDF: Variable not found - >latitude<\n",
      "cdi  warning (cdfScanVarAttr): NetCDF: Variable not found - >longitude<\n",
      "cdi  warning (cdfScanVarAttr): NetCDF: Variable not found - >latitude<\n",
      "cdi  warning (cdfScanVarAttr): NetCDF: Variable not found - >longitude<\n",
      "cdi  warning (cdfScanVarAttr): NetCDF: Variable not found - >latitude<\n",
      "cdi  warning (cdfScanVarAttr): NetCDF: Variable not found - >longitude<\n",
      "cdi  warning (cdfScanVarAttr): NetCDF: Variable not found - >latitude<\n",
      "cdi  warning (cdfScanVarAttr): NetCDF: Variable not found - >longitude<\n",
      "cdi  warning (cdfScanVarAttr): NetCDF: Variable not found - >latitude<\n",
      "cdi  warning (cdfScanVarAttr): NetCDF: Variable not found - >longitude<\n",
      "cdi  warning (cdfScanVarAttr): NetCDF: Variable not found - >latitude<\n",
      "cdi  warning (cdfScanVarAttr): NetCDF: Variable not found - >longitude<\n",
      "cdi  warning (cdfScanVarAttr): NetCDF: Variable not found - >latitude<\n",
      "cdi  warning (cdfScanVarAttr): NetCDF: Variable not found - >longitude<\n",
      "cdi  warning (cdfScanVarAttr): NetCDF: Variable not found - >latitude<\n",
      "cdi  warning (cdfScanVarAttr): NetCDF: Variable not found - >longitude<\n",
      "cdi  warning (cdfScanVarAttr): NetCDF: Variable not found - >latitude<\n",
      "cdi  warning (cdfScanVarAttr): NetCDF: Variable not found - >longitude<\n",
      "cdi  warning (cdfScanVarAttr): NetCDF: Variable not found - >latitude<\n",
      "cdi  warning (cdfScanVarAttr): NetCDF: Variable not found - >longitude<\n",
      "cdi  warning (cdfScanVarAttr): NetCDF: Variable not found - >latitude<\n",
      "cdi  warning (cdfScanVarAttr): NetCDF: Variable not found - >longitude<\n",
      "cdi  warning (cdfScanVarAttr): NetCDF: Variable not found - >latitude<\n",
      "cdi  warning (cdfScanVarAttr): NetCDF: Variable not found - >longitude<\n",
      "cdi  warning (cdfScanVarAttr): NetCDF: Variable not found - >latitude<\n",
      "cdi  warning (cdfScanVarAttr): NetCDF: Variable not found - >longitude<\n",
      "cdi  warning (cdfScanVarAttr): NetCDF: Variable not found - >latitude<\n",
      "cdi  warning (cdfScanVarAttr): NetCDF: Variable not found - >longitude<\n",
      "cdi  warning (cdfScanVarAttr): NetCDF: Variable not found - >latitude<\n",
      "cdi  warning (cdfScanVarAttr): NetCDF: Variable not found - >longitude<\n",
      "cdi  warning (cdfScanVarAttr): NetCDF: Variable not found - >latitude<\n",
      "cdi  warning (cdfScanVarAttr): NetCDF: Variable not found - >longitude<\n",
      "cdi  warning (cdfScanVarAttr): NetCDF: Variable not found - >latitude<\n",
      "cdi  warning (cdfScanVarAttr): NetCDF: Variable not found - >longitude<\n",
      "cdi  warning (cdfScanVarAttr): NetCDF: Variable not found - >latitude<\n",
      "cdi  warning (cdfScanVarAttr): NetCDF: Variable not found - >longitude<\n",
      "cdi  warning (cdfScanVarAttr): NetCDF: Variable not found - >latitude<\n",
      "cdi  warning (cdfScanVarAttr): NetCDF: Variable not found - >longitude<\n",
      "cdi  warning (cdfScanVarAttr): NetCDF: Variable not found - >latitude<\n",
      "cdi  warning (cdfScanVarAttr): NetCDF: Variable not found - >longitude<\n",
      "cdi  warning (cdfScanVarAttr): NetCDF: Variable not found - >latitude<\n",
      "cdi  warning (cdfScanVarAttr): NetCDF: Variable not found - >longitude<\n",
      "cdi  warning (cdfScanVarAttr): NetCDF: Variable not found - >latitude<\n",
      "cdi  warning (cdfScanVarAttr): NetCDF: Variable not found - >longitude<\n",
      "cdi  warning (cdfScanVarAttr): NetCDF: Variable not found - >latitude<\n",
      "cdi  warning (cdfScanVarAttr): NetCDF: Variable not found - >longitude<\n",
      "cdi  warning (cdfScanVarAttr): NetCDF: Variable not found - >latitude<\n",
      "cdi  warning (cdfScanVarAttr): NetCDF: Variable not found - >longitude<\n",
      "cdi  warning (cdfScanVarAttr): NetCDF: Variable not found - >latitude<\n",
      "cdi  warning (cdfScanVarAttr): NetCDF: Variable not found - >longitude<\n",
      "cdi  warning (cdfScanVarAttr): NetCDF: Variable not found - >latitude<\n",
      "cdi  warning (cdfScanVarAttr): NetCDF: Variable not found - >longitude<\n",
      "cdi  warning (cdfScanVarAttr): NetCDF: Variable not found - >latitude<\n",
      "cdi  warning (cdfScanVarAttr): NetCDF: Variable not found - >longitude<\n",
      "cdi  warning (cdfScanVarAttr): NetCDF: Variable not found - >latitude<\n",
      "cdi  warning (cdfScanVarAttr): NetCDF: Variable not found - >longitude<\n",
      "cdi  warning (cdfScanVarAttr): NetCDF: Variable not found - >latitude<\n",
      "cdi  warning (cdfScanVarAttr): NetCDF: Variable not found - >longitude<\n",
      "cdi  warning (cdfScanVarAttr): NetCDF: Variable not found - >latitude<\n",
      "cdi  warning (cdfScanVarAttr): NetCDF: Variable not found - >longitude<\n",
      "cdi  warning (cdfScanVarAttr): NetCDF: Variable not found - >latitude<\n",
      "cdi  warning (cdfScanVarAttr): NetCDF: Variable not found - >longitude<\n",
      "cdi  warning (cdfScanVarAttr): NetCDF: Variable not found - >latitude<\n",
      "cdi  warning (cdfScanVarAttr): NetCDF: Variable not found - >longitude<\n",
      "cdi  warning (cdfScanVarAttr): NetCDF: Variable not found - >latitude<\n",
      "cdi  warning (cdfScanVarAttr): NetCDF: Variable not found - >longitude<\n",
      "cdi  warning (cdfScanVarAttr): NetCDF: Variable not found - >latitude<\n",
      "cdi  warning (cdfScanVarAttr): NetCDF: Variable not found - >longitude<\n",
      "cdi  warning (cdfScanVarAttr): NetCDF: Variable not found - >latitude<\n",
      "cdi  warning (cdfScanVarAttr): NetCDF: Variable not found - >longitude<\n",
      "\u001b[32mcdo    mergetime: \u001b[0mProcessed 16660404 values from 1440 variables over 240 timesteps [20.36s 5689MB]\n"
     ]
    }
   ],
   "source": [
    "!cdo mergetime -w .cache/nwm.20240420/medium_range_mem1/*.nc .cache/nwm.20240420/medium_range_mem1.nc"
   ]
  },
  {
   "cell_type": "code",
   "execution_count": null,
   "id": "4982e87d-44d1-427c-a7ca-03b078e5cc99",
   "metadata": {},
   "outputs": [],
   "source": [
    "%%time\n",
    "\n",
    "#!mamba install cdo python-cdo\n",
    "from cdo import Cdo\n",
    "cdo = Cdo()\n",
    "cdo.merge(input=input_files, output=output_file)"
   ]
  },
  {
   "cell_type": "code",
   "execution_count": 49,
   "id": "97a0d566-a123-4697-84b6-f315f4a2344c",
   "metadata": {},
   "outputs": [
    {
     "name": "stdout",
     "output_type": "stream",
     "text": [
      "CPU times: user 32.2 s, sys: 7.57 s, total: 39.7 s\n",
      "Wall time: 39.8 s\n"
     ]
    }
   ],
   "source": [
    "%%time\n",
    "_ds = xarray.open_mfdataset(paths,\n",
    "                        engine='h5netcdf',\n",
    "                        parallel=True)\n"
   ]
  },
  {
   "cell_type": "code",
   "execution_count": null,
   "id": "9bfbc683-a0aa-4bc9-b7ee-6e12af29b84f",
   "metadata": {},
   "outputs": [],
   "source": [
    "%%time\n",
    "_ds.to_netcdf(output_file)"
   ]
  },
  {
   "cell_type": "code",
   "execution_count": null,
   "id": "3409741b-8524-40ba-bcd4-59a117e58932",
   "metadata": {},
   "outputs": [],
   "source": []
  },
  {
   "cell_type": "code",
   "execution_count": null,
   "id": "0bd94f7a-83cc-4610-a7ce-eb99b9151c4e",
   "metadata": {},
   "outputs": [],
   "source": [
    "# hypothetical streamflow (cms).\n",
    "# This can be replaced with a flow value gathered by a source of your choice\n",
    "cms = 85"
   ]
  },
  {
   "cell_type": "markdown",
   "id": "e05ebe4d-739d-4337-a7de-d8d42781f8ce",
   "metadata": {},
   "source": [
    "Use the streamflow defined above to interpolate river stage from a rating curve for all hydroids that exist within this NHD+ reach. "
   ]
  },
  {
   "cell_type": "code",
   "execution_count": null,
   "id": "3b4e5d9f-ae5d-4762-bc2d-5d2f4faa0cc6",
   "metadata": {},
   "outputs": [],
   "source": [
    "def interpolate_y(df: pd.DataFrame,\n",
    "                  x_column: str,\n",
    "                  y_column: str,\n",
    "                  x_value: float) -> float:\n",
    "    \"\"\"\n",
    "    Performs 1D interpolation on two columns of a Dataframe.\n",
    "\n",
    "    Parameters\n",
    "    ==========\n",
    "    df: pandas.DataFrame\n",
    "        DataFrame containing data that will be used in the interpolation.\n",
    "    x_column: str\n",
    "        Name of the column that represents the X-axis data.\n",
    "    y_column: str\n",
    "        Name of the column that represents the Y-axis data.\n",
    "    x_value: float\n",
    "        Numeric X-axis value for which to interpolate Y-axis data. Returns \n",
    "        -9999 if the interpolation fails to resolve.\n",
    "\n",
    "    Returns\n",
    "    =======\n",
    "    y_value: float\n",
    "        Numeric Y-axis value corresponding to the input X-axis value.\n",
    "\n",
    "    \"\"\"\n",
    "    # Sort the DataFrame by the 'x' column to ensure interpolation works correctly\n",
    "    df_sorted = df.sort_values(by=x_column)\n",
    "    \n",
    "    # Check if the x_value is within the range of the DataFrame\n",
    "    if x_value < df_sorted[x_column].min() or x_value > df_sorted[x_column].max():\n",
    "        return -9999  # x_value is out of range, cannot interpolate\n",
    "    \n",
    "    # Perform linear interpolation\n",
    "    f = interpolate.interp1d(df_sorted[x_column], df_sorted[y_column], kind='linear')\n",
    "    \n",
    "    # Return the interpolated y value for the given x value\n",
    "    return f(x_value)\n",
    "\n",
    "def compute_stage(df: pd.DataFrame,\n",
    "                  hydro_id: int,\n",
    "                  flow_cms: float) -> Dict[int, float]:\n",
    "    \"\"\"\n",
    "    Computes river stage from a rating curve given streamflow in cfs.\n",
    "\n",
    "    Parameters\n",
    "    ==========\n",
    "    df: pandas.DataFrame\n",
    "        DataFrame containing the stage and discharge values of the rating curve.\n",
    "        This must contain the following columns: HydroID, stage, discharge_cms.\n",
    "    hydro_id: int\n",
    "        Identifier for the reach for which to compute stage.\n",
    "    flow_cms: float\n",
    "        Streamflow to convert into river stage.\n",
    "\n",
    "    Returns\n",
    "    =======\n",
    "    Dict [int, float]\n",
    "        A dictionary containing computed stage and its associated hydroid\n",
    "\n",
    "    \"\"\"\n",
    "\n",
    "    \n",
    "    # look up rating curve for this hydroid\n",
    "    rating_curve = df.loc[df.HydroID == hydro_id, ['stage', 'discharge_cms']]\n",
    "\n",
    "    # interpolate using the provided flow rate\n",
    "    interpolated_stage = interpolate_y(rating_curve, 'discharge_cms', 'stage', flow_cms) \n",
    "\n",
    "    return {hydro_id: float(interpolated_stage)}\n",
    "\n",
    "def get_stage_for_all_hydroids_in_reach(nhd_feature_id: int,\n",
    "                                        flow_cms: float,\n",
    "                                        hydrotable: Path = Path('./hydroTable_0.csv')) -> Dict[int, float]:\n",
    "    \"\"\"\n",
    "    Retrieves stage for all NWM HydroIDs given an NHD reach and input streamflow.\n",
    "    The stage is computed using FIM rating curves.\n",
    "\n",
    "    Parameters\n",
    "    ==========\n",
    "    nhd_feature_id: int\n",
    "        NHD feature identifier.\n",
    "    flow_cms: float\n",
    "        Streamflow for the reach in cubic meters per second\n",
    "    hydrotable: pathlib.Path\n",
    "        Path to the FIM hydrotable.csv file containing rating curve data.\n",
    "\n",
    "    Returns\n",
    "    =======\n",
    "    Dict [int, float]\n",
    "        Dictionary containing one or more NWM hydro identifiers and \n",
    "        their corresponding stages.\n",
    "\n",
    "    \"\"\"\n",
    "    \n",
    "    # load hydrotable_0\n",
    "    # we don't need all of the columns in this csv\n",
    "    hydro_df = pd.read_csv(hydrotable,\n",
    "                           usecols=['HydroID', 'NextDownID', 'feature_id',\n",
    "                                    'stage', 'discharge_cms'])\n",
    "    \n",
    "    # select features that match nhd_feature_id\n",
    "    d = hydro_df.loc[hydro_df.feature_id==nhd_feature_id]\n",
    "    \n",
    "    # get unique combos of HydroID and NextDownID \n",
    "    hydro_ids = np.unique(d.HydroID)\n",
    "    \n",
    "    interpolated_stages = {}\n",
    "    for hydro_id in hydro_ids:  \n",
    "        interpolated_stages.update(compute_stage(d, hydro_id, flow_cms))\n",
    "        \n",
    "    # return interpolated stage\n",
    "    return interpolated_stages\n"
   ]
  },
  {
   "cell_type": "code",
   "execution_count": null,
   "id": "2d51471e-11d2-476a-84fc-66aa84befdec",
   "metadata": {},
   "outputs": [],
   "source": [
    "stage_dict = get_stage_for_all_hydroids_in_reach(nhd_feature_id, cms)"
   ]
  },
  {
   "cell_type": "code",
   "execution_count": null,
   "id": "a8e77ab3-c444-4f67-a9c3-53e1f3e693b7",
   "metadata": {},
   "outputs": [],
   "source": [
    "stage_dict"
   ]
  },
  {
   "cell_type": "markdown",
   "id": "b27a5d3f-b9ff-45e2-a330-e83dc3a16ac9",
   "metadata": {},
   "source": [
    "Load the precomputed HAND raster that was obtained from AWS."
   ]
  },
  {
   "cell_type": "code",
   "execution_count": null,
   "id": "f63c2e98-418a-430b-923e-2931dc76411d",
   "metadata": {},
   "outputs": [],
   "source": [
    "xds = rioxarray.open_rasterio(Path('./rem_zeroed_masked_0.tif'),\n",
    "                              masked=True).squeeze().drop_vars('band').to_dataset(name='hand')\n",
    "xds"
   ]
  },
  {
   "cell_type": "markdown",
   "id": "e56cc451-3fd0-4216-ad38-ae8599235e0e",
   "metadata": {},
   "source": [
    "Make a copy of the 'hand' variable to the 'stage' variable. This will be used to compute the flood inundation map later on. The dataset will now have both `hand` and `stage` variables for all (x,y) locations."
   ]
  },
  {
   "cell_type": "code",
   "execution_count": null,
   "id": "666d311a-bafd-4be3-bcf5-c092708a821f",
   "metadata": {},
   "outputs": [],
   "source": [
    "xds['stage'] = xds.hand.copy(deep=True)\n",
    "xds"
   ]
  },
  {
   "cell_type": "markdown",
   "id": "f05aa30b-d64d-475c-953c-116aa8c61ba9",
   "metadata": {},
   "source": [
    "Read watershed geometries and set stage values from the `stage_dict` defined above, and remove all other geometries. The end product will be a geodataframe containing the geometries for each `hydroid` in our area of interest and their stage values."
   ]
  },
  {
   "cell_type": "code",
   "execution_count": null,
   "id": "64162da5-35b7-454a-87ca-45f642390f18",
   "metadata": {},
   "outputs": [],
   "source": [
    "geodf = geopandas.read_file(Path('./gw_catchments_reaches_filtered_addedAttributes_crosswalked_0.gpkg'))\n",
    "\n",
    "# loop over each reach and set the corresponding stage\n",
    "# in the geopandas object\n",
    "for hydroid, stage in stage_dict.items():\n",
    "    geodf.loc[geodf.HydroID==hydroid, 'stage'] = stage\n",
    "\n",
    "# remove all nan values to make our dataset smaller\n",
    "geodf_filtered = geodf[geodf.stage.notnull()]\n",
    "\n",
    "geodf_filtered"
   ]
  },
  {
   "cell_type": "markdown",
   "id": "835c22e0-8db8-46d8-bcc8-c45640245b5d",
   "metadata": {},
   "source": [
    "Visualize the area that we're working with."
   ]
  },
  {
   "cell_type": "code",
   "execution_count": null,
   "id": "db11e055-cf42-4276-bb88-f61ab91a6535",
   "metadata": {},
   "outputs": [],
   "source": [
    "figure, ax = plt.subplots(1, figsize=(10, 10))\n",
    "\n",
    "geodf.plot(facecolor='None', edgecolor='lightgrey', ax=ax);\n",
    "geodf_filtered.plot(facecolor='green', ax=ax);"
   ]
  },
  {
   "cell_type": "markdown",
   "id": "2d901bbb-2371-46c8-acbd-aa9ae18a5fc1",
   "metadata": {},
   "source": [
    "Add all geometries to the Dataset containing `hand` and `stage` variables using a GeoCube."
   ]
  },
  {
   "cell_type": "code",
   "execution_count": null,
   "id": "f3d7b2b0-8ee2-4517-a4fe-94db3d5b1e66",
   "metadata": {},
   "outputs": [],
   "source": [
    "# create a grid for the geocube\n",
    "out_grid = make_geocube(\n",
    "    vector_data=geodf,\n",
    "    measurements=['HydroID'],\n",
    "    like=xds # ensure the data are on the same grid\n",
    ")\n",
    "\n",
    "# add stage and hydroID to the HAND raster\n",
    "#xds = xds.assign_coords( hydroid = (['y', 'x'], out_grid.HydroID.data) )\n",
    "ds = xds.assign_coords( hydroid = (['y', 'x'], out_grid.HydroID.data) )\n",
    "\n",
    "# drop everything except the HydroIDs that we're interested in\n",
    "ds = ds.where(ds.hydroid.isin(geodf_filtered.HydroID), drop=True)\n",
    "ds"
   ]
  },
  {
   "cell_type": "markdown",
   "id": "0ead49b8-546a-42cc-a3e4-1fdc5e4fdb15",
   "metadata": {},
   "source": [
    "Update the stage values in the DataSet where specific hydroid's exist."
   ]
  },
  {
   "cell_type": "code",
   "execution_count": null,
   "id": "ee1eae02-3421-4f56-9673-900addb4703e",
   "metadata": {},
   "outputs": [],
   "source": [
    "for idx, row in geodf_filtered.iterrows():\n",
    "    print(f'{row.HydroID} -> {row.stage}' )\n",
    "    ds['stage'] = xarray.where(ds.hydroid == row.HydroID, row.stage, ds.stage)"
   ]
  },
  {
   "cell_type": "markdown",
   "id": "a5ba0059-9c71-4447-b7fb-82b32e8e51b3",
   "metadata": {},
   "source": [
    "Preview the `stage` data we set as well as the original `hand` data. "
   ]
  },
  {
   "cell_type": "code",
   "execution_count": null,
   "id": "f98f34ac-2890-4584-8f7e-8f4323e968d2",
   "metadata": {},
   "outputs": [],
   "source": [
    "figure, axes = plt.subplots(1, 2, figsize=(10,5))\n",
    "\n",
    "# plot stage\n",
    "ds.stage.plot(ax=axes[0])\n",
    "axes[0].set_title('Stage');\n",
    "axes[0].tick_params(axis='x', labelrotation=45)\n",
    "\n",
    "# plot hand\n",
    "ds.hand.plot(ax=axes[1])\n",
    "axes[1].set_title('HAND');\n",
    "axes[1].tick_params(axis='x', labelrotation=45)\n",
    "\n",
    "figure.tight_layout()\n"
   ]
  },
  {
   "cell_type": "markdown",
   "id": "629e9af0-1efd-45a3-bcae-aa8f027ad703",
   "metadata": {},
   "source": [
    "Compute FIM by subtracting `hand` from `stage`. Everything that is negative should be set to zero. Cells that have a value greater than zero indicate areas in which flooding occurs. Create a new variable in our dataset (called `fim`) to store this result."
   ]
  },
  {
   "cell_type": "code",
   "execution_count": null,
   "id": "5ce3752d-8f43-4803-b8a9-4a9434315ccd",
   "metadata": {},
   "outputs": [],
   "source": [
    "ds['fim'] = ds.stage - ds.hand\n",
    "ds['fim'] = xarray.where(ds.fim >= 0.00001, ds.fim, numpy.nan)"
   ]
  },
  {
   "cell_type": "code",
   "execution_count": null,
   "id": "134de45a-8068-49d9-b613-12148e728012",
   "metadata": {},
   "outputs": [],
   "source": [
    "figure, axes = plt.subplots(1, 2, figsize=(12,5))\n",
    "\n",
    "geodf.loc[geodf.feature_id==nhd_feature_id].plot(ax=axes[0], edgecolor='grey', facecolor='None');\n",
    "ds.fim.plot(cbar_kwargs={'label':'depth [meters]'}, ax=axes[0]);\n",
    "axes[0].set_title(f'FIM for NHD {nhd_feature_id} at {cms} cms');\n",
    "\n",
    "\n",
    "xarray.plot.contourf(ds.fim, levels=4, cmap='Blues', cbar_kwargs={'label':'Flood Risk (light = low risk)'}, ax=axes[1]);\n",
    "geodf.loc[geodf.feature_id==nhd_feature_id].plot(ax=axes[1], edgecolor='grey', facecolor='None');\n",
    "axes[1].set_title(f'FIM Contours for NHD {nhd_feature_id} at {cms} cms');\n"
   ]
  },
  {
   "cell_type": "code",
   "execution_count": null,
   "id": "2151bcb6-464f-473d-bb83-371ae0d63af3",
   "metadata": {},
   "outputs": [],
   "source": []
  }
 ],
 "metadata": {
  "kernelspec": {
   "display_name": "Python 3 (ipykernel)",
   "language": "python",
   "name": "python3"
  },
  "language_info": {
   "codemirror_mode": {
    "name": "ipython",
    "version": 3
   },
   "file_extension": ".py",
   "mimetype": "text/x-python",
   "name": "python",
   "nbconvert_exporter": "python",
   "pygments_lexer": "ipython3",
   "version": "3.10.12"
  }
 },
 "nbformat": 4,
 "nbformat_minor": 5
}
