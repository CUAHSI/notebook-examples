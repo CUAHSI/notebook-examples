{
 "cells": [
  {
   "cell_type": "markdown",
   "id": "cc3872d5-fe42-49a0-aee9-823d58af0e11",
   "metadata": {},
   "source": [
    "# Subset NGEN HydroFabric on S3\n",
    "\n",
    "**Authors:**  \n",
    "   - Tony Castronova <acastronova@cuahsi.org>    \n",
    "   - Irene Garousi-Nejad <igarousi@cuahsi.org>  \n",
    "    \n",
    "**Last Updated:** 04.21.2023   \n",
    "\n",
    "**Description**:  \n",
    "\n",
    "The purpose of this Jupyter Notebook is to demonstrate how to extract the National Hydrologic Geospatial (Hydrofabric) at a specific area of interest. Once the Hydrofabric has been extracted, it can be used to execute the [NOAA Next Generation (NextGen) Water Resource Modeling Framework](https://github.com/NOAA-OWP/ngen). The Hydrofabric data are publicly available in the AWS catalog. In this notebook, we use Version 1.2 of the NGen Hydrofabric which is the most recent version available on the Amazon S3 Bucket as of the time of developing this notebook (https://nextgen-hydrofabric.s3.amazonaws.com/index.html#v1.2/).\n",
    "\n",
    "**Software Requirements**:  \n",
    "\n",
    "The software and operating system versions used to develop this notebook are listed below. To avoid encountering issues related to version conflicts among Python packages, we recommend creating a new environment variable and installing the required packages specifically for this notebook.\n",
    "\n",
    "Tested on: MacOS Ventura 13.2.1  \n",
    "\n",
    "> boto3: 1.26.76  \n",
    "  dask-core: 2023.4.0  \n",
    "  fiona: 1.9.3  \n",
    "  fsspec: 2023.4.0  \n",
    "  geopandas: 0.12.2   \n",
    "  ipyleaflet: 0.17.2  \n",
    "  ipywidgets: 7.7.5   \n",
    "  matplotlib: 3.7.1   \n",
    "  netcdf4: 1.6.3   \n",
    "  numpy: 1.24.2  \n",
    "  pandas: 2.0.0  \n",
    "  requests: 2.28.2  \n",
    "  s3fs: 2023.4.0  \n",
    "  scipy: 1.10.1  \n",
    "  xarray: 2023.4.1\n",
    "  \n",
    "**Supplementary Code**\n",
    "\n",
    "This notebook relies on the following external scripts:  \n",
    "- `subset.py` - A script originally written by Nels Frazier to subset the NGen Hydrofabric"
   ]
  },
  {
   "cell_type": "code",
   "execution_count": 1,
   "id": "c354f815-4e05-4a57-86d1-213a1536d801",
   "metadata": {},
   "outputs": [],
   "source": [
    "import datetime\n",
    "\n",
    "from ipyleaflet import *\n",
    "from ipywidgets import Layout\n",
    "\n",
    "from requests import Request\n",
    "import geopandas as gpd\n",
    "import pandas\n",
    "\n",
    "import subset\n",
    "\n",
    "import os\n",
    "import time"
   ]
  },
  {
   "cell_type": "markdown",
   "id": "c9c672fc-9635-460b-bef0-64338759f036",
   "metadata": {},
   "source": [
    "Create a map and load the HydroFabric VPU geometries. These geometries have been prepared ahead of time and are stored in a HydroShare [resource](https://www.hydroshare.org/resource/35e8c6023c154b6298fcda280beda849/). HydroShare provides [WMS](https://docs.geoserver.org/latest/en/user/services/wms/index.html) and [WFS](https://docs.geoserver.org/latest/en/user/services/wfs/index.html) capabilities that enable us to easily display them on an interactive map.\n",
    "\n",
    "Create the map using the following code:"
   ]
  },
  {
   "cell_type": "code",
   "execution_count": 16,
   "id": "a8c882f2-484a-4d14-9bdc-f0c1f2a3152f",
   "metadata": {},
   "outputs": [],
   "source": [
    "defaultLayout=Layout(width='960px', height='940px')\n",
    "\n",
    "# map_center = (41.74614949822607, -111.76617850993877) # logan, UT\n",
    "map_center = (40.59, -111.15) # provo , UT \n",
    "\n",
    "m = Map(\n",
    "    basemap=basemap_to_tiles(basemaps.OpenStreetMap.Mapnik, layout=defaultLayout),\n",
    "    center=map_center,\n",
    "    zoom=11,\n",
    "    scroll_wheel_zoom=True,\n",
    "    tap=False\n",
    "    )\n",
    "\n",
    "# add USGS Gages\n",
    "m.add_layer(\n",
    "    WMSLayer(\n",
    "        url='http://arcgis.cuahsi.org/arcgis/services/NHD/usgs_gages/MapServer/WmsServer',\n",
    "        layers='0',\n",
    "        transparent=True,\n",
    "        format='image/png',\n",
    "        min_zoom=8,\n",
    "        max_zoom=18,\n",
    "        )\n",
    ")\n",
    "\n",
    "# add the CONUS VPU boundaries\n",
    "m.add_layer(\n",
    "    WMSLayer(\n",
    "        url='https://geoserver.hydroshare.org/geoserver/HS-35e8c6023c154b6298fcda280beda849/wms?',\n",
    "        layers='vpu_boundaries',\n",
    "        format='image/png',\n",
    "        transparent=True,\n",
    "        opacity=0.5,\n",
    "        min_zoom=4,\n",
    "        max_zoom=8\n",
    "    )\n",
    ")\n",
    "\n",
    "# add the watershed VPU boundaries for each region.\n",
    "# for vpu in ['01', '02','03N','03S','03W', '04','05','06','07','08','09','10L','10U','11','12','13','14','15','16','17','18']:\n",
    "for vpu in ['16']:\n",
    "    m.add_layer(\n",
    "        WMSLayer(\n",
    "            url='https://geoserver.hydroshare.org/geoserver/HS-35e8c6023c154b6298fcda280beda849/wms?',\n",
    "            layers=f'{vpu}_boundaries',\n",
    "            format='image/png',\n",
    "            transparent=True,\n",
    "            opacity=0.5,\n",
    "            min_zoom=8,\n",
    "            max_zoom=18\n",
    "        )\n",
    "    )\n"
   ]
  },
  {
   "cell_type": "markdown",
   "id": "70d69c43-6c97-4e2d-8a9e-c24f1ee74174",
   "metadata": {},
   "source": [
    "Add an event handler that will enable us to highlight and store geometries that have been clicked on the map. When a geometry is clicked on the map, we'll call the `WFS` endpoint to retrieve the boundary of the shape. We can draw this boundary on the map and store information about the selected area for later use."
   ]
  },
  {
   "cell_type": "code",
   "execution_count": 17,
   "id": "807970de-8af1-43d0-8511-c616e2b7eab5",
   "metadata": {},
   "outputs": [],
   "source": [
    "selected_df = None\n",
    "\n",
    "def handle_map_interaction(**kwargs):\n",
    "    global selected_df\n",
    "    \n",
    "    if kwargs.get('type') == 'click':\n",
    "        coords = kwargs['coordinates'] \n",
    "        url = f'https://geoserver.hydroshare.org/geoserver/HS-35e8c6023c154b6298fcda280beda849/wfs?' \\\n",
    "               'service=wfs&version=2.0.0&' \\\n",
    "              f'request=getFeature&' \\\n",
    "               'srsName=EPSG:4269&' \\\n",
    "              f'bbox={coords[1]},{coords[0]},{coords[1]},{coords[0]},EPSG:4269&' \\\n",
    "              f'typeName=vpu_boundaries&' \\\n",
    "               'outputFormat=json&' \\\n",
    "               'PropertyName=VPU'\n",
    "        q = Request('GET', url).prepare().url\n",
    "        df = gpd.read_file(q, format='json')\n",
    "        \n",
    "        # exit if a VPU is not found, i.e. a user doesn't click on the layer\n",
    "        if len(df) == 0: return\n",
    "        \n",
    "        VPU = df.VPU.values[0]\n",
    "        url = f'https://geoserver.hydroshare.org/geoserver/HS-35e8c6023c154b6298fcda280beda849/wfs?' \\\n",
    "               'service=wfs&version=2.0.0&' \\\n",
    "              f'request=getFeature&' \\\n",
    "               'srsName=EPSG:4269&' \\\n",
    "              f'bbox={coords[1]},{coords[0]},{coords[1]},{coords[0]},EPSG:4269&' \\\n",
    "              f'typeName={VPU}_boundaries&' \\\n",
    "               'outputFormat=json&'\n",
    "        q = Request('GET', url).prepare().url\n",
    "        df = gpd.read_file(q, format='json')\n",
    "\n",
    "        # exit if a VPU is not found, i.e. a user doesn't click on the layer\n",
    "        if len(df) == 0: return\n",
    "    \n",
    "        # save vpu region, convert crs, and save selection for later\n",
    "        df['VPU'] = VPU \n",
    "        df = df.to_crs('EPSG:4269')\n",
    "        selected_df = df\n",
    "        \n",
    "        if type(m.layers[-1]) == WKTLayer:\n",
    "            m.remove_layer(m.layers[-1])\n",
    "            \n",
    "        # display the watershed boundary on the map\n",
    "        m.add_layer(WKTLayer(wkt_string=df.iloc[0].geometry.wkt))\n",
    "        \n",
    "m.on_interaction(handle_map_interaction)"
   ]
  },
  {
   "cell_type": "markdown",
   "id": "091faa22-689e-4e2f-8e3c-02244e530d2e",
   "metadata": {},
   "source": [
    "Display the map"
   ]
  },
  {
   "cell_type": "code",
   "execution_count": 18,
   "id": "c1b6fa44-1657-42c5-9fa4-b550eede388f",
   "metadata": {},
   "outputs": [
    {
     "data": {
      "application/vnd.jupyter.widget-view+json": {
       "model_id": "e6124dec10184d0eb72430562b9548e2",
       "version_major": 2,
       "version_minor": 0
      },
      "text/plain": [
       "Map(center=[40.59, -111.15], controls=(ZoomControl(options=['position', 'zoom_in_text', 'zoom_in_title', 'zoom…"
      ]
     },
     "execution_count": 18,
     "metadata": {},
     "output_type": "execute_result"
    }
   ],
   "source": [
    "m"
   ]
  },
  {
   "cell_type": "markdown",
   "id": "d1b8729c-fd1e-4206-83b0-1fc0d1fbe0c8",
   "metadata": {},
   "source": [
    "Pass the `ids` of the geometries selected in the map to the hydrofabric subsetting script."
   ]
  },
  {
   "cell_type": "code",
   "execution_count": 19,
   "id": "2ac5a477-93df-48d3-b3a6-f9b09d606665",
   "metadata": {},
   "outputs": [
    {
     "data": {
      "text/plain": [
       "0    cat-680628\n",
       "Name: id, dtype: object"
      ]
     },
     "execution_count": 19,
     "metadata": {},
     "output_type": "execute_result"
    }
   ],
   "source": [
    "selected_df.id"
   ]
  },
  {
   "cell_type": "code",
   "execution_count": 20,
   "id": "28af8c32-011d-4981-a614-1d5f62de424c",
   "metadata": {},
   "outputs": [
    {
     "name": "stdout",
     "output_type": "stream",
     "text": [
      "--------------------------------------------------\n",
      "Processing VPU 16, cat-680628 \n",
      "flowpaths\n",
      "divides\n",
      "nexus\n",
      "flowpath_attributes\n",
      "flowpath_edge_list\n",
      "crosswalk\n",
      "cfe_noahowp_attributes\n",
      "forcing_metadata\n",
      "Output files located at: cat-680628\n",
      "Completed in 96.45504355430603 seconds\n",
      "--------------------------------------------------\n"
     ]
    }
   ],
   "source": [
    "\n",
    "ids = list(selected_df.id.values)\n",
    "vpus = list(selected_df.VPU.values)\n",
    "\n",
    "output_files = []\n",
    "for i in range(0, len(ids)):    \n",
    "    print(50*'-'+f'\\nProcessing VPU {vpus[i]}, {ids[i]} ')\n",
    "    st = time.time()\n",
    "    # build the hydrofabric_url\n",
    "    hydrofabric_url = f's3://nextgen-hydrofabric/v1.2/nextgen_{vpus[i]}.gpkg'\n",
    "    subset.subset_upstream(hydrofabric_url, ids[i])\n",
    "    \n",
    "    # move these files into a subdir to keep things orderly\n",
    "    counter = 1\n",
    "    outpath = ids[i]\n",
    "    while os.path.exists(outpath):\n",
    "        outpath = ids[i] + \" (\" + str(counter) + \")\"\n",
    "        counter += 1\n",
    "    os.mkdir(outpath)\n",
    "    for f in [f'{ids[i]}_upstream_subset.gpkg',\n",
    "              'catchments.geojson',\n",
    "              'crosswalk.json',\n",
    "              'flowpath_edge_list.json',\n",
    "              'flowpaths.geojson',\n",
    "              'nexus.geojson']:\n",
    "        os.rename(f, f'{outpath}/{f}')\n",
    "        \n",
    "    # output_files.append(f'{ids[i]}_upstream_subset.gpkg')\n",
    "    print(f'Output files located at: {outpath}')\n",
    "    print(f'Completed in {time.time() - st} seconds\\n'+50*'-')    "
   ]
  },
  {
   "cell_type": "markdown",
   "id": "59d11871-67d3-4bbf-91b2-fad296c44d36",
   "metadata": {},
   "source": [
    "## Preview the Output Geopackage"
   ]
  },
  {
   "cell_type": "code",
   "execution_count": 21,
   "id": "67f10e6e-7dac-4cb4-bdc0-284f2d0fe51d",
   "metadata": {},
   "outputs": [],
   "source": [
    "import geopandas"
   ]
  },
  {
   "cell_type": "code",
   "execution_count": 31,
   "id": "04a823f0-8dad-4a0c-8dc8-08882e7a5645",
   "metadata": {},
   "outputs": [],
   "source": [
    "# load the geopackage\n",
    "# ['flowpaths', 'divides', 'nexus', 'flowpath_attributes', 'flowpath_edge_list', 'crosswalk', 'cfe_noahowp_attributes', 'forcing_metadata']\n",
    "\n",
    "results = geopandas.read_file(f'{ids[0]}/{ids[0]}_upstream_subset.gpkg', layer='divides')"
   ]
  },
  {
   "cell_type": "code",
   "execution_count": 32,
   "id": "2bc9f7f9-97a3-43c0-81b7-ccacd468c712",
   "metadata": {},
   "outputs": [
    {
     "data": {
      "text/html": [
       "<div>\n",
       "<style scoped>\n",
       "    .dataframe tbody tr th:only-of-type {\n",
       "        vertical-align: middle;\n",
       "    }\n",
       "\n",
       "    .dataframe tbody tr th {\n",
       "        vertical-align: top;\n",
       "    }\n",
       "\n",
       "    .dataframe thead th {\n",
       "        text-align: right;\n",
       "    }\n",
       "</style>\n",
       "<table border=\"1\" class=\"dataframe\">\n",
       "  <thead>\n",
       "    <tr style=\"text-align: right;\">\n",
       "      <th></th>\n",
       "      <th>id</th>\n",
       "      <th>areasqkm</th>\n",
       "      <th>type</th>\n",
       "      <th>toid</th>\n",
       "      <th>geometry</th>\n",
       "    </tr>\n",
       "  </thead>\n",
       "  <tbody>\n",
       "    <tr>\n",
       "      <th>0</th>\n",
       "      <td>cat-680625</td>\n",
       "      <td>3.933452</td>\n",
       "      <td>network</td>\n",
       "      <td>nex-680626</td>\n",
       "      <td>MULTIPOLYGON (((-1250325.000 2059605.000, -125...</td>\n",
       "    </tr>\n",
       "    <tr>\n",
       "      <th>1</th>\n",
       "      <td>cat-681077</td>\n",
       "      <td>7.774320</td>\n",
       "      <td>network</td>\n",
       "      <td>nex-680625</td>\n",
       "      <td>MULTIPOLYGON (((-1247415.004 2060234.996, -124...</td>\n",
       "    </tr>\n",
       "    <tr>\n",
       "      <th>2</th>\n",
       "      <td>cat-680628</td>\n",
       "      <td>8.363692</td>\n",
       "      <td>network</td>\n",
       "      <td>nex-680629</td>\n",
       "      <td>MULTIPOLYGON (((-1250834.998 2050904.997, -125...</td>\n",
       "    </tr>\n",
       "    <tr>\n",
       "      <th>3</th>\n",
       "      <td>cat-680624</td>\n",
       "      <td>7.418699</td>\n",
       "      <td>network</td>\n",
       "      <td>nex-680625</td>\n",
       "      <td>MULTIPOLYGON (((-1247804.996 2061195.005, -124...</td>\n",
       "    </tr>\n",
       "    <tr>\n",
       "      <th>4</th>\n",
       "      <td>cat-681076</td>\n",
       "      <td>10.130844</td>\n",
       "      <td>network</td>\n",
       "      <td>nex-680629</td>\n",
       "      <td>MULTIPOLYGON (((-1251434.998 2056484.997, -125...</td>\n",
       "    </tr>\n",
       "  </tbody>\n",
       "</table>\n",
       "</div>"
      ],
      "text/plain": [
       "           id   areasqkm     type        toid   \n",
       "0  cat-680625   3.933452  network  nex-680626  \\\n",
       "1  cat-681077   7.774320  network  nex-680625   \n",
       "2  cat-680628   8.363692  network  nex-680629   \n",
       "3  cat-680624   7.418699  network  nex-680625   \n",
       "4  cat-681076  10.130844  network  nex-680629   \n",
       "\n",
       "                                            geometry  \n",
       "0  MULTIPOLYGON (((-1250325.000 2059605.000, -125...  \n",
       "1  MULTIPOLYGON (((-1247415.004 2060234.996, -124...  \n",
       "2  MULTIPOLYGON (((-1250834.998 2050904.997, -125...  \n",
       "3  MULTIPOLYGON (((-1247804.996 2061195.005, -124...  \n",
       "4  MULTIPOLYGON (((-1251434.998 2056484.997, -125...  "
      ]
     },
     "execution_count": 32,
     "metadata": {},
     "output_type": "execute_result"
    }
   ],
   "source": [
    "# preview the dataframe contents\n",
    "results.head()"
   ]
  },
  {
   "cell_type": "code",
   "execution_count": 33,
   "id": "cd86fbab-f3d5-4cb9-ad32-96efb071ae19",
   "metadata": {},
   "outputs": [
    {
     "data": {
      "image/png": "[encoded data removed]",
      "text/plain": [
       "<Figure size 640x480 with 1 Axes>"
      ]
     },
     "metadata": {},
     "output_type": "display_data"
    }
   ],
   "source": [
    "# preview map geometries\n",
    "results.iloc[:].plot();"
   ]
  },
  {
   "cell_type": "code",
   "execution_count": null,
   "id": "5b933d0d-fac5-4d82-b673-849ac3e65d3a",
   "metadata": {},
   "outputs": [],
   "source": []
  },
  {
   "cell_type": "code",
   "execution_count": null,
   "id": "b364c94b-b5d8-464e-86c8-17a5cb0e4b4c",
   "metadata": {},
   "outputs": [],
   "source": []
  }
 ],
 "metadata": {
  "kernelspec": {
   "display_name": "geo-cartopy-ngen",
   "language": "python",
   "name": "geo-cartopy-ngen"
  },
  "language_info": {
   "codemirror_mode": {
    "name": "ipython",
    "version": 3
   },
   "file_extension": ".py",
   "mimetype": "text/x-python",
   "name": "python",
   "nbconvert_exporter": "python",
   "pygments_lexer": "ipython3",
   "version": "3.11.2"
  }
 },
 "nbformat": 4,
 "nbformat_minor": 5
}
