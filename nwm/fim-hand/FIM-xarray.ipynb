{
 "cells": [
  {
   "cell_type": "markdown",
   "id": "755942a6-3447-4577-a72c-160e9e96dcff",
   "metadata": {},
   "source": [
    "## Create Flood Inundation Map based on the HAND Method\n",
    "\n",
    "**Authors**: Anthony Castronova (acastronova@cuahsi.org), Irene Garousi-Nejad (igarousi@cuahsi.org)  <br>\n",
    "**Last updated**: Mar 26, 2024\n",
    "\n",
    "This notebook demonstrates how to generate flood inundation maps using the methodology and datasets defined by https://github.com/noAA-OWP/inundation-mapping. All data used in this notebook are publicly acessible via Amazon AWS. \n",
    "\n",
    "This work was funded by:\n",
    "\n",
    " <img src=\"https://www.hydroshare.org/resource/dc269e23ff494a06b7372bc6034a5de2/data/contents/v3-SNOW/logo-img/CUAHSI-4-color-logo_with_URL.png\" width=\"300\" height=\"300\" style=\"padding-right:50px\"> <img src=\"https://www.hydroshare.org/resource/dc269e23ff494a06b7372bc6034a5de2/data/contents/v3-SNOW/logo-img/CIROHLogo_200x200.png\" width=\"100\" height=\"20\">    "
   ]
  },
  {
   "cell_type": "code",
   "execution_count": null,
   "id": "56433a4a-8604-46ce-8565-32eac9eea9b7",
   "metadata": {},
   "outputs": [],
   "source": [
    "import numpy\n",
    "import xarray\n",
    "import rioxarray\n",
    "import geopandas\n",
    "import numpy as np\n",
    "import pandas as pd\n",
    "from typing import Dict\n",
    "from pathlib import Path\n",
    "from scipy import interpolate\n",
    "import matplotlib.pyplot as plt\n",
    "from geocube.api.core import make_geocube"
   ]
  },
  {
   "cell_type": "markdown",
   "id": "320471ec-c350-4eb4-8cc1-174032a056d3",
   "metadata": {},
   "source": [
    "## Collect Data\n",
    "\n",
    "Collect the required input datasets for the FIM computation, we've staged some for public access in the CUAHSI cloud. For access to all available FIM input datasets, please refer to the documentation at https://github.com/noAA-OWP/inundation-mapping. "
   ]
  },
  {
   "cell_type": "code",
   "execution_count": null,
   "id": "91902838-c178-4ca0-a7ed-a70d42f75d18",
   "metadata": {},
   "outputs": [],
   "source": [
    "# hydroTable_0.csv\n",
    "!aws --no-sign-request --endpoint-url https://api.minio.cuahsi.io \\\n",
    " s3 cp s3://scratch/hand_fim/07010108/branches/0/hydroTable_0.csv .\n",
    "\n",
    "# rem_zeroed_masked_0.tif\n",
    "!aws --no-sign-request --endpoint-url https://api.minio.cuahsi.io \\\n",
    " s3 cp s3://scratch/hand_fim/07010108/branches/0/rem_zeroed_masked_0.tif .\n",
    "\n",
    "# gw_catchments_reaches_filtered_addedAttributes_crosswalked_0.gpkg\n",
    "!aws --no-sign-request --endpoint-url https://api.minio.cuahsi.io \\\n",
    "s3 cp s3://scratch/hand_fim/07010108/branches/0/gw_catchments_reaches_filtered_addedAttributes_crosswalked_0.gpkg ."
   ]
  },
  {
   "cell_type": "markdown",
   "id": "be38c156-1de3-4114-8441-fe86ddd4fbe7",
   "metadata": {},
   "source": [
    "Define a feature of interest and a hypothetical streamflow"
   ]
  },
  {
   "cell_type": "code",
   "execution_count": null,
   "id": "57176cce-6273-4be6-9eca-f7faeabf3da5",
   "metadata": {},
   "outputs": [],
   "source": [
    "# feature id of interest\n",
    "nhd_feature_id=4966269\n",
    "\n",
    "# hypothetical streamflow (cms).\n",
    "# This can be replaced with a flow value gathered by a source of your choice\n",
    "cms = 85"
   ]
  },
  {
   "cell_type": "markdown",
   "id": "e05ebe4d-739d-4337-a7de-d8d42781f8ce",
   "metadata": {},
   "source": [
    "Use the streamflow defined above to interpolate river stage from a rating curve for all hydroids that exist within this NHD+ reach. "
   ]
  },
  {
   "cell_type": "code",
   "execution_count": null,
   "id": "3b4e5d9f-ae5d-4762-bc2d-5d2f4faa0cc6",
   "metadata": {},
   "outputs": [],
   "source": [
    "def interpolate_y(df: pd.DataFrame,\n",
    "                  x_column: str,\n",
    "                  y_column: str,\n",
    "                  x_value: float) -> float:\n",
    "    \"\"\"\n",
    "    Performs 1D interpolation on two columns of a Dataframe.\n",
    "\n",
    "    Parameters\n",
    "    ==========\n",
    "    df: pandas.DataFrame\n",
    "        DataFrame containing data that will be used in the interpolation.\n",
    "    x_column: str\n",
    "        Name of the column that represents the X-axis data.\n",
    "    y_column: str\n",
    "        Name of the column that represents the Y-axis data.\n",
    "    x_value: float\n",
    "        Numeric X-axis value for which to interpolate Y-axis data. Returns \n",
    "        -9999 if the interpolation fails to resolve.\n",
    "\n",
    "    Returns\n",
    "    =======\n",
    "    y_value: float\n",
    "        Numeric Y-axis value corresponding to the input X-axis value.\n",
    "\n",
    "    \"\"\"\n",
    "    # Sort the DataFrame by the 'x' column to ensure interpolation works correctly\n",
    "    df_sorted = df.sort_values(by=x_column)\n",
    "    \n",
    "    # Check if the x_value is within the range of the DataFrame\n",
    "    if x_value < df_sorted[x_column].min() or x_value > df_sorted[x_column].max():\n",
    "        return -9999  # x_value is out of range, cannot interpolate\n",
    "    \n",
    "    # Perform linear interpolation\n",
    "    f = interpolate.interp1d(df_sorted[x_column], df_sorted[y_column], kind='linear')\n",
    "    \n",
    "    # Return the interpolated y value for the given x value\n",
    "    return f(x_value)\n",
    "\n",
    "def compute_stage(df: pd.DataFrame,\n",
    "                  hydro_id: int,\n",
    "                  flow_cms: float) -> Dict[int, float]:\n",
    "    \"\"\"\n",
    "    Computes river stage from a rating curve given streamflow in cfs.\n",
    "\n",
    "    Parameters\n",
    "    ==========\n",
    "    df: pandas.DataFrame\n",
    "        DataFrame containing the stage and discharge values of the rating curve.\n",
    "        This must contain the following columns: HydroID, stage, discharge_cms.\n",
    "    hydro_id: int\n",
    "        Identifier for the reach for which to compute stage.\n",
    "    flow_cms: float\n",
    "        Streamflow to convert into river stage.\n",
    "\n",
    "    Returns\n",
    "    =======\n",
    "    Dict [int, float]\n",
    "        A dictionary containing computed stage and its associated hydroid\n",
    "\n",
    "    \"\"\"\n",
    "\n",
    "    \n",
    "    # look up rating curve for this hydroid\n",
    "    rating_curve = df.loc[df.HydroID == hydro_id, ['stage', 'discharge_cms']]\n",
    "\n",
    "    # interpolate using the provided flow rate\n",
    "    interpolated_stage = interpolate_y(rating_curve, 'discharge_cms', 'stage', flow_cms) \n",
    "\n",
    "    return {hydro_id: float(interpolated_stage)}\n",
    "\n",
    "def get_stage_for_all_hydroids_in_reach(nhd_feature_id: int,\n",
    "                                        flow_cms: float,\n",
    "                                        hydrotable: Path = Path('./hydroTable_0.csv')) -> Dict[int, float]:\n",
    "    \"\"\"\n",
    "    Retrieves stage for all NWM HydroIDs given an NHD reach and input streamflow.\n",
    "    The stage is computed using FIM rating curves.\n",
    "\n",
    "    Parameters\n",
    "    ==========\n",
    "    nhd_feature_id: int\n",
    "        NHD feature identifier.\n",
    "    flow_cms: float\n",
    "        Streamflow for the reach in cubic meters per second\n",
    "    hydrotable: pathlib.Path\n",
    "        Path to the FIM hydrotable.csv file containing rating curve data.\n",
    "\n",
    "    Returns\n",
    "    =======\n",
    "    Dict [int, float]\n",
    "        Dictionary containing one or more NWM hydro identifiers and \n",
    "        their corresponding stages.\n",
    "\n",
    "    \"\"\"\n",
    "    \n",
    "    # load hydrotable_0\n",
    "    # we don't need all of the columns in this csv\n",
    "    hydro_df = pd.read_csv(hydrotable,\n",
    "                           usecols=['HydroID', 'NextDownID', 'feature_id',\n",
    "                                    'stage', 'discharge_cms'])\n",
    "    \n",
    "    # select features that match nhd_feature_id\n",
    "    d = hydro_df.loc[hydro_df.feature_id==nhd_feature_id]\n",
    "    \n",
    "    # get unique combos of HydroID and NextDownID \n",
    "    hydro_ids = np.unique(d.HydroID)\n",
    "    \n",
    "    interpolated_stages = {}\n",
    "    for hydro_id in hydro_ids:  \n",
    "        interpolated_stages.update(compute_stage(d, hydro_id, flow_cms))\n",
    "        \n",
    "    # return interpolated stage\n",
    "    return interpolated_stages\n"
   ]
  },
  {
   "cell_type": "code",
   "execution_count": null,
   "id": "2d51471e-11d2-476a-84fc-66aa84befdec",
   "metadata": {},
   "outputs": [],
   "source": [
    "stage_dict = get_stage_for_all_hydroids_in_reach(nhd_feature_id, cms)"
   ]
  },
  {
   "cell_type": "code",
   "execution_count": null,
   "id": "a8e77ab3-c444-4f67-a9c3-53e1f3e693b7",
   "metadata": {},
   "outputs": [],
   "source": [
    "stage_dict"
   ]
  },
  {
   "cell_type": "markdown",
   "id": "b27a5d3f-b9ff-45e2-a330-e83dc3a16ac9",
   "metadata": {},
   "source": [
    "Load the precomputed HAND raster that was obtained from AWS."
   ]
  },
  {
   "cell_type": "code",
   "execution_count": null,
   "id": "f63c2e98-418a-430b-923e-2931dc76411d",
   "metadata": {},
   "outputs": [],
   "source": [
    "xds = rioxarray.open_rasterio(Path('./rem_zeroed_masked_0.tif'),\n",
    "                              masked=True).squeeze().drop_vars('band').to_dataset(name='hand')\n",
    "xds"
   ]
  },
  {
   "cell_type": "markdown",
   "id": "e56cc451-3fd0-4216-ad38-ae8599235e0e",
   "metadata": {},
   "source": [
    "Make a copy of the 'hand' variable to the 'stage' variable. This will be used to compute the flood inundation map later on. The dataset will now have both `hand` and `stage` variables for all (x,y) locations."
   ]
  },
  {
   "cell_type": "code",
   "execution_count": null,
   "id": "666d311a-bafd-4be3-bcf5-c092708a821f",
   "metadata": {},
   "outputs": [],
   "source": [
    "xds['stage'] = xds.hand.copy(deep=True)\n",
    "xds"
   ]
  },
  {
   "cell_type": "markdown",
   "id": "f05aa30b-d64d-475c-953c-116aa8c61ba9",
   "metadata": {},
   "source": [
    "Read watershed geometries and set stage values from the `stage_dict` defined above, and remove all other geometries. The end product will be a geodataframe containing the geometries for each `hydroid` in our area of interest and their stage values."
   ]
  },
  {
   "cell_type": "code",
   "execution_count": null,
   "id": "64162da5-35b7-454a-87ca-45f642390f18",
   "metadata": {},
   "outputs": [],
   "source": [
    "geodf = geopandas.read_file(Path('./gw_catchments_reaches_filtered_addedAttributes_crosswalked_0.gpkg'))\n",
    "\n",
    "# loop over each reach and set the corresponding stage\n",
    "# in the geopandas object\n",
    "for hydroid, stage in stage_dict.items():\n",
    "    geodf.loc[geodf.HydroID==hydroid, 'stage'] = stage\n",
    "\n",
    "# remove all nan values to make our dataset smaller\n",
    "geodf_filtered = geodf[geodf.stage.notnull()]\n",
    "\n",
    "geodf_filtered"
   ]
  },
  {
   "cell_type": "markdown",
   "id": "835c22e0-8db8-46d8-bcc8-c45640245b5d",
   "metadata": {},
   "source": [
    "Visualize the area that we're working with."
   ]
  },
  {
   "cell_type": "code",
   "execution_count": null,
   "id": "db11e055-cf42-4276-bb88-f61ab91a6535",
   "metadata": {},
   "outputs": [],
   "source": [
    "figure, ax = plt.subplots(1, figsize=(10, 10))\n",
    "\n",
    "geodf.plot(facecolor='None', edgecolor='lightgrey', ax=ax);\n",
    "geodf_filtered.plot(facecolor='green', ax=ax);"
   ]
  },
  {
   "cell_type": "markdown",
   "id": "2d901bbb-2371-46c8-acbd-aa9ae18a5fc1",
   "metadata": {},
   "source": [
    "Add all geometries to the Dataset containing `hand` and `stage` variables using a GeoCube."
   ]
  },
  {
   "cell_type": "code",
   "execution_count": null,
   "id": "f3d7b2b0-8ee2-4517-a4fe-94db3d5b1e66",
   "metadata": {},
   "outputs": [],
   "source": [
    "# create a grid for the geocube\n",
    "out_grid = make_geocube(\n",
    "    vector_data=geodf,\n",
    "    measurements=['HydroID'],\n",
    "    like=xds # ensure the data are on the same grid\n",
    ")\n",
    "\n",
    "# add stage and hydroID to the HAND raster\n",
    "#xds = xds.assign_coords( hydroid = (['y', 'x'], out_grid.HydroID.data) )\n",
    "ds = xds.assign_coords( hydroid = (['y', 'x'], out_grid.HydroID.data) )\n",
    "\n",
    "# drop everything except the HydroIDs that we're interested in\n",
    "ds = ds.where(ds.hydroid.isin(geodf_filtered.HydroID), drop=True)\n",
    "ds"
   ]
  },
  {
   "cell_type": "markdown",
   "id": "0ead49b8-546a-42cc-a3e4-1fdc5e4fdb15",
   "metadata": {},
   "source": [
    "Update the stage values in the DataSet where specific hydroid's exist."
   ]
  },
  {
   "cell_type": "code",
   "execution_count": null,
   "id": "ee1eae02-3421-4f56-9673-900addb4703e",
   "metadata": {},
   "outputs": [],
   "source": [
    "for idx, row in geodf_filtered.iterrows():\n",
    "    print(f'{row.HydroID} -> {row.stage}' )\n",
    "    ds['stage'] = xarray.where(ds.hydroid == row.HydroID, row.stage, ds.stage)"
   ]
  },
  {
   "cell_type": "markdown",
   "id": "a5ba0059-9c71-4447-b7fb-82b32e8e51b3",
   "metadata": {},
   "source": [
    "Preview the `stage` data we set as well as the original `hand` data. "
   ]
  },
  {
   "cell_type": "code",
   "execution_count": null,
   "id": "f98f34ac-2890-4584-8f7e-8f4323e968d2",
   "metadata": {},
   "outputs": [],
   "source": [
    "figure, axes = plt.subplots(1, 2, figsize=(10,5))\n",
    "\n",
    "# plot stage\n",
    "ds.stage.plot(ax=axes[0])\n",
    "axes[0].set_title('Stage');\n",
    "axes[0].tick_params(axis='x', labelrotation=45)\n",
    "\n",
    "# plot hand\n",
    "ds.hand.plot(ax=axes[1])\n",
    "axes[1].set_title('HAND');\n",
    "axes[1].tick_params(axis='x', labelrotation=45)\n",
    "\n",
    "figure.tight_layout()\n"
   ]
  },
  {
   "cell_type": "markdown",
   "id": "629e9af0-1efd-45a3-bcae-aa8f027ad703",
   "metadata": {},
   "source": [
    "Compute FIM by subtracting `hand` from `stage`. Everything that is negative should be set to zero. Cells that have a value greater than zero indicate areas in which flooding occurs. Create a new variable in our dataset (called `fim`) to store this result."
   ]
  },
  {
   "cell_type": "code",
   "execution_count": null,
   "id": "5ce3752d-8f43-4803-b8a9-4a9434315ccd",
   "metadata": {},
   "outputs": [],
   "source": [
    "ds['fim'] = ds.stage - ds.hand\n",
    "ds['fim'] = xarray.where(ds.fim >= 0.00001, ds.fim, numpy.nan)"
   ]
  },
  {
   "cell_type": "code",
   "execution_count": null,
   "id": "134de45a-8068-49d9-b613-12148e728012",
   "metadata": {},
   "outputs": [],
   "source": [
    "figure, axes = plt.subplots(1, 2, figsize=(12,5))\n",
    "\n",
    "geodf.loc[geodf.feature_id==nhd_feature_id].plot(ax=axes[0], edgecolor='grey', facecolor='None');\n",
    "ds.fim.plot(cbar_kwargs={'label':'depth [meters]'}, ax=axes[0]);\n",
    "axes[0].set_title(f'FIM for NHD {nhd_feature_id} at {cms} cms');\n",
    "\n",
    "\n",
    "xarray.plot.contourf(ds.fim, levels=4, cmap='Blues', cbar_kwargs={'label':'Flood Risk (light = low risk)'}, ax=axes[1]);\n",
    "geodf.loc[geodf.feature_id==nhd_feature_id].plot(ax=axes[1], edgecolor='grey', facecolor='None');\n",
    "axes[1].set_title(f'FIM Contours for NHD {nhd_feature_id} at {cms} cms');\n"
   ]
  },
  {
   "cell_type": "code",
   "execution_count": null,
   "id": "2151bcb6-464f-473d-bb83-371ae0d63af3",
   "metadata": {},
   "outputs": [],
   "source": []
  }
 ],
 "metadata": {
  "kernelspec": {
   "display_name": "Python 3 (ipykernel)",
   "language": "python",
   "name": "python3"
  },
  "language_info": {
   "codemirror_mode": {
    "name": "ipython",
    "version": 3
   },
   "file_extension": ".py",
   "mimetype": "text/x-python",
   "name": "python",
   "nbconvert_exporter": "python",
   "pygments_lexer": "ipython3",
   "version": "3.10.8"
  }
 },
 "nbformat": 4,
 "nbformat_minor": 5
}
