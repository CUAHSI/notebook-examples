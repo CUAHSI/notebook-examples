{
 "cells": [
  {
   "cell_type": "markdown",
   "id": "2f45d1d3-2ce5-487c-8d89-a2e0ec3870ec",
   "metadata": {},
   "source": [
    "# Collect AORC v1.0 at lat/lon Points\n"
   ]
  },
  {
   "cell_type": "code",
   "execution_count": 2,
   "id": "b44e9376-f3b9-4b11-a32f-d9af15fde2bf",
   "metadata": {
    "tags": []
   },
   "outputs": [
    {
     "name": "stdout",
     "output_type": "stream",
     "text": [
      "Note: you may need to restart the kernel to use updated packages.\n"
     ]
    }
   ],
   "source": [
    "%pip install dask[distributed] zarr xarray pandas s3fs kerchunk scikit-learn -q"
   ]
  },
  {
   "cell_type": "code",
   "execution_count": 3,
   "id": "74c353a2-226b-4dfb-8db4-c2fbcadb2bf4",
   "metadata": {
    "tags": []
   },
   "outputs": [],
   "source": [
    "import dask\n",
    "import zarr\n",
    "import numpy\n",
    "import xarray\n",
    "import pyproj\n",
    "import pandas\n",
    "from s3fs import S3FileSystem\n",
    "from dask.distributed import Client, progress\n",
    "from kerchunk.combine import MultiZarrToZarr\n",
    "from sklearn.metrics import pairwise_distances_argmin\n",
    "\n",
    "\n",
    "import pickle\n",
    "from datetime import datetime, timedelta\n",
    "\n",
    "\n",
    "import aorc1"
   ]
  },
  {
   "cell_type": "markdown",
   "id": "79279a53-22ae-40cc-a05c-67188f18ccc4",
   "metadata": {
    "user_expressions": []
   },
   "source": [
    "Initiate the Dask client. This will enable us to parallelize our computations."
   ]
  },
  {
   "cell_type": "code",
   "execution_count": 4,
   "id": "005eb820-57c2-4ad6-81e8-26ed37d4f075",
   "metadata": {
    "tags": []
   },
   "outputs": [
    {
     "name": "stdout",
     "output_type": "stream",
     "text": [
      "/user/castronova/proxy/8787/status\n"
     ]
    }
   ],
   "source": [
    "# use a try accept loop so we only instantiate the client\n",
    "# if it doesn't already exist.\n",
    "try:\n",
    "    print(client.dashboard_link)\n",
    "except:    \n",
    "    # The client should be customized to your workstation resources.\n",
    "    client = Client(n_workers=8) # per worker\n",
    "    print(client.dashboard_link)\n"
   ]
  },
  {
   "cell_type": "markdown",
   "id": "292bb9cd-cf11-4089-accb-fd50b1a99230",
   "metadata": {
    "user_expressions": []
   },
   "source": [
    "## Load AORC V1.0 from AWS"
   ]
  },
  {
   "cell_type": "code",
   "execution_count": 5,
   "id": "4331f6ce-d72e-4710-9095-208157c260e7",
   "metadata": {
    "tags": []
   },
   "outputs": [
    {
     "name": "stdout",
     "output_type": "stream",
     "text": [
      "CPU times: user 4.94 s, sys: 297 ms, total: 5.24 s\n",
      "Wall time: 8.47 s\n"
     ]
    }
   ],
   "source": [
    "%%time\n",
    "ds = aorc1.load_aorc_dataset('2010', '01', '01')"
   ]
  },
  {
   "cell_type": "raw",
   "id": "5b085bef-0f6c-49a3-80e4-f4422696dc74",
   "metadata": {},
   "source": []
  },
  {
   "cell_type": "code",
   "execution_count": 38,
   "id": "3fbbfa9d-c62f-42cf-929f-dddfed2ee34e",
   "metadata": {
    "tags": []
   },
   "outputs": [],
   "source": [
    "training_path = \"../Snow-Extrapolation/data/RegionTrain_SCA.pkl\"\n",
    "with open(training_path, 'rb') as f:\n",
    "    region_train = pickle.load(f)\n",
    "\n",
    "pts = []\n",
    "key = 'N_Sierras'\n",
    "region_train[key]['pt'] = list(zip(region_train[key].Long, region_train[key].Lat))\n",
    "#region_train[key].loc[region_train[key].pt.unique()\n",
    "#pts.extend(list(region_train[key]['pt'].unique()))\n"
   ]
  },
  {
   "cell_type": "code",
   "execution_count": 50,
   "id": "ba70dfea-a033-4c13-b243-f6cfce7ade0c",
   "metadata": {
    "tags": []
   },
   "outputs": [
    {
     "data": {
      "text/plain": [
       "array([(-121.9394134663883, 41.16664739027599),\n",
       "       (-120.6188899987326, 39.675880337476684),\n",
       "       (-120.87940143112729, 39.786416508865145),\n",
       "       (-121.78669986808801, 40.78005174338435),\n",
       "       (-120.17871550951399, 41.99314916228401),\n",
       "       (-121.3195759203458, 39.81402285325959)], dtype=object)"
      ]
     },
     "execution_count": 50,
     "metadata": {},
     "output_type": "execute_result"
    }
   ],
   "source": [
    "region_train[key].pt.unique()"
   ]
  },
  {
   "cell_type": "code",
   "execution_count": 48,
   "id": "aa657314-7272-4245-a5b6-d7195a36ec38",
   "metadata": {
    "tags": []
   },
   "outputs": [
    {
     "data": {
      "text/plain": [
       "6"
      ]
     },
     "execution_count": 48,
     "metadata": {},
     "output_type": "execute_result"
    }
   ],
   "source": [
    "len(region_train[key].index.unique())"
   ]
  },
  {
   "cell_type": "code",
   "execution_count": 59,
   "id": "84e1b9f7-6b8e-4a5c-88a5-239851a653c3",
   "metadata": {
    "tags": []
   },
   "outputs": [],
   "source": [
    "# open locations\n",
    "#df_meta = pandas.read_csv('../Snow-Extrapolation/data/PreProcessed/ground_measures_metadata.csv')\n",
    "training_path = \"../Snow-Extrapolation/data/RegionTrain_SCA.pkl\"\n",
    "\n",
    "with open(training_path, 'rb') as f:\n",
    "    region_train = pickle.load(f)\n",
    "\n",
    "pts = []\n",
    "regions = []\n",
    "for key in ['N_Sierras', 'S_Sierras_Low', 'S_Sierras_High']:\n",
    "    region_train[key]['pt'] = list(zip(region_train[key].Long, region_train[key].Lat))\n",
    "    region_train[key]['region'] = key\n",
    "    region_train = region_train[key].pt.unique()\n",
    "    \n",
    "    regions.append(region_train[key])\n",
    "    \n",
    "    pts.extend()\n",
    "    \n",
    "#pts = list(set(pts))"
   ]
  },
  {
   "cell_type": "code",
   "execution_count": 70,
   "id": "d46938f3-5950-4c0b-9d3c-fb80e319b7a9",
   "metadata": {
    "tags": []
   },
   "outputs": [
    {
     "data": {
      "text/plain": [
       "6"
      ]
     },
     "execution_count": 70,
     "metadata": {},
     "output_type": "execute_result"
    }
   ],
   "source": [
    "len(regions[0].drop_duplicates(subset='pt'))"
   ]
  },
  {
   "cell_type": "code",
   "execution_count": 75,
   "id": "fe4950c8-a75a-4830-b4eb-3c784ee53d96",
   "metadata": {
    "tags": []
   },
   "outputs": [
    {
     "data": {
      "text/plain": [
       "array(['N_Sierras'], dtype=object)"
      ]
     },
     "execution_count": 75,
     "metadata": {},
     "output_type": "execute_result"
    }
   ],
   "source": [
    "regions[0].region.unique()"
   ]
  },
  {
   "cell_type": "code",
   "execution_count": 71,
   "id": "1fccc68b-27c6-4fac-818a-05ee2aa43314",
   "metadata": {
    "tags": []
   },
   "outputs": [
    {
     "data": {
      "text/plain": [
       "569"
      ]
     },
     "execution_count": 71,
     "metadata": {},
     "output_type": "execute_result"
    }
   ],
   "source": [
    "len(regions[1].drop_duplicates(subset='pt'))"
   ]
  },
  {
   "cell_type": "code",
   "execution_count": 76,
   "id": "b1a6569a-2932-446a-8e1e-f21ab4777adf",
   "metadata": {
    "tags": []
   },
   "outputs": [
    {
     "data": {
      "text/plain": [
       "array(['S_Sierras_Low'], dtype=object)"
      ]
     },
     "execution_count": 76,
     "metadata": {},
     "output_type": "execute_result"
    }
   ],
   "source": [
    "regions[1].region.unique()"
   ]
  },
  {
   "cell_type": "code",
   "execution_count": 72,
   "id": "edeefe94-f849-40b6-8bbd-757dad949775",
   "metadata": {
    "tags": []
   },
   "outputs": [
    {
     "data": {
      "text/plain": [
       "324"
      ]
     },
     "execution_count": 72,
     "metadata": {},
     "output_type": "execute_result"
    }
   ],
   "source": [
    "len(regions[2].drop_duplicates(subset='pt'))"
   ]
  },
  {
   "cell_type": "code",
   "execution_count": 77,
   "id": "1b242f35-6a7e-439c-b2c0-7afe3a4d55e6",
   "metadata": {
    "tags": []
   },
   "outputs": [
    {
     "data": {
      "text/plain": [
       "array(['S_Sierras_High'], dtype=object)"
      ]
     },
     "execution_count": 77,
     "metadata": {},
     "output_type": "execute_result"
    }
   ],
   "source": [
    "regions[2].region.unique()"
   ]
  },
  {
   "cell_type": "code",
   "execution_count": 5,
   "id": "b1e1e6b9-2ea3-4279-912d-4bdaeb25525b",
   "metadata": {
    "tags": []
   },
   "outputs": [],
   "source": [
    "lats = df_meta.latitude.values\n",
    "lons = df_meta.longitude.values"
   ]
  },
  {
   "cell_type": "code",
   "execution_count": 6,
   "id": "a257ffd0-98c7-4128-805b-b27ced119558",
   "metadata": {
    "tags": []
   },
   "outputs": [],
   "source": [
    "# function to collect all indexes\n",
    "\n",
    "@dask.delayed\n",
    "def extract_dask(search_points, all_points, final_shape):\n",
    "    index = pairwise_distances_argmin(X=search_points,\n",
    "                                      Y=all_points)\n",
    "    i0, j0 = numpy.unravel_index(index, (final_shape))\n",
    "    return(i0, j0)\n",
    "#    return ds.isel(x=j0, y=i0).squeeze()"
   ]
  },
  {
   "cell_type": "code",
   "execution_count": 7,
   "id": "09ce1634-61d9-48b3-8fa7-4d882f808ef4",
   "metadata": {
    "tags": []
   },
   "outputs": [
    {
     "name": "stdout",
     "output_type": "stream",
     "text": [
      "scattering...done\n",
      "CPU times: user 420 ms, sys: 243 ms, total: 663 ms\n",
      "Wall time: 669 ms\n"
     ]
    }
   ],
   "source": [
    "%%time\n",
    "\n",
    "points = numpy.array(list(zip(lons, lats)))\n",
    "\n",
    "# batch index collection using dask\n",
    "pt_groups = numpy.array_split(numpy.array(points), 100)\n",
    "all_pts = numpy.c_[ds['lon'].values.ravel(), ds['lat'].values.ravel()]\n",
    "final_shape = ds['lon'].shape\n",
    "\n",
    "\n",
    "print('scattering...', end='', flush=True)\n",
    "all_pts_scattered = client.scatter(all_pts)\n",
    "print('done')\n",
    "\n",
    "futures = []\n",
    "for grp in pt_groups:\n",
    "    futures.append(extract_dask(grp, all_pts_scattered, final_shape)) \n",
    "    "
   ]
  },
  {
   "cell_type": "code",
   "execution_count": 8,
   "id": "c8bb03ef-cb57-4f4f-9f36-36b0931785c2",
   "metadata": {
    "tags": []
   },
   "outputs": [
    {
     "name": "stdout",
     "output_type": "stream",
     "text": [
      "CPU times: user 1.63 s, sys: 207 ms, total: 1.84 s\n",
      "Wall time: 10.6 s\n"
     ]
    }
   ],
   "source": [
    "%%time\n",
    "results = dask.compute(futures)"
   ]
  },
  {
   "cell_type": "code",
   "execution_count": 9,
   "id": "86898494-ab46-42bb-953c-f9756da80d5e",
   "metadata": {
    "tags": []
   },
   "outputs": [],
   "source": [
    "# put the x,y coordinates for the matching cells into lists\n",
    "i_locs = []\n",
    "j_locs = []\n",
    "for grp in results[0]:\n",
    "    num_elements = len(grp[0])\n",
    "    for idx in range(0, num_elements):\n",
    "        i_locs.append(grp[0][idx])\n",
    "        j_locs.append(grp[1][idx])"
   ]
  },
  {
   "cell_type": "code",
   "execution_count": 20,
   "id": "82ea666a-0a7f-4112-a87a-fe896d374bd5",
   "metadata": {
    "tags": []
   },
   "outputs": [],
   "source": [
    "# function to collect variables for time range\n",
    "\n",
    "\n",
    "@dask.delayed\n",
    "def get_data_dask(i_locs, j_locs, year='2010', month='01', day='01'):\n",
    "    ds = aorc1.load_aorc_dataset(year, month, day)\n",
    "    precip = ds.isel(x=i_locs, y=j_locs).squeeze().RAINRATE\n",
    "    \n",
    "    \n",
    "    with open(f'{year}{month}{day}.pkl', 'wb') as f:\n",
    "        pickle.dump(precip.values, f)\n",
    "    \n",
    "    return datetime(int(year), int(month), int(day)),\n",
    "#            'precip': precip.values}\n",
    "\n",
    "\n",
    "def get_data_daskbag(args):\n",
    "    i_locs = args[0]\n",
    "    j_locs = args[1]\n",
    "    dt = args[2]\n",
    "    \n",
    "    # get the date parts\n",
    "    month = f'{dt.month:02}'    \n",
    "    day = f'{dt.day:02}'\n",
    "    year = f'{dt.year:04}'\n",
    "\n",
    "    ds = aorc1.load_aorc_dataset(year, month, day)\n",
    "    \n",
    "    precip = ds.isel(x=i_locs, y=j_locs) #.squeeze().RAINRATE\n",
    "    precip = precip.RAINRATE.groupby('time.dayofyear').sum() * 24 * 3600\n",
    "    pcp_df = precip.to_dataframe().reset_index()\n",
    "    \n",
    "    pcp_df['date'] = dt\n",
    "    pcp_df = pcp_df[['lat', 'lon', 'RAINRATE', 'date']]\n",
    "    pcp_df.rename(columns={'RAINRATE': 'RAINRATE [mm]'}, inplace=True)\n",
    "    pcp_df.set_index('date', inplace=True)\n",
    "    pcp_df.to_csv(f'{year}{month}{day}.csv')\n",
    "    \n",
    "    return f'{year}{month}{day}.csv'\n"
   ]
  },
  {
   "cell_type": "code",
   "execution_count": 21,
   "id": "2f877bfa-f95b-4773-84e6-4aa706ee1198",
   "metadata": {
    "tags": []
   },
   "outputs": [
    {
     "name": "stdout",
     "output_type": "stream",
     "text": [
      "CPU times: user 232 µs, sys: 0 ns, total: 232 µs\n",
      "Wall time: 238 µs\n"
     ]
    }
   ],
   "source": [
    "%%time \n",
    "\n",
    "# isolate the lat/lon points that we're interested in\n",
    "ind_x = xarray.DataArray(i_locs, dims=[\"pt\"])\n",
    "ind_y = xarray.DataArray(j_locs, dims=[\"pt\"])\n"
   ]
  },
  {
   "cell_type": "code",
   "execution_count": 22,
   "id": "999b726c-1934-495d-aa5e-dd2583491371",
   "metadata": {
    "tags": []
   },
   "outputs": [
    {
     "name": "stdout",
     "output_type": "stream",
     "text": [
      "CPU times: user 4 ms, sys: 0 ns, total: 4 ms\n",
      "Wall time: 3.63 ms\n"
     ]
    }
   ],
   "source": [
    "%%time\n",
    "\n",
    "# batch variable collection\n",
    "\n",
    "t = datetime(2010,1,1)\n",
    "et = datetime(2010,2,1)\n",
    "\n",
    "input_params = []\n",
    "while t <= et:\n",
    "    input_params.append([ind_x, ind_y, t])\n",
    "    t += timedelta(days=1)\n",
    "    \n",
    "import dask.bag as db  \n",
    "b = db.from_sequence(input_params, npartitions=6)\n",
    "b = b.map(get_data_daskbag)\n"
   ]
  },
  {
   "cell_type": "code",
   "execution_count": 23,
   "id": "b72d9f28-dfbe-470e-ae8e-b95b965947f7",
   "metadata": {
    "tags": []
   },
   "outputs": [
    {
     "name": "stderr",
     "output_type": "stream",
     "text": [
      "/tmp/ipykernel_1602/1994184271.py:35: SettingWithCopyWarning: \n",
      "A value is trying to be set on a copy of a slice from a DataFrame\n",
      "\n",
      "See the caveats in the documentation: https://pandas.pydata.org/pandas-docs/stable/user_guide/indexing.html#returning-a-view-versus-a-copy\n",
      "/tmp/ipykernel_1602/1994184271.py:35: SettingWithCopyWarning: \n",
      "A value is trying to be set on a copy of a slice from a DataFrame\n",
      "\n",
      "See the caveats in the documentation: https://pandas.pydata.org/pandas-docs/stable/user_guide/indexing.html#returning-a-view-versus-a-copy\n",
      "/tmp/ipykernel_1602/1994184271.py:35: SettingWithCopyWarning: \n",
      "A value is trying to be set on a copy of a slice from a DataFrame\n",
      "\n",
      "See the caveats in the documentation: https://pandas.pydata.org/pandas-docs/stable/user_guide/indexing.html#returning-a-view-versus-a-copy\n"
     ]
    },
    {
     "name": "stdout",
     "output_type": "stream",
     "text": [
      "CPU times: user 14.2 s, sys: 1.51 s, total: 15.7 s\n",
      "Wall time: 2min 39s\n"
     ]
    }
   ],
   "source": [
    "%%time\n",
    "\n",
    "results = b.compute()"
   ]
  },
  {
   "cell_type": "code",
   "execution_count": null,
   "id": "d05a1fc0-03d6-4f9f-ab6e-f6d50c662d24",
   "metadata": {
    "tags": []
   },
   "outputs": [],
   "source": [
    "results"
   ]
  },
  {
   "cell_type": "code",
   "execution_count": null,
   "id": "8d950d45-9cf0-455b-9467-7f55f075150b",
   "metadata": {},
   "outputs": [],
   "source": []
  },
  {
   "cell_type": "code",
   "execution_count": null,
   "id": "bfe579eb-0227-4fd4-88df-11dc48679822",
   "metadata": {},
   "outputs": [],
   "source": []
  },
  {
   "cell_type": "code",
   "execution_count": null,
   "id": "45852f0c-5237-4951-a1a9-20eb0b109977",
   "metadata": {},
   "outputs": [],
   "source": []
  },
  {
   "cell_type": "code",
   "execution_count": null,
   "id": "6c267e70-aa1e-499f-8cc1-00580970844e",
   "metadata": {},
   "outputs": [],
   "source": []
  }
 ],
 "metadata": {
  "kernelspec": {
   "display_name": "Python 3 (ipykernel)",
   "language": "python",
   "name": "python3"
  },
  "language_info": {
   "codemirror_mode": {
    "name": "ipython",
    "version": 3
   },
   "file_extension": ".py",
   "mimetype": "text/x-python",
   "name": "python",
   "nbconvert_exporter": "python",
   "pygments_lexer": "ipython3",
   "version": "3.10.12"
  }
 },
 "nbformat": 4,
 "nbformat_minor": 5
}
