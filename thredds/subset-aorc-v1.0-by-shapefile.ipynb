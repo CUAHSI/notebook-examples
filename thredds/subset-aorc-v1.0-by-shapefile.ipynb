{
 "cells": [
  {
   "cell_type": "markdown",
   "id": "8aa2ee47-91d2-4ddc-8c29-096fc616dd13",
   "metadata": {},
   "source": [
    "# Spatial and Temporal Subsetting of AORC Forcing Data for a Designated Watershed and Timeframe"
   ]
  },
  {
   "cell_type": "markdown",
   "id": "70a0e6d2-25b2-473b-8c49-ca1ecfc09c63",
   "metadata": {},
   "source": [
    "**Authors**: \n",
    "- Irene Garousi-Nejad <igarousi@cuahsi.org>, \n",
    "- Tony Castronova <acastronova@cuahsi.org>\n",
    "\n",
    "**Last Updated**: 04.05.2023\n",
    "\n",
    "**Description**:  \n",
    "\n",
    "The objective of this Jupyter Notebook is to query AORC v1.0 Forcing data stored on HydroShare's Thredds server and create a subset of this dataset for a designated watershed and timeframe. The user is prompted to define their temporal and spatial frames of interest, which specifies the start and end dates for the data subset. Additionally, the user is prompted to define a spatial frame of interest, which could be a bounding box or a shapefile, to subset the data spatially. \n",
    "\n",
    "Before the subsetting is performed, data is queried, and geospatial metadata is added to ensure that the data is correctly aligned with its corresponding location on the Earth's surface. To achieve this, two separate notebooks were created - [this notebook](https://github.com/CUAHSI/notebook-examples/blob/main/thredds/query-aorc-thredds.ipynb) and [this notebook](https://github.com/CUAHSI/notebook-examples/blob/main/thredds/aorc-adding-spatial-metadata.ipynb) - which explain how to query the dataset and add geospatial metadata to AORC v1.0 data in detail, respectively. In this notebook, we call functions from the AORC.py script to perform these preprocessing steps, resulting in a cleaner notebook that focuses solely on the subsetting process.\n",
    "\n",
    "Finally, the subsetted data is plotted to visually inspect the results, which can be used to identify any potential issues with the subsetting process and ensure that the data subset is correctly aligned with the user's interests.\n",
    "\n",
    "**Software Requirements**:\n",
    "\n",
    "The software and operating system versions used to develop this notebook are listed below. To avoid encountering issues related to version conflicts among Python packages, we recommend creating a new environment variable and installing the required packages specifically for this notebook. \n",
    "\n",
    "\n",
    "OS: Microsoft Windows 11 Pro version 10.0.22621\n",
    "> Conda: 22.9.0  \\\n",
    "> Python: 3.9.16  \\\n",
    "> re: 2.2.1  \\\n",
    "> wget: 3.2  \\\n",
    "> xarray: 2022.11.0  \\\n",
    "> pyproj: 3.5.0  \\\n",
    "> rioxarray: 0.14.0  \\\n",
    "> numpy: 1.24.2  \\\n",
    "> pandas: 2.0.0  \\\n",
    "> geopandas: 0.12.2  \\\n",
    "> netCDF4: 1.6.3  \\\n",
    "> cartopy: 0.21.1  \\\n",
    "> matplotlib: 3.7.1 \\\n",
    "> owslib: 0.24.1\n",
    "\n",
    "---"
   ]
  },
  {
   "cell_type": "code",
   "execution_count": null,
   "id": "803e46ff-dddd-4ea5-88d1-70f3b4eb3057",
   "metadata": {},
   "outputs": [],
   "source": [
    "import os\n",
    "import re\n",
    "import wget\n",
    "import xarray\n",
    "import pyproj\n",
    "import requests\n",
    "import rioxarray\n",
    "import numpy as np\n",
    "import pandas as pd\n",
    "import geopandas as gpd\n",
    "import cartopy.crs as ccrs\n",
    "from pyproj import Transformer\n",
    "import matplotlib.pyplot as plt\n",
    "from owslib.wms import WebMapService\n",
    "\n",
    "import AORC"
   ]
  },
  {
   "cell_type": "markdown",
   "id": "79007a7c-3c69-4ba6-9a3b-542d62deb3b0",
   "metadata": {},
   "source": [
    "## Define the temporal and spatial parameters"
   ]
  },
  {
   "cell_type": "markdown",
   "id": "b505dea7-842a-47de-94d1-75c09d78981b",
   "metadata": {},
   "source": [
    "Specify the start and end dates and select a monthly frequency to generate a list of datetime elements that fall within the desired time period. Monthly frequency is chosen because the AORC data is organized monthly on HydroShare's Thredds. To ensure that the datetime range covers the entire period of interest, the `MS` frequency is used. This frequency indicates the start of each month, whereas `M` frequency considers only the month-end and may not include the final month of the period of interest."
   ]
  },
  {
   "cell_type": "code",
   "execution_count": null,
   "id": "13c48ce7-4535-4883-a6a3-d49821992393",
   "metadata": {},
   "outputs": [],
   "source": [
    "start_date = '2010-12-01'   #yyyy-mm-dd'\n",
    "end_date = '2011-03-15'     #yyyy-mm-dd'\n",
    "\n",
    "subset_times=pd.date_range(pd.to_datetime(start_date, format=\"%Y-%m-%d\"), \n",
    "             pd.to_datetime(end_date, format=\"%Y-%m-%d\"), \n",
    "             freq='MS')  # MS is month start frequency vs M that is month end frequency\n",
    "\n",
    "print(subset_times)"
   ]
  },
  {
   "cell_type": "markdown",
   "id": "9c381b9d-0237-46b3-a950-3c84588016ca",
   "metadata": {},
   "source": [
    "Define the path to the area of interest, which can be a watershed, and read the shapefile using geopandas package. Here, we are using a shapefile of the Logan River head watershed in Utah that is available on a [HydroShare resource](https://www.hydroshare.org/resource/8974522ddcd84440a02cf6e7124261b2/data/contents/watershed.shp).  "
   ]
  },
  {
   "cell_type": "code",
   "execution_count": null,
   "id": "319f0a48-242a-45a4-a3d3-bd6276fcf951",
   "metadata": {},
   "outputs": [],
   "source": [
    "# Define the path and filenames for the watershed of interest that you want to download\n",
    "data_path = 'https://www.hydroshare.org/resource/8974522ddcd84440a02cf6e7124261b2/data/contents/'\n",
    "files_to_download = ['watershed.shp', 'watershed.shx', 'watershed.prj', 'watershed.dbf']\n",
    "\n",
    "# Download each file\n",
    "for file in files_to_download:\n",
    "    filename = wget.download(data_path+file)"
   ]
  },
  {
   "cell_type": "code",
   "execution_count": null,
   "id": "3d3390ad-30b3-45f7-9c14-41b5f36279de",
   "metadata": {},
   "outputs": [],
   "source": [
    "# Read the shapefile into a geopandas dataframe\n",
    "watershed_gpd = gpd.read_file('./watershed.shp')\n",
    "\n",
    "fig, ax = plt.subplots(figsize=(5, 8))\n",
    "watershed_gpd.plot(ax=ax, edgecolor='blue', facecolor='white')\n",
    "\n",
    "plt.show()"
   ]
  },
  {
   "cell_type": "markdown",
   "id": "8324d447-802c-43d3-9973-981d8c04e4d5",
   "metadata": {},
   "source": [
    "To view the fields, you can print the first few rows of the dataframe using the `head()` method."
   ]
  },
  {
   "cell_type": "code",
   "execution_count": null,
   "id": "32d207d7-a404-49a7-989e-903364959264",
   "metadata": {},
   "outputs": [],
   "source": [
    "watershed_gpd.head()"
   ]
  },
  {
   "cell_type": "markdown",
   "id": "6d8d0da2-dab5-4dfe-9485-b977b5ff0609",
   "metadata": {},
   "source": [
    "Use the bounds attribute of the `gdf` GeoDataFrame to get the bounding box coordinates as a tuple. The bounds attribute returns a DataFrame with columns for the minimum and maximum values of the `x` or `langitude` and `y` or `latitude` coordinates. We will use this information later for the subsetting process."
   ]
  },
  {
   "cell_type": "code",
   "execution_count": null,
   "id": "3325f1d2-d760-4fa3-a235-7f9afec10bab",
   "metadata": {},
   "outputs": [],
   "source": [
    "bbox = watershed_gpd.total_bounds\n",
    "bbox"
   ]
  },
  {
   "cell_type": "markdown",
   "id": "458f6062-1ead-4fd2-a452-3b6716c8752a",
   "metadata": {},
   "source": [
    "## Query AORC data for the period of interest"
   ]
  },
  {
   "cell_type": "markdown",
   "id": "d3e96d12-b5d0-42a0-87a7-ea1d7bb3960f",
   "metadata": {},
   "source": [
    "Call the `get_paths` function from `AORC.py` script to query a portion of the AORC v1.0 data from the HydroShare's Thredds server based on `subset_times` that includes the desired subset."
   ]
  },
  {
   "cell_type": "code",
   "execution_count": null,
   "id": "8716bf0a-1b69-4477-b690-f5148e4ea207",
   "metadata": {},
   "outputs": [],
   "source": [
    "paths = AORC.get_paths(subset_times)\n",
    "\n",
    "print(f'Found {len(paths)} individual files')\n",
    "print(f'The first file is named: {os.path.basename(paths[0])}')\n",
    "print(f'The last file is named: {os.path.basename(paths[-1])}')"
   ]
  },
  {
   "cell_type": "markdown",
   "id": "1b6b995c-fdb2-4d82-ac4e-a5e45205ecba",
   "metadata": {},
   "source": [
    "Load the selected original AORC data using `open_mfdataset`."
   ]
  },
  {
   "cell_type": "code",
   "execution_count": null,
   "id": "598e4f7e-c2f8-4491-afb0-b2f4b612f53a",
   "metadata": {},
   "outputs": [],
   "source": [
    "# load multiple files using open_mfdataset\n",
    "ds = xarray.open_mfdataset(paths,\n",
    "                           concat_dim='Time',\n",
    "                           combine='nested',\n",
    "                           parallel=True,\n",
    "                           chunks={'Time': 10, 'west_east': 285, 'south_north':275})\n",
    "\n",
    "# sort data by valid_time\n",
    "ds = ds.sortby('valid_time')\n",
    "\n",
    "# create coordinate to allow loc searches\n",
    "ds = ds.assign_coords(Time=('Time', ds.valid_time.data))\n",
    "\n",
    "# check the first and last timestamps\n",
    "print(ds.Time[0].values)\n",
    "print(ds.Time[-1].values)"
   ]
  },
  {
   "cell_type": "markdown",
   "id": "b766a4c0-b699-4e13-b003-96b81368dd9f",
   "metadata": {},
   "source": [
    "## Add spatial metadata to the AORC data and watershed to prepare it for spatial subsetting"
   ]
  },
  {
   "cell_type": "markdown",
   "id": "498b92c5-1c7e-4f64-a95a-dc67e22aaf53",
   "metadata": {},
   "source": [
    "First, call the `add_spatial_metadata` function from `AORC.py` script to add spatial metadata to the AORC dataset that is already selected and loaded based on the desired timeframe."
   ]
  },
  {
   "cell_type": "code",
   "execution_count": null,
   "id": "109d45a3-0eec-4282-a59b-3ebd93996a4b",
   "metadata": {},
   "outputs": [],
   "source": [
    "ds_geo = AORC.add_spatial_metadata(ds)\n",
    "\n",
    "ds_geo"
   ]
  },
  {
   "cell_type": "markdown",
   "id": "1a5463f3-5a8d-4119-bd79-a8fe4cb21439",
   "metadata": {},
   "source": [
    "To ensure that the shapefile coordinates match those of the AORC NetCDF file, you need to retrieve the coordinate reference system (CRS) of the AORC dataset, and then use this information to convert the CRS of the shapefile to match the CRS of the AORC file. This will ensure that the two files are using the same coordinate system and can be overlaid properly."
   ]
  },
  {
   "cell_type": "code",
   "execution_count": null,
   "id": "572faeb5-fad3-41ef-9964-969ce771d872",
   "metadata": {},
   "outputs": [],
   "source": [
    "watershed_gpd = watershed_gpd.to_crs(ds_geo.spatial_ref.crs_wkt)"
   ]
  },
  {
   "cell_type": "markdown",
   "id": "b5b005dc-5ab3-44b9-9b09-06a930f530fa",
   "metadata": {},
   "source": [
    "The following code shows that the bounding box includes the projected coordinates that match the CRS of the AORC data."
   ]
  },
  {
   "cell_type": "code",
   "execution_count": null,
   "id": "4ee78d46-5627-4cbd-a0ee-98a8601814e7",
   "metadata": {},
   "outputs": [],
   "source": [
    "watershed_gpd.total_bounds"
   ]
  },
  {
   "cell_type": "markdown",
   "id": "da9fc7cb-60dc-4389-81ed-60a15b88fcd2",
   "metadata": {},
   "source": [
    "## Subset the AORC forcing data for the area of interest"
   ]
  },
  {
   "cell_type": "markdown",
   "id": "7f9e8db2-6d20-4947-9137-952a63709986",
   "metadata": {},
   "source": [
    "Use the bounding box information of the watershed and find indices of the netCDF grid cells that intersect with the shapefile. We will use these indices to to extract the relevant subset of the AORC dataset for the watershed of interest. "
   ]
  },
  {
   "cell_type": "code",
   "execution_count": null,
   "id": "a71f40f8-e415-4074-91e1-6d9646c14df7",
   "metadata": {},
   "outputs": [],
   "source": [
    "# Extract the bounding box of the shapefile\n",
    "xmin, ymin, xmax, ymax = watershed_gpd.total_bounds\n",
    "\n",
    "# Find the indices of the netCDF grid cells \n",
    "x_values = ds_geo.x.values\n",
    "y_values = ds_geo.y.values\n",
    "x_idx = np.where((x_values >= xmin) & (x_values <= xmax))[0]\n",
    "y_idx = np.where((y_values >= ymin) & (y_values <= ymax))[0]\n",
    "\n",
    "# Subset the netCDF file using the indices\n",
    "subset_ds = ds_geo.isel(x=x_idx, y=y_idx)"
   ]
  },
  {
   "cell_type": "markdown",
   "id": "580aff3d-94dd-4b4c-bf60-de7a52729aec",
   "metadata": {},
   "source": [
    "Check the size of the subsetted dataset"
   ]
  },
  {
   "cell_type": "code",
   "execution_count": null,
   "id": "72fb7858-1b42-4bcc-b94a-e86221ead0bf",
   "metadata": {},
   "outputs": [],
   "source": [
    "subset_ds"
   ]
  },
  {
   "cell_type": "markdown",
   "id": "49cdf34f-d33b-4a1f-addd-51c4d76c804e",
   "metadata": {},
   "source": [
    "## Visualization"
   ]
  },
  {
   "cell_type": "code",
   "execution_count": null,
   "id": "22fe0e7a-ea71-456b-a861-5d45473dc70b",
   "metadata": {},
   "outputs": [],
   "source": [
    "fig, axes = plt.subplots(ncols=2, figsize=(14,5), subplot_kw={'projection': ccrs.PlateCarree()})\n",
    "\n",
    "# set global extent and add gridlines for both subplots\n",
    "for ax in axes.flat:\n",
    "    ax.set_global()\n",
    "    gl = ax.gridlines(crs=ccrs.PlateCarree(), draw_labels=True,\n",
    "                  linewidth=2, color='gray', alpha=0.5, linestyle='--')\n",
    "    gl.top_labels = False    # display only the tick labels on one side of the plot\n",
    "    gl.right_labels = False  # display only the tick labels on one side of the plot\n",
    "\n",
    "    \n",
    "# add WMS layer to left subplot\n",
    "gb_wms = 'https://geoserver.hydroshare.org/geoserver/HS-965eab1801c342a58a463f386c9f3e9b/wms'\n",
    "axes[0].add_wms(wms=gb_wms,\n",
    "               layers=['GB_shapefile'],\n",
    "               zorder=10)\n",
    "\n",
    "\n",
    "# plot LWDOWN at the first timesteop\n",
    "ds_geo.isel(time=1).LWDOWN.plot(\n",
    "               ax=axes[0], transform=ccrs.PlateCarree(), x=\"lon\", y=\"lat\",\n",
    "               zorder=2,\n",
    "               cmap='Reds')\n",
    "\n",
    "\n",
    "# add WMS for the watershed shapefile to right subplot\n",
    "gb_wms = 'https://geoserver.hydroshare.org/geoserver/HS-8974522ddcd84440a02cf6e7124261b2/wms'\n",
    "ax.add_wms(wms=gb_wms,\n",
    "          layers=['watershed'],\n",
    "          zorder=10)\n",
    "\n",
    "# another option to add the shapefile to the map\n",
    "# here we directly read the shapefile in the working directory not from geoserver.hydroshare.org\n",
    "from cartopy.io.shapereader import Reader\n",
    "from cartopy.feature import ShapelyFeature\n",
    "shape_feature = ShapelyFeature(Reader('./watershed.shp').geometries(),\n",
    "                                ccrs.PlateCarree(), facecolor='none')\n",
    "axes[1].add_feature(shape_feature)\n",
    "\n",
    "\n",
    "# plot LWDOWN at the first timesteop\n",
    "subset_ds.isel(time=1).LWDOWN.plot(\n",
    "               ax=ax, transform=ccrs.PlateCarree(), x=\"lon\", y=\"lat\",\n",
    "               zorder=2,\n",
    "               cmap='Reds', alpha=0.5)\n",
    "\n",
    "\n",
    "# zoom to the map on the left panel\n",
    "axes[0].set_ylim([30, 45])\n",
    "axes[0].set_xlim([-125, -105])\n",
    "axes[0].set_aspect('equal')\n",
    "axes[0].coastlines()\n",
    "\n",
    "\n",
    "# zoom to the map on the right panel\n",
    "buffer = 0.15  # degrees\n",
    "axes[1].set_ylim([bbox[1]-buffer, bbox[3]+buffer])\n",
    "axes[1].set_xlim([bbox[2]-buffer, bbox[0]+buffer])\n",
    "axes[1].set_aspect('equal')\n",
    "axes[1].coastlines()\n",
    "\n",
    "\n",
    "# add titles\n",
    "axes[0].set_title('AORC v1.0 encompassing the Great Basin')\n",
    "axes[1].set_title('Subset of AORC v1.0 encompassing the Watershed of Interest')\n",
    "\n",
    "plt.show()"
   ]
  }
 ],
 "metadata": {
  "kernelspec": {
   "display_name": "geo-cartopy",
   "language": "python",
   "name": "geo-cartopy"
  },
  "language_info": {
   "codemirror_mode": {
    "name": "ipython",
    "version": 3
   },
   "file_extension": ".py",
   "mimetype": "text/x-python",
   "name": "python",
   "nbconvert_exporter": "python",
   "pygments_lexer": "ipython3",
   "version": "3.11.2"
  }
 },
 "nbformat": 4,
 "nbformat_minor": 5
}
