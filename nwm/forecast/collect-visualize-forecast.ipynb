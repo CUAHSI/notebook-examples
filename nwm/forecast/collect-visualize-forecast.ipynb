{
 "cells": [
  {
   "cell_type": "markdown",
   "id": "755942a6-3447-4577-a72c-160e9e96dcff",
   "metadata": {},
   "source": [
    "## Collect and Visualize NWM Forecasts\n",
    "\n",
    "**Authors**: Anthony Castronova (acastronova@cuahsi.org), Irene Garousi-Nejad (igarousi@cuahsi.org)  <br>\n",
    "**Last updated**: \n",
    "\n",
    "This notebook demonstrates how to collect and visualize NWM forecast data. All data used in this notebook are publicly acessible via Amazon AWS. Streamflow data is collected from operational NWM medium-range forecasts (https://console.cloud.google.com/storage/browser/national-water-model/).\n",
    "\n",
    "This work was funded by:\n",
    "\n",
    " <img src=\"https://www.hydroshare.org/resource/dc269e23ff494a06b7372bc6034a5de2/data/contents/v3-SNOW/logo-img/CUAHSI-4-color-logo_with_URL.png\" width=\"300\" height=\"300\" style=\"padding-right:50px\"> <img src=\"https://www.hydroshare.org/resource/dc269e23ff494a06b7372bc6034a5de2/data/contents/v3-SNOW/logo-img/CIROHLogo_200x200.png\" width=\"100\" height=\"20\">    "
   ]
  },
  {
   "cell_type": "code",
   "execution_count": null,
   "id": "56433a4a-8604-46ce-8565-32eac9eea9b7",
   "metadata": {
    "scrolled": true
   },
   "outputs": [],
   "source": [
    "import os\n",
    "os.environ['USE_PYGEOS'] = '0'\n",
    "\n",
    "import sys\n",
    "import zarr\n",
    "import numpy\n",
    "import xarray\n",
    "import rioxarray\n",
    "import geopandas\n",
    "import numpy as np\n",
    "import pandas as pd\n",
    "from typing import Dict\n",
    "from pathlib import Path\n",
    "from scipy import interpolate\n",
    "import matplotlib.pyplot as plt\n",
    "from dask.distributed import Client\n",
    "from datetime import datetime, timedelta\n",
    "from geocube.api.core import make_geocube\n",
    "\n",
    "# Import a utility library for collecting medium-range forecast data.\n",
    "import forecast"
   ]
  },
  {
   "cell_type": "code",
   "execution_count": null,
   "id": "a472a6dd-3f0a-42e0-9170-fa137932fa9a",
   "metadata": {},
   "outputs": [],
   "source": [
    "# use a try accept loop so we only instantiate the client\n",
    "# if it doesn't already exist.\n",
    "try:\n",
    "    print(client.dashboard_link)\n",
    "except:    \n",
    "    # The client should be customized to your workstation resources.\n",
    "    # Machine size -> 52 GB, 16 CPU\n",
    "    #client = Client()\n",
    "    client = Client(n_workers=6, memory_limit='4GB') # per worker\n",
    "    print(client.dashboard_link)"
   ]
  },
  {
   "cell_type": "markdown",
   "id": "be38c156-1de3-4114-8441-fe86ddd4fbe7",
   "metadata": {},
   "source": [
    "Define a feature of interest using an NHD+ Reach ID"
   ]
  },
  {
   "cell_type": "code",
   "execution_count": null,
   "id": "57176cce-6273-4be6-9eca-f7faeabf3da5",
   "metadata": {},
   "outputs": [],
   "source": [
    "# NHD+ feature id of interest\n",
    "nhd_feature_id=4966269"
   ]
  },
  {
   "cell_type": "markdown",
   "id": "501c9402-d848-43f0-a527-ab86c36546f9",
   "metadata": {},
   "source": [
    "Collect streamflow for this `reach_id` using the `forecast.py` forecast utility."
   ]
  },
  {
   "cell_type": "code",
   "execution_count": null,
   "id": "0fde1174-e3fb-434b-b719-b9beb761c3bd",
   "metadata": {
    "scrolled": true
   },
   "outputs": [],
   "source": [
    "%%time\n",
    "\n",
    "destination_folder = \".cache\"\n",
    "forecast_mode = 'medium_range_blend'\n",
    "init_times = [0] \n",
    "\n",
    "# collect data for the reach above for multiple days\n",
    "start_date = datetime(2024, 4, 1)\n",
    "end_date = datetime(2024, 4, 3)\n",
    "delta = timedelta(days=1)\n",
    "dats = {}\n",
    "while start_date <= end_date:\n",
    "    ds = mediumrange.get_streamflow_for_reaches(start_date, init_times=init_times, reach_ids=[nhd_feature_id],\n",
    "                                                forecast_mode=forecast_mode,\n",
    "                                                merge_files=True,\n",
    "                                                merge_format='Zarr',\n",
    "                                                clean_on_success=False,\n",
    "                                                )\n",
    "    start_date += delta\n",
    "    dats.update(ds)"
   ]
  },
  {
   "cell_type": "code",
   "execution_count": null,
   "id": "a7cfb84d-2448-4a41-a8da-aeabb4fb13b1",
   "metadata": {},
   "outputs": [],
   "source": [
    "list(dats.keys())"
   ]
  },
  {
   "cell_type": "code",
   "execution_count": null,
   "id": "d0860c38-68d8-40d6-acb2-8522fc3c0212",
   "metadata": {},
   "outputs": [],
   "source": [
    "fig, ax = plt.subplots(1,1)\n",
    "\n",
    "for k, dat in dats.items():\n",
    "    print(f'plotting {k}')\n",
    "    dat.streamflow.plot(ax=ax, label=k);\n",
    "plt.grid()\n",
    "plt.legend()"
   ]
  },
  {
   "cell_type": "code",
   "execution_count": null,
   "id": "3507a2f7-5a84-4812-ad02-973905a7e1a1",
   "metadata": {
    "scrolled": true
   },
   "outputs": [],
   "source": [
    "%%time\n",
    "\n",
    "#bucket_name = \"national-water-model\"\n",
    "#wildcard = \"nwm.t00z*channel_rt*\"\n",
    "\n",
    "destination_folder = \".cache\"\n",
    "forecast_mode = 'short_range'\n",
    "init_times = range(0, 24)\n",
    "# collect data for the reach above for multiple days\n",
    "start_date = datetime(2024, 4, 1)\n",
    "end_date = datetime(2024, 4, 4)\n",
    "delta = timedelta(days=1)\n",
    "dats = {}\n",
    "while start_date <= end_date:\n",
    "    ds = mediumrange.get_streamflow_for_reaches(start_date, init_times=init_times, reach_ids=[nhd_feature_id],\n",
    "                                                forecast_mode=forecast_mode,\n",
    "                                                merge_files=True,\n",
    "                                                merge_format='Zarr',\n",
    "                                                clean_on_success=False,\n",
    "                                                )\n",
    "    start_date += delta\n",
    "    dats.update(ds)"
   ]
  },
  {
   "cell_type": "code",
   "execution_count": null,
   "id": "9e607542-7312-498b-ac4a-113160fb1cc9",
   "metadata": {},
   "outputs": [],
   "source": [
    "list(dats.keys())"
   ]
  },
  {
   "cell_type": "code",
   "execution_count": null,
   "id": "a3b6d679-3e7d-4f1a-bf29-008d1ecbbf79",
   "metadata": {},
   "outputs": [],
   "source": []
  },
  {
   "cell_type": "code",
   "execution_count": null,
   "id": "e2915278-f81d-4466-990f-053fcd93a0f6",
   "metadata": {},
   "outputs": [],
   "source": [
    "\n"
   ]
  },
  {
   "cell_type": "code",
   "execution_count": null,
   "id": "af57c66f-c808-481c-90f0-6654d8f3489a",
   "metadata": {},
   "outputs": [],
   "source": [
    "from matplotlib import colormaps, cm\n",
    "import numpy as np\n",
    "\n",
    "grey_cm = colormaps['Blues']\n",
    "colors = grey_cm(np.linspace(0, 1, 24))\n",
    "\n",
    "fig, ax = plt.subplots(1,1)\n",
    "\n",
    "i = 0\n",
    "for key, dat in dats.items():\n",
    "    \n",
    "    dat.streamflow.plot(ax=ax, color=colors[i]);\n",
    "\n",
    "    i += 1\n",
    "    if i > 23:\n",
    "        break\n",
    "plt.grid()"
   ]
  }
 ],
 "metadata": {
  "kernelspec": {
   "display_name": "Python 3 (ipykernel)",
   "language": "python",
   "name": "python3"
  },
  "language_info": {
   "codemirror_mode": {
    "name": "ipython",
    "version": 3
   },
   "file_extension": ".py",
   "mimetype": "text/x-python",
   "name": "python",
   "nbconvert_exporter": "python",
   "pygments_lexer": "ipython3",
   "version": "3.10.12"
  }
 },
 "nbformat": 4,
 "nbformat_minor": 5
}
