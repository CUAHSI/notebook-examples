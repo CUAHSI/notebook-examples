{
 "cells": [
  {
   "cell_type": "markdown",
   "id": "8daebbe6-9440-4315-8dcd-4b6992c85866",
   "metadata": {},
   "source": [
    "# Identify AR Events Gridded"
   ]
  },
  {
   "cell_type": "code",
   "execution_count": null,
   "id": "6f9155c1-40f8-43af-9748-72fdf2bb0423",
   "metadata": {},
   "outputs": [],
   "source": [
    "%matplotlib ipympl"
   ]
  },
  {
   "cell_type": "code",
   "execution_count": null,
   "id": "f92aa6ac-5098-45f1-91b8-d58e0c237763",
   "metadata": {},
   "outputs": [],
   "source": [
    "import ARUtils\n",
    "import numpy as np\n",
    "import xarray as xr\n",
    "import matplotlib.pyplot as plt\n",
    "import pandas as pd\n",
    "\n",
    "import cartopy.crs as ccrs\n",
    "import cartopy.feature as cfeature "
   ]
  },
  {
   "cell_type": "code",
   "execution_count": null,
   "id": "a0523106-d7dc-4e6e-bd0d-e6910c8cdafe",
   "metadata": {},
   "outputs": [],
   "source": [
    "from dask.distributed import Client\n",
    "client = Client()\n",
    "client"
   ]
  },
  {
   "cell_type": "markdown",
   "id": "580e7f5b-d85a-4bb3-b031-d4ecd1e32f19",
   "metadata": {},
   "source": [
    "Load data from from Zarr store."
   ]
  },
  {
   "cell_type": "code",
   "execution_count": null,
   "id": "694bf89d-2dd5-409d-abf5-3adcebd44f5c",
   "metadata": {},
   "outputs": [],
   "source": [
    "zarr_store = 'gs://cesm2/ivt.zarr'\n",
    "ds_full = xr.open_zarr(zarr_store, consolidated=False)#, chunks={\"time\":-1, \"lat\":\"auto\", \"lon\":\"auto\"})\n",
    "print(f'Variable size: {ds_full.nbytes/1e9:.1f} GB')"
   ]
  },
  {
   "cell_type": "markdown",
   "id": "78b1603e-a5d8-4616-847c-a1a8e8e6cafe",
   "metadata": {},
   "source": [
    "Select a set of grid cells that cover Bodega Bay, CA (38.3332° N, 123.0481° W)"
   ]
  },
  {
   "cell_type": "code",
   "execution_count": null,
   "id": "7f1973b8-2d15-4bf5-93b9-1b2a02a80ea3",
   "metadata": {},
   "outputs": [],
   "source": [
    "lat = 38.\n",
    "lon = -123.125 + 360 \n",
    "AR_THRESHOLD = 250.\n",
    "cell_buffer = 10\n",
    "\n",
    "# the nearest index for the lat/lon provided above\n",
    "ilon = list(ds_full.lon.values).index(ds_full.sel(lon=lon, method='nearest').lon)\n",
    "ilat = list(ds_full.lat.values).index(ds_full.sel(lat=lat, method='nearest').lat)\n",
    "\n",
    "# subset these data to include cells above and below this lat/lon\n",
    "ds = ds_full.isel(lat=range(ilat-cell_buffer, ilat+cell_buffer),\n",
    "                  lon=range(ilon-cell_buffer, ilon+cell_buffer)).IVT\n",
    "ds = ds.to_dataset()"
   ]
  },
  {
   "cell_type": "markdown",
   "id": "d8dd5f65-3466-4f6c-843a-e9a0f1ca0f90",
   "metadata": {},
   "source": [
    "Plot the IVT data for these cells at `time=0` to visualize our domain."
   ]
  },
  {
   "cell_type": "code",
   "execution_count": null,
   "id": "1bb9db97-b2de-417a-84ed-f6976c7364e3",
   "metadata": {},
   "outputs": [],
   "source": [
    "fig, ax = plt.subplots()\n",
    "ax.set_xticks([])\n",
    "ax.set_yticks([])\n",
    "ax = plt.axes(projection=ccrs.PlateCarree())\n",
    "\n",
    "#add coastlines\n",
    "ax.add_feature(cfeature.COASTLINE)\n",
    "\n",
    "#add lat lon grids\n",
    "gl = ax.gridlines(draw_labels=True, color='lightgrey', alpha=0.5, linestyle='--')\n",
    "gl.xlabels_bottom = False\n",
    "gl.ylabels_right = False\n",
    "\n",
    "ds.isel(time=0).IVT.plot(label='',\n",
    "                         add_labels=False,\n",
    "                         add_colorbar=False,\n",
    "                         xticks=None,\n",
    "                         yticks=None)\n",
    "plt.show()"
   ]
  },
  {
   "cell_type": "markdown",
   "id": "cf90dea0-2ada-40ce-b096-b1cf2869a4ae",
   "metadata": {},
   "source": [
    "## Identify AR Events"
   ]
  },
  {
   "cell_type": "code",
   "execution_count": null,
   "id": "7bfc0a5e-ea32-4cc8-8e04-a7a2dfdca1d2",
   "metadata": {},
   "outputs": [],
   "source": [
    "# convert the time index to datetime64. This is needed to compute probabilities.\n",
    "ds['time'] = ds.time.values.astype('datetime64[ns]')  "
   ]
  },
  {
   "cell_type": "markdown",
   "id": "5db646ef-539f-491a-bcda-c62f2046d57c",
   "metadata": {},
   "source": [
    "Assign an index to each group of timesteps that meet AR conditions"
   ]
  },
  {
   "cell_type": "code",
   "execution_count": null,
   "id": "faca4326-c092-4c93-942c-c1d4f852dae1",
   "metadata": {},
   "outputs": [],
   "source": [
    "ds['AR_INDEX'] = xr.apply_ufunc(\n",
    "    ARUtils.identify_ar_events,  \n",
    "    ds.IVT,  \n",
    "    input_core_dims=[[\"time\"]],\n",
    "    output_core_dims=[[\"time\"]],\n",
    "    vectorize=True,\n",
    "    dask='parallelized',\n",
    "    dask_gufunc_kwargs={'allow_rechunk': True},\n",
    ")"
   ]
  },
  {
   "cell_type": "markdown",
   "id": "f8718195-31d1-4fdd-8224-50ea0a9a986a",
   "metadata": {},
   "source": [
    "Compute the duration for each AR event"
   ]
  },
  {
   "cell_type": "code",
   "execution_count": null,
   "id": "681e00a3-51e5-4a22-882b-0850e4be6c1b",
   "metadata": {},
   "outputs": [],
   "source": [
    "ds['AR_DURATION'] = xr.apply_ufunc(\n",
    "    ARUtils.compute_ar_durations,  \n",
    "    ds.AR_INDEX,  \n",
    "    input_core_dims=[[\"time\"]],\n",
    "    output_core_dims=[[\"time\"]],\n",
    "    vectorize=True,\n",
    "    dask='parallelized',\n",
    "    dask_gufunc_kwargs={'allow_rechunk': True},\n",
    ")"
   ]
  },
  {
   "cell_type": "markdown",
   "id": "9b525a26-643e-4c1c-b2c2-026cabd0beb2",
   "metadata": {},
   "source": [
    "Compute the category (1-5) for each AR event"
   ]
  },
  {
   "cell_type": "code",
   "execution_count": null,
   "id": "b3a23815-2246-48de-bafb-e61436a7a784",
   "metadata": {},
   "outputs": [],
   "source": [
    "ds['AR_CATEGORY'] = xr.apply_ufunc(\n",
    "    ARUtils.compute_ar_category,  \n",
    "    ds.AR_INDEX,\n",
    "    ds.AR_DURATION,\n",
    "    ds.IVT,\n",
    "    input_core_dims=[[\"time\"],[\"time\"],[\"time\"]],\n",
    "    output_core_dims=[[\"time\"]],\n",
    "    vectorize=True,\n",
    "    dask='parallelized',\n",
    "    dask_gufunc_kwargs={'allow_rechunk': True},\n",
    ")"
   ]
  },
  {
   "cell_type": "markdown",
   "id": "295989ad-a03b-426a-bf08-94b2a80f4be8",
   "metadata": {},
   "source": [
    "Compute the probability of each AR event occurring."
   ]
  },
  {
   "cell_type": "code",
   "execution_count": null,
   "id": "0f480e2d-319f-42c5-b37e-04499968019f",
   "metadata": {},
   "outputs": [],
   "source": [
    "res = xr.apply_ufunc(\n",
    "    ARUtils.compute_ar_probability,\n",
    "    ds.AR_INDEX,\n",
    "    ds.AR_CATEGORY,\n",
    "    input_core_dims=[[\"time\"],[\"time\"]],\n",
    "    output_core_dims=[['category']],\n",
    "    # output_sizes={'category': 5},\n",
    "    output_dtypes=[float],\n",
    "    vectorize=True,\n",
    "    dask='parallelized',\n",
    "    dask_gufunc_kwargs={'allow_rechunk': True,\n",
    "                        'output_sizes': {'category': 5}},\n",
    ")\n",
    "\n",
    "# Add the category dimension (from 1 to 5)\n",
    "res = res.assign_coords(category=np.arange(1, 6))\n",
    "\n",
    "# add the newly computed probabilty back to the original dataset\n",
    "ds = ds.assign(AR_PROBABILITY=res)"
   ]
  },
  {
   "cell_type": "markdown",
   "id": "a17f4784-cfdd-4c82-9f54-0b9a98980e74",
   "metadata": {},
   "source": [
    "Compute the magnitude of each AR event."
   ]
  },
  {
   "cell_type": "code",
   "execution_count": null,
   "id": "51731727-b361-437c-8994-449abcfe8607",
   "metadata": {},
   "outputs": [],
   "source": [
    "ds['AR_DEGREE'] = xr.apply_ufunc(\n",
    "    ARUtils.compute_ar_degree,\n",
    "    ds.IVT,\n",
    "    ds.AR_DURATION,\n",
    "    ds.AR_INDEX,\n",
    "    input_core_dims=[[\"time\"],[\"time\"],[\"time\"]],\n",
    "    output_core_dims=[['time']],\n",
    "    output_dtypes=[float],\n",
    "    vectorize=True,\n",
    "    dask='parallelized',\n",
    "    dask_gufunc_kwargs={'allow_rechunk': True},\n",
    ")"
   ]
  },
  {
   "cell_type": "markdown",
   "id": "cee66522-4598-4f1e-9b73-8853ae7f0eb7",
   "metadata": {},
   "source": [
    "## Plot Computed AR Categories and Degrees"
   ]
  },
  {
   "cell_type": "markdown",
   "id": "5ef02f3a-b9af-48b4-8b39-966fdabccd8b",
   "metadata": {},
   "source": [
    "Plot the degree of Category 5 Atmospheric Rivers"
   ]
  },
  {
   "cell_type": "code",
   "execution_count": null,
   "id": "c7799910-542a-4d8c-9d5d-b254ac628e22",
   "metadata": {},
   "outputs": [],
   "source": [
    "# create a plot to test\n",
    "lat = 38.\n",
    "lon = -123.125 + 360 \n",
    "ds_cell = ds.sel(lat=lat, lon=lon, method='nearest')\n",
    "\n",
    "# plot AR_DEGREE for cat 5 events\n",
    "ds_cat5 = ds_cell.where(ds_cell['AR_CATEGORY'] == 5, drop=True)"
   ]
  },
  {
   "cell_type": "code",
   "execution_count": null,
   "id": "7510f611-a9e5-4546-b478-00513402edef",
   "metadata": {},
   "outputs": [],
   "source": [
    "fig, axes = plt.subplots(nrows=2, ncols=1)\n",
    "\n",
    "axes[0].scatter(x=ds_cat5.time, y=ds_cat5.AR_DEGREE)\n",
    "axes[0].set_xlabel('Time')\n",
    "axes[0].set_ylabel('AR Degree')\n",
    "\n",
    "axes[1].scatter(x=ds_cat5.AR_INDEX, y=ds_cat5.AR_DEGREE)\n",
    "axes[1].set_xlabel('AR Index')\n",
    "axes[1].set_ylabel('AR Degree')\n",
    "\n",
    "\n",
    "plt.tight_layout()\n",
    "plt.show()"
   ]
  },
  {
   "cell_type": "markdown",
   "id": "c86ac6aa-207f-46cd-b3e9-bc39365c9f2f",
   "metadata": {},
   "source": [
    "Spatially plot the probability of Category 5 Atmospheric Rivers"
   ]
  },
  {
   "cell_type": "code",
   "execution_count": null,
   "id": "e9cf729d-dde1-40dd-a2bd-680899fa4a3e",
   "metadata": {},
   "outputs": [],
   "source": [
    "fig, ax = plt.subplots()\n",
    "\n",
    "ax.axis('off')\n",
    "\n",
    "ax = plt.axes(projection=ccrs.PlateCarree())\n",
    "\n",
    "#add coastlines\n",
    "ax.add_feature(cfeature.COASTLINE)\n",
    "\n",
    "#add lat lon grids\n",
    "gl = ax.gridlines(draw_labels=True, color='lightgrey', alpha=0.5, linestyle='--')\n",
    "gl.xlabels_bottom = False\n",
    "gl.ylabels_right = False\n",
    "\n",
    "ds.AR_PROBABILITY.sel(category=5).plot()\n",
    "#ds.AR_PROBABILITY.sel(category=5).plot.contour()\n",
    "\n",
    "plt.title('AR Category 5 Probability')\n",
    "plt.show()\n",
    "\n"
   ]
  },
  {
   "cell_type": "markdown",
   "id": "924aa43d-5f94-4f35-acae-b6539b0f1fcf",
   "metadata": {},
   "source": [
    "Plot Atmospheric Rivers category at a singe point in time."
   ]
  },
  {
   "cell_type": "code",
   "execution_count": null,
   "id": "b492d124-2da3-4f55-85ee-93fa9410cf98",
   "metadata": {},
   "outputs": [],
   "source": [
    "fig, ax = plt.subplots()\n",
    "ax.axis('off')\n",
    "\n",
    "ax = plt.axes(projection=ccrs.PlateCarree())\n",
    "\n",
    "#add coastlines\n",
    "ax.add_feature(cfeature.COASTLINE)\n",
    "\n",
    "#add lat lon grids\n",
    "gl = ax.gridlines(draw_labels=True, color='lightgrey', alpha=0.5, linestyle='--')\n",
    "gl.xlabels_bottom = False\n",
    "gl.ylabels_right = False\n",
    "\n",
    "ds.isel(time=0).AR_CATEGORY.plot(label='',\n",
    "                                 add_labels=False,\n",
    "                                 add_colorbar=True,\n",
    "                                 xticks=None,\n",
    "                                 yticks=None,\n",
    "                                 cbar_kwargs={\"location\": \"bottom\", \"pad\":0.1})\n",
    "\n",
    "plt.title('AR Category at t=0')\n",
    "plt.show()"
   ]
  },
  {
   "cell_type": "markdown",
   "id": "1f956c31-29b0-406f-be20-cb636b4d6848",
   "metadata": {},
   "source": [
    "Mean Atmospheric Rivers category through the record of data."
   ]
  },
  {
   "cell_type": "code",
   "execution_count": null,
   "id": "d2bdea18-296a-43c5-96b7-0bf6b1fa8962",
   "metadata": {},
   "outputs": [],
   "source": [
    "fig, ax = plt.subplots(nrows=2, ncols=1,\n",
    "                       subplot_kw={'projection': ccrs.PlateCarree()},\n",
    "                       figsize=(10,8))\n",
    "#ax[0].axis('off')\n",
    "#ax[1].axis('off')\n",
    "\n",
    "ax[0].coastlines();\n",
    "ax[1].coastlines();\n",
    "\n",
    "#add lat lon grids\n",
    "ax[0].gridlines(draw_labels=True, color='lightgrey', alpha=0.5, linestyle='--');\n",
    "ax[1].gridlines(draw_labels=True, color='lightgrey', alpha=0.5, linestyle='--');\n",
    "\n",
    "\n",
    "ds.where(ds.AR_CATEGORY > 0).AR_CATEGORY.mean(dim='time').plot(label='',\n",
    "                                                               add_labels=False,\n",
    "                                                               add_colorbar=True,\n",
    "                                                               cbar_kwargs={\"location\": \"right\", \"pad\":0.1},\n",
    "                                                               ax=ax[0])\n",
    "\n",
    "ds.where(ds.AR_CATEGORY > 0).AR_CATEGORY.mean(dim='time').plot.contour(\n",
    "                                                               add_labels=False,\n",
    "                                                               add_colorbar=True,\n",
    "                                                               cbar_kwargs={\"location\": \"right\", \"pad\":0.1},\n",
    "                                                               ax=ax[1])\n",
    "\n",
    "fig.suptitle('Mean AR Category: 1980-1989')\n",
    "plt.tight_layout()\n",
    "plt.show()"
   ]
  },
  {
   "cell_type": "markdown",
   "id": "ad615745-019e-4c72-97f3-e8570d755ac5",
   "metadata": {},
   "source": [
    "Sum of Atmospheric Rivers category through the record of data."
   ]
  },
  {
   "cell_type": "code",
   "execution_count": null,
   "id": "6385258c-7a37-4929-a117-92af5846ecee",
   "metadata": {},
   "outputs": [],
   "source": [
    "fig, ax = plt.subplots(nrows=2, ncols=1,\n",
    "                       subplot_kw={'projection': ccrs.PlateCarree()},\n",
    "                       figsize=(10,8))\n",
    "\n",
    "ax[0].coastlines();\n",
    "ax[1].coastlines();\n",
    "\n",
    "#add lat lon grids\n",
    "ax[0].gridlines(draw_labels=True, color='lightgrey', alpha=0.5, linestyle='--');\n",
    "ax[1].gridlines(draw_labels=True, color='lightgrey', alpha=0.5, linestyle='--');\n",
    "\n",
    "\n",
    "(ds.where(ds.AR_CATEGORY == 5).AR_CATEGORY.sum(dim='time') / 5).plot(label='',\n",
    "                                                               add_labels=False,\n",
    "                                                               add_colorbar=True,\n",
    "                                                               cbar_kwargs={\"location\": \"right\", \"pad\":0.1},\n",
    "                                                               ax=ax[0])\n",
    "(ds.where(ds.AR_CATEGORY == 5).AR_CATEGORY.sum(dim='time') / 5).plot.contour(\n",
    "                                                               add_labels=False,\n",
    "                                                               add_colorbar=True,\n",
    "                                                               cbar_kwargs={\"location\": \"right\", \"pad\":0.1},\n",
    "                                                               ax=ax[1])\n",
    "\n",
    "fig.suptitle('Sum AR Category: 1980-1989')\n",
    "plt.tight_layout()\n",
    "plt.show()"
   ]
  },
  {
   "cell_type": "code",
   "execution_count": null,
   "id": "fc04da7e-8811-4306-ae07-63d89ec79030",
   "metadata": {},
   "outputs": [],
   "source": []
  }
 ],
 "metadata": {
  "kernelspec": {
   "display_name": "Python 3 (ipykernel)",
   "language": "python",
   "name": "python3"
  },
  "language_info": {
   "codemirror_mode": {
    "name": "ipython",
    "version": 3
   },
   "file_extension": ".py",
   "mimetype": "text/x-python",
   "name": "python",
   "nbconvert_exporter": "python",
   "pygments_lexer": "ipython3",
   "version": "3.12.3"
  }
 },
 "nbformat": 4,
 "nbformat_minor": 5
}
