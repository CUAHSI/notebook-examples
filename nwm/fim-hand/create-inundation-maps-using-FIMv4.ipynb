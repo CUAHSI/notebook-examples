{
 "cells": [
  {
   "cell_type": "markdown",
   "id": "7e5bab4d-98b0-4b2f-80a1-94d07db865ac",
   "metadata": {},
   "source": [
    "## Create Flood Inundation Map based on the HAND Method"
   ]
  },
  {
   "cell_type": "markdown",
   "id": "e89084ff-d6c0-4a3e-a779-def9192ad5e4",
   "metadata": {},
   "source": [
    "**Authors**: Anthony Castronova (acastronova@cuahsi.org), Irene Garousi-Nejad (igarousi@cuahsi.org)  <br>\n",
    "**Last updated**: Mar 11, 2024\n",
    "\n",
    "This notebook shows how to access the National Water Model version 3 retrospective simulated data, in particular, the streamflow. Data is stored on AWS and can be accessed through the following link. This notebook has been tested on the CIROH 2i2c Cloud infrastructure. The printed computation times correspond to a **Medium server**, with 11GB of RAM and 4 CPUs. \n",
    "\n",
    "Funding Resources:\n",
    "\n",
    "<img src=\"https://www.hydroshare.org/resource/dc269e23ff494a06b7372bc6034a5de2/data/contents/v3-SNOW/logo-img/CIROHLogo_200x200.png\" width=\"100\" height=\"20\">     <img src=\"https://www.hydroshare.org/resource/dc269e23ff494a06b7372bc6034a5de2/data/contents/v3-SNOW/logo-img/CUAHSI-4-color-logo_with_URL.png\" width=\"300\" height=\"300\">"
   ]
  },
  {
   "cell_type": "code",
   "execution_count": 1,
   "id": "04fd233f-c2aa-4d4e-b098-28ec17d9959c",
   "metadata": {},
   "outputs": [],
   "source": [
    "import pandas as pd\n",
    "from scipy import interpolate\n",
    "import rasterio\n",
    "from rasterio.plot import show\n",
    "import numpy as np\n",
    "import matplotlib.pyplot as plt\n",
    "import subprocess\n",
    "import xarray \n",
    "import fsspec\n",
    "import numpy as np\n",
    "from osgeo import gdal\n",
    "import numpy.ma as ma\n",
    "\n",
    "import fim_utils_v2"
   ]
  },
  {
   "cell_type": "code",
   "execution_count": 2,
   "id": "ea334cab-da7c-4cfd-9641-9fcb1982eaab",
   "metadata": {},
   "outputs": [],
   "source": [
    "import os\n",
    "import s3fs\n",
    "import boto3\n",
    "import fsspec\n",
    "import pandas as pd\n",
    "import numpy as np\n",
    "import xarray as xr\n",
    "import zarr\n",
    "import glob\n",
    "import rasterio\n",
    "import pyproj\n",
    "import geopandas\n",
    "import matplotlib.pyplot as plt"
   ]
  },
  {
   "cell_type": "code",
   "execution_count": 5,
   "id": "d994df55-a0d1-47e9-8c88-6f8e56273df5",
   "metadata": {},
   "outputs": [
    {
     "name": "stdout",
     "output_type": "stream",
     "text": [
      "/user/igarousi/proxy/8787/status\n"
     ]
    }
   ],
   "source": [
    "import dask\n",
    "from dask.distributed import Client\n",
    "from dask.distributed import progress\n",
    "try:\n",
    "    print(client.dashboard_link)\n",
    "except:    \n",
    "    client = Client(n_workers=24, threads_per_worker=1, memory_limit='2GB') \n",
    "    print(client.dashboard_link)"
   ]
  },
  {
   "cell_type": "code",
   "execution_count": 97,
   "id": "4c472590-d789-4fc4-a7b7-c2387676d619",
   "metadata": {},
   "outputs": [
    {
     "data": {
      "text/plain": [
       "<module 'fim_utils' from '/home/jovyan/NWM_inputs_outputs/NWM/v3-STREAMFLOW/fim_utils.py'>"
      ]
     },
     "execution_count": 97,
     "metadata": {},
     "output_type": "execute_result"
    }
   ],
   "source": [
    "import importlib\n",
    "importlib.reload(fim_utils)"
   ]
  },
  {
   "cell_type": "markdown",
   "id": "06f7b0d0-c2b8-4707-a284-2541bc2a7db3",
   "metadata": {
    "tags": []
   },
   "source": [
    "## 1. Collect NWM Flood Inundation Map (FIM) Data "
   ]
  },
  {
   "cell_type": "markdown",
   "id": "a9c3650b-b12e-4a92-b679-9af40957f504",
   "metadata": {},
   "source": [
    "#### Specify the region of interest (HUC8)"
   ]
  },
  {
   "cell_type": "code",
   "execution_count": 7,
   "id": "c6dd45d5-baa7-46aa-8241-53085641e449",
   "metadata": {},
   "outputs": [
    {
     "name": "stdout",
     "output_type": "stream",
     "text": [
      "download: s3://scratch/hand_fim/16010102/branches/0/hydroTable_0.csv to ./hydroTable_0.csv\n",
      "download: s3://scratch/hand_fim/16010102/branches/0/rem_zeroed_masked_0.tif to ./rem_zeroed_masked_0.tif\n",
      "download: s3://scratch/hand_fim/16010102/branches/0/gw_catchments_reaches_filtered_addedAttributes_crosswalked_0.gpkg to ./gw_catchments_reaches_filtered_addedAttributes_crosswalked_0.gpkg\n",
      "download: s3://scratch/hand_fim/16010102/branches/0/gw_catchments_reaches_filtered_addedAttributes_0.tif to ./gw_catchments_reaches_filtered_addedAttributes_0.tif\n"
     ]
    }
   ],
   "source": [
    "# hydroTable_0.csv\n",
    "!aws --no-sign-request --endpoint-url https://api.minio.cuahsi.io \\\n",
    " s3 cp s3://scratch/hand_fim/16010102/branches/0/hydroTable_0.csv .\n",
    "\n",
    "# rem_zeroed_masked_0.tif\n",
    "!aws --no-sign-request --endpoint-url https://api.minio.cuahsi.io \\\n",
    " s3 cp s3://scratch/hand_fim/16010102/branches/0/rem_zeroed_masked_0.tif .\n",
    "\n",
    "# gw_catchments_reaches_filtered_addedAttributes_crosswalked_0.gpkg\n",
    "!aws --no-sign-request --endpoint-url https://api.minio.cuahsi.io \\\n",
    "s3 cp s3://scratch/hand_fim/16010102/branches/0/gw_catchments_reaches_filtered_addedAttributes_crosswalked_0.gpkg .\n",
    "\n",
    "# gw_catchments_reaches_filtered_addedAttributes_0.tif\n",
    "!aws --no-sign-request --endpoint-url https://api.minio.cuahsi.io \\\n",
    "s3 cp s3://scratch/hand_fim/16010102/branches/0/gw_catchments_reaches_filtered_addedAttributes_0.tif ."
   ]
  },
  {
   "cell_type": "markdown",
   "id": "21fcfb64-32a8-4074-9351-cb1d94ba8b48",
   "metadata": {
    "tags": []
   },
   "source": [
    "## 2. Retrieve NWM streamflow data"
   ]
  },
  {
   "cell_type": "code",
   "execution_count": 8,
   "id": "56dceb6a-f272-4cd9-897f-3f900e0f1846",
   "metadata": {},
   "outputs": [
    {
     "name": "stdout",
     "output_type": "stream",
     "text": [
      "CPU times: user 8.3 s, sys: 1.59 s, total: 9.89 s\n",
      "Wall time: 48.8 s\n"
     ]
    }
   ],
   "source": [
    "%%time\n",
    "ds = conus_bucket_url = 's3://noaa-nwm-retrospective-3-0-pds/CONUS/zarr/chrtout.zarr'\n",
    "\n",
    "ds = xarray.open_zarr(\n",
    "        fsspec.get_mapper(\n",
    "            conus_bucket_url,\n",
    "            anon=True\n",
    "        ),\n",
    "        consolidated=True\n",
    ")"
   ]
  },
  {
   "cell_type": "markdown",
   "id": "75fdd93f-aa47-4927-a125-7c01526e35f9",
   "metadata": {},
   "source": [
    "#### Specify the location of interest and find associated NWM reach ID"
   ]
  },
  {
   "cell_type": "code",
   "execution_count": 9,
   "id": "7fa531e5-dc08-4f1e-8d48-fe9f5cb64fdd",
   "metadata": {},
   "outputs": [
    {
     "name": "stdout",
     "output_type": "stream",
     "text": [
      "7898927\n",
      "CPU times: user 7.65 s, sys: 2.35 s, total: 10 s\n",
      "Wall time: 56.2 s\n"
     ]
    }
   ],
   "source": [
    "%%time\n",
    "geo_lon = -111.0538022\n",
    "geo_lat = 42.21104338\n",
    "\n",
    "ds_sel = ds.isel(time=0).compute()\n",
    "nwm_reach_id = fim_utils.get_nwm_id(geo_lat, geo_lon, ds_sel)\n",
    "print(nwm_reach_id)"
   ]
  },
  {
   "cell_type": "markdown",
   "id": "fef69b1a-b2a7-4ac8-901b-e9ea1230b3ff",
   "metadata": {},
   "source": [
    "#### Specify the period of interest and subset data for the location and period of interest"
   ]
  },
  {
   "cell_type": "code",
   "execution_count": 10,
   "id": "b4c3c4ce-1aa5-4d8d-a22f-61677c9eae75",
   "metadata": {},
   "outputs": [
    {
     "name": "stdout",
     "output_type": "stream",
     "text": [
      "Loading the metadata\n",
      "Subset started ...\n",
      "Subset finished!\n",
      "Saving results in a csv file ...\n",
      "Subset is completed.\n",
      "CPU times: user 8.13 s, sys: 1.64 s, total: 9.77 s\n",
      "Wall time: 52.8 s\n"
     ]
    }
   ],
   "source": [
    "%%time\n",
    "nwm_reach_id=nwm_reach_id\n",
    "start_date='2013-10-01'\n",
    "end_date='2014-10-01'\n",
    "output_path= f'./subset_nwm_q_for_{nwm_reach_id}_wy2008'\n",
    "\n",
    "# revise: ds should also be an input to the following function.\n",
    "df = fim_utils.get_nwm_q(nwm_reach_id, start_date, end_date, output_path)"
   ]
  },
  {
   "cell_type": "code",
   "execution_count": 11,
   "id": "fdeda086-6839-4602-a851-a8827f595c4d",
   "metadata": {},
   "outputs": [
    {
     "data": {
      "text/html": [
       "<div>\n",
       "<style scoped>\n",
       "    .dataframe tbody tr th:only-of-type {\n",
       "        vertical-align: middle;\n",
       "    }\n",
       "\n",
       "    .dataframe tbody tr th {\n",
       "        vertical-align: top;\n",
       "    }\n",
       "\n",
       "    .dataframe thead th {\n",
       "        text-align: right;\n",
       "    }\n",
       "</style>\n",
       "<table border=\"1\" class=\"dataframe\">\n",
       "  <thead>\n",
       "    <tr style=\"text-align: right;\">\n",
       "      <th></th>\n",
       "      <th>elevation</th>\n",
       "      <th>feature_id</th>\n",
       "      <th>gage_id</th>\n",
       "      <th>latitude</th>\n",
       "      <th>longitude</th>\n",
       "      <th>order</th>\n",
       "      <th>streamflow_m3 s-1</th>\n",
       "    </tr>\n",
       "    <tr>\n",
       "      <th>time</th>\n",
       "      <th></th>\n",
       "      <th></th>\n",
       "      <th></th>\n",
       "      <th></th>\n",
       "      <th></th>\n",
       "      <th></th>\n",
       "      <th></th>\n",
       "    </tr>\n",
       "  </thead>\n",
       "  <tbody>\n",
       "    <tr>\n",
       "      <th>2014-06-03 23:00:00</th>\n",
       "      <td>1847.48999</td>\n",
       "      <td>7898927</td>\n",
       "      <td>b'       10039500'</td>\n",
       "      <td>42.208435</td>\n",
       "      <td>-111.059891</td>\n",
       "      <td>6</td>\n",
       "      <td>96.659998</td>\n",
       "    </tr>\n",
       "  </tbody>\n",
       "</table>\n",
       "</div>"
      ],
      "text/plain": [
       "                      elevation  feature_id             gage_id   latitude  \\\n",
       "time                                                                         \n",
       "2014-06-03 23:00:00  1847.48999     7898927  b'       10039500'  42.208435   \n",
       "\n",
       "                      longitude  order  streamflow_m3 s-1  \n",
       "time                                                       \n",
       "2014-06-03 23:00:00 -111.059891      6          96.659998  "
      ]
     },
     "execution_count": 11,
     "metadata": {},
     "output_type": "execute_result"
    }
   ],
   "source": [
    "df.loc[df['streamflow_m3 s-1'] == df['streamflow_m3 s-1'].max()]"
   ]
  },
  {
   "cell_type": "markdown",
   "id": "b86d5ac8-b570-4cb6-adc9-20b5620bfdfe",
   "metadata": {
    "tags": []
   },
   "source": [
    "## 3. Estimate Flood Depth for each HydroID within the Catchment"
   ]
  },
  {
   "cell_type": "code",
   "execution_count": 12,
   "id": "e92de516-d353-42f9-b48f-04badfa6c493",
   "metadata": {},
   "outputs": [
    {
     "name": "stdout",
     "output_type": "stream",
     "text": [
      "\n",
      "Test HydroID reach stages:\n",
      "\n",
      " NHD FeatureID       HydroID         Input CMS      Output Stage  \n",
      "===============  ===============  ===============  ===============\n",
      "7898927          27670036         96.65999783948064  2.383663785213086\n",
      "7898927          27670037         96.65999783948064  2.365816838453226\n",
      "7898927          27670038         96.65999783948064  2.284101424736956\n",
      "7898927          27670039         96.65999783948064  2.2148316564661132\n"
     ]
    }
   ],
   "source": [
    "nwm_reach_id = nwm_reach_id\n",
    "discharge_cms = df['streamflow_m3 s-1'].max()\n",
    "\n",
    "print(\"\\nTest HydroID reach stages:\\n\")\n",
    "res = fim_utils.get_stage_for_all_hydroids_in_reach(nwm_reach_id, discharge_cms)\n",
    "print(f'{\"NHD FeatureID\":^15}  {\"HydroID\":^15}  {\"Input CMS\":^15}  {\"Output Stage\":^15}')\n",
    "print(f'{\"===============\":15}  {\"===============\":15}  {\"===============\":15}  {\"===============\":15}')\n",
    "for k,v in res.items():\n",
    "    print(f'{nwm_reach_id:<15}  {k:<15}  {discharge_cms:<15}  {v:<15}')"
   ]
  },
  {
   "cell_type": "markdown",
   "id": "a6ddf84d-7497-4777-8f02-ee5d07aca2c9",
   "metadata": {},
   "source": [
    "#### Plot selected HydroID"
   ]
  },
  {
   "cell_type": "code",
   "execution_count": 13,
   "id": "c178f1f5-62e7-48ee-84c0-61c54ac4a2c5",
   "metadata": {},
   "outputs": [],
   "source": [
    "### TODO"
   ]
  },
  {
   "cell_type": "markdown",
   "id": "e06af6d8-249e-4a1b-8c3e-4422887136e5",
   "metadata": {
    "tags": []
   },
   "source": [
    "## 4. Compute Flood Inundation Extent"
   ]
  },
  {
   "cell_type": "code",
   "execution_count": 14,
   "id": "dca78f6b-7659-4d60-8f46-7561382f3b4f",
   "metadata": {
    "tags": []
   },
   "outputs": [
    {
     "data": {
      "image/png": "[encoded data removed]",
      "text/plain": [
       "<Figure size 1000x500 with 1 Axes>"
      ]
     },
     "metadata": {},
     "output_type": "display_data"
    }
   ],
   "source": [
    "import rasterio as rio\n",
    "\n",
    "with rasterio.open('./gw_catchments_reaches_filtered_addedAttributes_0.tif') as src:\n",
    "    raster_data = src.read(1, masked=True)\n",
    "    transform = src.transform\n",
    "    \n",
    "    plt.figure(figsize=(10, 5))\n",
    "    show(src, title= \"Catchments\")"
   ]
  },
  {
   "cell_type": "code",
   "execution_count": 15,
   "id": "82f5be47-8446-4485-bd1b-b90c18e5796c",
   "metadata": {
    "tags": []
   },
   "outputs": [
    {
     "name": "stdout",
     "output_type": "stream",
     "text": [
      "HydroID: 27670036, Stage (m): 2.383663785213086\n",
      "HydroID: 27670037, Stage (m): 2.365816838453226\n",
      "HydroID: 27670038, Stage (m): 2.284101424736956\n",
      "HydroID: 27670039, Stage (m): 2.2148316564661132\n",
      "Masked raster created successfully.\n"
     ]
    }
   ],
   "source": [
    "input_raster = \"gw_catchments_reaches_filtered_addedAttributes_0.tif\"\n",
    "output_masked_raster = \"./stage_mask.tif\"\n",
    " \n",
    "fim_utils.create_masked_stage_rasters(input_raster, output_masked_raster, res)\n"
   ]
  },
  {
   "cell_type": "code",
   "execution_count": 16,
   "id": "a1d3d95b-55a7-45fb-a1be-d831524a5627",
   "metadata": {
    "tags": []
   },
   "outputs": [
    {
     "data": {
      "image/png": "[encoded data removed]",
      "text/plain": [
       "<Figure size 1000x500 with 1 Axes>"
      ]
     },
     "metadata": {},
     "output_type": "display_data"
    }
   ],
   "source": [
    "with rasterio.open('./stage_mask.tif') as src:\n",
    "    raster_data = src.read(1)\n",
    "    raster_data = raster_data.astype(float)  \n",
    "    raster_data[raster_data == -99999] = np.nan  # raster_data.min() returns -99999\n",
    "    transform = src.transform\n",
    "    \n",
    "    plt.figure(figsize=(10, 5))\n",
    "    show(raster_data, transform=transform, title= \"Stage\")"
   ]
  },
  {
   "cell_type": "code",
   "execution_count": 17,
   "id": "e0a7600a-5584-450c-ad83-2c366195d1a3",
   "metadata": {
    "tags": []
   },
   "outputs": [
    {
     "data": {
      "image/png": "[encoded data removed]",
      "text/plain": [
       "<Figure size 1000x500 with 1 Axes>"
      ]
     },
     "metadata": {},
     "output_type": "display_data"
    }
   ],
   "source": [
    "# Open the raster file\n",
    "with rasterio.open('./stage_mask.tif') as src:\n",
    "    raster_data = src.read(1)\n",
    "    raster_data = raster_data.astype(float)\n",
    "    masked_data = ma.masked_equal(raster_data, -99999.0)  # Mask nodata values\n",
    "    transform = src.transform\n",
    "\n",
    "    # Get the extent of the non-NaN values\n",
    "    non_nan_indices = np.where(~masked_data.mask)\n",
    "    xmin, ymin = transform * (non_nan_indices[1].min(), non_nan_indices[0].min())\n",
    "    xmax, ymax = transform * (non_nan_indices[1].max(), non_nan_indices[0].max())\n",
    "\n",
    "    # Plot the non-NaN areas with adjusted extent\n",
    "    plt.figure(figsize=(10, 5))\n",
    "    show(masked_data, transform=transform, extent=(xmin, xmax, ymin, ymax), title=\"Stage (Zoomed In)\")\n",
    "    plt.show()\n"
   ]
  },
  {
   "cell_type": "code",
   "execution_count": 98,
   "id": "4f02e655-83d8-476f-b5a7-563c9edde40c",
   "metadata": {},
   "outputs": [
    {
     "name": "stdout",
     "output_type": "stream",
     "text": [
      "0.0 991.871826171875\n",
      "2.214831590652466 2.3836638927459717\n",
      "-999999.0 100990.875\n",
      "-1250540.590564116 -1187800.590564116\n"
     ]
    }
   ],
   "source": [
    "hand_raster = \"rem_zeroed_masked_0.tif\"\n",
    "stage_raster = \"stage_mask.tif\"\n",
    "output_masked_raster = \"flood_map.tif\"\n",
    "\n",
    "fim_utils.create_masked_flood_inundation(hand_raster, stage_raster, output_masked_raster)\n"
   ]
  },
  {
   "cell_type": "code",
   "execution_count": 99,
   "id": "8c971e72-2644-4e73-9df5-55f131706c81",
   "metadata": {},
   "outputs": [
    {
     "data": {
      "image/png": "[encoded data removed]",
      "text/plain": [
       "<Figure size 1000x500 with 1 Axes>"
      ]
     },
     "metadata": {},
     "output_type": "display_data"
    }
   ],
   "source": [
    "with rasterio.open('./flood_map.tif') as src:\n",
    "    raster_data = src.read(1)\n",
    "    transform = src.transform\n",
    "    \n",
    "    plt.figure(figsize=(10, 5))\n",
    "    show(raster_data, transform=transform, title= \"Inundation Map\")"
   ]
  },
  {
   "cell_type": "code",
   "execution_count": null,
   "id": "a1aa2a6b-565c-46b1-8813-1e0cf7acda20",
   "metadata": {},
   "outputs": [],
   "source": []
  },
  {
   "cell_type": "code",
   "execution_count": null,
   "id": "a16772e5-f1de-4eee-8336-ce9704cf4daf",
   "metadata": {},
   "outputs": [],
   "source": []
  },
  {
   "cell_type": "code",
   "execution_count": null,
   "id": "b250e768-19c8-454f-aa00-d4f9ac494a2c",
   "metadata": {},
   "outputs": [],
   "source": []
  },
  {
   "cell_type": "code",
   "execution_count": null,
   "id": "ddf33baf-4b11-422a-9573-90c3635adbf7",
   "metadata": {},
   "outputs": [],
   "source": []
  },
  {
   "cell_type": "code",
   "execution_count": null,
   "id": "8d701152-6586-4cce-93d3-695025ff4bfe",
   "metadata": {},
   "outputs": [],
   "source": []
  },
  {
   "cell_type": "code",
   "execution_count": null,
   "id": "160b899b-4cc6-4d0f-9095-5eb0c960ac58",
   "metadata": {},
   "outputs": [],
   "source": []
  },
  {
   "cell_type": "code",
   "execution_count": null,
   "id": "12ba009a-9e1f-4cdf-9135-9fab22e625bd",
   "metadata": {},
   "outputs": [],
   "source": []
  },
  {
   "cell_type": "markdown",
   "id": "5fe9a8c0-87f7-4d0a-a5ca-08b2b241414d",
   "metadata": {
    "jp-MarkdownHeadingCollapsed": true,
    "tags": []
   },
   "source": [
    "## The following codes are just tests. They need to be removed later."
   ]
  },
  {
   "cell_type": "code",
   "execution_count": 23,
   "id": "6fab20a6-25c7-4db7-a64a-f434386f8572",
   "metadata": {},
   "outputs": [],
   "source": [
    "# !gdal_polygonize.py flood_map.tif -f \"ESRI Shapefile\" flood_extent.shp flood\n"
   ]
  },
  {
   "cell_type": "code",
   "execution_count": 24,
   "id": "55cb546f-f76a-4b22-9b24-c73e2b816e47",
   "metadata": {},
   "outputs": [],
   "source": [
    "# !gdal_calc.py -A ./flood_map.tif --outfile=./flood_map_1m.tif --calc=\"A<=1\" "
   ]
  },
  {
   "cell_type": "code",
   "execution_count": 25,
   "id": "d3f5ddb8-d914-4237-b4d9-7785594543d7",
   "metadata": {},
   "outputs": [],
   "source": [
    "# # Open the raster file\n",
    "# with rasterio.open('./flood_map.tif') as src:\n",
    "#     raster_data = src.read(1)\n",
    "#     raster_data = raster_data.astype(float)\n",
    "#     masked_data = ma.masked_equal(raster_data, -99999.0)  # Mask nodata values\n",
    "#     transform = src.transform\n",
    "#     profile = src.profile  # Get the metadata profile from the source raster\n",
    "\n",
    "# # Create a new GeoTIFF file and write the masked data\n",
    "# output_file = './masked_floodmap_1m.tif'\n",
    "# with rasterio.open(output_file, 'w', **profile) as dst:\n",
    "#     dst.write(masked_data.filled(-99999.0), 1)  # Fill masked values with -99999.0 and write to the new file\n"
   ]
  },
  {
   "cell_type": "code",
   "execution_count": 101,
   "id": "129a38ee-5acc-46f4-876b-1c5e6aa62ac3",
   "metadata": {},
   "outputs": [
    {
     "name": "stdout",
     "output_type": "stream",
     "text": [
      "1.0\n",
      "5.0\n"
     ]
    }
   ],
   "source": [
    "import numpy as np\n",
    "\n",
    "# Example data with floats\n",
    "data = np.array([1.0, 2.0, -99999.0, 4.0, 5.0])\n",
    "\n",
    "# Replace -99999 with NaN\n",
    "result = np.where(data == -99999.0, np.nan, data)\n",
    "\n",
    "# When using np.where with np.nan to replace values in a NumPy array. \n",
    "# When a NaN value is introduced into an array, it can affect subsequent calculations, \n",
    "# such as finding the minimum and maximum values.\n",
    "# Filter out NaN values. \n",
    "result_filtered = result[~np.isnan(result)]\n",
    "\n",
    "# Check min and max of filtered array\n",
    "print(result_filtered.min())  # Should print 1.0\n",
    "print(result_filtered.max())  # Should print 5.0\n",
    "\n"
   ]
  },
  {
   "cell_type": "code",
   "execution_count": 4,
   "id": "6abfb7cf-19d7-41d3-b96f-00d30956ef4b",
   "metadata": {},
   "outputs": [
    {
     "name": "stdout",
     "output_type": "stream",
     "text": [
      "Masked raster created successfully.\n"
     ]
    }
   ],
   "source": [
    "import numpy as np\n",
    "from osgeo import gdal\n",
    "\n",
    "def create_masked_raster(input_raster, output_masked_raster, hydroID, stage):\n",
    "    # Open the input raster file (in our case this is the catchments raster file)\n",
    "    ds = gdal.Open(input_raster)\n",
    "    if ds is None:\n",
    "        print(\"Could not open input raster file\")\n",
    "        return\n",
    "    \n",
    "    # Read raster band as a numpy array\n",
    "    band = ds.GetRasterBand(1)\n",
    "    arr = band.ReadAsArray()\n",
    "    \n",
    "    # Create a mask for the target value\n",
    "    mask = np.where(arr == hydroID, stage, -99999)  #####  GeoTIFF format does not support NaN directly. So, np.nan and 0 are not different!! \n",
    "    \n",
    "    # Create a new raster with the mask\n",
    "    driver = gdal.GetDriverByName(\"GTiff\")\n",
    "    out_ds = driver.Create(output_masked_raster, ds.RasterXSize, ds.RasterYSize, 1, gdal.GDT_Byte)\n",
    "    out_ds.SetProjection(ds.GetProjection())\n",
    "    out_ds.SetGeoTransform(ds.GetGeoTransform())\n",
    "    out_band = out_ds.GetRasterBand(1)\n",
    "    out_band.WriteArray(mask)\n",
    "    \n",
    "    # Close the datasets\n",
    "    ds = None\n",
    "    out_ds = None\n",
    "    \n",
    "    print(\"Masked raster created successfully.\")\n",
    "\n",
    "# Example usage\n",
    "input_raster = \"gw_catchments_reaches_filtered_addedAttributes_0.tif\"\n",
    "output_masked_raster = \"./output_masked.tif\"\n",
    "hydroID = 27670095\n",
    "stage = 3\n",
    "create_masked_raster(input_raster, output_masked_raster, hydroID, stage)\n"
   ]
  },
  {
   "cell_type": "code",
   "execution_count": 7,
   "id": "694d6b70-9341-4a1a-a459-139420689c3f",
   "metadata": {},
   "outputs": [
    {
     "name": "stdout",
     "output_type": "stream",
     "text": [
      "Subtraction result saved to output_subtraction.tif\n"
     ]
    },
    {
     "name": "stderr",
     "output_type": "stream",
     "text": [
      "2024-03-12 21:28:48,771 - distributed.nanny - WARNING - Restarting worker\n",
      "2024-03-12 21:28:48,783 - distributed.nanny - WARNING - Restarting worker\n",
      "2024-03-12 21:28:48,887 - distributed.nanny - WARNING - Restarting worker\n",
      "2024-03-12 21:28:49,194 - distributed.nanny - WARNING - Restarting worker\n",
      "2024-03-12 21:28:50,203 - distributed.nanny - WARNING - Restarting worker\n",
      "2024-03-12 21:28:50,637 - distributed.diskutils - INFO - Found stale lock file and directory '/tmp/dask-worker-space/worker-g83b7lgz', purging\n"
     ]
    }
   ],
   "source": [
    "import rasterio\n",
    "import numpy as np\n",
    "\n",
    "# Open the two input raster files\n",
    "input_raster1 = 'rem_zeroed_masked_0.tif'  \n",
    "input_raster2 = 'output_masked.tif'  \n",
    "\n",
    "with rasterio.open(input_raster1) as src1, rasterio.open(input_raster2) as src2:\n",
    "    hand = src1.read(1, masked=True)\n",
    "    stage = src2.read(1, masked=True)\n",
    "    \n",
    "    # Perform subtraction and handle NaN values\n",
    "    result = np.where(stage.mask, np.nan, hand - stage)\n",
    "    threshold = -0.000000000000000000001  # Adjust the threshold as needed based on your data\n",
    "    result = np.where(result < threshold, 1, 0)\n",
    "\n",
    "    # Define the output raster metadata based on one of the input rasters\n",
    "    profile = src1.profile  # Using profile from input_raster1\n",
    "    profile.update(dtype=rasterio.float32, nodata=np.nan)  # Update data type and nodata value\n",
    "    \n",
    "    # Update metadata with actual data range for better visualization\n",
    "    profile['min'] = float(result.min())\n",
    "    profile['max'] = float(result.max())\n",
    "\n",
    "# Write the result to a new raster file\n",
    "output_raster = 'output_subtraction.tif'  # Modify with your desired output file path\n",
    "with rasterio.open(output_raster, 'w', **profile) as dst:\n",
    "    dst.write(result.astype(rasterio.float32), 1)\n",
    "\n",
    "print(f\"Subtraction result saved to {output_raster}\")\n"
   ]
  },
  {
   "cell_type": "code",
   "execution_count": 80,
   "id": "1f23867c-6757-4c52-98ee-8f972eac6a5d",
   "metadata": {},
   "outputs": [
    {
     "data": {
      "image/png": "[encoded data removed]",
      "text/plain": [
       "<Figure size 1000x500 with 1 Axes>"
      ]
     },
     "metadata": {},
     "output_type": "display_data"
    }
   ],
   "source": [
    "with rasterio.open('./output_subtraction.tif') as dsp:\n",
    "    data = dsp.read(1)\n",
    "    transform = dsp.transform   \n",
    "    plt.figure(figsize=(10, 5))\n",
    "    show(data, transform=transform, title=\"Inundation\")"
   ]
  },
  {
   "cell_type": "markdown",
   "id": "85e958e6-7591-4fcf-8e45-c424d2bdf193",
   "metadata": {
    "jp-MarkdownHeadingCollapsed": true,
    "tags": []
   },
   "source": [
    "Add a new band to a tif file\n"
   ]
  },
  {
   "cell_type": "code",
   "execution_count": 81,
   "id": "ffc0e17f-e335-4204-8e36-37108dae2f3e",
   "metadata": {},
   "outputs": [
    {
     "name": "stdout",
     "output_type": "stream",
     "text": [
      "New band added and saved to new_file.tif\n"
     ]
    }
   ],
   "source": [
    "# Open the HAND GeoTIFF file in read mode\n",
    "existing_file = 'rem_zeroed_masked_0.tif'\n",
    "with rasterio.open(existing_file, 'r') as src:\n",
    "    # Read the existing band data\n",
    "    existing_band = src.read(1)\n",
    "\n",
    "    # Get metadata from the existing file\n",
    "    profile = src.profile\n",
    "\n",
    "# Add the catchment mask tif \n",
    "\n",
    "# Create a new band with stage values \n",
    "\n",
    "\n",
    "    \n",
    "# Create a new band with desired data (e.g., all zeros for demonstration)\n",
    "new_band_data = np.zeros_like(existing_band)\n",
    "\n",
    "# Update the profile for the new band\n",
    "profile.update(count=2, dtype=rasterio.float32)  # Update band count and data type as needed\n",
    "\n",
    "# Open a new GeoTIFF file in write mode and write the existing and new bands\n",
    "new_file = 'new_file.tif'\n",
    "with rasterio.open(new_file, 'w', **profile) as dst:\n",
    "    # Write the existing band\n",
    "    dst.write(existing_band, 1)\n",
    "\n",
    "    # Write the new band\n",
    "    dst.write(new_band_data, 2)\n",
    "\n",
    "print(f\"New band added and saved to {new_file}\")"
   ]
  },
  {
   "cell_type": "code",
   "execution_count": null,
   "id": "dfa2e7d1-520d-4248-93a7-534f0ac01f1a",
   "metadata": {},
   "outputs": [],
   "source": [
    "with rasterio.open('new_file.tif', 'r') as src:\n",
    "    # Read the existing band data\n",
    "    existing_band = src.read(1)"
   ]
  },
  {
   "cell_type": "markdown",
   "id": "412adad4-4813-4451-9b51-3c5c0ba47a7d",
   "metadata": {
    "jp-MarkdownHeadingCollapsed": true,
    "tags": []
   },
   "source": [
    "Save geotif as netcdf"
   ]
  },
  {
   "cell_type": "code",
   "execution_count": 85,
   "id": "b7b11689-8537-41b4-95f7-d4a400729666",
   "metadata": {},
   "outputs": [
    {
     "name": "stdout",
     "output_type": "stream",
     "text": [
      "NetCDF file saved to output.nc\n"
     ]
    }
   ],
   "source": [
    "import xarray as xr\n",
    "import rasterio\n",
    "from rasterio.enums import Resampling\n",
    "\n",
    "# Open the two-band GeoTIFF file\n",
    "input_tif = 'new_file.tif'  # Update with your file path\n",
    "with rasterio.open(input_tif) as src:\n",
    "    # Read bands as numpy arrays\n",
    "    band1 = src.read(1)\n",
    "    band2 = src.read(2)\n",
    "\n",
    "    # Get spatial information from the GeoTIFF\n",
    "    transform = src.transform\n",
    "    crs_str = src.crs.to_proj4()\n",
    "\n",
    "    # Create xarray DataArray for each band\n",
    "    da_band1 = xr.DataArray(band1, dims=('y', 'x'), attrs={'crs': crs})\n",
    "    da_band2 = xr.DataArray(band2, dims=('y', 'x'), attrs={'crs': crs})\n",
    "\n",
    "    # Create xarray DataArray for each band\n",
    "    da_band1 = xr.DataArray(band1, dims=('y', 'x'), attrs={'crs': crs_str})\n",
    "    da_band2 = xr.DataArray(band2, dims=('y', 'x'), attrs={'crs': crs_str})\n",
    "\n",
    "    # Combine bands into a Dataset\n",
    "    ds = xr.Dataset({'band1': da_band1, 'band2': da_band2})\n",
    "\n",
    "    # Set spatial information in the Dataset\n",
    "    ds.attrs['transform'] = transform\n",
    "\n",
    "    # Save the Dataset as NetCDF file\n",
    "    output_nc = 'output.nc'  # Output NetCDF file path\n",
    "    ds.to_netcdf(output_nc)\n",
    "\n",
    "print(f\"NetCDF file saved to {output_nc}\")\n"
   ]
  },
  {
   "cell_type": "code",
   "execution_count": 86,
   "id": "cdcba6ca-9981-4537-aa53-6eb73fb7fb8f",
   "metadata": {},
   "outputs": [],
   "source": [
    "nc = xarray.open_dataset('./output.nc')"
   ]
  },
  {
   "cell_type": "code",
   "execution_count": 89,
   "id": "f54e4c09-d0b1-4bdd-8b2c-5ee508dc0cbb",
   "metadata": {},
   "outputs": [
    {
     "data": {
      "text/plain": [
       "<matplotlib.collections.QuadMesh at 0x7ce095b52e00>"
      ]
     },
     "execution_count": 89,
     "metadata": {},
     "output_type": "execute_result"
    },
    {
     "data": {
      "image/png": "[encoded data removed]",
      "text/plain": [
       "<Figure size 640x480 with 2 Axes>"
      ]
     },
     "metadata": {},
     "output_type": "display_data"
    }
   ],
   "source": [
    "nc.band1.plot()"
   ]
  },
  {
   "cell_type": "markdown",
   "id": "99b97767-c446-4561-976c-4e361cf9a0d9",
   "metadata": {
    "jp-MarkdownHeadingCollapsed": true,
    "tags": []
   },
   "source": [
    "Define functions"
   ]
  },
  {
   "cell_type": "code",
   "execution_count": 2,
   "id": "3a815a4e-1be0-47c7-88f5-78fedb82b030",
   "metadata": {},
   "outputs": [],
   "source": [
    "def interpolate_y(df, x_column, y_column, x_value):\n",
    "    # Sort the DataFrame by the 'x' column to ensure interpolation works correctly\n",
    "    df_sorted = df.sort_values(by=x_column)\n",
    "    \n",
    "    # Check if the x_value is within the range of the DataFrame\n",
    "    if x_value < df_sorted[x_column].min() or x_value > df_sorted[x_column].max():\n",
    "        return None  # x_value is out of range, cannot interpolate\n",
    "    \n",
    "    # Perform linear interpolation\n",
    "    f = interpolate.interp1d(df_sorted[x_column], df_sorted[y_column], kind='linear')\n",
    "    \n",
    "    # Return the interpolated y value for the given x value\n",
    "    return f(x_value)\n",
    "\n",
    "\n",
    "# Function to perform raster calculation \n",
    "def raster_calculation(input_raster, output_raster, constant_value):\n",
    "    with rasterio.open(input_raster) as src:\n",
    "        # Read raster data\n",
    "        raster_data = src.read(1)\n",
    "        # Perform raster calculation\n",
    "        result = raster_data - constant_value\n",
    "\n",
    "        # Update metadata\n",
    "        meta = src.meta\n",
    "        meta.update(dtype=rasterio.float32)\n",
    "\n",
    "        # Write the result to a new raster file\n",
    "        with rasterio.open(output_raster, 'w', **meta) as dst:\n",
    "            dst.write(result.astype(rasterio.float32), 1)\n",
    "            \n",
    "            \n",
    "# def raster_to_polygon(input_raster, output_polygon):\n",
    "#     # Run gdal_polygonize.py as a subprocess\n",
    "#     subprocess.call([\"gdal_polygonize.py\", input_raster, \"-b\", \"1\", \"-f\", \"ESRI Shapefile\", output_polygon, output_polygon, \"COMID\"])\n"
   ]
  },
  {
   "cell_type": "code",
   "execution_count": null,
   "id": "f1728611-f8a9-4ab2-a13d-6195d86f7120",
   "metadata": {},
   "outputs": [],
   "source": []
  },
  {
   "cell_type": "code",
   "execution_count": null,
   "id": "ea8f2545-039d-4e0e-8368-a37a8ab26999",
   "metadata": {},
   "outputs": [],
   "source": []
  }
 ],
 "metadata": {
  "kernelspec": {
   "display_name": "Python 3 (ipykernel)",
   "language": "python",
   "name": "python3"
  },
  "language_info": {
   "codemirror_mode": {
    "name": "ipython",
    "version": 3
   },
   "file_extension": ".py",
   "mimetype": "text/x-python",
   "name": "python",
   "nbconvert_exporter": "python",
   "pygments_lexer": "ipython3",
   "version": "3.10.8"
  }
 },
 "nbformat": 4,
 "nbformat_minor": 5
}
