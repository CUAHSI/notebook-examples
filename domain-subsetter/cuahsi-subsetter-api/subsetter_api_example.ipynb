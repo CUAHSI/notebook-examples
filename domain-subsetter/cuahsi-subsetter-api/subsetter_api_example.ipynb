{
 "cells": [
  {
   "cell_type": "code",
   "execution_count": null,
   "id": "aaaee02d-4225-4e00-add7-b1c5a6c69545",
   "metadata": {
    "tags": []
   },
   "outputs": [],
   "source": [
    "import json\n",
    "import time\n",
    "import shutil\n",
    "import requests"
   ]
  },
  {
   "cell_type": "code",
   "execution_count": null,
   "id": "6ac01399-33ef-4c64-982a-5d3d2a70ebae",
   "metadata": {
    "tags": []
   },
   "outputs": [],
   "source": [
    "# bounding box using WRFHydro's Lambert Conformal Conic variant projection\n",
    "llat=571663.2008999996\n",
    "ulat=591703.6239999996\n",
    "llon=2011337.7544\n",
    "ulon=2029842.1457"
   ]
  },
  {
   "cell_type": "code",
   "execution_count": null,
   "id": "c8420adb-b992-453a-9c99-4a526c6391dd",
   "metadata": {
    "tags": []
   },
   "outputs": [],
   "source": [
    "# submit a job via bounding box\n",
    "submit_url = f'https://subset.cuahsi.org/nwm/v2_0/subset?llat={llat}&llon={llon}&ulat={ulat}&ulon={ulon}&hucs=[]'\n",
    "res = requests.get(submit_url)\n",
    "assert res.status_code == 200"
   ]
  },
  {
   "cell_type": "code",
   "execution_count": null,
   "id": "cba4dd9a-7aa0-4141-afa5-9f3dc43ad032",
   "metadata": {
    "tags": []
   },
   "outputs": [],
   "source": [
    "# grab the job identifier\n",
    "uid = res.url.split('jobid=')[-1]"
   ]
  },
  {
   "cell_type": "code",
   "execution_count": null,
   "id": "6f0f95f3-5be1-4391-9c15-5e2b7d5d5b3b",
   "metadata": {
    "tags": []
   },
   "outputs": [],
   "source": [
    "# query job status\n",
    "status_url = f'https://subset.cuahsi.org/jobs/{uid}'\n",
    "\n",
    "attempt = 0\n",
    "max_attempts = 100\n",
    "while attempt < max_attempts:\n",
    "    res = requests.get(status_url)\n",
    "    status = json.loads(res.text)['status']\n",
    "    if status == 'finished':\n",
    "        break\n",
    "    attempt += 1\n",
    "    time.sleep(5)\n",
    "    "
   ]
  },
  {
   "cell_type": "code",
   "execution_count": null,
   "id": "37d99410-877b-40b7-856b-e7dbd5b590c4",
   "metadata": {
    "tags": []
   },
   "outputs": [],
   "source": [
    "# download the result\n",
    "dl_url = f'https://subset.cuahsi.org/download-gzip/{uid}'\n",
    "#dl_url = f'https://subset.cuahsi.org/download-zip/{uid}'\n",
    "\n",
    "local_filename = f'{uid}.tar.gz'\n",
    "with requests.get(dl_url, stream=True) as r:\n",
    "    with open(local_filename, 'wb') as f:\n",
    "        shutil.copyfileobj(r.raw, f)"
   ]
  },
  {
   "cell_type": "code",
   "execution_count": null,
   "id": "c6b7da31-3656-4a66-9423-f66baea3ae99",
   "metadata": {
    "tags": []
   },
   "outputs": [],
   "source": [
    "!tar -xzvf \"$uid\".tar.gz"
   ]
  },
  {
   "cell_type": "code",
   "execution_count": null,
   "id": "c22ab64c-dbac-4c69-bb82-6fbf483cb436",
   "metadata": {},
   "outputs": [],
   "source": []
  }
 ],
 "metadata": {
  "kernelspec": {
   "display_name": "Python 3 (ipykernel)",
   "language": "python",
   "name": "python3"
  },
  "language_info": {
   "codemirror_mode": {
    "name": "ipython",
    "version": 3
   },
   "file_extension": ".py",
   "mimetype": "text/x-python",
   "name": "python",
   "nbconvert_exporter": "python",
   "pygments_lexer": "ipython3",
   "version": "3.11.3"
  }
 },
 "nbformat": 4,
 "nbformat_minor": 5
}
