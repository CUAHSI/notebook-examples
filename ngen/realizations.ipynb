{
 "cells": [
  {
   "cell_type": "markdown",
   "id": "910df454-b675-4283-9ab7-7e4b4637d308",
   "metadata": {},
   "source": [
    "### Testing Realization Parameters"
   ]
  },
  {
   "cell_type": "code",
   "execution_count": 1,
   "id": "25404f0e-2c06-4487-9c5e-bb4d2743ffa1",
   "metadata": {},
   "outputs": [],
   "source": [
    "import json\n",
    "import fiona\n",
    "import geopandas\n",
    "from collections import OrderedDict"
   ]
  },
  {
   "cell_type": "code",
   "execution_count": 2,
   "id": "d0d961e7-e1a8-4992-8323-8d9480119846",
   "metadata": {},
   "outputs": [],
   "source": [
    "gpkg = 'cat-679069/cat-679069_upstream_subset.gpkg'"
   ]
  },
  {
   "cell_type": "code",
   "execution_count": 3,
   "id": "f5fd833e-3bbb-4d31-b1bd-9dc16c163d7c",
   "metadata": {
    "tags": []
   },
   "outputs": [
    {
     "data": {
      "text/plain": [
       "['flowpaths',\n",
       " 'divides',\n",
       " 'nexus',\n",
       " 'crosswalk',\n",
       " 'flowpath_edge_list',\n",
       " 'flowpath_attributes',\n",
       " 'cfe_noahowp_attributes',\n",
       " 'forcing_metadata']"
      ]
     },
     "execution_count": 3,
     "metadata": {},
     "output_type": "execute_result"
    }
   ],
   "source": [
    "fiona.listlayers(gpkg)"
   ]
  },
  {
   "cell_type": "code",
   "execution_count": 4,
   "id": "2885ec72-55e8-4cd2-a0ab-a83071d23696",
   "metadata": {
    "tags": []
   },
   "outputs": [],
   "source": [
    "flowpaths = geopandas.read_file(gpkg, layer='flowpaths')\n",
    "#flowpaths.dtypes"
   ]
  },
  {
   "cell_type": "code",
   "execution_count": 5,
   "id": "fe40527b-e423-412c-9341-acfb529bfb72",
   "metadata": {
    "tags": []
   },
   "outputs": [],
   "source": [
    "divides = geopandas.read_file(gpkg, layer='divides')\n",
    "#divides.dtypes"
   ]
  },
  {
   "cell_type": "code",
   "execution_count": 6,
   "id": "135cc5b4-431a-4c19-bc5a-0f6e5408d9bd",
   "metadata": {
    "tags": []
   },
   "outputs": [],
   "source": [
    "nexus = geopandas.read_file(gpkg, layer='nexus')\n",
    "#nexus.dtypes"
   ]
  },
  {
   "cell_type": "code",
   "execution_count": 7,
   "id": "3facd7bc-9fef-40e2-bca2-fe3b3b9ed137",
   "metadata": {
    "tags": []
   },
   "outputs": [],
   "source": [
    "crosswalk = geopandas.read_file(gpkg, layer='crosswalk')\n",
    "#crosswalk.dtypes"
   ]
  },
  {
   "cell_type": "code",
   "execution_count": 8,
   "id": "0b8abb42-e371-4b7c-881f-b01a60474532",
   "metadata": {
    "tags": []
   },
   "outputs": [],
   "source": [
    "flowpath_edge_list = geopandas.read_file(gpkg, layer='flowpath_edge_list')\n",
    "#flowpath_edge_list.dtypes"
   ]
  },
  {
   "cell_type": "code",
   "execution_count": 9,
   "id": "fec2404e-affa-49d9-bf35-acc9c75b8ebc",
   "metadata": {
    "tags": []
   },
   "outputs": [],
   "source": [
    "flowpath_attributes = geopandas.read_file(gpkg, layer='flowpath_attributes')\n",
    "#flowpath_attributes.dtypes"
   ]
  },
  {
   "cell_type": "code",
   "execution_count": 10,
   "id": "522561d5-20fd-4ff2-9723-fc801d819428",
   "metadata": {
    "tags": []
   },
   "outputs": [],
   "source": [
    "cfe_noahowp_attributes = geopandas.read_file(gpkg, layer='cfe_noahowp_attributes')\n",
    "#cfe_noahowp_attributes.dtypes"
   ]
  },
  {
   "cell_type": "code",
   "execution_count": 12,
   "id": "f8fcebea-ed22-4da0-9847-9f9c57746dca",
   "metadata": {
    "tags": []
   },
   "outputs": [],
   "source": [
    "forcing_metadata = geopandas.read_file(gpkg, layer='forcing_metadata')\n",
    "#forcing_metadata.dtypes"
   ]
  },
  {
   "cell_type": "code",
   "execution_count": 13,
   "id": "9081d6e5-6b4b-464e-8f4d-e655e54739ae",
   "metadata": {},
   "outputs": [],
   "source": [
    "# Sample Data\n",
    "# ───────┬─────────────────────────────────────────────────────────────────────────────\n",
    "#        │ File: awi_config.ini\n",
    "# ───────┼─────────────────────────────────────────────────────────────────────────────\n",
    "#    1   │ forcing_file=BMI\n",
    "#    2   │ surface_partitioning_scheme=Schaake\n",
    "#    3   │ soil_params.depth=2.0[m]\n",
    "#    4   │ soil_params.b=8.93396282196045[]\n",
    "#    5   │ soil_params.satdk=3.19069084890877e-05[m s-1]\n",
    "#    6   │ soil_params.satpsi=3.98730560956446[m]\n",
    "#    7   │ soil_params.slop=0.057029859113015[m/m]\n",
    "#    8   │ soil_params.smcmax=0.401686143900526[m/m]\n",
    "#    9   │ soil_params.wltsmc=0.048334490431746[m/m]\n",
    "#   10   │ soil_params.expon=1.0[]\n",
    "#   11   │ soil_params.expon_secondary=1.0[]\n",
    "#   12   │ refkdt=3.72730851635058\n",
    "#   13   │ max_gw_storage=0.016[m]\n",
    "#   14   │ Cgw=0.0018[m h-1]\n",
    "#   15   │ expon=6.0[]\n",
    "#   16   │ gw_storage=0.05[m/m]\n",
    "#   17   │ alpha_fc=0.33\n",
    "#   18   │ soil_storage=0.05[m/m]\n",
    "#   19   │ K_nash=0.03[]\n",
    "#   20   │ K_lf=0.01[]\n",
    "#   21   │ nash_storage=0.0,0.0\n",
    "#   22   │ num_timesteps=1\n",
    "#   23   │ verbosity=1\n",
    "#   24   │ DEBUG=0\n",
    "#   25   │ giuh_ordinates=1.00,0.00"
   ]
  },
  {
   "cell_type": "code",
   "execution_count": null,
   "id": "087765f8-927a-44d6-a486-99e3ace1427e",
   "metadata": {},
   "outputs": [],
   "source": []
  },
  {
   "cell_type": "code",
   "execution_count": 14,
   "id": "dbd1e94a-d05a-466c-af35-54aa999f2a1a",
   "metadata": {},
   "outputs": [],
   "source": [
    "# reference doc\n",
    "# https://github.com/NOAA-OWP/ngen/blob/master/doc/REALIZATION_CONFIGURATION.md\n",
    "catchment_configs = {}\n",
    "for idx, row in cfe_noahowp_attributes.iterrows():\n",
    "    d = OrderedDict()\n",
    "    \n",
    "    # static parameters\n",
    "    d['forcing_file']='BMI'\n",
    "    d['surface_partitioning_scheme']='Schaake'\n",
    "\n",
    "    # ----------------    \n",
    "    # State Parameters\n",
    "    # ----------------\n",
    "\n",
    "    # soil depth\n",
    "    d['soil_params.depth']='2.0[m]'\n",
    "\n",
    "    # many of these values are taken from the 2m depth in hydrofabrics cfe_noahowp_attributes\n",
    "    d['soil_params.b']=f'{row[\"bexp_soil_layers_stag=2\"]}[]' # \tbeta exponent on Clapp-Hornberger (1978) soil water relations\n",
    "\n",
    "    # saturated hydraulic conductivity\n",
    "    d['soil_params.satdk']=f'{row[\"dksat_soil_layers_stag=2\"]}[m s-1]' \n",
    "    \n",
    "    # saturated capillary head\n",
    "    d['soil_params.satpsi']=f'{row[\"psisat_soil_layers_stag=2\"]}[m]'\n",
    "    \n",
    "    # this factor (0-1) modifies the gradient of the hydraulic head at the soil bottom. 0=no-flow.\n",
    "    d['soil_params.slop']=f'{row[\"slope\"]}[m/m]'\n",
    "    \n",
    "    # saturated soil moisture content\n",
    "    d['soil_params.smcmax']=f'{row[\"smcmax_soil_layers_stag=2\"]}[m/m]'\n",
    "    \n",
    "    # wilting point soil moisture content\n",
    "    d['soil_params.wltsmc']=f'{row[\"smcwlt_soil_layers_stag=2\"]}[m/m]'\n",
    "    \n",
    "    # ---------------------    \n",
    "    # Adjustable Parameters\n",
    "    # ---------------------\n",
    "    \n",
    "    # optional; defaults to 1.0\n",
    "    d['soil_params.expon']=f'{row[\"gw_Expon\"]}[]' if row[\"gw_Expon\"] is not None else '1.0[]'\n",
    "    \n",
    "    # optional; defaults to 1.0 \n",
    "    # not sure if this is the correct key\n",
    "    d['soil_params.expon_secondary']=f'{row[\"gw_Coeff\"]}[]' if row[\"gw_Coeff\"] is not None else '1.0[]'\n",
    "    \n",
    "    # maximum storage in the conceptual reservoir\n",
    "    d['max_gw_storage']=f'{row[\"gw_Zmax\"]}[m]' if row[\"gw_Zmax\"] is not None else '0.011[m]'\n",
    "\n",
    "     # primary outlet coefficient\n",
    "    d['Cgw']='0.0018[m h-1]'\n",
    "\n",
    "    # exponent parameter (1.0 for linear reservoir)\n",
    "    d['expon']='6.0[]' \n",
    "\n",
    "    # initial condition for groundwater reservoir - it is the ground water as a \n",
    "    # decimal fraction of the maximum groundwater storage (max_gw_storage) for the initial timestep\n",
    "    d['gw_storage']='0.05[m/m]'\n",
    "\n",
    "    # field capacity\n",
    "    d['alpha_fc']='0.33' \n",
    "    \n",
    "    # initial condition for soil reservoir - it is the water in the soil as a \n",
    "    # decimal fraction of maximum soil water storage (smcmax * depth) for the initial timestep\n",
    "    d['soil_storage']='0.05[m/m]' \n",
    "    \n",
    "    # number of Nash lf reservoirs (optional, defaults to 2, ignored if storage values present)\n",
    "    d['K_nash']='0.03[]' \n",
    "    \n",
    "    # Nash Config param - primary reservoir\n",
    "    d['K_lf']='0.01[]' \n",
    "    \n",
    "    # Nash Config param - secondary reservoir\n",
    "    d['nash_storage']='0.0,0.0' \n",
    "    \n",
    "    # Giuh ordinates in dt time steps\n",
    "    d['giuh_ordinates']='1.00,0.00'\n",
    "    \n",
    "    # ---------------------    \n",
    "    # Time Info\n",
    "    # ---------------------\n",
    "    \n",
    "    \n",
    "    # set to 1 if forcing_file=BMI\n",
    "    d['num_timesteps']='1' \n",
    "    \n",
    "    # ---------------------    \n",
    "    # Options\n",
    "    # ---------------------\n",
    "    \n",
    "    # prints various debug and bmi info\n",
    "    d['verbosity']='1' \n",
    "    \n",
    "    d['DEBUG']='0'\n",
    "    \n",
    "    # Parameter in the surface runoff parameterization (https://mikejohnson51.github.io/hyAggregate/#Routing_Attributes)\n",
    "    d['refkdt']=f'{row[\"refkdt\"]}'\n",
    "    \n",
    "    catchment_configs[row.id] = d\n",
    "    "
   ]
  },
  {
   "cell_type": "code",
   "execution_count": 15,
   "id": "20367262-b743-41fa-a662-cd0e6883ac17",
   "metadata": {},
   "outputs": [],
   "source": [
    "base = 'cat-679069'\n",
    "for name, conf in catchment_configs.items():\n",
    "    with open(f'{base}/{name}_config.ini', 'w') as f:\n",
    "        for k, v in conf.items():\n",
    "            f.write(f'{k}={v}\\n')"
   ]
  },
  {
   "cell_type": "code",
   "execution_count": 119,
   "id": "465d4026-6c7d-42c6-9d1d-f84beae06b29",
   "metadata": {},
   "outputs": [],
   "source": [
    "c = "
   ]
  },
  {
   "cell_type": "code",
   "execution_count": 135,
   "id": "d976e975-7ff2-489c-984f-9a4123743027",
   "metadata": {},
   "outputs": [],
   "source": [
    "class GlobalRealization:\n",
    "    def __init__(self, global_params=None, time=None, routing=None, catchment_realizations=None):\n",
    "        self.global_params = global_params\n",
    "        self.time = time\n",
    "        self.routing = routing\n",
    "        self.catchment_realizations = catchment_realizations\n",
    "    def toJSON(self):\n",
    "        \n",
    "        # construct the object that we want to return\n",
    "        dat = {}\n",
    "        if self.global_params is not None:\n",
    "            dat['global'] = self.global_params\n",
    "        if self.catchment_realizations is not None:\n",
    "            dat.update(json.loads(catchment_realizations.toJSON()))\n",
    "        if self.time is not None:\n",
    "            dat['time'] = self.time\n",
    "        if self.routing is not None:\n",
    "            dat['routing'] = self.routing\n",
    "        \n",
    "        return json.dumps(dat, sort_keys=False, indent=4)\n",
    "\n",
    "class CatchmentRealizations:\n",
    "    def __init__(self):\n",
    "        self.catchments = {}\n",
    "    def add_realization(self, name, realization):\n",
    "        self.catchments[name] = realization\n",
    "    def toJSON(self):\n",
    "        return json.dumps(self, default=lambda o: o.__dict__, \n",
    "            sort_keys=False, indent=4)\n",
    "\n",
    "class Realization:\n",
    "    def __init__(self, formulation, forcing={}):\n",
    "        self.formulations = formulation\n",
    "        self.forcing = forcing\n",
    "    def toJSON(self):\n",
    "        return json.dumps(self, default=lambda o: o.__dict__, \n",
    "            sort_keys=False, indent=4)\n",
    "\n",
    "class Formulation:\n",
    "    def __init__(self, name, params={}, modules=[]):\n",
    "        self.name = name\n",
    "        self.params = params\n",
    "        self.params['modules'] = modules\n",
    "    def add_module(self, module):\n",
    "        self.modules.append(module)\n",
    "    def toJSON(self):\n",
    "        return json.dumps(self, default=lambda o: o.__dict__, \n",
    "            sort_keys=False, indent=4)\n",
    "        \n",
    "class Module:\n",
    "    def __init__(self, name, library_file, registration_function, params={}):\n",
    "        self.name = name\n",
    "        self.library_file = library_file\n",
    "        self.registration_function = registration_function\n",
    "        self.params=params\n",
    "    def toJSON(self):\n",
    "        return json.dumps(self, default=lambda o: o.__dict__, \n",
    "            sort_keys=False, indent=4)"
   ]
  },
  {
   "cell_type": "code",
   "execution_count": 136,
   "id": "352549b5-c644-45b4-a405-7d9db10f9618",
   "metadata": {
    "jupyter": {
     "source_hidden": true
    },
    "tags": []
   },
   "outputs": [],
   "source": [
    "# class Realization:\n",
    "#     def __init__(self, global_params={}, time={}, routing={}, catchments=[]):\n",
    "#         self.global_params = global_params\n",
    "#         self.time = time\n",
    "#         self.routing = routing\n",
    "#         self.catchments = []\n",
    "#     def __add_catchment_realization(self, name, realization):\n",
    "#         self.catchments[name] = realization\n",
    "#     def add_catchment_realization(self, name, formulation_modules=[], formulation_params={}):\n",
    "#         for module in formulation_modules:\n",
    "#             params = formulation_params\n",
    "#             if 'modules' not in params:\n",
    "#                 params['modules'] = []\n",
    "#             params['modules'].append(module)\n",
    "#         return params\n",
    "            \n",
    "        \n",
    "#         self.catchments[name] = realization\n",
    "#     def __create_formulation(self, name, params={}, modules=[]):\n",
    "#         self.name = name\n",
    "#         self.params = params\n",
    "#         self.params['modules'] = modules\n",
    "#     def add_module(self, module):\n",
    "#         self.modules.append(module)\n",
    "        \n",
    "        \n",
    "#     def toJSON(self):\n",
    "#         return json.dumps(self, default=lambda o: o.__dict__, \n",
    "#             sort_keys=False, indent=4)\n",
    "\n",
    "# class CatchmentRealizations:\n",
    "#     def __init__(self):\n",
    "#         self.catchments = {}\n",
    "#     def add_realization(self, name, realization):\n",
    "#         self.catchments[name] = realization\n",
    "#     def toJSON(self):\n",
    "#         return json.dumps(self, default=lambda o: o.__dict__, \n",
    "#             sort_keys=False, indent=4)\n",
    "\n",
    "# class Realization:\n",
    "#     def __init__(self, formulation, forcing={}):\n",
    "#         self.formulations = formulation\n",
    "#         self.forcing = forcing\n",
    "#     def toJSON(self):\n",
    "#         return json.dumps(self, default=lambda o: o.__dict__, \n",
    "#             sort_keys=False, indent=4)\n",
    "\n",
    "# class Formulation:\n",
    "#     def __init__(self, name, params={}, modules=[]):\n",
    "#         self.name = name\n",
    "#         self.params = params\n",
    "#         self.params['modules'] = modules\n",
    "#     def add_module(self, module):\n",
    "#         self.modules.append(module)\n",
    "#     def toJSON(self):\n",
    "#         return json.dumps(self, default=lambda o: o.__dict__, \n",
    "#             sort_keys=False, indent=4)\n",
    "        \n",
    "# class Module:\n",
    "#     def __init__(self, name, library_file, registration_function, params={}):\n",
    "#         self.name = name\n",
    "#         self.library_file = library_file\n",
    "#         self.registration_function = registration_function\n",
    "#         self.params=params\n",
    "#     def toJSON(self):\n",
    "#         return json.dumps(self, default=lambda o: o.__dict__, \n",
    "#             sort_keys=False, indent=4)\n",
    "\n",
    "# def ComplexHandler(Obj):\n",
    "#     if hasattr(Obj, 'toJSON'):\n",
    "#         return Obj.toJSON()\n",
    "#     else:\n",
    "#         raise TypeError\n"
   ]
  },
  {
   "cell_type": "code",
   "execution_count": 139,
   "id": "6fae091b-dbae-4d8a-b822-240d308d51c1",
   "metadata": {},
   "outputs": [],
   "source": [
    "catchment_realizations = CatchmentRealizations()\n",
    "\n",
    "for key, val in catchment_configs.items():\n",
    "    config_name = f'{key}_config.ini'\n",
    "    forcing_file_path = f'../forcing/{key}.csv'\n",
    "    \n",
    "    # CFE\n",
    "    module_params = {\"name\": \"bmi_c\",\n",
    "                     \"model_type_name\": \"CFE\",\n",
    "                     \"main_output_variable\": \"Q_OUT\",\n",
    "                     \"init_config\": f\"{config_name}\",\n",
    "                     \"allow_exceed_end_time\": True,\n",
    "                     \"fixed_time_step\": False,\n",
    "                     \"uses_forcing_file\": True,\n",
    "                     \"forcing_file\": forcing_file_path,\n",
    "                     \"variables_names_map\": {\n",
    "                         \"atmosphere_water__liquid_equivalent_precipitation_rate\": \"precip_rate\",\n",
    "                         \"water_potential_evaporation_flux\": \"EVAPOTRANS\",\n",
    "                         \"ice_fraction_schaake\": \"sloth_ice_fraction_schaake\",\n",
    "                         \"ice_fraction_xinan\": \"sloth_ice_fraction_xinan\",\n",
    "                         \"soil_moisture_profile\": \"sloth_smp\"\n",
    "                     }}\n",
    "    m1 = Module('bmi_c','/dmod/shared_libs/libcfebmi.so.1.0.0','register_bmi_cfe', params=module_params)\n",
    "\n",
    "    # SLOTH\n",
    "\n",
    "    module_params = {\"name\": \"bmi_c++\",\n",
    "                     \"model_type_name\": \"SLOTH\",\n",
    "                     \"main_output_variable\": \"z\",\n",
    "                     \"init_config\": \"/dev/null\",\n",
    "                     \"allow_exceed_end_time\": True,\n",
    "                     \"fixed_time_step\": False,\n",
    "                     \"uses_forcing_file\": False,\n",
    "                     \"model_params\": {\n",
    "                         \"sloth_ice_fraction_schaake(1,double,m,node)\": \"0.0\",\n",
    "                         \"sloth_ice_fraction_xinan(1,double,1,node)\": \"0.0\",\n",
    "                         \"sloth_smp(1,double,1,node)\": \"0.0\",\n",
    "                         \"EVAPOTRANS\": \"0.0\"\n",
    "                     }}\n",
    "    m2 = Module('bmi_c++','/dmod/shared_libs/libslothmodel.so','none', params=module_params)\n",
    "\n",
    "\n",
    "    form_params = {\"name\": \"bmi_multi\",\n",
    "                   \"model_type_name\": \"NoahOWP_CFE\",\n",
    "                   \"main_output_variable\": \"Q_OUT\",\n",
    "                   \"init_config\": \"\",\n",
    "                   \"allow_exceed_end_time\": False,\n",
    "                   \"fixed_time_step\": False,\n",
    "                   \"uses_forcing_file\": False}\n",
    "    f = Formulation('bmi_multi', params=form_params, modules=[m1, m2])\n",
    "\n",
    "    realization = Realization(f, forcing={'path': forcing_file_path})\n",
    "\n",
    "    catchment_realizations.add_realization(key, realization)\n",
    "\n",
    "# create the global realization stuff\n",
    "time={'start_time': '2010-01-01 00:00:00',\n",
    "      'end_time'  : '2010-07-01 00:00:00',\n",
    "      'output_interval': 3600}\n",
    "\n",
    "realization = GlobalRealization(time=time, catchment_realizations=catchment_realizations)"
   ]
  },
  {
   "cell_type": "code",
   "execution_count": 140,
   "id": "87c09a53-bec4-438b-95d4-a6ba74c03657",
   "metadata": {},
   "outputs": [],
   "source": [
    "with open(f'{base}/realization.json', 'w') as f:\n",
    "    f.write(realization.toJSON())"
   ]
  },
  {
   "cell_type": "code",
   "execution_count": null,
   "id": "4ad5faee-6159-4418-823c-4e3951f398c2",
   "metadata": {},
   "outputs": [],
   "source": []
  }
 ],
 "metadata": {
  "kernelspec": {
   "display_name": "Python 3 (ipykernel)",
   "language": "python",
   "name": "python3"
  },
  "language_info": {
   "codemirror_mode": {
    "name": "ipython",
    "version": 3
   },
   "file_extension": ".py",
   "mimetype": "text/x-python",
   "name": "python",
   "nbconvert_exporter": "python",
   "pygments_lexer": "ipython3",
   "version": "3.10.8"
  }
 },
 "nbformat": 4,
 "nbformat_minor": 5
}
