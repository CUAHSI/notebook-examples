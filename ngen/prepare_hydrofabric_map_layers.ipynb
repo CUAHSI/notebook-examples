{
 "cells": [
  {
   "cell_type": "markdown",
   "id": "7b6ea2cd-00a4-4b4f-b366-b4cf9910566b",
   "metadata": {},
   "source": [
    "# Prepare HydroFabric Map Layers"
   ]
  },
  {
   "cell_type": "markdown",
   "id": "366eb2c8-fb11-48f9-abf6-4183ae893021",
   "metadata": {},
   "source": [
    "**Authors**: \n",
    "- Irene Garousi-Nejad <igarousi@cuahsi.org>, \n",
    "- Tony Castronova <acastronova@cuahsi.org>\n",
    "\n",
    "**Last Updated**: \n",
    "\n",
    "**Description**:  \n",
    "\n",
    "**Software Requirements**:\n",
    "\n",
    "> Conda: 22.9.0  \\\n",
    "> Python: 3.9.16  \\\n",
    "> wget: 3.2  \\\n",
    "> pandas: 2.0.0  \\\n",
    "> geopandas: 0.12.2  \\\n",
    "> fiona:  1.9.1\n",
    "\n",
    "---"
   ]
  },
  {
   "cell_type": "code",
   "execution_count": 5,
   "id": "7e89a229-4939-4dc5-81f9-1f8d92d2247f",
   "metadata": {},
   "outputs": [],
   "source": [
    "import boto3\n",
    "import fsspec\n",
    "import pandas\n",
    "import geopandas"
   ]
  },
  {
   "cell_type": "code",
   "execution_count": 47,
   "id": "ab63c0bd-4a9b-422c-a750-c00283f41cf0",
   "metadata": {},
   "outputs": [
    {
     "name": "stdout",
     "output_type": "stream",
     "text": [
      "Processing VPU: 01...done\n",
      "Processing VPU: 02...done\n",
      "Processing VPU: 03N...done\n",
      "Processing VPU: 03S...done\n",
      "Processing VPU: 03W...done\n",
      "Processing VPU: 04...done\n",
      "Processing VPU: 05...done\n",
      "Processing VPU: 06...done\n",
      "Processing VPU: 07...done\n",
      "Processing VPU: 08...done\n",
      "Processing VPU: 09...done\n",
      "Processing VPU: 10L...done\n",
      "Processing VPU: 10U...done\n",
      "Processing VPU: 11...done\n",
      "Processing VPU: 12...done\n",
      "Processing VPU: 13...done\n",
      "Processing VPU: 14...done\n",
      "Processing VPU: 15...done\n",
      "Processing VPU: 16...done\n",
      "Processing VPU: 17...done\n",
      "Processing VPU: 18...done\n",
      "CPU times: user 13min 54s, sys: 56.1 s, total: 14min 50s\n",
      "Wall time: 22min 35s\n"
     ]
    }
   ],
   "source": [
    "%%time\n",
    "\n",
    "geoms = []\n",
    "s3 = boto3.resource('s3')\n",
    "s3 = fsspec.filesystem('s3', anon=True)\n",
    "for vpu in ['01', '02','03N','03S','03W', '04','05','06','07','08','09','10L','10U','11','12','13','14','15','16','17','18']:\n",
    "    print(f'Processing VPU: {vpu}', end='...', flush=True)\n",
    "    with s3.open(f's3://nextgen-hydrofabric/v1.2/nextgen_{vpu}.gpkg') as f:    \n",
    "        # Read the file-like object into a GeoDataFrame\n",
    "        gdf_divide = geopandas.read_file(f, layer='divides')\n",
    "        gdf_divide['geometry'] = gdf_divide.buffer(0.01) # this is necessary to ensure that geometries are valid\n",
    "        geom = gdf_divide.dissolve()\n",
    "        \n",
    "        # save the result in a list\n",
    "        geom['VPU'] = vpu\n",
    "        geom.drop(columns=['id','areasqkm','type','toid'], inplace=True)\n",
    "        geoms.append(geom)\n",
    "    print('done')"
   ]
  },
  {
   "cell_type": "code",
   "execution_count": 55,
   "id": "a1b2f3c5-8087-4d80-98c7-ce675c2b4861",
   "metadata": {},
   "outputs": [],
   "source": [
    "gdf = geopandas.GeoDataFrame(pandas.concat(geoms, ignore_index=True))"
   ]
  },
  {
   "cell_type": "code",
   "execution_count": 58,
   "id": "c2191763-b0e1-4dbc-828f-373621398199",
   "metadata": {},
   "outputs": [],
   "source": [
    "gdf.to_file('vpu_boundaries.shp', driver='ESRI Shapefile')"
   ]
  },
  {
   "cell_type": "code",
   "execution_count": null,
   "id": "ba3ed419-a741-4606-8073-fdb317e79eb0",
   "metadata": {},
   "outputs": [],
   "source": []
  }
 ],
 "metadata": {
  "kernelspec": {
   "display_name": "Python [conda env:ngen]",
   "language": "python",
   "name": "conda-env-ngen-py"
  },
  "language_info": {
   "codemirror_mode": {
    "name": "ipython",
    "version": 3
   },
   "file_extension": ".py",
   "mimetype": "text/x-python",
   "name": "python",
   "nbconvert_exporter": "python",
   "pygments_lexer": "ipython3",
   "version": "3.11.3"
  }
 },
 "nbformat": 4,
 "nbformat_minor": 5
}
