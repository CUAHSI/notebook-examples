{
 "cells": [
  {
   "cell_type": "markdown",
   "id": "7465a27a-b0b9-4234-a40f-afeef33a034a",
   "metadata": {},
   "source": [
    "# An example of reading a binary data and save it as a GeoTIF file\n"
   ]
  },
  {
   "cell_type": "markdown",
   "id": "ea1458e2-5c1c-4829-9450-3d9669327557",
   "metadata": {},
   "source": [
    "Author: Irene Garousi-Nejad\n",
    "\n",
    "**Last updated**: 5/8/2023\n",
    "\n",
    "**Description**: The purpose of this notebook is to transform binary ET data (.bin) into raster data (.tif). The data being utilized are from the [global long-term (1983-2013) daily Evapotranspiration record](https://www.umt.edu/numerical-terradynamic-simulation-group/project/global-et.php), which can be accessed at [here](http://files.ntsg.umt.edu/data/CONUS_ET/). The following sections of this notebook handle the downloading of the binary data for a specific year (e.g., 1983) and its conversion into a one-dimensional array. The geographical extent information required for selecting data chunks for each day is obtained from this [readme file](http://files.ntsg.umt.edu/data/CONUS_ET/Readme.pdf). These data chunks are then converted into raster files, resulting in daily raster files that are saved into an output folder.\n",
    "\n",
    "**Software Requirements**\n",
    "\n",
    "This notebook was developed using the following software versions.\n",
    "\n",
    ">Python: 3.8 \\\n",
    "numpy: 1.23.1 \\\n",
    "gdal: 3.5.0"
   ]
  },
  {
   "cell_type": "code",
   "execution_count": null,
   "id": "60cb5a0a-d753-4015-8242-a4759a001cd3",
   "metadata": {},
   "outputs": [],
   "source": [
    "# Download the data\n",
    "!wget http://files.ntsg.umt.edu/data/CONUS_ET/Daily_CONUS_ET_1983.bin"
   ]
  },
  {
   "cell_type": "code",
   "execution_count": null,
   "id": "7d8ce997-eb33-4131-ab41-3bf5655a1fe4",
   "metadata": {},
   "outputs": [],
   "source": [
    "import os\n",
    "import numpy as np\n",
    "from osgeo import gdal, gdal_array, osr"
   ]
  },
  {
   "cell_type": "code",
   "execution_count": null,
   "id": "f97ead95-e45a-41f0-82ea-079107307105",
   "metadata": {},
   "outputs": [],
   "source": [
    "# Define input parameters\n",
    "input_file = \"Daily_CONUS_ET_1983.bin\"\n",
    "output_folder = \"output_folder\"\n",
    "year = 1983\n",
    "start_date = f\"{year}-01-01\"\n",
    "\n",
    "# Define the geographic extent\n",
    "# These information are obtained from http://files.ntsg.umt.edu/data/CONUS_ET/Readme.pdf\n",
    "cell_size = 0.07272727\n",
    "num_rows, num_cols = 372, 812\n",
    "xmin, ymin = -125.013548, 24.059730\n",
    "xmax, ymax = -65.95900476, 51.11427444\n",
    "missing_values = -9999.0\n",
    "data_type = np.float32"
   ]
  },
  {
   "cell_type": "code",
   "execution_count": null,
   "id": "7c3cb98d-5e9b-4cd2-8cc2-bf942a3e7b77",
   "metadata": {},
   "outputs": [],
   "source": [
    "# Calculate the number of days in the year\n",
    "# This considers the leap years \n",
    "num_days = 365\n",
    "if start_date.endswith(\"02-29\"):\n",
    "    num_days = 366  # Leap year"
   ]
  },
  {
   "cell_type": "code",
   "execution_count": null,
   "id": "1354a35e-090f-4838-a4b4-7f647409abf9",
   "metadata": {},
   "outputs": [],
   "source": [
    "# Create a new folder to dave GeoTIFF files if it doesn't exist\n",
    "if not os.path.exists(output_folder):\n",
    "    os.makedirs(output_folder)"
   ]
  },
  {
   "cell_type": "code",
   "execution_count": null,
   "id": "b35e7eaf-5304-41bf-a9ff-b1e534ed9347",
   "metadata": {},
   "outputs": [],
   "source": [
    "# Open the input binary file\n",
    "with open(input_file, \"rb\") as f:\n",
    "    # Read the binary file into a NumPy array\n",
    "    # Note that the readme file mentions data type is 32-bit (4-byte per value) float variables\n",
    "    data = np.fromfile(f, dtype=data_type)"
   ]
  },
  {
   "cell_type": "code",
   "execution_count": null,
   "id": "5b163d68-6ce1-48a6-9553-1b0d5323b5e2",
   "metadata": {},
   "outputs": [],
   "source": [
    "# print the size of data\n",
    "data.shape"
   ]
  },
  {
   "cell_type": "code",
   "execution_count": null,
   "id": "44202002-ed7d-4f85-bb04-c0b8b3ffba6c",
   "metadata": {},
   "outputs": [],
   "source": [
    "# check the file size. The number 4 is 4-byte per value.\n",
    "4*num_days*num_cols*num_rows"
   ]
  },
  {
   "cell_type": "code",
   "execution_count": null,
   "id": "8f44f7e9-d8c3-413d-b003-f3173f3246eb",
   "metadata": {},
   "outputs": [],
   "source": [
    "# Open the input binary file\n",
    "# This assumes that there is only one input file\n",
    "\n",
    "with open(input_file, \"rb\") as f:\n",
    "    # Read the binary file into a NumPy array\n",
    "    data = np.fromfile(f, dtype=data_type)\n",
    "    \n",
    "    # Reshape the data into a 3D array of shape (num_days, num_rows, num_cols)\n",
    "    data = data.reshape(num_days, num_rows, num_cols)\n",
    "    \n",
    "    # Create a GeoTIFF driver\n",
    "    driver = gdal.GetDriverByName(\"GTiff\")\n",
    "    \n",
    "    # Define the projection. WGS84 is used\n",
    "    # because the geographic extent from the readme file \n",
    "    # were in the geographical coordinate system not in a projected system.\n",
    "    srs = osr.SpatialReference()\n",
    "    srs.ImportFromEPSG(4326)  # WGS84\n",
    "    \n",
    "    # Loop over all days and save each day as a separate GeoTIFF file\n",
    "    for day in range(num_days):\n",
    "        # Extract the data for the current day\n",
    "        day_data = data[day]\n",
    "        \n",
    "        # Create a filename \n",
    "        date = np.datetime64(start_date) + np.timedelta64(day, \"D\")\n",
    "        filename = os.path.join(output_folder, f\"{date}.tif\")\n",
    "        \n",
    "        # Add geospatial information and create the output GeoTIFF file\n",
    "        dst_ds = driver.Create(filename, num_cols, num_rows, 1, gdal.GDT_Float32)\n",
    "        dst_ds.SetGeoTransform((xmin, cell_size, 0, ymax, 0, -cell_size))\n",
    "        dst_ds.SetProjection(srs.ExportToWkt())\n",
    "        \n",
    "        # Write the data to the output GeoTIFF file\n",
    "        dst_ds.GetRasterBand(1).WriteArray(day_data)\n",
    "        dst_ds.GetRasterBand(1).SetNoDataValue(missing_values)\n",
    "        \n",
    "        # Close the output GeoTIFF file\n",
    "        dst_ds = None"
   ]
  },
  {
   "cell_type": "code",
   "execution_count": null,
   "id": "6e675e3e-a192-49ef-a7c8-27d6a44d7380",
   "metadata": {},
   "outputs": [],
   "source": []
  }
 ],
 "metadata": {
  "kernelspec": {
   "display_name": "Python 3 (ipykernel)",
   "language": "python",
   "name": "python3"
  },
  "language_info": {
   "codemirror_mode": {
    "name": "ipython",
    "version": 3
   },
   "file_extension": ".py",
   "mimetype": "text/x-python",
   "name": "python",
   "nbconvert_exporter": "python",
   "pygments_lexer": "ipython3",
   "version": "3.9.7"
  }
 },
 "nbformat": 4,
 "nbformat_minor": 5
}
