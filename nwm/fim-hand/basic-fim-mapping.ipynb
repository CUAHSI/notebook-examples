{
 "cells": [
  {
   "cell_type": "markdown",
   "id": "859c782e-a7fe-4a7a-86fe-6adc8cba8700",
   "metadata": {},
   "source": [
    "# Basic Flood Inundation Mapping using Height Above Nearest Drainage\n",
    "\n",
    "**Authors:**  \n",
    "   - Tony Castronova <acastronova@cuahsi.org>    \n",
    "   - Irene Garousi-Nejad <igarousi@cuahsi.org>  \n",
    "    \n",
    "**Last Updated:** 05.22.2024\n",
    "\n",
    "**Description**:  \n",
    "\n",
    "The purpose of this Jupyter Notebook is to demonstrate the process of generating flood inundation maps (FIM) using pre-computed Height Above Nearest Drainage (HAND) raster maps. This process has been developed by the NOAA Office of Water Prediction, see the [inundation-mapping project](https://github.com/NOAA-OWP/inundation-mapping) for more information. \n",
    "\n",
    "There are two approaches to using the data provided by NOAA OWP to compute FIM; basic (simplified) mapping and mosaic mapping. The latter represents the state of practice in this domain, however for simplicity this notebook will demonstrate the former. After understanding the simplified approach it will be clear how to extend this work to the more complex *mosaic* methodology.\n",
    "\n",
    "The FIM approach outlined in this notebook requires several input datasets. These can be obtained from the ESIP-hosted cloud store using the following commands (note: full instructions are provided in repository linked above):\n",
    "\n",
    "```\n",
    "aws s3 ls s3://noaa-nws-owp-fim/hand_fim/  \n",
    "\n",
    "aws s3 sync s3://noaa-nws-owp-fim/hand_fim/outputs/fim_4_4_0_0/12090301 \\\n",
    "    /your_local_folder_name/12090301 \n",
    "```\n",
    "\n",
    "**Data Description**\n",
    "\n",
    "- `rem_zeroed_masked_0.tif`: A geotif containing Height Above Nearest Drainage values.\n",
    "- `gw_catchments_reaches_filtered_addedAttributes_crosswalked_0.gpkg`: Vector data and attributes for river reaches.\n",
    "- `demDerived_reaches_split_filtered_addedAttributes_crosswalked_0.gpkg`: DEM-derived reach geometries that will be used for visualization.\n",
    "- `hydroTable_0.csv`: A comma separated file containing pre-computed stage-discharge values for every reach in the `demDerived` dataset.\n",
    "\n",
    "**Software Requirements**:  \n",
    "\n",
    "The software and operating system versions used to develop this notebook are listed below. To avoid encountering issues related to version conflicts among Python packages, we recommend creating a new environment variable and installing the required packages specifically for this notebook.\n",
    "\n",
    "> dask-core: 2023.4.0  \n",
    "  geopandas: 0.12.2   \n",
    "  ipyleaflet: 0.17.2  \n",
    "  matplotlib: 3.7.1   \n",
    "  numpy: 1.24.2  \n",
    "  pandas: 2.0.0  \n",
    "  scipy: 1.10.1  \n",
    "  xarray: 2023.4.1  \n",
    "  pynhd: 0.16.3  \n",
    "  geocube: 0.5.1  \n",
    "  sidecar: 0.7.0  \n",
    "  rioxarray: 0.15.3  \n",
    "  \n",
    "**Supplementary Code**\n",
    "\n",
    "To simplify this notebook several *helper* functions have been develop that are referenced. These functions are located in a module called `nwm_utils`."
   ]
  },
  {
   "cell_type": "code",
   "execution_count": null,
   "id": "3be9fc99-6e72-4230-93ed-84cb8c934d8e",
   "metadata": {},
   "outputs": [],
   "source": [
    "import numpy\n",
    "import xarray\n",
    "import rioxarray\n",
    "import geopandas\n",
    "import numpy as np\n",
    "import pandas as pd\n",
    "from typing import Dict\n",
    "from pathlib import Path\n",
    "from scipy import interpolate\n",
    "import matplotlib.pyplot as plt\n",
    "from geocube.api.core import make_geocube\n",
    "from geocube.vector import vectorize\n",
    "\n",
    "from sidecar import Sidecar\n",
    "import ipyleaflet"
   ]
  },
  {
   "cell_type": "code",
   "execution_count": null,
   "id": "3c68a1a6-11bb-46fb-b6be-41229e688f7d",
   "metadata": {},
   "outputs": [],
   "source": [
    "from nwm_utils.fim import map, xfim, utils"
   ]
  },
  {
   "cell_type": "markdown",
   "id": "b0f614c9-533a-482b-aeb3-f44421859bb1",
   "metadata": {},
   "source": [
    "Load the `DEM Derived` reaches that have been computed by the NOAA/OWP and load them onto an interactive map. A utility library (`nwm_utils.fim.map`) is used to simplify this process."
   ]
  },
  {
   "cell_type": "code",
   "execution_count": null,
   "id": "37522efd-d445-427f-b091-bc089de98c02",
   "metadata": {},
   "outputs": [],
   "source": [
    "# Load DEM reaches using GeoPandas\n",
    "geodf_reaches = geopandas.read_file(Path('./sample-data/demDerived_reaches_split_filtered_addedAttributes_crosswalked_0.gpkg'))\n",
    "transformed_reaches = geodf_reaches.to_crs(epsg='4326')"
   ]
  },
  {
   "cell_type": "code",
   "execution_count": null,
   "id": "5b8f123b-15f1-4d89-9a32-ab1fb5dc3667",
   "metadata": {},
   "outputs": [],
   "source": [
    "# Create an interactive map using SideCar\n",
    "sc = map.SideCarMap(gdf=transformed_reaches)\n",
    "sc.display_map()"
   ]
  },
  {
   "cell_type": "markdown",
   "id": "89de38e2-c0be-488d-b334-712db547fa63",
   "metadata": {},
   "source": [
    "Now we need to select an area of interest on the map. Once a reach has been selected, the following cell can be executed to get its metadata."
   ]
  },
  {
   "cell_type": "code",
   "execution_count": null,
   "id": "4ff3b6e7-76aa-4003-a420-49214297a66b",
   "metadata": {},
   "outputs": [],
   "source": [
    "nhd_feature_id = sc.selected().feature_id\n",
    "sc.selected()"
   ]
  },
  {
   "cell_type": "markdown",
   "id": "400be5e1-ae47-4b16-9fee-839b8c006f84",
   "metadata": {},
   "source": [
    "Next we need to define the streamflow to use to compute the flood inundation. This can be a hypothetical streamflow for now, but lets look at the stage-discharge relationships defined in the `hydroTable.csv` file to choose a reasonable value. Note, this can be easily replaced with logic to compute streamflow based on historical flows.\n",
    "\n",
    "The reach that we selected in the map is subdivided into multiple segments, each having a unique stage-discharge relationship. Let's use a utility function to plot these relationships."
   ]
  },
  {
   "cell_type": "code",
   "execution_count": null,
   "id": "9c666e58-9259-452e-b1c9-a908f626a879",
   "metadata": {},
   "outputs": [],
   "source": [
    "fig, ax = plt.subplots()\n",
    "\n",
    "\n",
    "# collect the hydroids for all the segments within the selected reach.\n",
    "d = utils.get_hydroids_for_reach(nhd_feature_id, hydrotable=Path('sample-data/hydroTable_0.csv'))\n",
    "\n",
    "# get unique combos of HydroID and NextDownID\n",
    "hydro_ids = np.unique(d.HydroID)\n",
    "hydro_ids\n",
    "\n",
    "# read the rating curve data\n",
    "hydrotable = pd.read_csv('sample-data/hydroTable_0.csv',\n",
    "                         usecols=[\"HydroID\",\n",
    "                                  \"NextDownID\",\n",
    "                                  \"feature_id\",\n",
    "                                  \"stage\",\n",
    "                                  \"discharge_cms\"])\n",
    "\n",
    "# collect rating curve data for each hydroid and plot\n",
    "for hydro_id in hydro_ids:\n",
    "    dat = hydrotable.loc[hydrotable.HydroID == hydro_id, [\"stage\", \"discharge_cms\"]]\n",
    "    dat.plot(x='discharge_cms', y='stage', label=hydro_id, ax=ax)\n",
    "\n",
    "ax.set_xlabel('River Discharge (cms)')\n",
    "ax.set_ylabel('River Stage (m)')\n",
    "plt.title(f'Rating Curves for NHD Reach: {nhd_feature_id}')\n",
    "plt.grid(True)\n"
   ]
  },
  {
   "cell_type": "code",
   "execution_count": null,
   "id": "8f5cff7b-6c01-4e19-b12b-a346fd54ab6c",
   "metadata": {},
   "outputs": [],
   "source": [
    "# hypothetical streamflow (cms).\n",
    "# This can be replaced with a flow value gathered by a source of your choice\n",
    "cms = 5000"
   ]
  },
  {
   "cell_type": "markdown",
   "id": "d22cbedf-be39-4c3c-adc6-0c6ddfbe7e13",
   "metadata": {},
   "source": [
    "Use the streamflow defined above to interpolate river stage from a rating curve for all hydroids that exist within this NHD+ reach. "
   ]
  },
  {
   "cell_type": "code",
   "execution_count": null,
   "id": "0e4392b4-e433-4fe0-9086-ceeb78d33e78",
   "metadata": {},
   "outputs": [],
   "source": [
    "stage_dict = xfim.get_stage_for_all_hydroids_in_reach(int(nhd_feature_id), cms, hydrotable=Path('sample-data/hydroTable_0.csv'))\n",
    "stage_dict"
   ]
  },
  {
   "cell_type": "markdown",
   "id": "fc6c33e0-4461-4182-85bb-ed5afca0ec37",
   "metadata": {},
   "source": [
    "Load the precomputed HAND raster."
   ]
  },
  {
   "cell_type": "code",
   "execution_count": null,
   "id": "e662d920-e895-4b4b-bfb6-0b8aafc523c0",
   "metadata": {},
   "outputs": [],
   "source": [
    "xds = rioxarray.open_rasterio(Path('sample-data/rem_zeroed_masked_0.tif'),\n",
    "                              masked=True).squeeze().drop_vars('band').to_dataset(name='hand')\n",
    "xds"
   ]
  },
  {
   "cell_type": "markdown",
   "id": "c5616f60-7225-421c-aade-7029b0833255",
   "metadata": {},
   "source": [
    "Make a copy of the 'hand' variable to the 'stage' variable. This will be used to compute the flood inundation map later on. The dataset will now have both `hand` and `stage` variables for all (x,y) locations."
   ]
  },
  {
   "cell_type": "code",
   "execution_count": null,
   "id": "c031f176-a766-4dca-9c55-ef4f88c399f1",
   "metadata": {},
   "outputs": [],
   "source": [
    "xds['stage'] = xds.hand.copy(deep=True)\n",
    "xds"
   ]
  },
  {
   "cell_type": "markdown",
   "id": "9e184c03-7352-48c2-9a8b-075c39617973",
   "metadata": {},
   "source": [
    "Read watershed geometries and set stage values from the `stage_dict` defined above, and remove all other geometries. The end product will be a geodataframe containing the geometries for each `hydroid` in our area of interest and their stage values."
   ]
  },
  {
   "cell_type": "code",
   "execution_count": null,
   "id": "d44903e6-9b63-4062-b850-429f8cf76ad8",
   "metadata": {},
   "outputs": [],
   "source": [
    "geodf = geopandas.read_file(Path('sample-data/gw_catchments_reaches_filtered_addedAttributes_crosswalked_0.gpkg'))\n",
    "\n",
    "# loop over each reach and set the corresponding stage\n",
    "# in the geopandas object\n",
    "for hydroid, stage in stage_dict.items():\n",
    "    geodf.loc[geodf.HydroID==hydroid, 'stage'] = stage\n",
    "\n",
    "# remove all nan values to make our dataset smaller\n",
    "geodf_filtered = geodf[geodf.stage.notnull()]\n",
    "\n",
    "# isolate only reaches we're interested in to make our dataset smaller\n",
    "geodf_reaches_filtered = geodf_reaches[geodf_reaches.feature_id == nhd_feature_id]\n",
    "\n",
    "geodf_filtered"
   ]
  },
  {
   "cell_type": "markdown",
   "id": "d4650d83-1c90-4972-9409-f59ed0e46102",
   "metadata": {},
   "source": [
    "Visualize the area that we're working with."
   ]
  },
  {
   "cell_type": "code",
   "execution_count": null,
   "id": "8681f740-3578-4ecf-bbfd-baa7171f964e",
   "metadata": {},
   "outputs": [],
   "source": [
    "figure, axes = plt.subplots(1, 2, figsize=(10, 10))\n",
    "\n",
    "geodf.plot(facecolor='None', edgecolor='lightgrey', ax=axes[0]);\n",
    "geodf_filtered.plot(facecolor='green', ax=axes[0]);\n",
    "\n",
    "geodf_filtered.plot(facecolor='None', ax=axes[1]);\n",
    "geodf_reaches_filtered.plot(ax=axes[1]);"
   ]
  },
  {
   "cell_type": "markdown",
   "id": "ded4aa97-a02e-401d-8765-0c9121a430d3",
   "metadata": {},
   "source": [
    "Add the geometries for our area of interest to the Xarray Dataset containing `hand` and `stage` variables using a GeoCube. This will enable us to set grid values corresponding with catchment areas."
   ]
  },
  {
   "cell_type": "code",
   "execution_count": null,
   "id": "d8589b31-5104-414b-99c1-a292f8292fe1",
   "metadata": {},
   "outputs": [],
   "source": [
    "# create a grid for the geocube\n",
    "out_grid = make_geocube(\n",
    "    vector_data=geodf,\n",
    "    measurements=['HydroID'],\n",
    "    like=xds # ensure the data are on the same grid\n",
    ")\n",
    "\n",
    "# add stage and hydroID to the HAND raster\n",
    "ds = xds.assign_coords( hydroid = (['y', 'x'], out_grid.HydroID.data) )\n",
    "\n",
    "# drop everything except the HydroIDs that we're interested in\n",
    "ds = ds.where(ds.hydroid.isin(geodf_filtered.HydroID), drop=True)\n",
    "ds"
   ]
  },
  {
   "cell_type": "markdown",
   "id": "5ce20eaa-4103-4c62-9b70-6667685ba78b",
   "metadata": {},
   "source": [
    "Update the stage values in the DataSet where specific hydroid's exist."
   ]
  },
  {
   "cell_type": "code",
   "execution_count": null,
   "id": "93489a60-a241-42f7-adbb-174088132691",
   "metadata": {},
   "outputs": [],
   "source": [
    "for idx, row in geodf_filtered.iterrows():\n",
    "    print(f'{row.HydroID} -> {row.stage}' )\n",
    "    ds['stage'] = xarray.where(ds.hydroid == row.HydroID, row.stage, ds.stage)"
   ]
  },
  {
   "cell_type": "markdown",
   "id": "d6b98536-9c86-476f-9fd8-188cbde6ced9",
   "metadata": {},
   "source": [
    "Preview the `stage` data we set as well as the original `hand` data. "
   ]
  },
  {
   "cell_type": "code",
   "execution_count": null,
   "id": "68a63eb5-43d9-400d-b289-ed001757d1fc",
   "metadata": {},
   "outputs": [],
   "source": [
    "figure, axes = plt.subplots(1, 2, figsize=(10,5))\n",
    "\n",
    "# plot stage\n",
    "ds.stage.plot(ax=axes[0])\n",
    "axes[0].set_title('Stage');\n",
    "axes[0].tick_params(axis='x', labelrotation=45)\n",
    "\n",
    "# plot hand\n",
    "ds.hand.plot(ax=axes[1])\n",
    "axes[1].set_title('HAND');\n",
    "axes[1].tick_params(axis='x', labelrotation=45)\n",
    "\n",
    "figure.tight_layout()\n"
   ]
  },
  {
   "cell_type": "markdown",
   "id": "f3f31a74-e526-41cc-bc42-0df129f8e3bf",
   "metadata": {},
   "source": [
    "Compute FIM by subtracting `hand` from `stage`. Everything that is negative should be set to zero. Cells that have a value greater than zero indicate areas in which flooding occurs. Create a new variable in our dataset (called `fim`) to store this result."
   ]
  },
  {
   "cell_type": "code",
   "execution_count": null,
   "id": "554bdc5c-6e76-4dd2-8a94-28829476e1b7",
   "metadata": {},
   "outputs": [],
   "source": [
    "ds['fim'] = ds.stage - ds.hand\n",
    "ds['fim'] = xarray.where(ds.fim >= 0.00001, ds.fim, numpy.nan)"
   ]
  },
  {
   "cell_type": "code",
   "execution_count": null,
   "id": "ba841a8a-65e5-4573-b393-4dcdc13eab9c",
   "metadata": {},
   "outputs": [],
   "source": [
    "figure, axes = plt.subplots(1, 2, figsize=(12,5))\n",
    "\n",
    "geodf.loc[geodf.feature_id==nhd_feature_id].plot(ax=axes[0], edgecolor='grey', facecolor='None');\n",
    "ds.fim.plot(cbar_kwargs={'label':'depth [meters]'}, ax=axes[0]);\n",
    "axes[0].set_title(f'FIM for NHD {nhd_feature_id} at {cms} cms');\n",
    "\n",
    "\n",
    "xarray.plot.contourf(ds.fim, levels=4, cmap='Blues', cbar_kwargs={'label':'Flood Risk (light = low risk)'}, ax=axes[1]);\n",
    "geodf.loc[geodf.feature_id==nhd_feature_id].plot(ax=axes[1], edgecolor='grey', facecolor='None');\n",
    "axes[1].set_title(f'FIM Contours for NHD {nhd_feature_id} at {cms} cms');\n"
   ]
  },
  {
   "cell_type": "code",
   "execution_count": null,
   "id": "8e725ef8-c318-409b-86df-88d77694ccd1",
   "metadata": {},
   "outputs": [],
   "source": [
    "# drop nans\n",
    "da = ds.fim\n",
    "df = vectorize(da)\n",
    "df = df[df.fim.notna()]"
   ]
  },
  {
   "cell_type": "code",
   "execution_count": null,
   "id": "b1cae685-6a57-4641-9905-7e2b74a953a6",
   "metadata": {},
   "outputs": [],
   "source": [
    "transformed_fim = df.to_crs(epsg='4326')\n",
    "poly = transformed_fim.dissolve()\n",
    "poly.fim = 1"
   ]
  },
  {
   "cell_type": "code",
   "execution_count": null,
   "id": "fe6ac2d1-0e46-48d6-ba8d-3b16965a0f67",
   "metadata": {},
   "outputs": [],
   "source": [
    "wlayer = ipyleaflet.WKTLayer(\n",
    "            wkt_string=poly.iloc[0].geometry.wkt,\n",
    "            style={'color': 'red', 'opacity':.5, 'weight':1.9,})\n",
    "sc.map.add(wlayer);"
   ]
  },
  {
   "cell_type": "code",
   "execution_count": null,
   "id": "931a87fc-1c82-4f08-8b0d-9299ab6fe5a6",
   "metadata": {},
   "outputs": [],
   "source": []
  }
 ],
 "metadata": {
  "kernelspec": {
   "display_name": "Python 3 (ipykernel)",
   "language": "python",
   "name": "python3"
  },
  "language_info": {
   "codemirror_mode": {
    "name": "ipython",
    "version": 3
   },
   "file_extension": ".py",
   "mimetype": "text/x-python",
   "name": "python",
   "nbconvert_exporter": "python",
   "pygments_lexer": "ipython3",
   "version": "3.12.2"
  }
 },
 "nbformat": 4,
 "nbformat_minor": 5
}
