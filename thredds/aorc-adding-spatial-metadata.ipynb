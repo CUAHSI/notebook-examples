{
 "cells": [
  {
   "cell_type": "markdown",
   "id": "6d9caa85-120b-4956-96c0-0927a617dd61",
   "metadata": {},
   "source": [
    "## Adding Spatial Metadata to AORC Forcing\n",
    "\n",
    "**Authors**: Tony Castronova <acastronova@cuahsi.org>, Irene Garousi-Nejad <igarousi@cuahsi.org>  \n",
    "**Last Updated**: 03.31.2023\n",
    "\n",
    "**Description**:  \n",
    "\n",
    "This notebook demonstrates how to add spatial metadata to the AORC v1.0 forcing data that is stored on HydroShare's THREDDs. The original AORC v1.0 data contains `east_west` and `south_north` which allows us to slice the gridded data via `x` and `y` indices. It is necessary to add additional spatially-related metadata (e.g. coordinate reference system) to enable spatial querying and visualization of these data. This notebook demonstrates one method for doing this."
   ]
  },
  {
   "cell_type": "markdown",
   "id": "f7fb4c89-f8fe-4ce8-8cd7-37bfaf7d92b7",
   "metadata": {},
   "source": [
    "**Software Requirements**\n",
    "\n",
    "This notebook was developed using the following software and operating system versions.\n",
    "\n",
    "OS: MacOS Ventura 13.0.1  \n",
    "Python: 3.10.0\n",
    "Zarr: 2.13.2  \n",
    "NetCDF4: 1.6.1  \n",
    "xarray: 0.17.0  \n",
    "fsspec: 0.8.7  \n",
    "dask: 2021.3.0  \n",
    "numpy: 1.24.1\n",
    "rioxarray: 0.13.3\n",
    "\n",
    "---"
   ]
  },
  {
   "cell_type": "code",
   "execution_count": null,
   "id": "6da0ecb1-55bd-4ef9-97bc-dbebae249291",
   "metadata": {},
   "outputs": [],
   "source": [
    "import re\n",
    "import numpy\n",
    "import xarray\n",
    "import rioxarray \n",
    "import matplotlib.pyplot as plt"
   ]
  },
  {
   "cell_type": "markdown",
   "id": "304d75f7-79b9-41c6-a2ad-22344bd76363",
   "metadata": {},
   "source": [
    "Load the AORC v1.0 data via HydroShare's THREDDS"
   ]
  },
  {
   "cell_type": "code",
   "execution_count": null,
   "id": "8b3e50b5-202c-413f-9dca-29b3ce77a99e",
   "metadata": {},
   "outputs": [],
   "source": [
    "# load a single month of data\n",
    "ds_aorc = xarray.open_dataset('http://thredds.hydroshare.org/thredds/dodsC/aorc/data/16/201001.nc',\n",
    "                              chunks={'Time': 10, 'west_east': 285, 'south_north':275},\n",
    "                              decode_coords=\"all\" )"
   ]
  },
  {
   "cell_type": "markdown",
   "id": "cf0b9012-bf4b-402d-9a5f-5828dbce93f5",
   "metadata": {},
   "source": [
    "Notice that the `south_north` and `west_east` dimensions contain indices and there do not exist coordinates containing values for these dimensions."
   ]
  },
  {
   "cell_type": "code",
   "execution_count": null,
   "id": "9675ad79-bbe3-4328-ae8d-5e9d4bd0ce1f",
   "metadata": {},
   "outputs": [],
   "source": [
    "ds_aorc"
   ]
  },
  {
   "cell_type": "code",
   "execution_count": null,
   "id": "ae17f9a6-1ef9-42e4-b709-939e6235ea7e",
   "metadata": {},
   "outputs": [],
   "source": [
    "ds_aorc.south_north"
   ]
  },
  {
   "cell_type": "markdown",
   "id": "930344e4-979c-4a0f-b931-ea8442155161",
   "metadata": {},
   "source": [
    "Load the GeoSpatial Metadata for NWM v2.0 that is stored in HydroShare. The `WRF_Hydro_NWM_geospatial_data_template_land_GIS.nc` file is part of the NWM v2.0 domain files and contains spatial metadata that we can add to the AORC dataset. We can access this via HydroShare's THREDDS too.\n",
    "\n",
    "https://www.hydroshare.org/resource/2a8a3566e1c84b8eb3871f30841a3855/"
   ]
  },
  {
   "cell_type": "code",
   "execution_count": null,
   "id": "0bdb541e-d21a-45ab-8f9f-9359daf53339",
   "metadata": {
    "tags": []
   },
   "outputs": [],
   "source": [
    "ds_meta = xarray.open_dataset('http://thredds.hydroshare.org/thredds/dodsC/hydroshare/resources/2a8a3566e1c84b8eb3871f30841a3855/data/contents/WRF_Hydro_NWM_geospatial_data_template_land_GIS.nc')\n",
    "ds_meta"
   ]
  },
  {
   "cell_type": "markdown",
   "id": "bb9d90ab-3364-48d3-beae-cf76afbd2b30",
   "metadata": {},
   "source": [
    "The AORC v1.0 data that we're using only covers the Great Basin, whereas `ds_meta` covers the entire CONUS. We'll use the offsets defined in the AORC v1.0 history to subset the `ds_meta` coordinates."
   ]
  },
  {
   "cell_type": "code",
   "execution_count": null,
   "id": "f9094fc3-e581-419f-9be8-a3828c4dc34c",
   "metadata": {},
   "outputs": [],
   "source": [
    "def pattern_lookup(pattern, s):\n",
    "    \n",
    "    # use the re.search() function to search for the pattern in the string\n",
    "    match = re.search(pattern, s)\n",
    "\n",
    "    # check if a match was found\n",
    "    if match:\n",
    "        # extract the matched values and concatenate them into the desired string format\n",
    "        result = f'{match.group(0)}'\n",
    "        return result\n",
    "    else:\n",
    "        print('No match found.')"
   ]
  },
  {
   "cell_type": "code",
   "execution_count": null,
   "id": "1c7bfb03-558f-4c5e-be56-04157216019f",
   "metadata": {},
   "outputs": [],
   "source": [
    "# define the regular expression pattern to match the substring\n",
    "pattern_we = r'west_east,(\\d+),(\\d+)'\n",
    "pattern_sn = r'south_north,(\\d+),(\\d+)'\n",
    "\n",
    "GSL_westeast = pattern_lookup(pattern_we, ds_aorc.attrs['history'])\n",
    "GSL_southnorth = pattern_lookup(pattern_sn, ds_aorc.attrs['history'])\n",
    "\n",
    "y_index = GSL_southnorth.split(',')[1:]\n",
    "x_index = GSL_westeast.split(',')[1:]"
   ]
  },
  {
   "cell_type": "code",
   "execution_count": null,
   "id": "322db65f-a096-466c-aaa7-ab9a24f4b919",
   "metadata": {},
   "outputs": [],
   "source": [
    "# select the x,y values from ds_meta that correspond with the subset indices in ds_aorc.\n",
    "leny = len(ds_meta.y)\n",
    "x = ds_meta.x[int(x_index[0]) : int(x_index[1]) + 1].values\n",
    "y = ds_meta.y[leny - int(y_index[1]) - 1 : leny - int(y_index[0])].values"
   ]
  },
  {
   "cell_type": "markdown",
   "id": "616e6f53-183d-4e80-8ed5-552650385e24",
   "metadata": {},
   "source": [
    "Add these values to the AORC v1.0 dataset"
   ]
  },
  {
   "cell_type": "code",
   "execution_count": null,
   "id": "d32e0ce0-2632-49bc-b1b5-55c08356bd68",
   "metadata": {},
   "outputs": [],
   "source": [
    "# rename the existing dimensions so they are CF compliant\n",
    "ds_aorc = ds_aorc.rename_dims(south_north='y', west_east='x', Time='time')"
   ]
  },
  {
   "cell_type": "code",
   "execution_count": null,
   "id": "d72bcd16-5adb-46b2-a6e2-67d913195d76",
   "metadata": {
    "tags": []
   },
   "outputs": [],
   "source": [
    "# add these x, y values to the AORC dataset\n",
    "ds_aorc = ds_aorc.assign_coords(y=y)\n",
    "ds_aorc = ds_aorc.assign_coords(x=x)"
   ]
  },
  {
   "cell_type": "markdown",
   "id": "04936d8e-a78d-41f4-94ff-5c7154940f9f",
   "metadata": {},
   "source": [
    "Add the WRF-Hydro coordinate reference system to AORC v1.0. This `WKT` string can be found within the WRF-Hydro `geo_em.d01_1km.nc` file. "
   ]
  },
  {
   "cell_type": "code",
   "execution_count": null,
   "id": "62046c3e-8a3e-4d6d-b49f-41c2dae0fbb8",
   "metadata": {},
   "outputs": [],
   "source": [
    "# add crs to netcdf file\n",
    "ds_aorc.rio.write_crs(ds_meta.crs.attrs['spatial_ref'], inplace=True);"
   ]
  },
  {
   "cell_type": "markdown",
   "id": "bba5df5d-769a-46de-a061-22f4a8b33b5b",
   "metadata": {},
   "source": [
    "Add spatial metadata to the `x` and `y` coordinates."
   ]
  },
  {
   "cell_type": "code",
   "execution_count": null,
   "id": "2b9aed97-a4c1-4d40-a39c-2726f4559551",
   "metadata": {},
   "outputs": [],
   "source": [
    "\n",
    "ds_aorc.x.attrs['standard_name'] = \"projection_x_coordinate\"\n",
    "ds_aorc.x.attrs['long_name'] = \"x coordinate of projection\"\n",
    "ds_aorc.x.attrs['units'] = \"m\"\n",
    "ds_aorc.x.attrs['_CoordinateAxisType'] = \"GeoX\"\n",
    "ds_aorc.x.attrs['resolution'] = 1000.\n",
    "\n",
    "ds_aorc.y.attrs['standard_name'] = \"projection_y_coordinate\"\n",
    "ds_aorc.y.attrs['long_name'] = \"y coordinate of projection\"\n",
    "ds_aorc.y.attrs['units'] = \"m\"\n",
    "ds_aorc.y.attrs['_CoordinateAxisType'] = \"GeoY\"\n",
    "ds_aorc.y.attrs['resolution'] = 1000."
   ]
  },
  {
   "cell_type": "code",
   "execution_count": null,
   "id": "9ea6bc75-74e9-4974-baaa-680a60e62f9e",
   "metadata": {},
   "outputs": [],
   "source": [
    "ds_aorc"
   ]
  }
 ],
 "metadata": {
  "kernelspec": {
   "display_name": "Python [conda env:nwm-env]",
   "language": "python",
   "name": "conda-env-nwm-env-py"
  },
  "language_info": {
   "codemirror_mode": {
    "name": "ipython",
    "version": 3
   },
   "file_extension": ".py",
   "mimetype": "text/x-python",
   "name": "python",
   "nbconvert_exporter": "python",
   "pygments_lexer": "ipython3",
   "version": "3.10.0"
  }
 },
 "nbformat": 4,
 "nbformat_minor": 5
}
